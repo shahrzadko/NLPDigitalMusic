{
  "cells": [
    {
      "cell_type": "code",
      "source": [
        "#!pip install demoji\n",
        "#!pip install langdetect"
      ],
      "metadata": {
        "colab": {
          "base_uri": "https://localhost:8080/"
        },
        "id": "wNTf8jfdzfLn",
        "outputId": "903f945c-89d1-4010-f15d-f7acf99bb2af"
      },
      "execution_count": null,
      "outputs": [
        {
          "output_type": "stream",
          "name": "stdout",
          "text": [
            "Looking in indexes: https://pypi.org/simple, https://us-python.pkg.dev/colab-wheels/public/simple/\n",
            "Requirement already satisfied: demoji in /usr/local/lib/python3.9/dist-packages (1.1.0)\n",
            "Looking in indexes: https://pypi.org/simple, https://us-python.pkg.dev/colab-wheels/public/simple/\n",
            "Requirement already satisfied: langdetect in /usr/local/lib/python3.9/dist-packages (1.0.9)\n",
            "Requirement already satisfied: six in /usr/local/lib/python3.9/dist-packages (from langdetect) (1.16.0)\n"
          ]
        }
      ]
    },
    {
      "cell_type": "code",
      "execution_count": null,
      "metadata": {
        "colab": {
          "base_uri": "https://localhost:8080/"
        },
        "id": "4qtvmn6By3zR",
        "outputId": "1fab1c33-a505-4f8f-b08b-93092d6a7367"
      },
      "outputs": [
        {
          "output_type": "stream",
          "name": "stderr",
          "text": [
            "/usr/local/lib/python3.9/dist-packages/torch/cuda/__init__.py:546: UserWarning: Can't initialize NVML\n",
            "  warnings.warn(\"Can't initialize NVML\")\n",
            "[nltk_data] Downloading package stopwords to /root/nltk_data...\n",
            "[nltk_data]   Package stopwords is already up-to-date!\n",
            "[nltk_data] Downloading package wordnet to /root/nltk_data...\n",
            "[nltk_data]   Package wordnet is already up-to-date!\n",
            "[nltk_data] Downloading package genesis to /root/nltk_data...\n",
            "[nltk_data]   Package genesis is already up-to-date!\n",
            "[nltk_data] Downloading package averaged_perceptron_tagger to\n",
            "[nltk_data]     /root/nltk_data...\n",
            "[nltk_data]   Package averaged_perceptron_tagger is already up-to-\n",
            "[nltk_data]       date!\n",
            "[nltk_data] Downloading package punkt to /root/nltk_data...\n",
            "[nltk_data]   Package punkt is already up-to-date!\n",
            "[nltk_data] Downloading package brown to /root/nltk_data...\n",
            "[nltk_data]   Package brown is already up-to-date!\n"
          ]
        },
        {
          "output_type": "execute_result",
          "data": {
            "text/plain": [
              "True"
            ]
          },
          "metadata": {},
          "execution_count": 2
        }
      ],
      "source": [
        "import pandas as pd\n",
        "import numpy as np\n",
        "import matplotlib.pyplot as plt\n",
        "import gzip\n",
        "import nltk\n",
        "import spacy\n",
        "import string\n",
        "import re\n",
        "import warnings\n",
        "import demoji\n",
        "\n",
        "\n",
        "from nltk.corpus import stopwords\n",
        "from nltk.collocations import *\n",
        "from collections import Counter\n",
        "from nltk.stem import porter\n",
        "from wordcloud import WordCloud, STOPWORDS\n",
        "from nltk.tokenize import word_tokenize\n",
        "\n",
        "from sklearn.feature_extraction.text import TfidfVectorizer\n",
        "from sklearn.naive_bayes import MultinomialNB\n",
        "from sklearn.model_selection import train_test_split\n",
        "from sklearn.metrics import accuracy_score\n",
        "from sklearn.pipeline import Pipeline\n",
        "from sklearn.linear_model import LogisticRegression\n",
        "from sklearn.feature_extraction.text import CountVectorizer\n",
        "from sklearn.pipeline import make_pipeline\n",
        "from sklearn.preprocessing import StandardScaler\n",
        "from sklearn.ensemble import GradientBoostingClassifier\n",
        "from sklearn.model_selection import train_test_split, GridSearchCV\n",
        "from sklearn.svm import SVC\n",
        "\n",
        "\n",
        "\n",
        "\n",
        "\n",
        "\n",
        "\n",
        "nltk.download('stopwords')\n",
        "nltk.download('wordnet')\n",
        "nltk.download('genesis')\n",
        "nltk.download('averaged_perceptron_tagger')\n",
        "\n",
        "stop_words = set(stopwords.words('english'))\n",
        "stemmer = porter.PorterStemmer()\n",
        "\n",
        "warnings.simplefilter(action='ignore', category=FutureWarning)\n",
        "warnings.simplefilter(action='ignore', category=DeprecationWarning)\n",
        "\n",
        "nlp = spacy.load(\"en_core_web_sm\")\n",
        "\n",
        "nltk.download('punkt')\n",
        "nltk.download('brown')"
      ]
    },
    {
      "cell_type": "code",
      "execution_count": null,
      "metadata": {
        "id": "l9UxRvKry3zS"
      },
      "outputs": [],
      "source": [
        "# Importing the dataset\n",
        "url = 'https://raw.githubusercontent.com/shahrzadko/NLPDigitalMusic/main/Digital_Music_5.json?token=GHSAT0AAAAAAB6LOL42SKHPCCMIVYPOC4REY7AKE2Q'\n",
        "df_raw = pd.read_json(url)\n",
        "full_df = pd.DataFrame.from_records(df_raw['data'])"
      ]
    },
    {
      "cell_type": "code",
      "execution_count": null,
      "metadata": {
        "id": "qlniHtyhy3zT"
      },
      "outputs": [],
      "source": [
        "#creating Sentiment column with overall rating\n",
        "full_df['Sentiment'] = np.where((full_df['overall'] > 3), 'Positive', \n",
        "                          np.where((full_df['overall'] < 3), 'Negative', 'Neutral'))\n"
      ]
    },
    {
      "cell_type": "code",
      "execution_count": null,
      "metadata": {
        "colab": {
          "base_uri": "https://localhost:8080/"
        },
        "id": "bgWLiGKQy3zT",
        "outputId": "0eeaa003-2ef4-4bb6-fa1f-1534d75da0ea"
      },
      "outputs": [
        {
          "output_type": "execute_result",
          "data": {
            "text/plain": [
              "Positive    158985\n",
              "Neutral       6792\n",
              "Negative      4004\n",
              "Name: Sentiment, dtype: int64"
            ]
          },
          "metadata": {},
          "execution_count": 5
        }
      ],
      "source": [
        "#showing that the data is not balanced\n",
        "full_df['Sentiment'].value_counts() "
      ]
    },
    {
      "cell_type": "code",
      "execution_count": null,
      "metadata": {
        "id": "2APJ3Sgmy3zT"
      },
      "outputs": [],
      "source": [
        "#creating  'NewReview'  column using  'reviewText' and 'summary' columns\n",
        "cols = ['reviewText','summary']\n",
        "full_df['NewReview'] = full_df[cols].apply(lambda row: ' '.join(row.values.astype(str)), axis=1)\n",
        "full_df['NewReview'] = full_df['NewReview'].astype(str)\n",
        "full_df['review_length'] = full_df['NewReview'].apply(lambda x: len(x.split()))"
      ]
    },
    {
      "cell_type": "code",
      "execution_count": null,
      "metadata": {
        "id": "2Ru99Y21y3zU"
      },
      "outputs": [],
      "source": [
        "music_df_balanced = full_df.drop(columns=['vote','image','reviewTime','style','reviewerName','unixReviewTime','summary','reviewText'])"
      ]
    },
    {
      "cell_type": "code",
      "execution_count": null,
      "metadata": {
        "id": "IJQxn9y6y3zU"
      },
      "outputs": [],
      "source": [
        "#dropping rows if the review is not verified\n",
        "music_df_balanced = music_df_balanced[music_df_balanced.verified == True]\n",
        "\n",
        "#dropping rows if the reviewer generally gives very negative reviews\n",
        "df_filtered = music_df_balanced.groupby('reviewerID').filter(lambda x: not((x['overall'].count() >= 10) and (x['overall'].mean() <= 2)))\n",
        "\n",
        "#dropping rows if the review is too short\n",
        "#df_filtered = df_filtered[df_filtered['review_length'] >= 6]\n"
      ]
    },
    {
      "cell_type": "code",
      "execution_count": null,
      "metadata": {
        "colab": {
          "base_uri": "https://localhost:8080/"
        },
        "id": "1pXAlTtDy3zU",
        "outputId": "a8f8b04d-8322-430a-b7e1-59e5b12136bb"
      },
      "outputs": [
        {
          "output_type": "execute_result",
          "data": {
            "text/plain": [
              "Positive    141104\n",
              "Neutral       5396\n",
              "Negative      2093\n",
              "Name: Sentiment, dtype: int64"
            ]
          },
          "metadata": {},
          "execution_count": 9
        }
      ],
      "source": [
        "#checking the values of Sentiment to creat a sample data\n",
        "df_filtered['Sentiment'].value_counts() "
      ]
    },
    {
      "cell_type": "code",
      "execution_count": null,
      "metadata": {
        "id": "r9dZIepMy3zU"
      },
      "outputs": [],
      "source": [
        "import pandas as pd\n",
        "import nltk\n",
        "from nltk.corpus import wordnet\n",
        "\n",
        "\n",
        "# Reduce the number of positive sentiment rows to 5000\n",
        "df_pos = df_filtered[df_filtered['Sentiment'] == 'Positive'].sample(n=10000, random_state=42)\n",
        "\n",
        "# Split the remaining dataset by sentiment\n",
        "df_neutral = df_filtered[df_filtered['Sentiment'] == 'Neutral']\n",
        "df_neg = df_filtered[df_filtered['Sentiment'] == 'Negative']\n",
        "\n",
        "# Define function for synonym replacement\n",
        "def synonym_replacement(text):\n",
        "    words = nltk.word_tokenize(text)\n",
        "    new_words = []\n",
        "    for word in words:\n",
        "        synonyms = []\n",
        "        for syn in wordnet.synsets(word):\n",
        "            for lemma in syn.lemmas():\n",
        "                synonyms.append(lemma.name())\n",
        "        if synonyms:\n",
        "            new_word = synonyms[0]\n",
        "        else:\n",
        "            new_word = word\n",
        "        new_words.append(new_word)\n",
        "    new_text = ' '.join(new_words)\n",
        "    return new_text\n",
        "\n",
        "# Oversample minority classes using synonym replacement\n",
        "desired_balance = 0.9\n",
        "while len(df_neutral) / len(df_pos) < desired_balance or len(df_neg) / len(df_pos) < desired_balance:\n",
        "    if len(df_neutral) / len(df_pos) < desired_balance:\n",
        "        sample = df_neutral.sample(n=1)['NewReview'].iloc[0]\n",
        "        new_review = synonym_replacement(sample)\n",
        "        df_neutral = df_neutral.append({'NewReview': new_review, 'Sentiment': 'Neutral'}, ignore_index=True)\n",
        "    if len(df_neg) / len(df_pos) < desired_balance:\n",
        "        sample = df_neg.sample(n=1)['NewReview'].iloc[0]\n",
        "        new_review = synonym_replacement(sample)\n",
        "        df_neg = df_neg.append({'NewReview': new_review, 'Sentiment': 'Negative'}, ignore_index=True)\n",
        "\n",
        "\n",
        "\n",
        "\n",
        "# Combine oversampled subsets back into a single dataframe\n",
        "df_balanced = pd.concat([df_pos, df_neutral, df_neg], ignore_index=True)\n",
        "\n",
        "# Shuffle the dataframe\n",
        "df_balanced = df_balanced.sample(frac=1).reset_index(drop=True)\n"
      ]
    },
    {
      "cell_type": "code",
      "execution_count": null,
      "metadata": {
        "colab": {
          "base_uri": "https://localhost:8080/"
        },
        "id": "ZxpJ0RaWy3zV",
        "outputId": "17801330-0e65-4145-b4f2-f1236be03c0d"
      },
      "outputs": [
        {
          "output_type": "execute_result",
          "data": {
            "text/plain": [
              "Positive    10000\n",
              "Negative     9000\n",
              "Neutral      9000\n",
              "Name: Sentiment, dtype: int64"
            ]
          },
          "metadata": {},
          "execution_count": 11
        }
      ],
      "source": [
        "df_balanced['Sentiment'].value_counts() "
      ]
    },
    {
      "cell_type": "code",
      "execution_count": null,
      "metadata": {
        "id": "1YxKXAcQy3zV"
      },
      "outputs": [],
      "source": [
        "#creating balanced data using equal number of each sentiment\n",
        "#sample_size = min(df_filtered['Sentiment'].value_counts())\n",
        "#df_balanced = df_filtered.groupby('Sentiment').apply(lambda x: x.sample(sample_size)).reset_index(drop=True)"
      ]
    },
    {
      "cell_type": "code",
      "execution_count": null,
      "metadata": {
        "id": "2vYRmL6Xy3zV"
      },
      "outputs": [],
      "source": [
        "#df_balanced['Sentiment'].value_counts() "
      ]
    },
    {
      "cell_type": "code",
      "execution_count": null,
      "metadata": {
        "colab": {
          "base_uri": "https://localhost:8080/",
          "height": 206
        },
        "id": "Jh9VVfP6y3zW",
        "outputId": "50fa18c2-d443-4f9d-e123-e14686574895"
      },
      "outputs": [
        {
          "output_type": "execute_result",
          "data": {
            "text/plain": [
              "   overall verified     reviewerID        asin Sentiment  \\\n",
              "0      5.0     True  ALIQSYVGG972W  B0064Y4A0W  Positive   \n",
              "1      NaN      NaN            NaN         NaN  Negative   \n",
              "2      3.0     True  A9FS0PG49LNG5  B004YFAZT8   Neutral   \n",
              "3      NaN      NaN            NaN         NaN  Negative   \n",
              "4      NaN      NaN            NaN         NaN  Negative   \n",
              "\n",
              "                                           NewReview  review_length  \n",
              "0                                   Love! Five Stars            3.0  \n",
              "1  every time iodine attempt to bargain angstrom ...            NaN  \n",
              "2  I enjoy hearing music and listed to all sorts ...           13.0  \n",
              "3  Department_of_Energy n't expression to rich_pe...            NaN  \n",
              "4  iodine give this download alone one star becau...            NaN  "
            ],
            "text/html": [
              "\n",
              "  <div id=\"df-42a63ab0-8be8-42ec-83a3-97eaa3d890f1\">\n",
              "    <div class=\"colab-df-container\">\n",
              "      <div>\n",
              "<style scoped>\n",
              "    .dataframe tbody tr th:only-of-type {\n",
              "        vertical-align: middle;\n",
              "    }\n",
              "\n",
              "    .dataframe tbody tr th {\n",
              "        vertical-align: top;\n",
              "    }\n",
              "\n",
              "    .dataframe thead th {\n",
              "        text-align: right;\n",
              "    }\n",
              "</style>\n",
              "<table border=\"1\" class=\"dataframe\">\n",
              "  <thead>\n",
              "    <tr style=\"text-align: right;\">\n",
              "      <th></th>\n",
              "      <th>overall</th>\n",
              "      <th>verified</th>\n",
              "      <th>reviewerID</th>\n",
              "      <th>asin</th>\n",
              "      <th>Sentiment</th>\n",
              "      <th>NewReview</th>\n",
              "      <th>review_length</th>\n",
              "    </tr>\n",
              "  </thead>\n",
              "  <tbody>\n",
              "    <tr>\n",
              "      <th>0</th>\n",
              "      <td>5.0</td>\n",
              "      <td>True</td>\n",
              "      <td>ALIQSYVGG972W</td>\n",
              "      <td>B0064Y4A0W</td>\n",
              "      <td>Positive</td>\n",
              "      <td>Love! Five Stars</td>\n",
              "      <td>3.0</td>\n",
              "    </tr>\n",
              "    <tr>\n",
              "      <th>1</th>\n",
              "      <td>NaN</td>\n",
              "      <td>NaN</td>\n",
              "      <td>NaN</td>\n",
              "      <td>NaN</td>\n",
              "      <td>Negative</td>\n",
              "      <td>every time iodine attempt to bargain angstrom ...</td>\n",
              "      <td>NaN</td>\n",
              "    </tr>\n",
              "    <tr>\n",
              "      <th>2</th>\n",
              "      <td>3.0</td>\n",
              "      <td>True</td>\n",
              "      <td>A9FS0PG49LNG5</td>\n",
              "      <td>B004YFAZT8</td>\n",
              "      <td>Neutral</td>\n",
              "      <td>I enjoy hearing music and listed to all sorts ...</td>\n",
              "      <td>13.0</td>\n",
              "    </tr>\n",
              "    <tr>\n",
              "      <th>3</th>\n",
              "      <td>NaN</td>\n",
              "      <td>NaN</td>\n",
              "      <td>NaN</td>\n",
              "      <td>NaN</td>\n",
              "      <td>Negative</td>\n",
              "      <td>Department_of_Energy n't expression to rich_pe...</td>\n",
              "      <td>NaN</td>\n",
              "    </tr>\n",
              "    <tr>\n",
              "      <th>4</th>\n",
              "      <td>NaN</td>\n",
              "      <td>NaN</td>\n",
              "      <td>NaN</td>\n",
              "      <td>NaN</td>\n",
              "      <td>Negative</td>\n",
              "      <td>iodine give this download alone one star becau...</td>\n",
              "      <td>NaN</td>\n",
              "    </tr>\n",
              "  </tbody>\n",
              "</table>\n",
              "</div>\n",
              "      <button class=\"colab-df-convert\" onclick=\"convertToInteractive('df-42a63ab0-8be8-42ec-83a3-97eaa3d890f1')\"\n",
              "              title=\"Convert this dataframe to an interactive table.\"\n",
              "              style=\"display:none;\">\n",
              "        \n",
              "  <svg xmlns=\"http://www.w3.org/2000/svg\" height=\"24px\"viewBox=\"0 0 24 24\"\n",
              "       width=\"24px\">\n",
              "    <path d=\"M0 0h24v24H0V0z\" fill=\"none\"/>\n",
              "    <path d=\"M18.56 5.44l.94 2.06.94-2.06 2.06-.94-2.06-.94-.94-2.06-.94 2.06-2.06.94zm-11 1L8.5 8.5l.94-2.06 2.06-.94-2.06-.94L8.5 2.5l-.94 2.06-2.06.94zm10 10l.94 2.06.94-2.06 2.06-.94-2.06-.94-.94-2.06-.94 2.06-2.06.94z\"/><path d=\"M17.41 7.96l-1.37-1.37c-.4-.4-.92-.59-1.43-.59-.52 0-1.04.2-1.43.59L10.3 9.45l-7.72 7.72c-.78.78-.78 2.05 0 2.83L4 21.41c.39.39.9.59 1.41.59.51 0 1.02-.2 1.41-.59l7.78-7.78 2.81-2.81c.8-.78.8-2.07 0-2.86zM5.41 20L4 18.59l7.72-7.72 1.47 1.35L5.41 20z\"/>\n",
              "  </svg>\n",
              "      </button>\n",
              "      \n",
              "  <style>\n",
              "    .colab-df-container {\n",
              "      display:flex;\n",
              "      flex-wrap:wrap;\n",
              "      gap: 12px;\n",
              "    }\n",
              "\n",
              "    .colab-df-convert {\n",
              "      background-color: #E8F0FE;\n",
              "      border: none;\n",
              "      border-radius: 50%;\n",
              "      cursor: pointer;\n",
              "      display: none;\n",
              "      fill: #1967D2;\n",
              "      height: 32px;\n",
              "      padding: 0 0 0 0;\n",
              "      width: 32px;\n",
              "    }\n",
              "\n",
              "    .colab-df-convert:hover {\n",
              "      background-color: #E2EBFA;\n",
              "      box-shadow: 0px 1px 2px rgba(60, 64, 67, 0.3), 0px 1px 3px 1px rgba(60, 64, 67, 0.15);\n",
              "      fill: #174EA6;\n",
              "    }\n",
              "\n",
              "    [theme=dark] .colab-df-convert {\n",
              "      background-color: #3B4455;\n",
              "      fill: #D2E3FC;\n",
              "    }\n",
              "\n",
              "    [theme=dark] .colab-df-convert:hover {\n",
              "      background-color: #434B5C;\n",
              "      box-shadow: 0px 1px 3px 1px rgba(0, 0, 0, 0.15);\n",
              "      filter: drop-shadow(0px 1px 2px rgba(0, 0, 0, 0.3));\n",
              "      fill: #FFFFFF;\n",
              "    }\n",
              "  </style>\n",
              "\n",
              "      <script>\n",
              "        const buttonEl =\n",
              "          document.querySelector('#df-42a63ab0-8be8-42ec-83a3-97eaa3d890f1 button.colab-df-convert');\n",
              "        buttonEl.style.display =\n",
              "          google.colab.kernel.accessAllowed ? 'block' : 'none';\n",
              "\n",
              "        async function convertToInteractive(key) {\n",
              "          const element = document.querySelector('#df-42a63ab0-8be8-42ec-83a3-97eaa3d890f1');\n",
              "          const dataTable =\n",
              "            await google.colab.kernel.invokeFunction('convertToInteractive',\n",
              "                                                     [key], {});\n",
              "          if (!dataTable) return;\n",
              "\n",
              "          const docLinkHtml = 'Like what you see? Visit the ' +\n",
              "            '<a target=\"_blank\" href=https://colab.research.google.com/notebooks/data_table.ipynb>data table notebook</a>'\n",
              "            + ' to learn more about interactive tables.';\n",
              "          element.innerHTML = '';\n",
              "          dataTable['output_type'] = 'display_data';\n",
              "          await google.colab.output.renderOutput(dataTable, element);\n",
              "          const docLink = document.createElement('div');\n",
              "          docLink.innerHTML = docLinkHtml;\n",
              "          element.appendChild(docLink);\n",
              "        }\n",
              "      </script>\n",
              "    </div>\n",
              "  </div>\n",
              "  "
            ]
          },
          "metadata": {},
          "execution_count": 14
        }
      ],
      "source": [
        "df_balanced.head()"
      ]
    },
    {
      "cell_type": "code",
      "execution_count": null,
      "metadata": {
        "id": "AhsLz4Suy3zW"
      },
      "outputs": [],
      "source": [
        "#drop non-English comments\n",
        "from langdetect import detect\n",
        "\n",
        "def is_english(text):\n",
        "    try:\n",
        "        lang = detect(text)\n",
        "        return lang == 'en'\n",
        "    except:\n",
        "        return False\n",
        "\n",
        "df_balanced = df_balanced[df_balanced['NewReview'].apply(is_english)]\n"
      ]
    },
    {
      "cell_type": "code",
      "execution_count": null,
      "metadata": {
        "colab": {
          "base_uri": "https://localhost:8080/"
        },
        "id": "roWPpZmjy3zW",
        "outputId": "d31364f0-3066-41a2-8440-ad987e83ab02"
      },
      "outputs": [
        {
          "output_type": "execute_result",
          "data": {
            "text/plain": [
              "Positive    9449\n",
              "Neutral     8744\n",
              "Negative    8170\n",
              "Name: Sentiment, dtype: int64"
            ]
          },
          "metadata": {},
          "execution_count": 16
        }
      ],
      "source": [
        "#checking the values of Sentiment after removing non-English reviews\n",
        "df_balanced['Sentiment'].value_counts() "
      ]
    },
    {
      "cell_type": "code",
      "execution_count": null,
      "metadata": {
        "id": "1feFJ3UWy3zW"
      },
      "outputs": [],
      "source": [
        "#df_balanced = df_balanced.sample(n=1000, random_state=42)"
      ]
    },
    {
      "cell_type": "code",
      "execution_count": null,
      "metadata": {
        "id": "_UINDW2Vy3zW"
      },
      "outputs": [],
      "source": [
        "df_balanced = df_balanced.drop(columns=['verified','overall','asin','reviewerID'])"
      ]
    },
    {
      "cell_type": "code",
      "execution_count": null,
      "metadata": {
        "colab": {
          "base_uri": "https://localhost:8080/",
          "height": 206
        },
        "id": "sq5322KKy3zW",
        "outputId": "0182306a-fad8-4f9d-92bb-a75c5431271f"
      },
      "outputs": [
        {
          "output_type": "execute_result",
          "data": {
            "text/plain": [
              "  Sentiment                                          NewReview  review_length\n",
              "0  Positive                                   Love! Five Stars            3.0\n",
              "1  Negative  every time iodine attempt to bargain angstrom ...            NaN\n",
              "2   Neutral  I enjoy hearing music and listed to all sorts ...           13.0\n",
              "3  Negative  Department_of_Energy n't expression to rich_pe...            NaN\n",
              "4  Negative  iodine give this download alone one star becau...            NaN"
            ],
            "text/html": [
              "\n",
              "  <div id=\"df-28471a33-4820-4a6e-a7e5-83ebdd179ce6\">\n",
              "    <div class=\"colab-df-container\">\n",
              "      <div>\n",
              "<style scoped>\n",
              "    .dataframe tbody tr th:only-of-type {\n",
              "        vertical-align: middle;\n",
              "    }\n",
              "\n",
              "    .dataframe tbody tr th {\n",
              "        vertical-align: top;\n",
              "    }\n",
              "\n",
              "    .dataframe thead th {\n",
              "        text-align: right;\n",
              "    }\n",
              "</style>\n",
              "<table border=\"1\" class=\"dataframe\">\n",
              "  <thead>\n",
              "    <tr style=\"text-align: right;\">\n",
              "      <th></th>\n",
              "      <th>Sentiment</th>\n",
              "      <th>NewReview</th>\n",
              "      <th>review_length</th>\n",
              "    </tr>\n",
              "  </thead>\n",
              "  <tbody>\n",
              "    <tr>\n",
              "      <th>0</th>\n",
              "      <td>Positive</td>\n",
              "      <td>Love! Five Stars</td>\n",
              "      <td>3.0</td>\n",
              "    </tr>\n",
              "    <tr>\n",
              "      <th>1</th>\n",
              "      <td>Negative</td>\n",
              "      <td>every time iodine attempt to bargain angstrom ...</td>\n",
              "      <td>NaN</td>\n",
              "    </tr>\n",
              "    <tr>\n",
              "      <th>2</th>\n",
              "      <td>Neutral</td>\n",
              "      <td>I enjoy hearing music and listed to all sorts ...</td>\n",
              "      <td>13.0</td>\n",
              "    </tr>\n",
              "    <tr>\n",
              "      <th>3</th>\n",
              "      <td>Negative</td>\n",
              "      <td>Department_of_Energy n't expression to rich_pe...</td>\n",
              "      <td>NaN</td>\n",
              "    </tr>\n",
              "    <tr>\n",
              "      <th>4</th>\n",
              "      <td>Negative</td>\n",
              "      <td>iodine give this download alone one star becau...</td>\n",
              "      <td>NaN</td>\n",
              "    </tr>\n",
              "  </tbody>\n",
              "</table>\n",
              "</div>\n",
              "      <button class=\"colab-df-convert\" onclick=\"convertToInteractive('df-28471a33-4820-4a6e-a7e5-83ebdd179ce6')\"\n",
              "              title=\"Convert this dataframe to an interactive table.\"\n",
              "              style=\"display:none;\">\n",
              "        \n",
              "  <svg xmlns=\"http://www.w3.org/2000/svg\" height=\"24px\"viewBox=\"0 0 24 24\"\n",
              "       width=\"24px\">\n",
              "    <path d=\"M0 0h24v24H0V0z\" fill=\"none\"/>\n",
              "    <path d=\"M18.56 5.44l.94 2.06.94-2.06 2.06-.94-2.06-.94-.94-2.06-.94 2.06-2.06.94zm-11 1L8.5 8.5l.94-2.06 2.06-.94-2.06-.94L8.5 2.5l-.94 2.06-2.06.94zm10 10l.94 2.06.94-2.06 2.06-.94-2.06-.94-.94-2.06-.94 2.06-2.06.94z\"/><path d=\"M17.41 7.96l-1.37-1.37c-.4-.4-.92-.59-1.43-.59-.52 0-1.04.2-1.43.59L10.3 9.45l-7.72 7.72c-.78.78-.78 2.05 0 2.83L4 21.41c.39.39.9.59 1.41.59.51 0 1.02-.2 1.41-.59l7.78-7.78 2.81-2.81c.8-.78.8-2.07 0-2.86zM5.41 20L4 18.59l7.72-7.72 1.47 1.35L5.41 20z\"/>\n",
              "  </svg>\n",
              "      </button>\n",
              "      \n",
              "  <style>\n",
              "    .colab-df-container {\n",
              "      display:flex;\n",
              "      flex-wrap:wrap;\n",
              "      gap: 12px;\n",
              "    }\n",
              "\n",
              "    .colab-df-convert {\n",
              "      background-color: #E8F0FE;\n",
              "      border: none;\n",
              "      border-radius: 50%;\n",
              "      cursor: pointer;\n",
              "      display: none;\n",
              "      fill: #1967D2;\n",
              "      height: 32px;\n",
              "      padding: 0 0 0 0;\n",
              "      width: 32px;\n",
              "    }\n",
              "\n",
              "    .colab-df-convert:hover {\n",
              "      background-color: #E2EBFA;\n",
              "      box-shadow: 0px 1px 2px rgba(60, 64, 67, 0.3), 0px 1px 3px 1px rgba(60, 64, 67, 0.15);\n",
              "      fill: #174EA6;\n",
              "    }\n",
              "\n",
              "    [theme=dark] .colab-df-convert {\n",
              "      background-color: #3B4455;\n",
              "      fill: #D2E3FC;\n",
              "    }\n",
              "\n",
              "    [theme=dark] .colab-df-convert:hover {\n",
              "      background-color: #434B5C;\n",
              "      box-shadow: 0px 1px 3px 1px rgba(0, 0, 0, 0.15);\n",
              "      filter: drop-shadow(0px 1px 2px rgba(0, 0, 0, 0.3));\n",
              "      fill: #FFFFFF;\n",
              "    }\n",
              "  </style>\n",
              "\n",
              "      <script>\n",
              "        const buttonEl =\n",
              "          document.querySelector('#df-28471a33-4820-4a6e-a7e5-83ebdd179ce6 button.colab-df-convert');\n",
              "        buttonEl.style.display =\n",
              "          google.colab.kernel.accessAllowed ? 'block' : 'none';\n",
              "\n",
              "        async function convertToInteractive(key) {\n",
              "          const element = document.querySelector('#df-28471a33-4820-4a6e-a7e5-83ebdd179ce6');\n",
              "          const dataTable =\n",
              "            await google.colab.kernel.invokeFunction('convertToInteractive',\n",
              "                                                     [key], {});\n",
              "          if (!dataTable) return;\n",
              "\n",
              "          const docLinkHtml = 'Like what you see? Visit the ' +\n",
              "            '<a target=\"_blank\" href=https://colab.research.google.com/notebooks/data_table.ipynb>data table notebook</a>'\n",
              "            + ' to learn more about interactive tables.';\n",
              "          element.innerHTML = '';\n",
              "          dataTable['output_type'] = 'display_data';\n",
              "          await google.colab.output.renderOutput(dataTable, element);\n",
              "          const docLink = document.createElement('div');\n",
              "          docLink.innerHTML = docLinkHtml;\n",
              "          element.appendChild(docLink);\n",
              "        }\n",
              "      </script>\n",
              "    </div>\n",
              "  </div>\n",
              "  "
            ]
          },
          "metadata": {},
          "execution_count": 19
        }
      ],
      "source": [
        "df_balanced.head()"
      ]
    },
    {
      "cell_type": "code",
      "execution_count": null,
      "metadata": {
        "id": "RUWsm0Zky3zX"
      },
      "outputs": [],
      "source": [
        "# import re\n",
        "# import string\n",
        "# from nltk.corpus import stopwords\n",
        "# from nltk.stem import PorterStemmer, WordNetLemmatizer\n",
        "\n",
        "# # Initialize stopwords\n",
        "# STOPWORDS = set(stopwords.words('english'))\n",
        "\n",
        "# # Convert NewReview to lowercase\n",
        "# df_balanced['NewReview'] = df_balanced['NewReview'].str.lower()\n",
        "\n",
        "# # Remove URLs from NewReview\n",
        "# df_balanced['NewReview'] = df_balanced['NewReview'].apply(lambda x: re.sub(r'http\\S+', '', x))\n",
        "\n",
        "# # Remove currency symbols from NewReview\n",
        "# df_balanced['NewReview'] = df_balanced['NewReview'].apply(lambda x: re.sub(r'£|\\$', '', x))\n",
        "\n",
        "# # Remove phone numbers from NewReview\n",
        "# df_balanced['NewReview'] = df_balanced['NewReview'].apply(lambda x: re.sub(r'^[\\(]?[\\d]{3}[\\)\\-]?[\\s\\.]?[\\d]{3}[\\-\\s\\.]?[\\d]{4}$', '', x))\n",
        "\n",
        "# # Remove digits from NewReview\n",
        "# df_balanced['NewReview'] = df_balanced['NewReview'].apply(lambda x: re.sub(r'\\d+', '', x))\n",
        "\n",
        "# # Remove email addresses from NewReview\n",
        "# df_balanced['NewReview'] = df_balanced['NewReview'].apply(lambda x: re.sub(r'^.+@[^\\.].*\\.[a-z]{2,}$', '', x))\n",
        "\n",
        "# # Remove special characters from NewReview\n",
        "# df_balanced['NewReview'] = df_balanced['NewReview'].apply(lambda x: re.sub(r'[\\'“’]', '', x))\n",
        "\n",
        "# # Remove stopwords from NewReview\n",
        "# df_balanced['NewReview'] = df_balanced['NewReview'].apply(lambda x: \" \".join([word for word in x.split() if word.lower() not in STOPWORDS]))\n",
        "\n",
        "# # Remove empty values from NewReview\n",
        "# df_balanced['NewReview'] = df_balanced['NewReview'].apply(lambda x: '' if pd.isna(x) or not isinstance(x, str) else x)\n"
      ]
    },
    {
      "cell_type": "code",
      "execution_count": null,
      "metadata": {
        "id": "N8Zcubsgy3zc"
      },
      "outputs": [],
      "source": [
        "from nltk.stem import *\n",
        "\n",
        "# Initialize stopwords\n",
        "STOPWORDS = set(stopwords.words('english'))\n",
        "# Initialize stemmer and lemmatizer\n",
        "stemmer = PorterStemmer()\n",
        "lemmatizer = WordNetLemmatizer()\n",
        "\n",
        "# Define function for text cleaning\n",
        "def clean_text(text):\n",
        "    # Convert to lowercase\n",
        "    text = text.lower()\n",
        "\n",
        "    # Remove URLs\n",
        "    text = re.sub(r'http\\S+', '', text)\n",
        "\n",
        "    # Remove currency symbols\n",
        "    text = re.sub(r'£|\\$', '', text)\n",
        "\n",
        "    # Remove phone numbers\n",
        "    text = re.sub(r'^\\(?[\\d]{3}\\)?[\\s-]?[\\d]{3}[\\s-]?[\\d]{4}$', '', text)\n",
        "\n",
        "    # Remove email addresses\n",
        "    text = re.sub(r'\\S+@\\S+', '', text)\n",
        "\n",
        "    # Remove punctuation and special characters except emojis\n",
        "    #text = re.sub(r'[^\\w\\s' + emoji.get_emoji_regexp() + ']', '', text)\n",
        "    text = demoji.replace(text, '')\n",
        "\n",
        "    # Tokenize text into words\n",
        "    words = nltk.word_tokenize(text)\n",
        "    \n",
        "    # Remove stopwords and handle negation\n",
        "    negation_words = ['not', 'no', 'never', 'neither', 'nor']\n",
        "    words = [word if word.lower() in negation_words else word.lower() for word in words]\n",
        "    words = [word for word in words if word.lower() not in STOPWORDS]\n",
        "    words = [f'NOT_{words[i+1]}' if (i < len(words)-1 and words[i].lower() in negation_words and words[i+1] not in string.punctuation) else words[i] for i in range(len(words))]\n",
        "    \n",
        "    # Lemmatize words\n",
        "    words = [lemmatizer.lemmatize(word) for word in words]\n",
        "\n",
        "    # Stem words\n",
        "    words = [stemmer.stem(word) for word in words]\n",
        "\n",
        "    # Join words back into text\n",
        "    cleaned_text = ' '.join(words)\n",
        "    return cleaned_text\n"
      ]
    },
    {
      "cell_type": "code",
      "execution_count": null,
      "metadata": {
        "id": "Fuhyn5Zvy3zc"
      },
      "outputs": [],
      "source": [
        "#df_balanced['processed_review'] = df_balanced['NewReview'].apply(clean_text)\n",
        "from multiprocessing import cpu_count, Pool\n",
        "pool = Pool(cpu_count())\n",
        "tasks = df_balanced['NewReview'].tolist()\n",
        "done = pool.map(clean_text, tasks)  # parallel processing\n",
        "df_balanced['processed_review'] = done"
      ]
    },
    {
      "cell_type": "code",
      "execution_count": null,
      "metadata": {
        "colab": {
          "base_uri": "https://localhost:8080/",
          "height": 206
        },
        "id": "4gyvBEpZy3zd",
        "outputId": "80d56ee7-d73e-4a6b-ccde-a6bcd3d95ce2"
      },
      "outputs": [
        {
          "output_type": "execute_result",
          "data": {
            "text/plain": [
              "  Sentiment                                          NewReview  review_length  \\\n",
              "0  Positive                                   Love! Five Stars            3.0   \n",
              "1  Negative  every time iodine attempt to bargain angstrom ...            NaN   \n",
              "2   Neutral  I enjoy hearing music and listed to all sorts ...           13.0   \n",
              "3  Negative  Department_of_Energy n't expression to rich_pe...            NaN   \n",
              "4  Negative  iodine give this download alone one star becau...            NaN   \n",
              "\n",
              "                                    processed_review  \n",
              "0                                   love ! five star  \n",
              "1  everi time iodin attempt bargain angstrom new ...  \n",
              "2      enjoy hear music list sort style . three star  \n",
              "3  department_of_energi n't express rich_person d...  \n",
              "4  iodin give download alon one star , even thoug...  "
            ],
            "text/html": [
              "\n",
              "  <div id=\"df-6c890480-c2ee-4c80-9530-1480327c6ab3\">\n",
              "    <div class=\"colab-df-container\">\n",
              "      <div>\n",
              "<style scoped>\n",
              "    .dataframe tbody tr th:only-of-type {\n",
              "        vertical-align: middle;\n",
              "    }\n",
              "\n",
              "    .dataframe tbody tr th {\n",
              "        vertical-align: top;\n",
              "    }\n",
              "\n",
              "    .dataframe thead th {\n",
              "        text-align: right;\n",
              "    }\n",
              "</style>\n",
              "<table border=\"1\" class=\"dataframe\">\n",
              "  <thead>\n",
              "    <tr style=\"text-align: right;\">\n",
              "      <th></th>\n",
              "      <th>Sentiment</th>\n",
              "      <th>NewReview</th>\n",
              "      <th>review_length</th>\n",
              "      <th>processed_review</th>\n",
              "    </tr>\n",
              "  </thead>\n",
              "  <tbody>\n",
              "    <tr>\n",
              "      <th>0</th>\n",
              "      <td>Positive</td>\n",
              "      <td>Love! Five Stars</td>\n",
              "      <td>3.0</td>\n",
              "      <td>love ! five star</td>\n",
              "    </tr>\n",
              "    <tr>\n",
              "      <th>1</th>\n",
              "      <td>Negative</td>\n",
              "      <td>every time iodine attempt to bargain angstrom ...</td>\n",
              "      <td>NaN</td>\n",
              "      <td>everi time iodin attempt bargain angstrom new ...</td>\n",
              "    </tr>\n",
              "    <tr>\n",
              "      <th>2</th>\n",
              "      <td>Neutral</td>\n",
              "      <td>I enjoy hearing music and listed to all sorts ...</td>\n",
              "      <td>13.0</td>\n",
              "      <td>enjoy hear music list sort style . three star</td>\n",
              "    </tr>\n",
              "    <tr>\n",
              "      <th>3</th>\n",
              "      <td>Negative</td>\n",
              "      <td>Department_of_Energy n't expression to rich_pe...</td>\n",
              "      <td>NaN</td>\n",
              "      <td>department_of_energi n't express rich_person d...</td>\n",
              "    </tr>\n",
              "    <tr>\n",
              "      <th>4</th>\n",
              "      <td>Negative</td>\n",
              "      <td>iodine give this download alone one star becau...</td>\n",
              "      <td>NaN</td>\n",
              "      <td>iodin give download alon one star , even thoug...</td>\n",
              "    </tr>\n",
              "  </tbody>\n",
              "</table>\n",
              "</div>\n",
              "      <button class=\"colab-df-convert\" onclick=\"convertToInteractive('df-6c890480-c2ee-4c80-9530-1480327c6ab3')\"\n",
              "              title=\"Convert this dataframe to an interactive table.\"\n",
              "              style=\"display:none;\">\n",
              "        \n",
              "  <svg xmlns=\"http://www.w3.org/2000/svg\" height=\"24px\"viewBox=\"0 0 24 24\"\n",
              "       width=\"24px\">\n",
              "    <path d=\"M0 0h24v24H0V0z\" fill=\"none\"/>\n",
              "    <path d=\"M18.56 5.44l.94 2.06.94-2.06 2.06-.94-2.06-.94-.94-2.06-.94 2.06-2.06.94zm-11 1L8.5 8.5l.94-2.06 2.06-.94-2.06-.94L8.5 2.5l-.94 2.06-2.06.94zm10 10l.94 2.06.94-2.06 2.06-.94-2.06-.94-.94-2.06-.94 2.06-2.06.94z\"/><path d=\"M17.41 7.96l-1.37-1.37c-.4-.4-.92-.59-1.43-.59-.52 0-1.04.2-1.43.59L10.3 9.45l-7.72 7.72c-.78.78-.78 2.05 0 2.83L4 21.41c.39.39.9.59 1.41.59.51 0 1.02-.2 1.41-.59l7.78-7.78 2.81-2.81c.8-.78.8-2.07 0-2.86zM5.41 20L4 18.59l7.72-7.72 1.47 1.35L5.41 20z\"/>\n",
              "  </svg>\n",
              "      </button>\n",
              "      \n",
              "  <style>\n",
              "    .colab-df-container {\n",
              "      display:flex;\n",
              "      flex-wrap:wrap;\n",
              "      gap: 12px;\n",
              "    }\n",
              "\n",
              "    .colab-df-convert {\n",
              "      background-color: #E8F0FE;\n",
              "      border: none;\n",
              "      border-radius: 50%;\n",
              "      cursor: pointer;\n",
              "      display: none;\n",
              "      fill: #1967D2;\n",
              "      height: 32px;\n",
              "      padding: 0 0 0 0;\n",
              "      width: 32px;\n",
              "    }\n",
              "\n",
              "    .colab-df-convert:hover {\n",
              "      background-color: #E2EBFA;\n",
              "      box-shadow: 0px 1px 2px rgba(60, 64, 67, 0.3), 0px 1px 3px 1px rgba(60, 64, 67, 0.15);\n",
              "      fill: #174EA6;\n",
              "    }\n",
              "\n",
              "    [theme=dark] .colab-df-convert {\n",
              "      background-color: #3B4455;\n",
              "      fill: #D2E3FC;\n",
              "    }\n",
              "\n",
              "    [theme=dark] .colab-df-convert:hover {\n",
              "      background-color: #434B5C;\n",
              "      box-shadow: 0px 1px 3px 1px rgba(0, 0, 0, 0.15);\n",
              "      filter: drop-shadow(0px 1px 2px rgba(0, 0, 0, 0.3));\n",
              "      fill: #FFFFFF;\n",
              "    }\n",
              "  </style>\n",
              "\n",
              "      <script>\n",
              "        const buttonEl =\n",
              "          document.querySelector('#df-6c890480-c2ee-4c80-9530-1480327c6ab3 button.colab-df-convert');\n",
              "        buttonEl.style.display =\n",
              "          google.colab.kernel.accessAllowed ? 'block' : 'none';\n",
              "\n",
              "        async function convertToInteractive(key) {\n",
              "          const element = document.querySelector('#df-6c890480-c2ee-4c80-9530-1480327c6ab3');\n",
              "          const dataTable =\n",
              "            await google.colab.kernel.invokeFunction('convertToInteractive',\n",
              "                                                     [key], {});\n",
              "          if (!dataTable) return;\n",
              "\n",
              "          const docLinkHtml = 'Like what you see? Visit the ' +\n",
              "            '<a target=\"_blank\" href=https://colab.research.google.com/notebooks/data_table.ipynb>data table notebook</a>'\n",
              "            + ' to learn more about interactive tables.';\n",
              "          element.innerHTML = '';\n",
              "          dataTable['output_type'] = 'display_data';\n",
              "          await google.colab.output.renderOutput(dataTable, element);\n",
              "          const docLink = document.createElement('div');\n",
              "          docLink.innerHTML = docLinkHtml;\n",
              "          element.appendChild(docLink);\n",
              "        }\n",
              "      </script>\n",
              "    </div>\n",
              "  </div>\n",
              "  "
            ]
          },
          "metadata": {},
          "execution_count": 23
        }
      ],
      "source": [
        "df_balanced.head()"
      ]
    },
    {
      "cell_type": "code",
      "execution_count": null,
      "metadata": {
        "id": "Dq94fu0uy3zd"
      },
      "outputs": [],
      "source": [
        "df_balanced = df_balanced.drop(columns=['NewReview'])"
      ]
    },
    {
      "cell_type": "code",
      "execution_count": null,
      "metadata": {
        "colab": {
          "base_uri": "https://localhost:8080/",
          "height": 206
        },
        "id": "cAwmKxNEy3zd",
        "outputId": "db3dd0f8-0747-4f02-9b68-95b985d31f1d"
      },
      "outputs": [
        {
          "output_type": "execute_result",
          "data": {
            "text/plain": [
              "  Sentiment  review_length                                   processed_review\n",
              "0  Positive            3.0                                   love ! five star\n",
              "1  Negative            NaN  everi time iodin attempt bargain angstrom new ...\n",
              "2   Neutral           13.0      enjoy hear music list sort style . three star\n",
              "3  Negative            NaN  department_of_energi n't express rich_person d...\n",
              "4  Negative            NaN  iodin give download alon one star , even thoug..."
            ],
            "text/html": [
              "\n",
              "  <div id=\"df-21465c4d-ca63-474a-b726-8e54f5c42214\">\n",
              "    <div class=\"colab-df-container\">\n",
              "      <div>\n",
              "<style scoped>\n",
              "    .dataframe tbody tr th:only-of-type {\n",
              "        vertical-align: middle;\n",
              "    }\n",
              "\n",
              "    .dataframe tbody tr th {\n",
              "        vertical-align: top;\n",
              "    }\n",
              "\n",
              "    .dataframe thead th {\n",
              "        text-align: right;\n",
              "    }\n",
              "</style>\n",
              "<table border=\"1\" class=\"dataframe\">\n",
              "  <thead>\n",
              "    <tr style=\"text-align: right;\">\n",
              "      <th></th>\n",
              "      <th>Sentiment</th>\n",
              "      <th>review_length</th>\n",
              "      <th>processed_review</th>\n",
              "    </tr>\n",
              "  </thead>\n",
              "  <tbody>\n",
              "    <tr>\n",
              "      <th>0</th>\n",
              "      <td>Positive</td>\n",
              "      <td>3.0</td>\n",
              "      <td>love ! five star</td>\n",
              "    </tr>\n",
              "    <tr>\n",
              "      <th>1</th>\n",
              "      <td>Negative</td>\n",
              "      <td>NaN</td>\n",
              "      <td>everi time iodin attempt bargain angstrom new ...</td>\n",
              "    </tr>\n",
              "    <tr>\n",
              "      <th>2</th>\n",
              "      <td>Neutral</td>\n",
              "      <td>13.0</td>\n",
              "      <td>enjoy hear music list sort style . three star</td>\n",
              "    </tr>\n",
              "    <tr>\n",
              "      <th>3</th>\n",
              "      <td>Negative</td>\n",
              "      <td>NaN</td>\n",
              "      <td>department_of_energi n't express rich_person d...</td>\n",
              "    </tr>\n",
              "    <tr>\n",
              "      <th>4</th>\n",
              "      <td>Negative</td>\n",
              "      <td>NaN</td>\n",
              "      <td>iodin give download alon one star , even thoug...</td>\n",
              "    </tr>\n",
              "  </tbody>\n",
              "</table>\n",
              "</div>\n",
              "      <button class=\"colab-df-convert\" onclick=\"convertToInteractive('df-21465c4d-ca63-474a-b726-8e54f5c42214')\"\n",
              "              title=\"Convert this dataframe to an interactive table.\"\n",
              "              style=\"display:none;\">\n",
              "        \n",
              "  <svg xmlns=\"http://www.w3.org/2000/svg\" height=\"24px\"viewBox=\"0 0 24 24\"\n",
              "       width=\"24px\">\n",
              "    <path d=\"M0 0h24v24H0V0z\" fill=\"none\"/>\n",
              "    <path d=\"M18.56 5.44l.94 2.06.94-2.06 2.06-.94-2.06-.94-.94-2.06-.94 2.06-2.06.94zm-11 1L8.5 8.5l.94-2.06 2.06-.94-2.06-.94L8.5 2.5l-.94 2.06-2.06.94zm10 10l.94 2.06.94-2.06 2.06-.94-2.06-.94-.94-2.06-.94 2.06-2.06.94z\"/><path d=\"M17.41 7.96l-1.37-1.37c-.4-.4-.92-.59-1.43-.59-.52 0-1.04.2-1.43.59L10.3 9.45l-7.72 7.72c-.78.78-.78 2.05 0 2.83L4 21.41c.39.39.9.59 1.41.59.51 0 1.02-.2 1.41-.59l7.78-7.78 2.81-2.81c.8-.78.8-2.07 0-2.86zM5.41 20L4 18.59l7.72-7.72 1.47 1.35L5.41 20z\"/>\n",
              "  </svg>\n",
              "      </button>\n",
              "      \n",
              "  <style>\n",
              "    .colab-df-container {\n",
              "      display:flex;\n",
              "      flex-wrap:wrap;\n",
              "      gap: 12px;\n",
              "    }\n",
              "\n",
              "    .colab-df-convert {\n",
              "      background-color: #E8F0FE;\n",
              "      border: none;\n",
              "      border-radius: 50%;\n",
              "      cursor: pointer;\n",
              "      display: none;\n",
              "      fill: #1967D2;\n",
              "      height: 32px;\n",
              "      padding: 0 0 0 0;\n",
              "      width: 32px;\n",
              "    }\n",
              "\n",
              "    .colab-df-convert:hover {\n",
              "      background-color: #E2EBFA;\n",
              "      box-shadow: 0px 1px 2px rgba(60, 64, 67, 0.3), 0px 1px 3px 1px rgba(60, 64, 67, 0.15);\n",
              "      fill: #174EA6;\n",
              "    }\n",
              "\n",
              "    [theme=dark] .colab-df-convert {\n",
              "      background-color: #3B4455;\n",
              "      fill: #D2E3FC;\n",
              "    }\n",
              "\n",
              "    [theme=dark] .colab-df-convert:hover {\n",
              "      background-color: #434B5C;\n",
              "      box-shadow: 0px 1px 3px 1px rgba(0, 0, 0, 0.15);\n",
              "      filter: drop-shadow(0px 1px 2px rgba(0, 0, 0, 0.3));\n",
              "      fill: #FFFFFF;\n",
              "    }\n",
              "  </style>\n",
              "\n",
              "      <script>\n",
              "        const buttonEl =\n",
              "          document.querySelector('#df-21465c4d-ca63-474a-b726-8e54f5c42214 button.colab-df-convert');\n",
              "        buttonEl.style.display =\n",
              "          google.colab.kernel.accessAllowed ? 'block' : 'none';\n",
              "\n",
              "        async function convertToInteractive(key) {\n",
              "          const element = document.querySelector('#df-21465c4d-ca63-474a-b726-8e54f5c42214');\n",
              "          const dataTable =\n",
              "            await google.colab.kernel.invokeFunction('convertToInteractive',\n",
              "                                                     [key], {});\n",
              "          if (!dataTable) return;\n",
              "\n",
              "          const docLinkHtml = 'Like what you see? Visit the ' +\n",
              "            '<a target=\"_blank\" href=https://colab.research.google.com/notebooks/data_table.ipynb>data table notebook</a>'\n",
              "            + ' to learn more about interactive tables.';\n",
              "          element.innerHTML = '';\n",
              "          dataTable['output_type'] = 'display_data';\n",
              "          await google.colab.output.renderOutput(dataTable, element);\n",
              "          const docLink = document.createElement('div');\n",
              "          docLink.innerHTML = docLinkHtml;\n",
              "          element.appendChild(docLink);\n",
              "        }\n",
              "      </script>\n",
              "    </div>\n",
              "  </div>\n",
              "  "
            ]
          },
          "metadata": {},
          "execution_count": 25
        }
      ],
      "source": [
        "df_balanced.head()"
      ]
    },
    {
      "cell_type": "code",
      "execution_count": null,
      "metadata": {
        "id": "hYSMu5Qcy3zd"
      },
      "outputs": [],
      "source": [
        "X = pd.DataFrame(df_balanced['processed_review'])\n",
        "y = df_balanced['Sentiment']"
      ]
    },
    {
      "cell_type": "markdown",
      "metadata": {
        "id": "qo4FDvHJy3ze"
      },
      "source": [
        "TfidfVectorizer / Naive Bayes"
      ]
    },
    {
      "cell_type": "code",
      "execution_count": null,
      "metadata": {
        "colab": {
          "base_uri": "https://localhost:8080/"
        },
        "id": "cwAiZzOvy3ze",
        "outputId": "b1815982-1618-4d24-8c6f-5c47b9c2345b"
      },
      "outputs": [
        {
          "output_type": "stream",
          "name": "stdout",
          "text": [
            "Accuracy: 0.849\n"
          ]
        }
      ],
      "source": [
        "# Split the data into training and testing sets with stratified sampling\n",
        "X_train, X_test, y_train, y_test = train_test_split(X, y, test_size=0.3, stratify=y, random_state=42)\n",
        "\n",
        "# Define the pipeline\n",
        "pipeline = Pipeline([\n",
        "    ('tfidf', TfidfVectorizer()),\n",
        "    ('nb', MultinomialNB())\n",
        "])\n",
        "\n",
        "# Fit the pipeline on the training data\n",
        "pipeline.fit(X_train['processed_review'], y_train)\n",
        "\n",
        "# Predict on the test data\n",
        "y_pred = pipeline.predict(X_test['processed_review'])\n",
        "\n",
        "# Calculate the accuracy\n",
        "acc = accuracy_score(y_test, y_pred)\n",
        "print(f\"Accuracy: {acc:.3f}\")\n"
      ]
    },
    {
      "cell_type": "code",
      "source": [
        "from sklearn.metrics import accuracy_score, classification_report, confusion_matrix"
      ],
      "metadata": {
        "id": "xcvvzNCIDmfk"
      },
      "execution_count": null,
      "outputs": []
    },
    {
      "cell_type": "code",
      "execution_count": null,
      "metadata": {
        "id": "SEQbyh3JLJmD",
        "outputId": "919a461f-b995-48af-8cca-cc51ac252c42",
        "colab": {
          "base_uri": "https://localhost:8080/"
        }
      },
      "outputs": [
        {
          "output_type": "stream",
          "name": "stdout",
          "text": [
            "[[2132  190  129]\n",
            " [ 367 1920  336]\n",
            " [  30  141 2664]]\n",
            "              precision    recall  f1-score   support\n",
            "\n",
            "    Negative       0.84      0.87      0.86      2451\n",
            "     Neutral       0.85      0.73      0.79      2623\n",
            "    Positive       0.85      0.94      0.89      2835\n",
            "\n",
            "    accuracy                           0.85      7909\n",
            "   macro avg       0.85      0.85      0.85      7909\n",
            "weighted avg       0.85      0.85      0.85      7909\n",
            "\n"
          ]
        }
      ],
      "source": [
        "print(confusion_matrix(y_test, y_pred))\n",
        "print(classification_report(y_test, y_pred))"
      ]
    },
    {
      "cell_type": "markdown",
      "metadata": {
        "id": "bB-6Es2Ty3zf"
      },
      "source": [
        "Count Vectorizer / Naive Bayse"
      ]
    },
    {
      "cell_type": "code",
      "execution_count": null,
      "metadata": {
        "colab": {
          "base_uri": "https://localhost:8080/"
        },
        "id": "Duq9-_8Py3zf",
        "outputId": "f95474a6-77da-4a56-feec-85d1f4681c92"
      },
      "outputs": [
        {
          "output_type": "stream",
          "name": "stdout",
          "text": [
            "Accuracy: 0.8305727652041978\n"
          ]
        }
      ],
      "source": [
        "# Split the data into training and testing sets with stratified sampling\n",
        "X_train, X_test, y_train, y_test = train_test_split(X, y, test_size=0.3, stratify=y, random_state=42)\n",
        " \n",
        "# Define CountVectorizer\n",
        "count_vectorizer = CountVectorizer()\n",
        "\n",
        "# Define Naive Bayes classifier\n",
        "nb_classifier = MultinomialNB()\n",
        "\n",
        "# Combine CountVectorizer and Naive Bayes classifier into a pipeline\n",
        "pipeline = Pipeline([\n",
        "    ('vectorizer', count_vectorizer),\n",
        "    ('classifier', nb_classifier)\n",
        "])\n",
        "\n",
        "# Fit the pipeline on the training data\n",
        "pipeline.fit(X_train['processed_review'], y_train)\n",
        "\n",
        "# Make predictions on the test data\n",
        "y_pred = pipeline.predict(X_test['processed_review'])\n",
        "\n",
        "# Calculate accuracy\n",
        "accuracy = accuracy_score(y_test, y_pred)\n",
        "\n",
        "print(f\"Accuracy: {accuracy}\")\n"
      ]
    },
    {
      "cell_type": "code",
      "execution_count": null,
      "metadata": {
        "outputId": "74a22a11-be4d-4dc0-d0d9-e3ed9162b6ac",
        "colab": {
          "base_uri": "https://localhost:8080/"
        },
        "id": "HQegpZi7FFgJ"
      },
      "outputs": [
        {
          "output_type": "stream",
          "name": "stdout",
          "text": [
            "[[2004  260  187]\n",
            " [ 344 1861  418]\n",
            " [  16  115 2704]]\n",
            "              precision    recall  f1-score   support\n",
            "\n",
            "    Negative       0.85      0.82      0.83      2451\n",
            "     Neutral       0.83      0.71      0.77      2623\n",
            "    Positive       0.82      0.95      0.88      2835\n",
            "\n",
            "    accuracy                           0.83      7909\n",
            "   macro avg       0.83      0.83      0.83      7909\n",
            "weighted avg       0.83      0.83      0.83      7909\n",
            "\n"
          ]
        }
      ],
      "source": [
        "print(confusion_matrix(y_test, y_pred))\n",
        "print(classification_report(y_test, y_pred))"
      ]
    },
    {
      "cell_type": "markdown",
      "metadata": {
        "id": "XHI467h8y3zf"
      },
      "source": [
        "#### Logistic Regression"
      ]
    },
    {
      "cell_type": "code",
      "execution_count": null,
      "metadata": {
        "colab": {
          "base_uri": "https://localhost:8080/"
        },
        "id": "QDAv5iAfy3zf",
        "outputId": "7af4936a-17c0-4536-e95e-c8bf468087e8"
      },
      "outputs": [
        {
          "output_type": "stream",
          "name": "stderr",
          "text": [
            "/usr/local/lib/python3.9/dist-packages/sklearn/linear_model/_logistic.py:458: ConvergenceWarning: lbfgs failed to converge (status=1):\n",
            "STOP: TOTAL NO. of ITERATIONS REACHED LIMIT.\n",
            "\n",
            "Increase the number of iterations (max_iter) or scale the data as shown in:\n",
            "    https://scikit-learn.org/stable/modules/preprocessing.html\n",
            "Please also refer to the documentation for alternative solver options:\n",
            "    https://scikit-learn.org/stable/modules/linear_model.html#logistic-regression\n",
            "  n_iter_i = _check_optimize_result(\n"
          ]
        },
        {
          "output_type": "stream",
          "name": "stdout",
          "text": [
            "Accuracy: 0.8743203944872929\n"
          ]
        }
      ],
      "source": [
        "# Split the data into training and testing sets with stratified sampling\n",
        "X_train, X_test, y_train, y_test = train_test_split(X, y, test_size=0.3, stratify=y, random_state=42)\n",
        " \n",
        "# Define the pipeline\n",
        "model = make_pipeline(\n",
        "    CountVectorizer(),\n",
        "    StandardScaler(with_mean=False),\n",
        "    LogisticRegression(random_state=42)\n",
        ")\n",
        "\n",
        "# Fit the model to the training data\n",
        "model.fit(X_train['processed_review'], y_train)\n",
        "\n",
        "# Predict the sentiment of the test data\n",
        "y_pred = model.predict(X_test['processed_review'])\n",
        "\n",
        "# Evaluate the accuracy of the model\n",
        "accuracy = accuracy_score(y_test, y_pred)\n",
        "print(f\"Accuracy: {accuracy}\")"
      ]
    },
    {
      "cell_type": "code",
      "execution_count": null,
      "metadata": {
        "outputId": "51c3b5ef-cab5-4a56-e3ba-a46f81bccd79",
        "colab": {
          "base_uri": "https://localhost:8080/"
        },
        "id": "ZJBPz8ZSFG35"
      },
      "outputs": [
        {
          "output_type": "stream",
          "name": "stdout",
          "text": [
            "[[2283   94   74]\n",
            " [ 149 2203  271]\n",
            " [  79  327 2429]]\n",
            "              precision    recall  f1-score   support\n",
            "\n",
            "    Negative       0.91      0.93      0.92      2451\n",
            "     Neutral       0.84      0.84      0.84      2623\n",
            "    Positive       0.88      0.86      0.87      2835\n",
            "\n",
            "    accuracy                           0.87      7909\n",
            "   macro avg       0.87      0.88      0.88      7909\n",
            "weighted avg       0.87      0.87      0.87      7909\n",
            "\n"
          ]
        }
      ],
      "source": [
        "print(confusion_matrix(y_test, y_pred))\n",
        "print(classification_report(y_test, y_pred))"
      ]
    },
    {
      "cell_type": "markdown",
      "metadata": {
        "id": "oF2K3ARhy3zf"
      },
      "source": [
        "#### Gradient Boosting"
      ]
    },
    {
      "cell_type": "code",
      "execution_count": null,
      "metadata": {
        "colab": {
          "base_uri": "https://localhost:8080/"
        },
        "id": "tTAOvkWEy3zf",
        "outputId": "a9bf1f9d-986f-40c7-ccfe-9028d711f490"
      },
      "outputs": [
        {
          "output_type": "stream",
          "name": "stdout",
          "text": [
            "Accuracy: 0.831\n"
          ]
        }
      ],
      "source": [
        "# Split the data into training and testing sets with stratified sampling\n",
        "X_train, X_test, y_train, y_test = train_test_split(X, y, test_size=0.3, stratify=y, random_state=42)\n",
        " \n",
        "# Define the pipeline\n",
        "pipeline = Pipeline([\n",
        "    ('tfidf', TfidfVectorizer()),\n",
        "    ('gb', GradientBoostingClassifier())\n",
        "])\n",
        "\n",
        "# Fit the pipeline on the training data\n",
        "pipeline.fit(X_train['processed_review'], y_train)\n",
        "\n",
        "# Predict on the test data\n",
        "y_pred = pipeline.predict(X_test['processed_review'])\n",
        "\n",
        "# Calculate the accuracy\n",
        "acc = accuracy_score(y_test, y_pred)\n",
        "print(f\"Accuracy: {acc:.3f}\")\n"
      ]
    },
    {
      "cell_type": "code",
      "execution_count": null,
      "metadata": {
        "outputId": "04770e2b-469e-434d-e5fc-1d505de86278",
        "colab": {
          "base_uri": "https://localhost:8080/"
        },
        "id": "tt1bsaBCFH0p"
      },
      "outputs": [
        {
          "output_type": "stream",
          "name": "stdout",
          "text": [
            "[[2087  163  201]\n",
            " [ 352 1893  378]\n",
            " [  23  218 2594]]\n",
            "              precision    recall  f1-score   support\n",
            "\n",
            "    Negative       0.85      0.85      0.85      2451\n",
            "     Neutral       0.83      0.72      0.77      2623\n",
            "    Positive       0.82      0.91      0.86      2835\n",
            "\n",
            "    accuracy                           0.83      7909\n",
            "   macro avg       0.83      0.83      0.83      7909\n",
            "weighted avg       0.83      0.83      0.83      7909\n",
            "\n"
          ]
        }
      ],
      "source": [
        "print(confusion_matrix(y_test, y_pred))\n",
        "print(classification_report(y_test, y_pred))"
      ]
    },
    {
      "cell_type": "markdown",
      "source": [
        "SVM"
      ],
      "metadata": {
        "id": "qG9_dN6qCdod"
      }
    },
    {
      "cell_type": "code",
      "execution_count": null,
      "metadata": {
        "colab": {
          "base_uri": "https://localhost:8080/"
        },
        "id": "mc8UvlRQy3zg",
        "outputId": "54a52072-b57b-465e-e152-05488d5d3c15"
      },
      "outputs": [
        {
          "output_type": "stream",
          "name": "stdout",
          "text": [
            "Accuracy: 0.916\n"
          ]
        }
      ],
      "source": [
        "# Split the data into training and testing sets with stratified sampling\n",
        "X_train, X_test, y_train, y_test = train_test_split(X, y, test_size=0.3, stratify=y, random_state=42)\n",
        " \n",
        "# Define the pipeline\n",
        "pipeline = Pipeline([\n",
        "    ('tfidf', TfidfVectorizer()),\n",
        "    ('svm', SVC())\n",
        "])\n",
        "\n",
        "# Fit the pipeline on the training data\n",
        "pipeline.fit(X_train['processed_review'], y_train)\n",
        "\n",
        "# Predict on the test data\n",
        "y_pred = pipeline.predict(X_test['processed_review'])\n",
        "\n",
        "# Calculate the accuracy\n",
        "acc = accuracy_score(y_test, y_pred)\n",
        "print(f\"Accuracy: {acc:.3f}\")\n"
      ]
    },
    {
      "cell_type": "code",
      "execution_count": null,
      "metadata": {
        "outputId": "30ef7f15-875f-4096-d29b-55bced32cd9c",
        "colab": {
          "base_uri": "https://localhost:8080/"
        },
        "id": "78DgfCdVFJSR"
      },
      "outputs": [
        {
          "output_type": "stream",
          "name": "stdout",
          "text": [
            "[[2278   94   79]\n",
            " [  84 2278  261]\n",
            " [  15  134 2686]]\n",
            "              precision    recall  f1-score   support\n",
            "\n",
            "    Negative       0.96      0.93      0.94      2451\n",
            "     Neutral       0.91      0.87      0.89      2623\n",
            "    Positive       0.89      0.95      0.92      2835\n",
            "\n",
            "    accuracy                           0.92      7909\n",
            "   macro avg       0.92      0.92      0.92      7909\n",
            "weighted avg       0.92      0.92      0.92      7909\n",
            "\n"
          ]
        }
      ],
      "source": [
        "print(confusion_matrix(y_test, y_pred))\n",
        "print(classification_report(y_test, y_pred))"
      ]
    },
    {
      "cell_type": "code",
      "execution_count": null,
      "metadata": {
        "id": "aFwENdary3zg"
      },
      "outputs": [],
      "source": [
        "# Split the data into training and testing sets with stratified sampling\n",
        "X_train, X_test, y_train, y_test = train_test_split(X, y, test_size=0.3, stratify=y, random_state=42)\n",
        " \n",
        "\n",
        "# Define the pipeline\n",
        "pipeline = Pipeline([\n",
        "    ('tfidf', TfidfVectorizer()),\n",
        "    ('svm', SVC())\n",
        "])\n",
        "\n",
        "\n",
        "# Define the hyperparameter grid\n",
        "param_grid = {\n",
        "    'svm__C': [0.1, 1, 10, 100,200],\n",
        "    'svm__kernel': ['linear', 'rbf', 'sigmoid','precomputed','poly'],\n",
        "    'svm__gamma': ['scale', 'auto','float','array-like']\n",
        "}\n",
        "\n",
        "\n",
        "# Define the GridSearchCV object\n",
        "grid_search = GridSearchCV(pipeline, param_grid, cv=5, n_jobs=-1, verbose=2)\n",
        "\n",
        "# Fit the pipeline on the training data\n",
        "grid_search.fit(X_train['processed_review'], y_train)\n",
        "\n",
        "# Print the best hyperparameters\n",
        "print(\"Best parameters: \", grid_search.best_params_)\n",
        "\n",
        "# Predict on the test data using the best estimator\n",
        "y_pred = grid_search.best_estimator_.predict(X_test['processed_review'])\n",
        "\n",
        "# Calculate the accuracy\n",
        "acc = accuracy_score(y_test, y_pred)\n",
        "print(f\"Accuracy: {acc:.3f}\")\n"
      ]
    },
    {
      "cell_type": "code",
      "execution_count": null,
      "metadata": {
        "colab": {
          "base_uri": "https://localhost:8080/"
        },
        "id": "QObqfMvCy3zg",
        "outputId": "7c03b83b-0b60-4698-dd47-d64ebf71b7db"
      },
      "outputs": [
        {
          "output_type": "stream",
          "name": "stdout",
          "text": [
            "Accuracy: 0.921\n"
          ]
        }
      ],
      "source": [
        "# Split the data into training and testing sets with stratified sampling\n",
        "X_train, X_test, y_train, y_test = train_test_split(X, y, test_size=0.3, stratify=y, random_state=42)\n",
        " \n",
        "# Define the pipeline\n",
        "pipeline = Pipeline([\n",
        "    ('tfidf', TfidfVectorizer()),\n",
        "    ('svm', SVC(C= 100, gamma= 'scale', kernel='rbf'))\n",
        "])\n",
        "\n",
        "# Fit the pipeline on the training data\n",
        "pipeline.fit(X_train['processed_review'], y_train)\n",
        "\n",
        "# Predict on the test data\n",
        "y_pred = pipeline.predict(X_test['processed_review'])\n",
        "\n",
        "# Calculate the accuracy\n",
        "acc = accuracy_score(y_test, y_pred)\n",
        "print(f\"Accuracy: {acc:.3f}\")"
      ]
    },
    {
      "cell_type": "code",
      "execution_count": null,
      "metadata": {
        "id": "qWVU__5ky3zg"
      },
      "outputs": [],
      "source": [
        "from sklearn.calibration import CalibratedClassifierCV\n",
        "\n",
        "# Split the data into training and testing sets with stratified sampling\n",
        "X_train, X_test, y_train, y_test = train_test_split(X, y, test_size=0.3, stratify=y, random_state=42)\n",
        "\n",
        "# Define the pipeline\n",
        "pipeline = Pipeline([\n",
        "    ('tfidf', TfidfVectorizer()),\n",
        "    ('svm', SVC(C= 100, gamma= 'scale', kernel='rbf', probability=True)) # set probability to True\n",
        "])\n",
        "\n",
        "# Wrap the pipeline in a calibrated classifier\n",
        "calibrated_pipeline = CalibratedClassifierCV(pipeline, method='sigmoid', cv=5) # you can choose different calibration methods\n",
        "\n",
        "# Fit the pipeline on the training data\n",
        "calibrated_pipeline.fit(X_train['processed_review'], y_train)\n",
        "\n",
        "# Predict on the test data\n",
        "y_pred = calibrated_pipeline.predict(X_test['processed_review'])\n",
        "\n",
        "# Calculate the accuracy\n",
        "acc = accuracy_score(y_test, y_pred)\n",
        "print(f\"Accuracy: {acc:.3f}\")\n"
      ]
    }
  ],
  "metadata": {
    "kernelspec": {
      "display_name": "base",
      "language": "python",
      "name": "python3"
    },
    "language_info": {
      "codemirror_mode": {
        "name": "ipython",
        "version": 3
      },
      "file_extension": ".py",
      "mimetype": "text/x-python",
      "name": "python",
      "nbconvert_exporter": "python",
      "pygments_lexer": "ipython3",
      "version": "3.9.13"
    },
    "orig_nbformat": 4,
    "colab": {
      "provenance": []
    }
  },
  "nbformat": 4,
  "nbformat_minor": 0
}