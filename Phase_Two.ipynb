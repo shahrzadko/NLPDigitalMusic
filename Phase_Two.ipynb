{
 "cells": [
  {
   "cell_type": "code",
   "execution_count": 1,
   "metadata": {},
   "outputs": [
    {
     "name": "stderr",
     "output_type": "stream",
     "text": [
      "[nltk_data] Downloading package stopwords to\n",
      "[nltk_data]     C:\\Users\\98936\\AppData\\Roaming\\nltk_data...\n",
      "[nltk_data]   Package stopwords is already up-to-date!\n",
      "[nltk_data] Downloading package wordnet to\n",
      "[nltk_data]     C:\\Users\\98936\\AppData\\Roaming\\nltk_data...\n",
      "[nltk_data]   Package wordnet is already up-to-date!\n",
      "[nltk_data] Downloading package genesis to\n",
      "[nltk_data]     C:\\Users\\98936\\AppData\\Roaming\\nltk_data...\n",
      "[nltk_data]   Package genesis is already up-to-date!\n",
      "[nltk_data] Downloading package averaged_perceptron_tagger to\n",
      "[nltk_data]     C:\\Users\\98936\\AppData\\Roaming\\nltk_data...\n",
      "[nltk_data]   Package averaged_perceptron_tagger is already up-to-\n",
      "[nltk_data]       date!\n",
      "[nltk_data] Downloading package punkt to\n",
      "[nltk_data]     C:\\Users\\98936\\AppData\\Roaming\\nltk_data...\n",
      "[nltk_data]   Package punkt is already up-to-date!\n",
      "[nltk_data] Downloading package brown to\n",
      "[nltk_data]     C:\\Users\\98936\\AppData\\Roaming\\nltk_data...\n",
      "[nltk_data]   Package brown is already up-to-date!\n"
     ]
    },
    {
     "data": {
      "text/plain": [
       "True"
      ]
     },
     "execution_count": 1,
     "metadata": {},
     "output_type": "execute_result"
    }
   ],
   "source": [
    "import pandas as pd\n",
    "import numpy as np\n",
    "import matplotlib.pyplot as plt\n",
    "import gzip\n",
    "import nltk\n",
    "import spacy\n",
    "import string\n",
    "import re\n",
    "import warnings\n",
    "\n",
    "from nltk.corpus import stopwords\n",
    "from nltk.collocations import *\n",
    "from collections import Counter\n",
    "from nltk.stem import porter\n",
    "from wordcloud import WordCloud, STOPWORDS\n",
    "from nltk.tokenize import word_tokenize\n",
    "\n",
    "\n",
    "nltk.download('stopwords')\n",
    "nltk.download('wordnet')\n",
    "nltk.download('genesis')\n",
    "nltk.download('averaged_perceptron_tagger')\n",
    "\n",
    "stop_words = set(stopwords.words('english'))\n",
    "stemmer = porter.PorterStemmer()\n",
    "\n",
    "warnings.simplefilter(action='ignore', category=FutureWarning)\n",
    "warnings.simplefilter(action='ignore', category=DeprecationWarning)\n",
    "\n",
    "nlp = spacy.load(\"en_core_web_sm\")\n",
    "\n",
    "nltk.download('punkt')\n",
    "nltk.download('brown')"
   ]
  },
  {
   "cell_type": "code",
   "execution_count": 2,
   "metadata": {},
   "outputs": [],
   "source": [
    "# Importing the dataset\n",
    "url = 'https://raw.githubusercontent.com/shahrzadko/NLPDigitalMusic/main/Digital_Music_5.json?token=GHSAT0AAAAAAB6LOL42SKHPCCMIVYPOC4REY7AKE2Q'\n",
    "df_raw = pd.read_json(url)\n",
    "full_df = pd.DataFrame.from_records(df_raw['data'])"
   ]
  },
  {
   "cell_type": "code",
   "execution_count": 3,
   "metadata": {},
   "outputs": [],
   "source": [
    "#creating Sentiment column with overall rating\n",
    "full_df['Sentiment'] = np.where((full_df['overall'] > 3), 'Positive', \n",
    "                          np.where((full_df['overall'] < 3), 'Negative', 'Neutral'))\n"
   ]
  },
  {
   "cell_type": "code",
   "execution_count": 4,
   "metadata": {},
   "outputs": [
    {
     "data": {
      "text/plain": [
       "Positive    158985\n",
       "Neutral       6792\n",
       "Negative      4004\n",
       "Name: Sentiment, dtype: int64"
      ]
     },
     "execution_count": 4,
     "metadata": {},
     "output_type": "execute_result"
    }
   ],
   "source": [
    "#showing that the data is not balanced\n",
    "full_df['Sentiment'].value_counts() "
   ]
  },
  {
   "cell_type": "code",
   "execution_count": 5,
   "metadata": {},
   "outputs": [],
   "source": [
    "#creating  'NewReview'  column using  'reviewText' and 'summary' columns\n",
    "cols = ['reviewText','summary']\n",
    "full_df['NewReview'] = full_df[cols].apply(lambda row: ' '.join(row.values.astype(str)), axis=1)\n",
    "full_df['NewReview'] = full_df['NewReview'].astype(str)\n",
    "full_df['review_length'] = full_df['NewReview'].apply(lambda x: len(x.split()))"
   ]
  },
  {
   "cell_type": "code",
   "execution_count": 6,
   "metadata": {},
   "outputs": [],
   "source": [
    "music_df_sample = full_df.drop(columns=['vote','image','reviewTime','style','reviewerName','unixReviewTime','summary','reviewText'])"
   ]
  },
  {
   "cell_type": "code",
   "execution_count": 7,
   "metadata": {},
   "outputs": [],
   "source": [
    "#dropping rows if the review is not verified\n",
    "music_df_sample = music_df_sample[music_df_sample.verified == True]\n",
    "\n",
    "#dropping rows if the reviewer generally gives very negative reviews\n",
    "df_filtered = music_df_sample.groupby('reviewerID').filter(lambda x: not((x['overall'].count() >= 10) and (x['overall'].mean() <= 2)))\n",
    "\n",
    "#dropping rows if the review is too short\n",
    "#df_filtered = df_filtered[df_filtered['review_length'] >= 6]\n"
   ]
  },
  {
   "cell_type": "code",
   "execution_count": 8,
   "metadata": {},
   "outputs": [
    {
     "data": {
      "text/plain": [
       "Positive    141104\n",
       "Neutral       5396\n",
       "Negative      2093\n",
       "Name: Sentiment, dtype: int64"
      ]
     },
     "execution_count": 8,
     "metadata": {},
     "output_type": "execute_result"
    }
   ],
   "source": [
    "#checking the values of Sentiment to creat a sample data\n",
    "df_filtered['Sentiment'].value_counts() "
   ]
  },
  {
   "cell_type": "code",
   "execution_count": 9,
   "metadata": {},
   "outputs": [],
   "source": [
    "#creating sample using equal number of each sentiment\n",
    "sample_size = min(df_filtered['Sentiment'].value_counts())\n",
    "df_sample = df_filtered.groupby('Sentiment').apply(lambda x: x.sample(sample_size)).reset_index(drop=True)"
   ]
  },
  {
   "cell_type": "code",
   "execution_count": 10,
   "metadata": {},
   "outputs": [
    {
     "data": {
      "text/plain": [
       "Negative    2093\n",
       "Neutral     2093\n",
       "Positive    2093\n",
       "Name: Sentiment, dtype: int64"
      ]
     },
     "execution_count": 10,
     "metadata": {},
     "output_type": "execute_result"
    }
   ],
   "source": [
    "df_sample['Sentiment'].value_counts() "
   ]
  },
  {
   "cell_type": "code",
   "execution_count": 11,
   "metadata": {},
   "outputs": [
    {
     "data": {
      "text/html": [
       "<div>\n",
       "<style scoped>\n",
       "    .dataframe tbody tr th:only-of-type {\n",
       "        vertical-align: middle;\n",
       "    }\n",
       "\n",
       "    .dataframe tbody tr th {\n",
       "        vertical-align: top;\n",
       "    }\n",
       "\n",
       "    .dataframe thead th {\n",
       "        text-align: right;\n",
       "    }\n",
       "</style>\n",
       "<table border=\"1\" class=\"dataframe\">\n",
       "  <thead>\n",
       "    <tr style=\"text-align: right;\">\n",
       "      <th></th>\n",
       "      <th>overall</th>\n",
       "      <th>verified</th>\n",
       "      <th>reviewerID</th>\n",
       "      <th>asin</th>\n",
       "      <th>Sentiment</th>\n",
       "      <th>NewReview</th>\n",
       "      <th>review_length</th>\n",
       "    </tr>\n",
       "  </thead>\n",
       "  <tbody>\n",
       "    <tr>\n",
       "      <th>0</th>\n",
       "      <td>1.0</td>\n",
       "      <td>True</td>\n",
       "      <td>A16X18QH3TK8GV</td>\n",
       "      <td>B000W1W96K</td>\n",
       "      <td>Negative</td>\n",
       "      <td>This was a replacement CD and made the same er...</td>\n",
       "      <td>32</td>\n",
       "    </tr>\n",
       "    <tr>\n",
       "      <th>1</th>\n",
       "      <td>1.0</td>\n",
       "      <td>True</td>\n",
       "      <td>A56XVP4BQFWRC</td>\n",
       "      <td>B001KWGTRU</td>\n",
       "      <td>Negative</td>\n",
       "      <td>never ordered it One Star</td>\n",
       "      <td>5</td>\n",
       "    </tr>\n",
       "    <tr>\n",
       "      <th>2</th>\n",
       "      <td>2.0</td>\n",
       "      <td>True</td>\n",
       "      <td>AAHGICDEAR5AQ</td>\n",
       "      <td>B00137GGZC</td>\n",
       "      <td>Negative</td>\n",
       "      <td>It was an odd song... Two Stars</td>\n",
       "      <td>7</td>\n",
       "    </tr>\n",
       "    <tr>\n",
       "      <th>3</th>\n",
       "      <td>1.0</td>\n",
       "      <td>True</td>\n",
       "      <td>A357H3Y4DBHFJ7</td>\n",
       "      <td>B003Y3XTJO</td>\n",
       "      <td>Negative</td>\n",
       "      <td>Was a gift not my kind of music One Star</td>\n",
       "      <td>10</td>\n",
       "    </tr>\n",
       "    <tr>\n",
       "      <th>4</th>\n",
       "      <td>1.0</td>\n",
       "      <td>True</td>\n",
       "      <td>A3DG93E8TXMKZF</td>\n",
       "      <td>B001KOWH0G</td>\n",
       "      <td>Negative</td>\n",
       "      <td>This is NOT a piece of music.\\n\\nIt is only us...</td>\n",
       "      <td>49</td>\n",
       "    </tr>\n",
       "  </tbody>\n",
       "</table>\n",
       "</div>"
      ],
      "text/plain": [
       "   overall  verified      reviewerID        asin Sentiment  \\\n",
       "0      1.0      True  A16X18QH3TK8GV  B000W1W96K  Negative   \n",
       "1      1.0      True   A56XVP4BQFWRC  B001KWGTRU  Negative   \n",
       "2      2.0      True   AAHGICDEAR5AQ  B00137GGZC  Negative   \n",
       "3      1.0      True  A357H3Y4DBHFJ7  B003Y3XTJO  Negative   \n",
       "4      1.0      True  A3DG93E8TXMKZF  B001KOWH0G  Negative   \n",
       "\n",
       "                                           NewReview  review_length  \n",
       "0  This was a replacement CD and made the same er...             32  \n",
       "1                          never ordered it One Star              5  \n",
       "2                    It was an odd song... Two Stars              7  \n",
       "3           Was a gift not my kind of music One Star             10  \n",
       "4  This is NOT a piece of music.\\n\\nIt is only us...             49  "
      ]
     },
     "execution_count": 11,
     "metadata": {},
     "output_type": "execute_result"
    }
   ],
   "source": [
    "df_sample.head()"
   ]
  },
  {
   "cell_type": "code",
   "execution_count": 12,
   "metadata": {},
   "outputs": [],
   "source": [
    "#drop non-English comments\n",
    "from langdetect import detect\n",
    "\n",
    "def is_english(text):\n",
    "    try:\n",
    "        lang = detect(text)\n",
    "        return lang == 'en'\n",
    "    except:\n",
    "        return False\n",
    "\n",
    "df_sample = df_sample[df_sample['NewReview'].apply(is_english)]\n"
   ]
  },
  {
   "cell_type": "code",
   "execution_count": 13,
   "metadata": {},
   "outputs": [
    {
     "data": {
      "text/plain": [
       "Neutral     2029\n",
       "Positive    1981\n",
       "Negative    1903\n",
       "Name: Sentiment, dtype: int64"
      ]
     },
     "execution_count": 13,
     "metadata": {},
     "output_type": "execute_result"
    }
   ],
   "source": [
    "#checking the values of Sentiment after removing non-English reviews\n",
    "df_sample['Sentiment'].value_counts() "
   ]
  },
  {
   "cell_type": "code",
   "execution_count": 14,
   "metadata": {},
   "outputs": [],
   "source": [
    "df_sample = df_sample.drop(columns=['verified','overall','asin','reviewerID'])"
   ]
  },
  {
   "cell_type": "code",
   "execution_count": 15,
   "metadata": {},
   "outputs": [
    {
     "data": {
      "text/html": [
       "<div>\n",
       "<style scoped>\n",
       "    .dataframe tbody tr th:only-of-type {\n",
       "        vertical-align: middle;\n",
       "    }\n",
       "\n",
       "    .dataframe tbody tr th {\n",
       "        vertical-align: top;\n",
       "    }\n",
       "\n",
       "    .dataframe thead th {\n",
       "        text-align: right;\n",
       "    }\n",
       "</style>\n",
       "<table border=\"1\" class=\"dataframe\">\n",
       "  <thead>\n",
       "    <tr style=\"text-align: right;\">\n",
       "      <th></th>\n",
       "      <th>Sentiment</th>\n",
       "      <th>NewReview</th>\n",
       "      <th>review_length</th>\n",
       "    </tr>\n",
       "  </thead>\n",
       "  <tbody>\n",
       "    <tr>\n",
       "      <th>0</th>\n",
       "      <td>Negative</td>\n",
       "      <td>This was a replacement CD and made the same er...</td>\n",
       "      <td>32</td>\n",
       "    </tr>\n",
       "    <tr>\n",
       "      <th>2</th>\n",
       "      <td>Negative</td>\n",
       "      <td>It was an odd song... Two Stars</td>\n",
       "      <td>7</td>\n",
       "    </tr>\n",
       "    <tr>\n",
       "      <th>3</th>\n",
       "      <td>Negative</td>\n",
       "      <td>Was a gift not my kind of music One Star</td>\n",
       "      <td>10</td>\n",
       "    </tr>\n",
       "    <tr>\n",
       "      <th>4</th>\n",
       "      <td>Negative</td>\n",
       "      <td>This is NOT a piece of music.\\n\\nIt is only us...</td>\n",
       "      <td>49</td>\n",
       "    </tr>\n",
       "    <tr>\n",
       "      <th>5</th>\n",
       "      <td>Negative</td>\n",
       "      <td>GIFT PURCHASE Two Stars</td>\n",
       "      <td>4</td>\n",
       "    </tr>\n",
       "  </tbody>\n",
       "</table>\n",
       "</div>"
      ],
      "text/plain": [
       "  Sentiment                                          NewReview  review_length\n",
       "0  Negative  This was a replacement CD and made the same er...             32\n",
       "2  Negative                    It was an odd song... Two Stars              7\n",
       "3  Negative           Was a gift not my kind of music One Star             10\n",
       "4  Negative  This is NOT a piece of music.\\n\\nIt is only us...             49\n",
       "5  Negative                            GIFT PURCHASE Two Stars              4"
      ]
     },
     "execution_count": 15,
     "metadata": {},
     "output_type": "execute_result"
    }
   ],
   "source": [
    "df_sample.head()"
   ]
  },
  {
   "cell_type": "code",
   "execution_count": 16,
   "metadata": {},
   "outputs": [],
   "source": [
    "from nltk.corpus import stopwords\n",
    "from nltk.stem import PorterStemmer, WordNetLemmatizer\n",
    "import string\n",
    "\n",
    "# Initialize stopwords\n",
    "STOPWORDS = set(stopwords.words('english'))\n",
    "\n",
    "# Convert NewReview to lowercase\n",
    "df_sample['NewReview'] = df_sample['NewReview'].str.lower()\n",
    "\n",
    "# Remove punctuation from NewReview\n",
    "#df_sample['NewReview'] = df_sample['NewReview'].str.translate(str.maketrans(\"\", \"\", string.punctuation))\n",
    "\n",
    "# Remove URLs from NewReview\n",
    "df_sample['NewReview'] = df_sample['NewReview'].str.replace(r'^http\\://[a-zA-Z0-9\\-\\.]+\\.[a-zA-Z]{2,3}(/\\S*)?$', '', regex=True)\n",
    "\n",
    "# Remove currency symbols from NewReview\n",
    "df_sample['NewReview'] = df_sample['NewReview'].str.replace(r'£|\\$', '', regex=True)\n",
    "\n",
    "# Remove phone numbers from NewReview\n",
    "df_sample['NewReview'] = df_sample['NewReview'].str.replace(r'^\\(?[\\d]{3}\\)?[\\s-]?[\\d]{3}[\\s-]?[\\d]{4}$', '', regex=True)\n",
    "\n",
    "# Remove digits from NewReview\n",
    "df_sample['NewReview'] = df_sample['NewReview'].str.replace(r'\\d+', '', regex=True)\n",
    "\n",
    "# Remove email addresses from NewReview\n",
    "df_sample['NewReview'] = df_sample['NewReview'].str.replace(r'^.+@[^\\.].*\\.[a-z]{2,}$', '', regex=True)\n",
    "\n",
    "# Remove special characters from NewReview\n",
    "df_sample['NewReview'] = df_sample['NewReview'].str.replace(r'\\'|“|’', '', regex=True)\n",
    "\n",
    "# Remove stopwords from NewReview\n",
    "df_sample['NewReview'] = df_sample['NewReview'].apply(lambda x: \" \".join([word for word in x.split() if word.lower() not in STOPWORDS]))\n",
    "\n",
    "#remove urls\n",
    "df_sample['NewReview'] = df_sample['NewReview'].apply(lambda x: '' if pd.isna(x) or not isinstance(x, str) else x)\n",
    "df_sample['NewReview'] = df_sample['NewReview'].apply(lambda x: re.sub(r'http\\S+', '', x))"
   ]
  },
  {
   "cell_type": "code",
   "execution_count": 17,
   "metadata": {},
   "outputs": [],
   "source": [
    "lemmatizer = WordNetLemmatizer()\n",
    "stemmer = PorterStemmer()\n",
    "\n",
    "# define a function to perform lemmatization, stemming, and tokenization\n",
    "def process_text(text):\n",
    "    # tokenize the text into words\n",
    "    words = word_tokenize(text.lower())\n",
    "    \n",
    "    # apply lemmatization and stemming to each word\n",
    "    lemmatized_words = [lemmatizer.lemmatize(word) for word in words]\n",
    "    stemmed_words = [stemmer.stem(word) for word in lemmatized_words]\n",
    "    \n",
    "    # return the list of processed words as a string\n",
    "    return ' '.join(stemmed_words)\n",
    "\n",
    "# apply the function to the NewReview column\n",
    "df_sample['processed_review'] = df_sample['NewReview'].apply(process_text)"
   ]
  },
  {
   "cell_type": "code",
   "execution_count": 18,
   "metadata": {},
   "outputs": [
    {
     "data": {
      "text/html": [
       "<div>\n",
       "<style scoped>\n",
       "    .dataframe tbody tr th:only-of-type {\n",
       "        vertical-align: middle;\n",
       "    }\n",
       "\n",
       "    .dataframe tbody tr th {\n",
       "        vertical-align: top;\n",
       "    }\n",
       "\n",
       "    .dataframe thead th {\n",
       "        text-align: right;\n",
       "    }\n",
       "</style>\n",
       "<table border=\"1\" class=\"dataframe\">\n",
       "  <thead>\n",
       "    <tr style=\"text-align: right;\">\n",
       "      <th></th>\n",
       "      <th>Sentiment</th>\n",
       "      <th>NewReview</th>\n",
       "      <th>review_length</th>\n",
       "      <th>processed_review</th>\n",
       "    </tr>\n",
       "  </thead>\n",
       "  <tbody>\n",
       "    <tr>\n",
       "      <th>0</th>\n",
       "      <td>Negative</td>\n",
       "      <td>replacement cd made error time. time asking re...</td>\n",
       "      <td>32</td>\n",
       "      <td>replac cd made error time . time ask refund . ...</td>\n",
       "    </tr>\n",
       "    <tr>\n",
       "      <th>2</th>\n",
       "      <td>Negative</td>\n",
       "      <td>odd song... two stars</td>\n",
       "      <td>7</td>\n",
       "      <td>odd song ... two star</td>\n",
       "    </tr>\n",
       "    <tr>\n",
       "      <th>3</th>\n",
       "      <td>Negative</td>\n",
       "      <td>gift kind music one star</td>\n",
       "      <td>10</td>\n",
       "      <td>gift kind music one star</td>\n",
       "    </tr>\n",
       "    <tr>\n",
       "      <th>4</th>\n",
       "      <td>Negative</td>\n",
       "      <td>piece music. used tuning orchestra instrument....</td>\n",
       "      <td>49</td>\n",
       "      <td>piec music . use tune orchestra instrument . u...</td>\n",
       "    </tr>\n",
       "    <tr>\n",
       "      <th>5</th>\n",
       "      <td>Negative</td>\n",
       "      <td>gift purchase two stars</td>\n",
       "      <td>4</td>\n",
       "      <td>gift purchas two star</td>\n",
       "    </tr>\n",
       "  </tbody>\n",
       "</table>\n",
       "</div>"
      ],
      "text/plain": [
       "  Sentiment                                          NewReview  review_length  \\\n",
       "0  Negative  replacement cd made error time. time asking re...             32   \n",
       "2  Negative                              odd song... two stars              7   \n",
       "3  Negative                           gift kind music one star             10   \n",
       "4  Negative  piece music. used tuning orchestra instrument....             49   \n",
       "5  Negative                            gift purchase two stars              4   \n",
       "\n",
       "                                    processed_review  \n",
       "0  replac cd made error time . time ask refund . ...  \n",
       "2                              odd song ... two star  \n",
       "3                           gift kind music one star  \n",
       "4  piec music . use tune orchestra instrument . u...  \n",
       "5                              gift purchas two star  "
      ]
     },
     "execution_count": 18,
     "metadata": {},
     "output_type": "execute_result"
    }
   ],
   "source": [
    "df_sample.head()"
   ]
  },
  {
   "cell_type": "code",
   "execution_count": 19,
   "metadata": {},
   "outputs": [],
   "source": [
    "df_sample = df_sample.drop(columns=['NewReview'])"
   ]
  },
  {
   "cell_type": "code",
   "execution_count": 20,
   "metadata": {},
   "outputs": [],
   "source": [
    "#handeling negation \n",
    "import re\n",
    "\n",
    "# Define a function to handle negation in a sentence\n",
    "def handle_negation(sentence):\n",
    "    # Define a list of negation words\n",
    "    negation_words = ['not', 'no', 'never', 'neither', 'nor']\n",
    "    # Split the sentence into words\n",
    "    words = sentence.split()\n",
    "    # Initialize a flag to keep track of negation\n",
    "    negation = False\n",
    "    # Iterate over the words and add \"NOT_\" prefix to words that follow negation words\n",
    "    for i in range(len(words)):\n",
    "        if negation:\n",
    "            words[i] = \"NOT_\" + words[i]\n",
    "        if words[i].lower() in negation_words:\n",
    "            negation = not negation\n",
    "        if re.search('[.?!,;:]', words[i]):\n",
    "            negation = False\n",
    "    # Join the words back into a sentence\n",
    "    return ' '.join(words)\n",
    "    \n",
    "# Apply the function to the processed_review column\n",
    "df_sample['processed_review'] = df_sample['processed_review'].apply(handle_negation)"
   ]
  },
  {
   "cell_type": "code",
   "execution_count": 21,
   "metadata": {},
   "outputs": [
    {
     "data": {
      "text/html": [
       "<div>\n",
       "<style scoped>\n",
       "    .dataframe tbody tr th:only-of-type {\n",
       "        vertical-align: middle;\n",
       "    }\n",
       "\n",
       "    .dataframe tbody tr th {\n",
       "        vertical-align: top;\n",
       "    }\n",
       "\n",
       "    .dataframe thead th {\n",
       "        text-align: right;\n",
       "    }\n",
       "</style>\n",
       "<table border=\"1\" class=\"dataframe\">\n",
       "  <thead>\n",
       "    <tr style=\"text-align: right;\">\n",
       "      <th></th>\n",
       "      <th>Sentiment</th>\n",
       "      <th>review_length</th>\n",
       "      <th>processed_review</th>\n",
       "    </tr>\n",
       "  </thead>\n",
       "  <tbody>\n",
       "    <tr>\n",
       "      <th>0</th>\n",
       "      <td>Negative</td>\n",
       "      <td>32</td>\n",
       "      <td>replac cd made error time . time ask refund . ...</td>\n",
       "    </tr>\n",
       "    <tr>\n",
       "      <th>2</th>\n",
       "      <td>Negative</td>\n",
       "      <td>7</td>\n",
       "      <td>odd song ... two star</td>\n",
       "    </tr>\n",
       "    <tr>\n",
       "      <th>3</th>\n",
       "      <td>Negative</td>\n",
       "      <td>10</td>\n",
       "      <td>gift kind music one star</td>\n",
       "    </tr>\n",
       "    <tr>\n",
       "      <th>4</th>\n",
       "      <td>Negative</td>\n",
       "      <td>49</td>\n",
       "      <td>piec music . use tune orchestra instrument . u...</td>\n",
       "    </tr>\n",
       "    <tr>\n",
       "      <th>5</th>\n",
       "      <td>Negative</td>\n",
       "      <td>4</td>\n",
       "      <td>gift purchas two star</td>\n",
       "    </tr>\n",
       "  </tbody>\n",
       "</table>\n",
       "</div>"
      ],
      "text/plain": [
       "  Sentiment  review_length                                   processed_review\n",
       "0  Negative             32  replac cd made error time . time ask refund . ...\n",
       "2  Negative              7                              odd song ... two star\n",
       "3  Negative             10                           gift kind music one star\n",
       "4  Negative             49  piec music . use tune orchestra instrument . u...\n",
       "5  Negative              4                              gift purchas two star"
      ]
     },
     "execution_count": 21,
     "metadata": {},
     "output_type": "execute_result"
    }
   ],
   "source": [
    "df_sample.head()"
   ]
  },
  {
   "cell_type": "code",
   "execution_count": 22,
   "metadata": {},
   "outputs": [],
   "source": [
    "X = df_sample.drop(columns=['Sentiment'])\n",
    "y = df_sample['Sentiment']"
   ]
  },
  {
   "cell_type": "code",
   "execution_count": 28,
   "metadata": {},
   "outputs": [],
   "source": [
    "from sklearn.feature_extraction.text import TfidfVectorizer\n",
    "from sklearn.naive_bayes import MultinomialNB\n",
    "from sklearn.model_selection import train_test_split\n",
    "from sklearn.metrics import accuracy_score\n",
    "from sklearn.pipeline import Pipeline\n",
    "from sklearn.linear_model import LogisticRegression\n",
    "from sklearn.metrics import accuracy_score\n",
    "from sklearn.model_selection import train_test_split\n",
    "from sklearn.feature_extraction.text import CountVectorizer\n",
    "from sklearn.pipeline import make_pipeline\n",
    "from sklearn.preprocessing import StandardScaler"
   ]
  },
  {
   "cell_type": "code",
   "execution_count": 25,
   "metadata": {},
   "outputs": [],
   "source": [
    "# Split the data into training and testing sets with stratified sampling\n",
    "X_train, X_test, y_train, y_test = train_test_split(X, y, test_size=0.3, stratify=y, random_state=42)"
   ]
  },
  {
   "attachments": {},
   "cell_type": "markdown",
   "metadata": {},
   "source": [
    "TfidfVectorizer / Naive Bayes"
   ]
  },
  {
   "cell_type": "code",
   "execution_count": 26,
   "metadata": {},
   "outputs": [
    {
     "name": "stdout",
     "output_type": "stream",
     "text": [
      "Accuracy: 0.792\n"
     ]
    }
   ],
   "source": [
    "\n",
    "\n",
    "# Define the features and target\n",
    "X = df_sample[['processed_review', 'review_length']]\n",
    "y = df_sample['Sentiment']\n",
    "\n",
    "# Split the data into training and testing sets with stratified sampling\n",
    "X_train, X_test, y_train, y_test = train_test_split(X, y, test_size=0.2, stratify=y, random_state=42)\n",
    "\n",
    "# Define the pipeline\n",
    "pipeline = Pipeline([\n",
    "    ('tfidf', TfidfVectorizer()),\n",
    "    ('nb', MultinomialNB())\n",
    "])\n",
    "\n",
    "# Fit the pipeline on the training data\n",
    "pipeline.fit(X_train['processed_review'], y_train)\n",
    "\n",
    "# Predict on the test data\n",
    "y_pred = pipeline.predict(X_test['processed_review'])\n",
    "\n",
    "# Calculate the accuracy\n",
    "acc = accuracy_score(y_test, y_pred)\n",
    "print(f\"Accuracy: {acc:.3f}\")\n"
   ]
  },
  {
   "attachments": {},
   "cell_type": "markdown",
   "metadata": {},
   "source": [
    "Count Vectorizer / Naive Bayse"
   ]
  },
  {
   "cell_type": "code",
   "execution_count": 29,
   "metadata": {},
   "outputs": [
    {
     "name": "stdout",
     "output_type": "stream",
     "text": [
      "Accuracy: 0.7886728655959425\n"
     ]
    }
   ],
   "source": [
    "\n",
    "# Define CountVectorizer\n",
    "count_vectorizer = CountVectorizer()\n",
    "\n",
    "# Define Naive Bayes classifier\n",
    "nb_classifier = MultinomialNB()\n",
    "\n",
    "# Combine CountVectorizer and Naive Bayes classifier into a pipeline\n",
    "pipeline = Pipeline([\n",
    "    ('vectorizer', count_vectorizer),\n",
    "    ('classifier', nb_classifier)\n",
    "])\n",
    "\n",
    "# Fit the pipeline on the training data\n",
    "pipeline.fit(X_train['processed_review'], y_train)\n",
    "\n",
    "# Make predictions on the test data\n",
    "y_pred = pipeline.predict(X_test['processed_review'])\n",
    "\n",
    "# Calculate accuracy\n",
    "accuracy = accuracy_score(y_test, y_pred)\n",
    "\n",
    "print(f\"Accuracy: {accuracy}\")\n"
   ]
  },
  {
   "cell_type": "code",
   "execution_count": 30,
   "metadata": {},
   "outputs": [
    {
     "name": "stdout",
     "output_type": "stream",
     "text": [
      "Accuracy: 0.7709213863060017\n"
     ]
    },
    {
     "name": "stderr",
     "output_type": "stream",
     "text": [
      "c:\\Users\\98936\\anaconda3\\lib\\site-packages\\sklearn\\linear_model\\_logistic.py:814: ConvergenceWarning: lbfgs failed to converge (status=1):\n",
      "STOP: TOTAL NO. of ITERATIONS REACHED LIMIT.\n",
      "\n",
      "Increase the number of iterations (max_iter) or scale the data as shown in:\n",
      "    https://scikit-learn.org/stable/modules/preprocessing.html\n",
      "Please also refer to the documentation for alternative solver options:\n",
      "    https://scikit-learn.org/stable/modules/linear_model.html#logistic-regression\n",
      "  n_iter_i = _check_optimize_result(\n"
     ]
    }
   ],
   "source": [
    "# Define the pipeline\n",
    "model = make_pipeline(\n",
    "    CountVectorizer(),\n",
    "    StandardScaler(with_mean=False),\n",
    "    LogisticRegression(random_state=42)\n",
    ")\n",
    "\n",
    "# Fit the model to the training data\n",
    "model.fit(X_train['processed_review'], y_train)\n",
    "\n",
    "# Predict the sentiment of the test data\n",
    "y_pred = model.predict(X_test['processed_review'])\n",
    "\n",
    "# Evaluate the accuracy of the model\n",
    "accuracy = accuracy_score(y_test, y_pred)\n",
    "print(f\"Accuracy: {accuracy}\")"
   ]
  },
  {
   "cell_type": "code",
   "execution_count": null,
   "metadata": {},
   "outputs": [],
   "source": []
  }
 ],
 "metadata": {
  "kernelspec": {
   "display_name": "base",
   "language": "python",
   "name": "python3"
  },
  "language_info": {
   "codemirror_mode": {
    "name": "ipython",
    "version": 3
   },
   "file_extension": ".py",
   "mimetype": "text/x-python",
   "name": "python",
   "nbconvert_exporter": "python",
   "pygments_lexer": "ipython3",
   "version": "3.9.13"
  },
  "orig_nbformat": 4
 },
 "nbformat": 4,
 "nbformat_minor": 2
}
