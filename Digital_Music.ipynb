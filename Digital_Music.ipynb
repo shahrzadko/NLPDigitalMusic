{
  "cells": [
    {
      "cell_type": "markdown",
      "metadata": {
        "id": "wXUHxfvjHrxp"
      },
      "source": [
        "# 1. Dataset & Data exploration "
      ]
    },
    {
      "cell_type": "markdown",
      "metadata": {
        "id": "p4-6gMdGHrxr"
      },
      "source": [
        "### Import libraries"
      ]
    },
    {
      "cell_type": "code",
      "execution_count": 1,
      "metadata": {
        "colab": {
          "base_uri": "https://localhost:8080/"
        },
        "id": "kkybWHgCHrxr",
        "outputId": "5ab10745-89ac-4d09-d912-c74d254fa9fd"
      },
      "outputs": [
        {
          "output_type": "stream",
          "name": "stderr",
          "text": [
            "/usr/local/lib/python3.8/dist-packages/torch/cuda/__init__.py:497: UserWarning: Can't initialize NVML\n",
            "  warnings.warn(\"Can't initialize NVML\")\n",
            "[nltk_data] Downloading package stopwords to /root/nltk_data...\n",
            "[nltk_data]   Package stopwords is already up-to-date!\n",
            "[nltk_data] Downloading package wordnet to /root/nltk_data...\n",
            "[nltk_data]   Package wordnet is already up-to-date!\n",
            "[nltk_data] Downloading package genesis to /root/nltk_data...\n",
            "[nltk_data]   Package genesis is already up-to-date!\n",
            "[nltk_data] Downloading package averaged_perceptron_tagger to\n",
            "[nltk_data]     /root/nltk_data...\n",
            "[nltk_data]   Package averaged_perceptron_tagger is already up-to-\n",
            "[nltk_data]       date!\n",
            "[nltk_data] Downloading package punkt to /root/nltk_data...\n",
            "[nltk_data]   Unzipping tokenizers/punkt.zip.\n",
            "[nltk_data] Downloading package brown to /root/nltk_data...\n",
            "[nltk_data]   Unzipping corpora/brown.zip.\n"
          ]
        },
        {
          "output_type": "execute_result",
          "data": {
            "text/plain": [
              "True"
            ]
          },
          "metadata": {},
          "execution_count": 1
        }
      ],
      "source": [
        "import pandas as pd\n",
        "import numpy as np\n",
        "import matplotlib.pyplot as plt\n",
        "import gzip\n",
        "import nltk\n",
        "import spacy\n",
        "import string\n",
        "import re\n",
        "import warnings\n",
        "\n",
        "from nltk.corpus import stopwords\n",
        "from nltk.collocations import *\n",
        "from collections import Counter\n",
        "from nltk.stem import porter\n",
        "from wordcloud import WordCloud, STOPWORDS\n",
        "\n",
        "nltk.download('stopwords')\n",
        "nltk.download('wordnet')\n",
        "nltk.download('genesis')\n",
        "nltk.download('averaged_perceptron_tagger')\n",
        "\n",
        "stop_words = set(stopwords.words('english'))\n",
        "stemmer = porter.PorterStemmer()\n",
        "\n",
        "warnings.simplefilter(action='ignore', category=FutureWarning)\n",
        "warnings.simplefilter(action='ignore', category=DeprecationWarning)\n",
        "\n",
        "nlp = spacy.load(\"en_core_web_sm\")\n",
        "\n",
        "nltk.download('punkt')\n",
        "nltk.download('brown')"
      ]
    },
    {
      "cell_type": "markdown",
      "metadata": {
        "id": "KiYHzXeBJMBP"
      },
      "source": [
        "## Importing the dataset"
      ]
    },
    {
      "cell_type": "code",
      "execution_count": 2,
      "metadata": {
        "id": "7nDOeR2UHrxt"
      },
      "outputs": [],
      "source": [
        "# Importing the dataset\n",
        "url = 'https://raw.githubusercontent.com/shahrzadko/NLPDigitalMusic/main/Digital_Music_5.json?token=GHSAT0AAAAAAB6LOL42SKHPCCMIVYPOC4REY7AKE2Q'\n",
        "df_raw = pd.read_json(url)\n",
        "full_df = pd.DataFrame.from_records(df_raw['data'])\n"
      ]
    },
    {
      "cell_type": "code",
      "execution_count": 3,
      "metadata": {
        "colab": {
          "base_uri": "https://localhost:8080/",
          "height": 337
        },
        "id": "YWWA0cAjjMyD",
        "outputId": "d4e86e4f-ca43-43b9-d88b-675128d93d38"
      },
      "outputs": [
        {
          "output_type": "execute_result",
          "data": {
            "text/plain": [
              "   overall vote  verified   reviewTime      reviewerID        asin  \\\n",
              "0      5.0    3      True   06 3, 2013  A2TYZ821XXK2YZ  3426958910   \n",
              "1      5.0  NaN      True  10 11, 2014  A3OFSREZADFUDY  3426958910   \n",
              "2      5.0  NaN      True  02 11, 2014  A2VAMODP8M77NG  3426958910   \n",
              "3      4.0    3     False   12 7, 2013   AAKSLZ9IDTEH0  3426958910   \n",
              "4      5.0  NaN      True  06 12, 2016  A3OH43OZJLKI09  5557706259   \n",
              "\n",
              "                      style       reviewerName  \\\n",
              "0  {'Format:': ' Audio CD'}            Garrett   \n",
              "1  {'Format:': ' Audio CD'}                 Ad   \n",
              "2  {'Format:': ' Audio CD'}             JTGabq   \n",
              "3  {'Format:': ' Audio CD'}  john F&#039;n doe   \n",
              "4  {'Format:': ' Audio CD'}  melinda a goodman   \n",
              "\n",
              "                                          reviewText  \\\n",
              "0  This is awesome to listen to, A must-have for ...   \n",
              "1                                               bien   \n",
              "2  It was great to hear the old stuff again and I...   \n",
              "3  well best of's are a bit poison normally but t...   \n",
              "4  What can I say? This is Casting Crowns!!!This ...   \n",
              "\n",
              "                                             summary  unixReviewTime image  \n",
              "0                                      Slayer Rules!      1370217600   NaN  \n",
              "1                                         Five Stars      1412985600   NaN  \n",
              "2                        SLAYER!!!!!!!!!!!!!!!!!!!!!      1392076800   NaN  \n",
              "3  slayer greatest hits! you mean everything righ...      1386374400   NaN  \n",
              "4                    This is a good, blessing filled      1465689600   NaN  "
            ],
            "text/html": [
              "\n",
              "  <div id=\"df-fabcb177-67b3-4d05-86c8-9ae806031cf9\">\n",
              "    <div class=\"colab-df-container\">\n",
              "      <div>\n",
              "<style scoped>\n",
              "    .dataframe tbody tr th:only-of-type {\n",
              "        vertical-align: middle;\n",
              "    }\n",
              "\n",
              "    .dataframe tbody tr th {\n",
              "        vertical-align: top;\n",
              "    }\n",
              "\n",
              "    .dataframe thead th {\n",
              "        text-align: right;\n",
              "    }\n",
              "</style>\n",
              "<table border=\"1\" class=\"dataframe\">\n",
              "  <thead>\n",
              "    <tr style=\"text-align: right;\">\n",
              "      <th></th>\n",
              "      <th>overall</th>\n",
              "      <th>vote</th>\n",
              "      <th>verified</th>\n",
              "      <th>reviewTime</th>\n",
              "      <th>reviewerID</th>\n",
              "      <th>asin</th>\n",
              "      <th>style</th>\n",
              "      <th>reviewerName</th>\n",
              "      <th>reviewText</th>\n",
              "      <th>summary</th>\n",
              "      <th>unixReviewTime</th>\n",
              "      <th>image</th>\n",
              "    </tr>\n",
              "  </thead>\n",
              "  <tbody>\n",
              "    <tr>\n",
              "      <th>0</th>\n",
              "      <td>5.0</td>\n",
              "      <td>3</td>\n",
              "      <td>True</td>\n",
              "      <td>06 3, 2013</td>\n",
              "      <td>A2TYZ821XXK2YZ</td>\n",
              "      <td>3426958910</td>\n",
              "      <td>{'Format:': ' Audio CD'}</td>\n",
              "      <td>Garrett</td>\n",
              "      <td>This is awesome to listen to, A must-have for ...</td>\n",
              "      <td>Slayer Rules!</td>\n",
              "      <td>1370217600</td>\n",
              "      <td>NaN</td>\n",
              "    </tr>\n",
              "    <tr>\n",
              "      <th>1</th>\n",
              "      <td>5.0</td>\n",
              "      <td>NaN</td>\n",
              "      <td>True</td>\n",
              "      <td>10 11, 2014</td>\n",
              "      <td>A3OFSREZADFUDY</td>\n",
              "      <td>3426958910</td>\n",
              "      <td>{'Format:': ' Audio CD'}</td>\n",
              "      <td>Ad</td>\n",
              "      <td>bien</td>\n",
              "      <td>Five Stars</td>\n",
              "      <td>1412985600</td>\n",
              "      <td>NaN</td>\n",
              "    </tr>\n",
              "    <tr>\n",
              "      <th>2</th>\n",
              "      <td>5.0</td>\n",
              "      <td>NaN</td>\n",
              "      <td>True</td>\n",
              "      <td>02 11, 2014</td>\n",
              "      <td>A2VAMODP8M77NG</td>\n",
              "      <td>3426958910</td>\n",
              "      <td>{'Format:': ' Audio CD'}</td>\n",
              "      <td>JTGabq</td>\n",
              "      <td>It was great to hear the old stuff again and I...</td>\n",
              "      <td>SLAYER!!!!!!!!!!!!!!!!!!!!!</td>\n",
              "      <td>1392076800</td>\n",
              "      <td>NaN</td>\n",
              "    </tr>\n",
              "    <tr>\n",
              "      <th>3</th>\n",
              "      <td>4.0</td>\n",
              "      <td>3</td>\n",
              "      <td>False</td>\n",
              "      <td>12 7, 2013</td>\n",
              "      <td>AAKSLZ9IDTEH0</td>\n",
              "      <td>3426958910</td>\n",
              "      <td>{'Format:': ' Audio CD'}</td>\n",
              "      <td>john F&amp;#039;n doe</td>\n",
              "      <td>well best of's are a bit poison normally but t...</td>\n",
              "      <td>slayer greatest hits! you mean everything righ...</td>\n",
              "      <td>1386374400</td>\n",
              "      <td>NaN</td>\n",
              "    </tr>\n",
              "    <tr>\n",
              "      <th>4</th>\n",
              "      <td>5.0</td>\n",
              "      <td>NaN</td>\n",
              "      <td>True</td>\n",
              "      <td>06 12, 2016</td>\n",
              "      <td>A3OH43OZJLKI09</td>\n",
              "      <td>5557706259</td>\n",
              "      <td>{'Format:': ' Audio CD'}</td>\n",
              "      <td>melinda a goodman</td>\n",
              "      <td>What can I say? This is Casting Crowns!!!This ...</td>\n",
              "      <td>This is a good, blessing filled</td>\n",
              "      <td>1465689600</td>\n",
              "      <td>NaN</td>\n",
              "    </tr>\n",
              "  </tbody>\n",
              "</table>\n",
              "</div>\n",
              "      <button class=\"colab-df-convert\" onclick=\"convertToInteractive('df-fabcb177-67b3-4d05-86c8-9ae806031cf9')\"\n",
              "              title=\"Convert this dataframe to an interactive table.\"\n",
              "              style=\"display:none;\">\n",
              "        \n",
              "  <svg xmlns=\"http://www.w3.org/2000/svg\" height=\"24px\"viewBox=\"0 0 24 24\"\n",
              "       width=\"24px\">\n",
              "    <path d=\"M0 0h24v24H0V0z\" fill=\"none\"/>\n",
              "    <path d=\"M18.56 5.44l.94 2.06.94-2.06 2.06-.94-2.06-.94-.94-2.06-.94 2.06-2.06.94zm-11 1L8.5 8.5l.94-2.06 2.06-.94-2.06-.94L8.5 2.5l-.94 2.06-2.06.94zm10 10l.94 2.06.94-2.06 2.06-.94-2.06-.94-.94-2.06-.94 2.06-2.06.94z\"/><path d=\"M17.41 7.96l-1.37-1.37c-.4-.4-.92-.59-1.43-.59-.52 0-1.04.2-1.43.59L10.3 9.45l-7.72 7.72c-.78.78-.78 2.05 0 2.83L4 21.41c.39.39.9.59 1.41.59.51 0 1.02-.2 1.41-.59l7.78-7.78 2.81-2.81c.8-.78.8-2.07 0-2.86zM5.41 20L4 18.59l7.72-7.72 1.47 1.35L5.41 20z\"/>\n",
              "  </svg>\n",
              "      </button>\n",
              "      \n",
              "  <style>\n",
              "    .colab-df-container {\n",
              "      display:flex;\n",
              "      flex-wrap:wrap;\n",
              "      gap: 12px;\n",
              "    }\n",
              "\n",
              "    .colab-df-convert {\n",
              "      background-color: #E8F0FE;\n",
              "      border: none;\n",
              "      border-radius: 50%;\n",
              "      cursor: pointer;\n",
              "      display: none;\n",
              "      fill: #1967D2;\n",
              "      height: 32px;\n",
              "      padding: 0 0 0 0;\n",
              "      width: 32px;\n",
              "    }\n",
              "\n",
              "    .colab-df-convert:hover {\n",
              "      background-color: #E2EBFA;\n",
              "      box-shadow: 0px 1px 2px rgba(60, 64, 67, 0.3), 0px 1px 3px 1px rgba(60, 64, 67, 0.15);\n",
              "      fill: #174EA6;\n",
              "    }\n",
              "\n",
              "    [theme=dark] .colab-df-convert {\n",
              "      background-color: #3B4455;\n",
              "      fill: #D2E3FC;\n",
              "    }\n",
              "\n",
              "    [theme=dark] .colab-df-convert:hover {\n",
              "      background-color: #434B5C;\n",
              "      box-shadow: 0px 1px 3px 1px rgba(0, 0, 0, 0.15);\n",
              "      filter: drop-shadow(0px 1px 2px rgba(0, 0, 0, 0.3));\n",
              "      fill: #FFFFFF;\n",
              "    }\n",
              "  </style>\n",
              "\n",
              "      <script>\n",
              "        const buttonEl =\n",
              "          document.querySelector('#df-fabcb177-67b3-4d05-86c8-9ae806031cf9 button.colab-df-convert');\n",
              "        buttonEl.style.display =\n",
              "          google.colab.kernel.accessAllowed ? 'block' : 'none';\n",
              "\n",
              "        async function convertToInteractive(key) {\n",
              "          const element = document.querySelector('#df-fabcb177-67b3-4d05-86c8-9ae806031cf9');\n",
              "          const dataTable =\n",
              "            await google.colab.kernel.invokeFunction('convertToInteractive',\n",
              "                                                     [key], {});\n",
              "          if (!dataTable) return;\n",
              "\n",
              "          const docLinkHtml = 'Like what you see? Visit the ' +\n",
              "            '<a target=\"_blank\" href=https://colab.research.google.com/notebooks/data_table.ipynb>data table notebook</a>'\n",
              "            + ' to learn more about interactive tables.';\n",
              "          element.innerHTML = '';\n",
              "          dataTable['output_type'] = 'display_data';\n",
              "          await google.colab.output.renderOutput(dataTable, element);\n",
              "          const docLink = document.createElement('div');\n",
              "          docLink.innerHTML = docLinkHtml;\n",
              "          element.appendChild(docLink);\n",
              "        }\n",
              "      </script>\n",
              "    </div>\n",
              "  </div>\n",
              "  "
            ]
          },
          "metadata": {},
          "execution_count": 3
        }
      ],
      "source": [
        "full_df.head()"
      ]
    },
    {
      "cell_type": "markdown",
      "source": [
        "## exploration "
      ],
      "metadata": {
        "id": "fQegTCXtqyYK"
      }
    },
    {
      "cell_type": "code",
      "execution_count": 4,
      "metadata": {
        "colab": {
          "base_uri": "https://localhost:8080/"
        },
        "id": "FsmUejDzzZKg",
        "outputId": "1f7cd818-b997-476b-aab2-7d97e4f622ea"
      },
      "outputs": [
        {
          "output_type": "execute_result",
          "data": {
            "text/plain": [
              "count    169781.000000\n",
              "mean          4.700019\n",
              "std           0.713420\n",
              "min           1.000000\n",
              "25%           5.000000\n",
              "50%           5.000000\n",
              "75%           5.000000\n",
              "max           5.000000\n",
              "Name: overall, dtype: float64"
            ]
          },
          "metadata": {},
          "execution_count": 4
        }
      ],
      "source": [
        "full_df['overall'].describe()"
      ]
    },
    {
      "cell_type": "code",
      "execution_count": 5,
      "metadata": {
        "colab": {
          "base_uri": "https://localhost:8080/"
        },
        "id": "3W4u9VbGHrxv",
        "outputId": "81a930c5-2370-4d1b-a1df-f6637418a8db"
      },
      "outputs": [
        {
          "output_type": "stream",
          "name": "stdout",
          "text": [
            "- Number of reviews: 169781\n",
            "- Number of different products reviewed:  11797\n",
            "- Number of people who reviewed:  16566\n",
            "- max rating:  5.0\n",
            "- min rating:  1.0\n",
            "- avg rating:  4.700019436803883\n",
            "- First review:  1998-07-09\n",
            "- Last review:  2018-09-26\n"
          ]
        }
      ],
      "source": [
        "#Number of reviews\n",
        "print('- Number of reviews:', len(full_df))\n",
        "\n",
        "#Number of different products reviewed\n",
        "print('- Number of different products reviewed: ', len(full_df.asin.unique()))\n",
        "\n",
        "#Number of people who reviewed\n",
        "print('- Number of people who reviewed: ', len(full_df.reviewerID.unique()))\n",
        "\n",
        "#Reviews range and average\n",
        "print('- max rating: ', full_df.overall.max())\n",
        "print('- min rating: ', full_df.overall.min())\n",
        "print('- avg rating: ', full_df.overall.mean())\n",
        "\n",
        "#Time range\n",
        "start = pd.to_datetime(full_df['unixReviewTime'],unit='s').min().date()\n",
        "end = pd.to_datetime(full_df['unixReviewTime'],unit='s').max().date()\n",
        "\n",
        "print('- First review: ', start)\n",
        "print('- Last review: ', end)\n"
      ]
    },
    {
      "cell_type": "markdown",
      "source": [
        "Distribution of rating"
      ],
      "metadata": {
        "id": "Rh6i7WyZ4OHv"
      }
    },
    {
      "cell_type": "code",
      "source": [
        "ax = full_df.overall.hist(grid=False, bins=np.arange(0.75,5.75,0.5),figsize=(5,5))\n",
        "\n",
        "ax.set_xlabel(\"stars\")\n",
        "ax.set_ylabel(\"reiew counts\")"
      ],
      "metadata": {
        "colab": {
          "base_uri": "https://localhost:8080/",
          "height": 351
        },
        "id": "MD8Wqvsd4Lov",
        "outputId": "8ea75d1e-f6ee-42d5-d4bf-8701e740bac9"
      },
      "execution_count": 6,
      "outputs": [
        {
          "output_type": "execute_result",
          "data": {
            "text/plain": [
              "Text(0, 0.5, 'reiew counts')"
            ]
          },
          "metadata": {},
          "execution_count": 6
        },
        {
          "output_type": "display_data",
          "data": {
            "text/plain": [
              "<Figure size 360x360 with 1 Axes>"
            ],
            "image/png": "[encoded data removed]"
          },
          "metadata": {
            "needs_background": "light"
          }
        }
      ]
    },
    {
      "cell_type": "markdown",
      "source": [
        "Distribution of reviews per product"
      ],
      "metadata": {
        "id": "7-Rk7H9K4fMb"
      }
    },
    {
      "cell_type": "code",
      "source": [
        "reviews_per_asin = full_df.asin.value_counts()\n",
        "reviews_per_asin"
      ],
      "metadata": {
        "colab": {
          "base_uri": "https://localhost:8080/"
        },
        "id": "QG_j_sNf4oVD",
        "outputId": "1d1b9c0d-5c7d-444c-ecb5-f8b60f8eb10e"
      },
      "execution_count": 7,
      "outputs": [
        {
          "output_type": "execute_result",
          "data": {
            "text/plain": [
              "B00CZF8B68    574\n",
              "B00BWGHIHY    316\n",
              "B00136J7ZE    294\n",
              "B00EH49FRE    283\n",
              "B00136NUG6    262\n",
              "             ... \n",
              "B000W1S2WU      1\n",
              "B00125MGQI      1\n",
              "B001QET6G8      1\n",
              "B001664ADA      1\n",
              "B00138APMQ      1\n",
              "Name: asin, Length: 11797, dtype: int64"
            ]
          },
          "metadata": {},
          "execution_count": 7
        }
      ]
    },
    {
      "cell_type": "code",
      "source": [
        "print(\"reviews product-counts\")\n",
        "print(reviews_per_asin.value_counts())\n",
        "\n",
        "ax = reviews_per_asin.hist(log=True,grid=False,bins=200,figsize=(20,5))\n",
        "ax.set_xlabel(\"num of rewiews on that product\")\n",
        "ax.set_ylabel(\"product counts\")"
      ],
      "metadata": {
        "colab": {
          "base_uri": "https://localhost:8080/",
          "height": 577
        },
        "id": "9E69N1jp4vGT",
        "outputId": "0c03cd03-3cdd-4854-a0a3-e61d89dd4fbe"
      },
      "execution_count": 8,
      "outputs": [
        {
          "output_type": "stream",
          "name": "stdout",
          "text": [
            "reviews product-counts\n",
            "5      2072\n",
            "6      1506\n",
            "7      1050\n",
            "8       824\n",
            "9       684\n",
            "       ... \n",
            "146       1\n",
            "147       1\n",
            "148       1\n",
            "152       1\n",
            "574       1\n",
            "Name: asin, Length: 163, dtype: int64\n"
          ]
        },
        {
          "output_type": "execute_result",
          "data": {
            "text/plain": [
              "Text(0, 0.5, 'product counts')"
            ]
          },
          "metadata": {},
          "execution_count": 8
        },
        {
          "output_type": "display_data",
          "data": {
            "text/plain": [
              "<Figure size 1440x360 with 1 Axes>"
            ],
            "image/png": "[encoded data removed]"
          },
          "metadata": {
            "needs_background": "light"
          }
        }
      ]
    },
    {
      "cell_type": "markdown",
      "source": [
        "Distribution of reviews per user"
      ],
      "metadata": {
        "id": "DzM9JA9h4mCT"
      }
    },
    {
      "cell_type": "code",
      "source": [
        "reviews_per_user = full_df.reviewerID.value_counts()\n",
        "reviews_per_user"
      ],
      "metadata": {
        "colab": {
          "base_uri": "https://localhost:8080/"
        },
        "id": "1qL9SxVK4o0l",
        "outputId": "3c10a6ad-23d8-43bd-b327-1065fb17477a"
      },
      "execution_count": 9,
      "outputs": [
        {
          "output_type": "execute_result",
          "data": {
            "text/plain": [
              "A3W4D8XOGLWUN5    791\n",
              "A2H3JURQZOHVMB    314\n",
              "A36EDWL4F3AASU    223\n",
              "A165P3MOJV3OVZ    219\n",
              "AVKHYC2D7MD56     214\n",
              "                 ... \n",
              "A2VWLNEBMW4ITQ      2\n",
              "A2M4D98UYXMUZE      2\n",
              "A518S7KT78N51       2\n",
              "A25HR6FTWBQ2NZ      1\n",
              "A70WPHE33U5B        1\n",
              "Name: reviewerID, Length: 16566, dtype: int64"
            ]
          },
          "metadata": {},
          "execution_count": 9
        }
      ]
    },
    {
      "cell_type": "code",
      "source": [
        "print(\"reviews user-counts\")\n",
        "print(reviews_per_user.value_counts())\n",
        "\n",
        "ax = reviews_per_user.hist(log=True,grid=False,bins=200,figsize=(20,5))\n",
        "ax.set_xlabel(\"num of rewiews posted\")\n",
        "ax.set_ylabel(\"user counts\")\n"
      ],
      "metadata": {
        "colab": {
          "base_uri": "https://localhost:8080/",
          "height": 577
        },
        "id": "520UHrgs4vbg",
        "outputId": "b58e55da-c36a-42a2-8493-7cd8d061985a"
      },
      "execution_count": 10,
      "outputs": [
        {
          "output_type": "stream",
          "name": "stdout",
          "text": [
            "reviews user-counts\n",
            "5      4559\n",
            "6      2798\n",
            "7      1927\n",
            "8      1288\n",
            "9       974\n",
            "       ... \n",
            "101       1\n",
            "102       1\n",
            "314       1\n",
            "106       1\n",
            "791       1\n",
            "Name: reviewerID, Length: 125, dtype: int64\n"
          ]
        },
        {
          "output_type": "execute_result",
          "data": {
            "text/plain": [
              "Text(0, 0.5, 'user counts')"
            ]
          },
          "metadata": {},
          "execution_count": 10
        },
        {
          "output_type": "display_data",
          "data": {
            "text/plain": [
              "<Figure size 1440x360 with 1 Axes>"
            ],
            "image/png": "[encoded data removed]"
          },
          "metadata": {
            "needs_background": "light"
          }
        }
      ]
    },
    {
      "cell_type": "code",
      "source": [
        "import pandas as pd\n",
        "import matplotlib.pyplot as plt\n",
        "import seaborn as sns\n",
        "\n",
        "# Check the shape of the dataset\n",
        "print(\"Shape of the dataset:\", full_df.shape)\n",
        "\n",
        "# Check the distribution of ratings\n",
        "sns.countplot(x='overall', data=full_df)\n",
        "plt.title(\"Distribution of Ratings\")\n",
        "plt.show()\n",
        "\n",
        "# Check the top 10 most reviewed products\n",
        "top_products = full_df['asin'].value_counts().nlargest(10)\n",
        "plt.figure(figsize=(10,6))\n",
        "sns.barplot(x=top_products.index, y=top_products.values)\n",
        "plt.title(\"Top 10 Most Reviewed Products\")\n",
        "plt.xticks(rotation=90)\n",
        "plt.show()"
      ],
      "metadata": {
        "colab": {
          "base_uri": "https://localhost:8080/",
          "height": 745
        },
        "id": "HD5Rw94QmHob",
        "outputId": "e00a8620-b90c-4ddd-9cc3-52505437e4ae"
      },
      "execution_count": 11,
      "outputs": [
        {
          "output_type": "stream",
          "name": "stdout",
          "text": [
            "Shape of the dataset: (169781, 12)\n"
          ]
        },
        {
          "output_type": "display_data",
          "data": {
            "text/plain": [
              "<Figure size 432x288 with 1 Axes>"
            ],
            "image/png": "[encoded data removed]"
          },
          "metadata": {
            "needs_background": "light"
          }
        },
        {
          "output_type": "display_data",
          "data": {
            "text/plain": [
              "<Figure size 720x432 with 1 Axes>"
            ],
            "image/png": "[encoded data removed]"
          },
          "metadata": {
            "needs_background": "light"
          }
        }
      ]
    },
    {
      "cell_type": "markdown",
      "metadata": {
        "id": "Zmm3FZKJHrxt"
      },
      "source": [
        "# 2. Text basic pre-processing"
      ]
    },
    {
      "cell_type": "markdown",
      "metadata": {
        "id": "tt7_8x4QiIkx"
      },
      "source": [
        "## (Col:'Sentiment') based on the value of “rating of the product”:<br/> i. Ratings 4,5: Positive <br/>ii. Rating 3: Neutral <br/>iii. Ratings 1,2: Negative\n"
      ]
    },
    {
      "cell_type": "code",
      "execution_count": 12,
      "metadata": {
        "colab": {
          "base_uri": "https://localhost:8080/",
          "height": 337
        },
        "id": "asLcP4rxiHRv",
        "outputId": "a58260d0-bc90-4ddb-ea33-1077f371dc2b"
      },
      "outputs": [
        {
          "output_type": "execute_result",
          "data": {
            "text/plain": [
              "   overall vote  verified   reviewTime      reviewerID        asin  \\\n",
              "0      5.0    3      True   06 3, 2013  A2TYZ821XXK2YZ  3426958910   \n",
              "1      5.0  NaN      True  10 11, 2014  A3OFSREZADFUDY  3426958910   \n",
              "2      5.0  NaN      True  02 11, 2014  A2VAMODP8M77NG  3426958910   \n",
              "3      4.0    3     False   12 7, 2013   AAKSLZ9IDTEH0  3426958910   \n",
              "4      5.0  NaN      True  06 12, 2016  A3OH43OZJLKI09  5557706259   \n",
              "\n",
              "                      style       reviewerName  \\\n",
              "0  {'Format:': ' Audio CD'}            Garrett   \n",
              "1  {'Format:': ' Audio CD'}                 Ad   \n",
              "2  {'Format:': ' Audio CD'}             JTGabq   \n",
              "3  {'Format:': ' Audio CD'}  john F&#039;n doe   \n",
              "4  {'Format:': ' Audio CD'}  melinda a goodman   \n",
              "\n",
              "                                          reviewText  \\\n",
              "0  This is awesome to listen to, A must-have for ...   \n",
              "1                                               bien   \n",
              "2  It was great to hear the old stuff again and I...   \n",
              "3  well best of's are a bit poison normally but t...   \n",
              "4  What can I say? This is Casting Crowns!!!This ...   \n",
              "\n",
              "                                             summary  unixReviewTime image  \\\n",
              "0                                      Slayer Rules!      1370217600   NaN   \n",
              "1                                         Five Stars      1412985600   NaN   \n",
              "2                        SLAYER!!!!!!!!!!!!!!!!!!!!!      1392076800   NaN   \n",
              "3  slayer greatest hits! you mean everything righ...      1386374400   NaN   \n",
              "4                    This is a good, blessing filled      1465689600   NaN   \n",
              "\n",
              "  Sentiment  \n",
              "0  Positive  \n",
              "1  Positive  \n",
              "2  Positive  \n",
              "3  Positive  \n",
              "4  Positive  "
            ],
            "text/html": [
              "\n",
              "  <div id=\"df-c79eab0a-ff15-4d16-8eab-19de57d3929a\">\n",
              "    <div class=\"colab-df-container\">\n",
              "      <div>\n",
              "<style scoped>\n",
              "    .dataframe tbody tr th:only-of-type {\n",
              "        vertical-align: middle;\n",
              "    }\n",
              "\n",
              "    .dataframe tbody tr th {\n",
              "        vertical-align: top;\n",
              "    }\n",
              "\n",
              "    .dataframe thead th {\n",
              "        text-align: right;\n",
              "    }\n",
              "</style>\n",
              "<table border=\"1\" class=\"dataframe\">\n",
              "  <thead>\n",
              "    <tr style=\"text-align: right;\">\n",
              "      <th></th>\n",
              "      <th>overall</th>\n",
              "      <th>vote</th>\n",
              "      <th>verified</th>\n",
              "      <th>reviewTime</th>\n",
              "      <th>reviewerID</th>\n",
              "      <th>asin</th>\n",
              "      <th>style</th>\n",
              "      <th>reviewerName</th>\n",
              "      <th>reviewText</th>\n",
              "      <th>summary</th>\n",
              "      <th>unixReviewTime</th>\n",
              "      <th>image</th>\n",
              "      <th>Sentiment</th>\n",
              "    </tr>\n",
              "  </thead>\n",
              "  <tbody>\n",
              "    <tr>\n",
              "      <th>0</th>\n",
              "      <td>5.0</td>\n",
              "      <td>3</td>\n",
              "      <td>True</td>\n",
              "      <td>06 3, 2013</td>\n",
              "      <td>A2TYZ821XXK2YZ</td>\n",
              "      <td>3426958910</td>\n",
              "      <td>{'Format:': ' Audio CD'}</td>\n",
              "      <td>Garrett</td>\n",
              "      <td>This is awesome to listen to, A must-have for ...</td>\n",
              "      <td>Slayer Rules!</td>\n",
              "      <td>1370217600</td>\n",
              "      <td>NaN</td>\n",
              "      <td>Positive</td>\n",
              "    </tr>\n",
              "    <tr>\n",
              "      <th>1</th>\n",
              "      <td>5.0</td>\n",
              "      <td>NaN</td>\n",
              "      <td>True</td>\n",
              "      <td>10 11, 2014</td>\n",
              "      <td>A3OFSREZADFUDY</td>\n",
              "      <td>3426958910</td>\n",
              "      <td>{'Format:': ' Audio CD'}</td>\n",
              "      <td>Ad</td>\n",
              "      <td>bien</td>\n",
              "      <td>Five Stars</td>\n",
              "      <td>1412985600</td>\n",
              "      <td>NaN</td>\n",
              "      <td>Positive</td>\n",
              "    </tr>\n",
              "    <tr>\n",
              "      <th>2</th>\n",
              "      <td>5.0</td>\n",
              "      <td>NaN</td>\n",
              "      <td>True</td>\n",
              "      <td>02 11, 2014</td>\n",
              "      <td>A2VAMODP8M77NG</td>\n",
              "      <td>3426958910</td>\n",
              "      <td>{'Format:': ' Audio CD'}</td>\n",
              "      <td>JTGabq</td>\n",
              "      <td>It was great to hear the old stuff again and I...</td>\n",
              "      <td>SLAYER!!!!!!!!!!!!!!!!!!!!!</td>\n",
              "      <td>1392076800</td>\n",
              "      <td>NaN</td>\n",
              "      <td>Positive</td>\n",
              "    </tr>\n",
              "    <tr>\n",
              "      <th>3</th>\n",
              "      <td>4.0</td>\n",
              "      <td>3</td>\n",
              "      <td>False</td>\n",
              "      <td>12 7, 2013</td>\n",
              "      <td>AAKSLZ9IDTEH0</td>\n",
              "      <td>3426958910</td>\n",
              "      <td>{'Format:': ' Audio CD'}</td>\n",
              "      <td>john F&amp;#039;n doe</td>\n",
              "      <td>well best of's are a bit poison normally but t...</td>\n",
              "      <td>slayer greatest hits! you mean everything righ...</td>\n",
              "      <td>1386374400</td>\n",
              "      <td>NaN</td>\n",
              "      <td>Positive</td>\n",
              "    </tr>\n",
              "    <tr>\n",
              "      <th>4</th>\n",
              "      <td>5.0</td>\n",
              "      <td>NaN</td>\n",
              "      <td>True</td>\n",
              "      <td>06 12, 2016</td>\n",
              "      <td>A3OH43OZJLKI09</td>\n",
              "      <td>5557706259</td>\n",
              "      <td>{'Format:': ' Audio CD'}</td>\n",
              "      <td>melinda a goodman</td>\n",
              "      <td>What can I say? This is Casting Crowns!!!This ...</td>\n",
              "      <td>This is a good, blessing filled</td>\n",
              "      <td>1465689600</td>\n",
              "      <td>NaN</td>\n",
              "      <td>Positive</td>\n",
              "    </tr>\n",
              "  </tbody>\n",
              "</table>\n",
              "</div>\n",
              "      <button class=\"colab-df-convert\" onclick=\"convertToInteractive('df-c79eab0a-ff15-4d16-8eab-19de57d3929a')\"\n",
              "              title=\"Convert this dataframe to an interactive table.\"\n",
              "              style=\"display:none;\">\n",
              "        \n",
              "  <svg xmlns=\"http://www.w3.org/2000/svg\" height=\"24px\"viewBox=\"0 0 24 24\"\n",
              "       width=\"24px\">\n",
              "    <path d=\"M0 0h24v24H0V0z\" fill=\"none\"/>\n",
              "    <path d=\"M18.56 5.44l.94 2.06.94-2.06 2.06-.94-2.06-.94-.94-2.06-.94 2.06-2.06.94zm-11 1L8.5 8.5l.94-2.06 2.06-.94-2.06-.94L8.5 2.5l-.94 2.06-2.06.94zm10 10l.94 2.06.94-2.06 2.06-.94-2.06-.94-.94-2.06-.94 2.06-2.06.94z\"/><path d=\"M17.41 7.96l-1.37-1.37c-.4-.4-.92-.59-1.43-.59-.52 0-1.04.2-1.43.59L10.3 9.45l-7.72 7.72c-.78.78-.78 2.05 0 2.83L4 21.41c.39.39.9.59 1.41.59.51 0 1.02-.2 1.41-.59l7.78-7.78 2.81-2.81c.8-.78.8-2.07 0-2.86zM5.41 20L4 18.59l7.72-7.72 1.47 1.35L5.41 20z\"/>\n",
              "  </svg>\n",
              "      </button>\n",
              "      \n",
              "  <style>\n",
              "    .colab-df-container {\n",
              "      display:flex;\n",
              "      flex-wrap:wrap;\n",
              "      gap: 12px;\n",
              "    }\n",
              "\n",
              "    .colab-df-convert {\n",
              "      background-color: #E8F0FE;\n",
              "      border: none;\n",
              "      border-radius: 50%;\n",
              "      cursor: pointer;\n",
              "      display: none;\n",
              "      fill: #1967D2;\n",
              "      height: 32px;\n",
              "      padding: 0 0 0 0;\n",
              "      width: 32px;\n",
              "    }\n",
              "\n",
              "    .colab-df-convert:hover {\n",
              "      background-color: #E2EBFA;\n",
              "      box-shadow: 0px 1px 2px rgba(60, 64, 67, 0.3), 0px 1px 3px 1px rgba(60, 64, 67, 0.15);\n",
              "      fill: #174EA6;\n",
              "    }\n",
              "\n",
              "    [theme=dark] .colab-df-convert {\n",
              "      background-color: #3B4455;\n",
              "      fill: #D2E3FC;\n",
              "    }\n",
              "\n",
              "    [theme=dark] .colab-df-convert:hover {\n",
              "      background-color: #434B5C;\n",
              "      box-shadow: 0px 1px 3px 1px rgba(0, 0, 0, 0.15);\n",
              "      filter: drop-shadow(0px 1px 2px rgba(0, 0, 0, 0.3));\n",
              "      fill: #FFFFFF;\n",
              "    }\n",
              "  </style>\n",
              "\n",
              "      <script>\n",
              "        const buttonEl =\n",
              "          document.querySelector('#df-c79eab0a-ff15-4d16-8eab-19de57d3929a button.colab-df-convert');\n",
              "        buttonEl.style.display =\n",
              "          google.colab.kernel.accessAllowed ? 'block' : 'none';\n",
              "\n",
              "        async function convertToInteractive(key) {\n",
              "          const element = document.querySelector('#df-c79eab0a-ff15-4d16-8eab-19de57d3929a');\n",
              "          const dataTable =\n",
              "            await google.colab.kernel.invokeFunction('convertToInteractive',\n",
              "                                                     [key], {});\n",
              "          if (!dataTable) return;\n",
              "\n",
              "          const docLinkHtml = 'Like what you see? Visit the ' +\n",
              "            '<a target=\"_blank\" href=https://colab.research.google.com/notebooks/data_table.ipynb>data table notebook</a>'\n",
              "            + ' to learn more about interactive tables.';\n",
              "          element.innerHTML = '';\n",
              "          dataTable['output_type'] = 'display_data';\n",
              "          await google.colab.output.renderOutput(dataTable, element);\n",
              "          const docLink = document.createElement('div');\n",
              "          docLink.innerHTML = docLinkHtml;\n",
              "          element.appendChild(docLink);\n",
              "        }\n",
              "      </script>\n",
              "    </div>\n",
              "  </div>\n",
              "  "
            ]
          },
          "metadata": {},
          "execution_count": 12
        }
      ],
      "source": [
        "full_df['Sentiment'] = np.where((full_df['overall'] > 3), 'Positive', \n",
        "                          np.where((full_df['overall'] < 3), 'Negative', 'Neutral'))\n",
        "full_df.head()"
      ]
    },
    {
      "cell_type": "code",
      "execution_count": 13,
      "metadata": {
        "colab": {
          "base_uri": "https://localhost:8080/"
        },
        "id": "enZ12nHSx6JD",
        "outputId": "5b57c32c-0f70-4f5f-b9d6-950ca61e6407"
      },
      "outputs": [
        {
          "output_type": "execute_result",
          "data": {
            "text/plain": [
              "Positive    158985\n",
              "Neutral       6792\n",
              "Negative      4004\n",
              "Name: Sentiment, dtype: int64"
            ]
          },
          "metadata": {},
          "execution_count": 13
        }
      ],
      "source": [
        "full_df['Sentiment'].value_counts() #how can we balance this data?"
      ]
    },
    {
      "cell_type": "markdown",
      "source": [
        "## columns selection"
      ],
      "metadata": {
        "id": "_OgJoNE2z2fX"
      }
    },
    {
      "cell_type": "code",
      "execution_count": 14,
      "metadata": {
        "colab": {
          "base_uri": "https://localhost:8080/"
        },
        "id": "fJ3Yu4QGhqrR",
        "outputId": "00be85c1-03ce-4a9a-eb36-3b40b89a2526"
      },
      "outputs": [
        {
          "output_type": "execute_result",
          "data": {
            "text/plain": [
              "True     148944\n",
              "False     20837\n",
              "Name: verified, dtype: int64"
            ]
          },
          "metadata": {},
          "execution_count": 14
        }
      ],
      "source": [
        "full_df['verified'].value_counts()"
      ]
    },
    {
      "cell_type": "code",
      "execution_count": 15,
      "metadata": {
        "id": "FV_fG_3GdTuP"
      },
      "outputs": [],
      "source": [
        "#full_df.info()"
      ]
    },
    {
      "cell_type": "code",
      "execution_count": 16,
      "metadata": {
        "id": "xWEtk4WruGvW"
      },
      "outputs": [],
      "source": [
        "cols = ['reviewText','summary']\n",
        "full_df['NewReview'] = full_df[cols].apply(lambda row: ' '.join(row.values.astype(str)), axis=1)\n",
        "full_df['NewReview'] = full_df['NewReview'].astype(str)"
      ]
    },
    {
      "cell_type": "code",
      "source": [
        "# Check the length of reviews\n",
        "full_df['review_length'] = full_df['NewReview'].apply(lambda x: len(x.split()))\n",
        "plt.hist(full_df['review_length'], bins=50)\n",
        "plt.title(\"Distribution of Review Length\")\n",
        "plt.show()\n",
        "\n",
        "# Check the relationship between review length and rating\n",
        "sns.boxplot(x='overall', y='review_length', data=full_df)\n",
        "plt.title(\"Relationship between Review Length and Rating\")\n",
        "plt.show()"
      ],
      "metadata": {
        "colab": {
          "base_uri": "https://localhost:8080/",
          "height": 559
        },
        "id": "xmsUzbLRma_g",
        "outputId": "9f18f6c9-ab60-4b4b-87e0-3df60adda225"
      },
      "execution_count": 17,
      "outputs": [
        {
          "output_type": "display_data",
          "data": {
            "text/plain": [
              "<Figure size 432x288 with 1 Axes>"
            ],
            "image/png": "[encoded data removed]"
          },
          "metadata": {
            "needs_background": "light"
          }
        },
        {
          "output_type": "display_data",
          "data": {
            "text/plain": [
              "<Figure size 432x288 with 1 Axes>"
            ],
            "image/png": "[encoded data removed]"
          },
          "metadata": {
            "needs_background": "light"
          }
        }
      ]
    },
    {
      "cell_type": "code",
      "execution_count": 18,
      "metadata": {
        "colab": {
          "base_uri": "https://localhost:8080/"
        },
        "id": "5cMUnP-quZ1D",
        "outputId": "6748ffe8-bdb1-48e0-ef26-0f88677fe52e"
      },
      "outputs": [
        {
          "output_type": "stream",
          "name": "stdout",
          "text": [
            "<class 'pandas.core.frame.DataFrame'>\n",
            "RangeIndex: 169781 entries, 0 to 169780\n",
            "Data columns (total 15 columns):\n",
            " #   Column          Non-Null Count   Dtype  \n",
            "---  ------          --------------   -----  \n",
            " 0   overall         169781 non-null  float64\n",
            " 1   vote            7611 non-null    object \n",
            " 2   verified        169781 non-null  bool   \n",
            " 3   reviewTime      169781 non-null  object \n",
            " 4   reviewerID      169781 non-null  object \n",
            " 5   asin            169781 non-null  object \n",
            " 6   style           157989 non-null  object \n",
            " 7   reviewerName    169776 non-null  object \n",
            " 8   reviewText      169623 non-null  object \n",
            " 9   summary         169745 non-null  object \n",
            " 10  unixReviewTime  169781 non-null  int64  \n",
            " 11  image           182 non-null     object \n",
            " 12  Sentiment       169781 non-null  object \n",
            " 13  NewReview       169781 non-null  object \n",
            " 14  review_length   169781 non-null  int64  \n",
            "dtypes: bool(1), float64(1), int64(2), object(11)\n",
            "memory usage: 18.3+ MB\n"
          ]
        }
      ],
      "source": [
        "full_df.info()"
      ]
    },
    {
      "cell_type": "code",
      "execution_count": 19,
      "metadata": {
        "colab": {
          "base_uri": "https://localhost:8080/",
          "height": 226
        },
        "id": "tSFJ1_tstGpQ",
        "outputId": "65e70a8a-e8d6-45cf-c45f-3d57b49c5424"
      },
      "outputs": [
        {
          "output_type": "execute_result",
          "data": {
            "text/plain": [
              "   overall vote  verified   reviewTime      reviewerID        asin  \\\n",
              "0      5.0    3      True   06 3, 2013  A2TYZ821XXK2YZ  3426958910   \n",
              "1      5.0  NaN      True  10 11, 2014  A3OFSREZADFUDY  3426958910   \n",
              "\n",
              "                      style reviewerName  \\\n",
              "0  {'Format:': ' Audio CD'}      Garrett   \n",
              "1  {'Format:': ' Audio CD'}           Ad   \n",
              "\n",
              "                                          reviewText        summary  \\\n",
              "0  This is awesome to listen to, A must-have for ...  Slayer Rules!   \n",
              "1                                               bien     Five Stars   \n",
              "\n",
              "   unixReviewTime image Sentiment  \\\n",
              "0      1370217600   NaN  Positive   \n",
              "1      1412985600   NaN  Positive   \n",
              "\n",
              "                                           NewReview  review_length  \n",
              "0  This is awesome to listen to, A must-have for ...             25  \n",
              "1                                    bien Five Stars              3  "
            ],
            "text/html": [
              "\n",
              "  <div id=\"df-6063fe3c-f82e-45d5-9c14-5c400775204a\">\n",
              "    <div class=\"colab-df-container\">\n",
              "      <div>\n",
              "<style scoped>\n",
              "    .dataframe tbody tr th:only-of-type {\n",
              "        vertical-align: middle;\n",
              "    }\n",
              "\n",
              "    .dataframe tbody tr th {\n",
              "        vertical-align: top;\n",
              "    }\n",
              "\n",
              "    .dataframe thead th {\n",
              "        text-align: right;\n",
              "    }\n",
              "</style>\n",
              "<table border=\"1\" class=\"dataframe\">\n",
              "  <thead>\n",
              "    <tr style=\"text-align: right;\">\n",
              "      <th></th>\n",
              "      <th>overall</th>\n",
              "      <th>vote</th>\n",
              "      <th>verified</th>\n",
              "      <th>reviewTime</th>\n",
              "      <th>reviewerID</th>\n",
              "      <th>asin</th>\n",
              "      <th>style</th>\n",
              "      <th>reviewerName</th>\n",
              "      <th>reviewText</th>\n",
              "      <th>summary</th>\n",
              "      <th>unixReviewTime</th>\n",
              "      <th>image</th>\n",
              "      <th>Sentiment</th>\n",
              "      <th>NewReview</th>\n",
              "      <th>review_length</th>\n",
              "    </tr>\n",
              "  </thead>\n",
              "  <tbody>\n",
              "    <tr>\n",
              "      <th>0</th>\n",
              "      <td>5.0</td>\n",
              "      <td>3</td>\n",
              "      <td>True</td>\n",
              "      <td>06 3, 2013</td>\n",
              "      <td>A2TYZ821XXK2YZ</td>\n",
              "      <td>3426958910</td>\n",
              "      <td>{'Format:': ' Audio CD'}</td>\n",
              "      <td>Garrett</td>\n",
              "      <td>This is awesome to listen to, A must-have for ...</td>\n",
              "      <td>Slayer Rules!</td>\n",
              "      <td>1370217600</td>\n",
              "      <td>NaN</td>\n",
              "      <td>Positive</td>\n",
              "      <td>This is awesome to listen to, A must-have for ...</td>\n",
              "      <td>25</td>\n",
              "    </tr>\n",
              "    <tr>\n",
              "      <th>1</th>\n",
              "      <td>5.0</td>\n",
              "      <td>NaN</td>\n",
              "      <td>True</td>\n",
              "      <td>10 11, 2014</td>\n",
              "      <td>A3OFSREZADFUDY</td>\n",
              "      <td>3426958910</td>\n",
              "      <td>{'Format:': ' Audio CD'}</td>\n",
              "      <td>Ad</td>\n",
              "      <td>bien</td>\n",
              "      <td>Five Stars</td>\n",
              "      <td>1412985600</td>\n",
              "      <td>NaN</td>\n",
              "      <td>Positive</td>\n",
              "      <td>bien Five Stars</td>\n",
              "      <td>3</td>\n",
              "    </tr>\n",
              "  </tbody>\n",
              "</table>\n",
              "</div>\n",
              "      <button class=\"colab-df-convert\" onclick=\"convertToInteractive('df-6063fe3c-f82e-45d5-9c14-5c400775204a')\"\n",
              "              title=\"Convert this dataframe to an interactive table.\"\n",
              "              style=\"display:none;\">\n",
              "        \n",
              "  <svg xmlns=\"http://www.w3.org/2000/svg\" height=\"24px\"viewBox=\"0 0 24 24\"\n",
              "       width=\"24px\">\n",
              "    <path d=\"M0 0h24v24H0V0z\" fill=\"none\"/>\n",
              "    <path d=\"M18.56 5.44l.94 2.06.94-2.06 2.06-.94-2.06-.94-.94-2.06-.94 2.06-2.06.94zm-11 1L8.5 8.5l.94-2.06 2.06-.94-2.06-.94L8.5 2.5l-.94 2.06-2.06.94zm10 10l.94 2.06.94-2.06 2.06-.94-2.06-.94-.94-2.06-.94 2.06-2.06.94z\"/><path d=\"M17.41 7.96l-1.37-1.37c-.4-.4-.92-.59-1.43-.59-.52 0-1.04.2-1.43.59L10.3 9.45l-7.72 7.72c-.78.78-.78 2.05 0 2.83L4 21.41c.39.39.9.59 1.41.59.51 0 1.02-.2 1.41-.59l7.78-7.78 2.81-2.81c.8-.78.8-2.07 0-2.86zM5.41 20L4 18.59l7.72-7.72 1.47 1.35L5.41 20z\"/>\n",
              "  </svg>\n",
              "      </button>\n",
              "      \n",
              "  <style>\n",
              "    .colab-df-container {\n",
              "      display:flex;\n",
              "      flex-wrap:wrap;\n",
              "      gap: 12px;\n",
              "    }\n",
              "\n",
              "    .colab-df-convert {\n",
              "      background-color: #E8F0FE;\n",
              "      border: none;\n",
              "      border-radius: 50%;\n",
              "      cursor: pointer;\n",
              "      display: none;\n",
              "      fill: #1967D2;\n",
              "      height: 32px;\n",
              "      padding: 0 0 0 0;\n",
              "      width: 32px;\n",
              "    }\n",
              "\n",
              "    .colab-df-convert:hover {\n",
              "      background-color: #E2EBFA;\n",
              "      box-shadow: 0px 1px 2px rgba(60, 64, 67, 0.3), 0px 1px 3px 1px rgba(60, 64, 67, 0.15);\n",
              "      fill: #174EA6;\n",
              "    }\n",
              "\n",
              "    [theme=dark] .colab-df-convert {\n",
              "      background-color: #3B4455;\n",
              "      fill: #D2E3FC;\n",
              "    }\n",
              "\n",
              "    [theme=dark] .colab-df-convert:hover {\n",
              "      background-color: #434B5C;\n",
              "      box-shadow: 0px 1px 3px 1px rgba(0, 0, 0, 0.15);\n",
              "      filter: drop-shadow(0px 1px 2px rgba(0, 0, 0, 0.3));\n",
              "      fill: #FFFFFF;\n",
              "    }\n",
              "  </style>\n",
              "\n",
              "      <script>\n",
              "        const buttonEl =\n",
              "          document.querySelector('#df-6063fe3c-f82e-45d5-9c14-5c400775204a button.colab-df-convert');\n",
              "        buttonEl.style.display =\n",
              "          google.colab.kernel.accessAllowed ? 'block' : 'none';\n",
              "\n",
              "        async function convertToInteractive(key) {\n",
              "          const element = document.querySelector('#df-6063fe3c-f82e-45d5-9c14-5c400775204a');\n",
              "          const dataTable =\n",
              "            await google.colab.kernel.invokeFunction('convertToInteractive',\n",
              "                                                     [key], {});\n",
              "          if (!dataTable) return;\n",
              "\n",
              "          const docLinkHtml = 'Like what you see? Visit the ' +\n",
              "            '<a target=\"_blank\" href=https://colab.research.google.com/notebooks/data_table.ipynb>data table notebook</a>'\n",
              "            + ' to learn more about interactive tables.';\n",
              "          element.innerHTML = '';\n",
              "          dataTable['output_type'] = 'display_data';\n",
              "          await google.colab.output.renderOutput(dataTable, element);\n",
              "          const docLink = document.createElement('div');\n",
              "          docLink.innerHTML = docLinkHtml;\n",
              "          element.appendChild(docLink);\n",
              "        }\n",
              "      </script>\n",
              "    </div>\n",
              "  </div>\n",
              "  "
            ]
          },
          "metadata": {},
          "execution_count": 19
        }
      ],
      "source": [
        "full_df.head(2)"
      ]
    },
    {
      "cell_type": "code",
      "execution_count": 20,
      "metadata": {
        "id": "pnsfVP_6dqn5"
      },
      "outputs": [],
      "source": [
        "#reviewerID will be useful later to see if they are outliers or not\n",
        "music_review_df = full_df.drop(columns=['vote','reviewerID','image','reviewTime','reviewerID','style','reviewerName','unixReviewTime','reviewText','summary'])"
      ]
    },
    {
      "cell_type": "code",
      "execution_count": 21,
      "metadata": {
        "colab": {
          "base_uri": "https://localhost:8080/",
          "height": 112
        },
        "id": "VRvfBSi8eY_t",
        "outputId": "92abf3a4-9254-41a1-ffa0-699821c368ab"
      },
      "outputs": [
        {
          "output_type": "execute_result",
          "data": {
            "text/plain": [
              "   overall  verified        asin Sentiment  \\\n",
              "0      5.0      True  3426958910  Positive   \n",
              "1      5.0      True  3426958910  Positive   \n",
              "\n",
              "                                           NewReview  review_length  \n",
              "0  This is awesome to listen to, A must-have for ...             25  \n",
              "1                                    bien Five Stars              3  "
            ],
            "text/html": [
              "\n",
              "  <div id=\"df-24e17d8a-ce21-4890-82ef-24b2ac66b8b5\">\n",
              "    <div class=\"colab-df-container\">\n",
              "      <div>\n",
              "<style scoped>\n",
              "    .dataframe tbody tr th:only-of-type {\n",
              "        vertical-align: middle;\n",
              "    }\n",
              "\n",
              "    .dataframe tbody tr th {\n",
              "        vertical-align: top;\n",
              "    }\n",
              "\n",
              "    .dataframe thead th {\n",
              "        text-align: right;\n",
              "    }\n",
              "</style>\n",
              "<table border=\"1\" class=\"dataframe\">\n",
              "  <thead>\n",
              "    <tr style=\"text-align: right;\">\n",
              "      <th></th>\n",
              "      <th>overall</th>\n",
              "      <th>verified</th>\n",
              "      <th>asin</th>\n",
              "      <th>Sentiment</th>\n",
              "      <th>NewReview</th>\n",
              "      <th>review_length</th>\n",
              "    </tr>\n",
              "  </thead>\n",
              "  <tbody>\n",
              "    <tr>\n",
              "      <th>0</th>\n",
              "      <td>5.0</td>\n",
              "      <td>True</td>\n",
              "      <td>3426958910</td>\n",
              "      <td>Positive</td>\n",
              "      <td>This is awesome to listen to, A must-have for ...</td>\n",
              "      <td>25</td>\n",
              "    </tr>\n",
              "    <tr>\n",
              "      <th>1</th>\n",
              "      <td>5.0</td>\n",
              "      <td>True</td>\n",
              "      <td>3426958910</td>\n",
              "      <td>Positive</td>\n",
              "      <td>bien Five Stars</td>\n",
              "      <td>3</td>\n",
              "    </tr>\n",
              "  </tbody>\n",
              "</table>\n",
              "</div>\n",
              "      <button class=\"colab-df-convert\" onclick=\"convertToInteractive('df-24e17d8a-ce21-4890-82ef-24b2ac66b8b5')\"\n",
              "              title=\"Convert this dataframe to an interactive table.\"\n",
              "              style=\"display:none;\">\n",
              "        \n",
              "  <svg xmlns=\"http://www.w3.org/2000/svg\" height=\"24px\"viewBox=\"0 0 24 24\"\n",
              "       width=\"24px\">\n",
              "    <path d=\"M0 0h24v24H0V0z\" fill=\"none\"/>\n",
              "    <path d=\"M18.56 5.44l.94 2.06.94-2.06 2.06-.94-2.06-.94-.94-2.06-.94 2.06-2.06.94zm-11 1L8.5 8.5l.94-2.06 2.06-.94-2.06-.94L8.5 2.5l-.94 2.06-2.06.94zm10 10l.94 2.06.94-2.06 2.06-.94-2.06-.94-.94-2.06-.94 2.06-2.06.94z\"/><path d=\"M17.41 7.96l-1.37-1.37c-.4-.4-.92-.59-1.43-.59-.52 0-1.04.2-1.43.59L10.3 9.45l-7.72 7.72c-.78.78-.78 2.05 0 2.83L4 21.41c.39.39.9.59 1.41.59.51 0 1.02-.2 1.41-.59l7.78-7.78 2.81-2.81c.8-.78.8-2.07 0-2.86zM5.41 20L4 18.59l7.72-7.72 1.47 1.35L5.41 20z\"/>\n",
              "  </svg>\n",
              "      </button>\n",
              "      \n",
              "  <style>\n",
              "    .colab-df-container {\n",
              "      display:flex;\n",
              "      flex-wrap:wrap;\n",
              "      gap: 12px;\n",
              "    }\n",
              "\n",
              "    .colab-df-convert {\n",
              "      background-color: #E8F0FE;\n",
              "      border: none;\n",
              "      border-radius: 50%;\n",
              "      cursor: pointer;\n",
              "      display: none;\n",
              "      fill: #1967D2;\n",
              "      height: 32px;\n",
              "      padding: 0 0 0 0;\n",
              "      width: 32px;\n",
              "    }\n",
              "\n",
              "    .colab-df-convert:hover {\n",
              "      background-color: #E2EBFA;\n",
              "      box-shadow: 0px 1px 2px rgba(60, 64, 67, 0.3), 0px 1px 3px 1px rgba(60, 64, 67, 0.15);\n",
              "      fill: #174EA6;\n",
              "    }\n",
              "\n",
              "    [theme=dark] .colab-df-convert {\n",
              "      background-color: #3B4455;\n",
              "      fill: #D2E3FC;\n",
              "    }\n",
              "\n",
              "    [theme=dark] .colab-df-convert:hover {\n",
              "      background-color: #434B5C;\n",
              "      box-shadow: 0px 1px 3px 1px rgba(0, 0, 0, 0.15);\n",
              "      filter: drop-shadow(0px 1px 2px rgba(0, 0, 0, 0.3));\n",
              "      fill: #FFFFFF;\n",
              "    }\n",
              "  </style>\n",
              "\n",
              "      <script>\n",
              "        const buttonEl =\n",
              "          document.querySelector('#df-24e17d8a-ce21-4890-82ef-24b2ac66b8b5 button.colab-df-convert');\n",
              "        buttonEl.style.display =\n",
              "          google.colab.kernel.accessAllowed ? 'block' : 'none';\n",
              "\n",
              "        async function convertToInteractive(key) {\n",
              "          const element = document.querySelector('#df-24e17d8a-ce21-4890-82ef-24b2ac66b8b5');\n",
              "          const dataTable =\n",
              "            await google.colab.kernel.invokeFunction('convertToInteractive',\n",
              "                                                     [key], {});\n",
              "          if (!dataTable) return;\n",
              "\n",
              "          const docLinkHtml = 'Like what you see? Visit the ' +\n",
              "            '<a target=\"_blank\" href=https://colab.research.google.com/notebooks/data_table.ipynb>data table notebook</a>'\n",
              "            + ' to learn more about interactive tables.';\n",
              "          element.innerHTML = '';\n",
              "          dataTable['output_type'] = 'display_data';\n",
              "          await google.colab.output.renderOutput(dataTable, element);\n",
              "          const docLink = document.createElement('div');\n",
              "          docLink.innerHTML = docLinkHtml;\n",
              "          element.appendChild(docLink);\n",
              "        }\n",
              "      </script>\n",
              "    </div>\n",
              "  </div>\n",
              "  "
            ]
          },
          "metadata": {},
          "execution_count": 21
        }
      ],
      "source": [
        "music_review_df.head(2)"
      ]
    },
    {
      "cell_type": "code",
      "execution_count": 22,
      "metadata": {
        "colab": {
          "base_uri": "https://localhost:8080/"
        },
        "id": "ata1v15megmt",
        "outputId": "388d6bf9-8fc4-4344-b574-eaa2df5644a4"
      },
      "outputs": [
        {
          "output_type": "stream",
          "name": "stdout",
          "text": [
            "<class 'pandas.core.frame.DataFrame'>\n",
            "RangeIndex: 169781 entries, 0 to 169780\n",
            "Data columns (total 6 columns):\n",
            " #   Column         Non-Null Count   Dtype  \n",
            "---  ------         --------------   -----  \n",
            " 0   overall        169781 non-null  float64\n",
            " 1   verified       169781 non-null  bool   \n",
            " 2   asin           169781 non-null  object \n",
            " 3   Sentiment      169781 non-null  object \n",
            " 4   NewReview      169781 non-null  object \n",
            " 5   review_length  169781 non-null  int64  \n",
            "dtypes: bool(1), float64(1), int64(1), object(3)\n",
            "memory usage: 6.6+ MB\n"
          ]
        }
      ],
      "source": [
        "music_review_df.info()"
      ]
    },
    {
      "cell_type": "markdown",
      "source": [
        "## sampling "
      ],
      "metadata": {
        "id": "qOB297gNv0Q4"
      }
    },
    {
      "cell_type": "code",
      "execution_count": 23,
      "metadata": {
        "id": "deTfUncKPta8"
      },
      "outputs": [],
      "source": [
        "n_samples = 1000 # @param {type:\"integer\"}\n",
        "\n",
        "#Getting the reviews from the dataset\n",
        "sample_df=music_review_df.sample(n = n_samples)\n",
        "# reviews = [str(review) for review in sample_df.NewReview.values] # moved\n",
        "\n",
        "#sample = reviews[:1000] #To reduce the runtime"
      ]
    },
    {
      "cell_type": "code",
      "execution_count": 24,
      "metadata": {
        "colab": {
          "base_uri": "https://localhost:8080/"
        },
        "id": "Z4imG0ixxxFD",
        "outputId": "e661600d-9f8a-4037-ac05-4e4906e00caa"
      },
      "outputs": [
        {
          "output_type": "stream",
          "name": "stdout",
          "text": [
            "<class 'pandas.core.frame.DataFrame'>\n",
            "Int64Index: 1000 entries, 133839 to 15588\n",
            "Data columns (total 6 columns):\n",
            " #   Column         Non-Null Count  Dtype  \n",
            "---  ------         --------------  -----  \n",
            " 0   overall        1000 non-null   float64\n",
            " 1   verified       1000 non-null   bool   \n",
            " 2   asin           1000 non-null   object \n",
            " 3   Sentiment      1000 non-null   object \n",
            " 4   NewReview      1000 non-null   object \n",
            " 5   review_length  1000 non-null   int64  \n",
            "dtypes: bool(1), float64(1), int64(1), object(3)\n",
            "memory usage: 47.9+ KB\n"
          ]
        }
      ],
      "source": [
        "sample_df.info()"
      ]
    },
    {
      "cell_type": "code",
      "source": [
        "sample_df.head()"
      ],
      "metadata": {
        "colab": {
          "base_uri": "https://localhost:8080/",
          "height": 206
        },
        "id": "HwF3_1gDq3n3",
        "outputId": "db8736d7-07ab-4719-83f2-873b8387a50a"
      },
      "execution_count": 25,
      "outputs": [
        {
          "output_type": "execute_result",
          "data": {
            "text/plain": [
              "        overall  verified        asin Sentiment  \\\n",
              "133839      5.0      True  B00136LMJ8  Positive   \n",
              "132014      5.0      True  B0012486CM  Positive   \n",
              "165975      4.0      True  B00QNJW6L8  Positive   \n",
              "47346       5.0      True  B00137MPOI  Positive   \n",
              "138675      5.0      True  B00137X9O8  Positive   \n",
              "\n",
              "                                                NewReview  review_length  \n",
              "133839                             Great song. Five Stars              4  \n",
              "132014  What can I say this the Music I grew up on. Tr...             19  \n",
              "165975  It starts with pain.. followed by hate. Story ...             14  \n",
              "47346                                       5* Five Stars              3  \n",
              "138675  Whitney Houston's version of this song is the ...             45  "
            ],
            "text/html": [
              "\n",
              "  <div id=\"df-64fc207a-cead-4d94-bef4-714fcc7b6d3b\">\n",
              "    <div class=\"colab-df-container\">\n",
              "      <div>\n",
              "<style scoped>\n",
              "    .dataframe tbody tr th:only-of-type {\n",
              "        vertical-align: middle;\n",
              "    }\n",
              "\n",
              "    .dataframe tbody tr th {\n",
              "        vertical-align: top;\n",
              "    }\n",
              "\n",
              "    .dataframe thead th {\n",
              "        text-align: right;\n",
              "    }\n",
              "</style>\n",
              "<table border=\"1\" class=\"dataframe\">\n",
              "  <thead>\n",
              "    <tr style=\"text-align: right;\">\n",
              "      <th></th>\n",
              "      <th>overall</th>\n",
              "      <th>verified</th>\n",
              "      <th>asin</th>\n",
              "      <th>Sentiment</th>\n",
              "      <th>NewReview</th>\n",
              "      <th>review_length</th>\n",
              "    </tr>\n",
              "  </thead>\n",
              "  <tbody>\n",
              "    <tr>\n",
              "      <th>133839</th>\n",
              "      <td>5.0</td>\n",
              "      <td>True</td>\n",
              "      <td>B00136LMJ8</td>\n",
              "      <td>Positive</td>\n",
              "      <td>Great song. Five Stars</td>\n",
              "      <td>4</td>\n",
              "    </tr>\n",
              "    <tr>\n",
              "      <th>132014</th>\n",
              "      <td>5.0</td>\n",
              "      <td>True</td>\n",
              "      <td>B0012486CM</td>\n",
              "      <td>Positive</td>\n",
              "      <td>What can I say this the Music I grew up on. Tr...</td>\n",
              "      <td>19</td>\n",
              "    </tr>\n",
              "    <tr>\n",
              "      <th>165975</th>\n",
              "      <td>4.0</td>\n",
              "      <td>True</td>\n",
              "      <td>B00QNJW6L8</td>\n",
              "      <td>Positive</td>\n",
              "      <td>It starts with pain.. followed by hate. Story ...</td>\n",
              "      <td>14</td>\n",
              "    </tr>\n",
              "    <tr>\n",
              "      <th>47346</th>\n",
              "      <td>5.0</td>\n",
              "      <td>True</td>\n",
              "      <td>B00137MPOI</td>\n",
              "      <td>Positive</td>\n",
              "      <td>5* Five Stars</td>\n",
              "      <td>3</td>\n",
              "    </tr>\n",
              "    <tr>\n",
              "      <th>138675</th>\n",
              "      <td>5.0</td>\n",
              "      <td>True</td>\n",
              "      <td>B00137X9O8</td>\n",
              "      <td>Positive</td>\n",
              "      <td>Whitney Houston's version of this song is the ...</td>\n",
              "      <td>45</td>\n",
              "    </tr>\n",
              "  </tbody>\n",
              "</table>\n",
              "</div>\n",
              "      <button class=\"colab-df-convert\" onclick=\"convertToInteractive('df-64fc207a-cead-4d94-bef4-714fcc7b6d3b')\"\n",
              "              title=\"Convert this dataframe to an interactive table.\"\n",
              "              style=\"display:none;\">\n",
              "        \n",
              "  <svg xmlns=\"http://www.w3.org/2000/svg\" height=\"24px\"viewBox=\"0 0 24 24\"\n",
              "       width=\"24px\">\n",
              "    <path d=\"M0 0h24v24H0V0z\" fill=\"none\"/>\n",
              "    <path d=\"M18.56 5.44l.94 2.06.94-2.06 2.06-.94-2.06-.94-.94-2.06-.94 2.06-2.06.94zm-11 1L8.5 8.5l.94-2.06 2.06-.94-2.06-.94L8.5 2.5l-.94 2.06-2.06.94zm10 10l.94 2.06.94-2.06 2.06-.94-2.06-.94-.94-2.06-.94 2.06-2.06.94z\"/><path d=\"M17.41 7.96l-1.37-1.37c-.4-.4-.92-.59-1.43-.59-.52 0-1.04.2-1.43.59L10.3 9.45l-7.72 7.72c-.78.78-.78 2.05 0 2.83L4 21.41c.39.39.9.59 1.41.59.51 0 1.02-.2 1.41-.59l7.78-7.78 2.81-2.81c.8-.78.8-2.07 0-2.86zM5.41 20L4 18.59l7.72-7.72 1.47 1.35L5.41 20z\"/>\n",
              "  </svg>\n",
              "      </button>\n",
              "      \n",
              "  <style>\n",
              "    .colab-df-container {\n",
              "      display:flex;\n",
              "      flex-wrap:wrap;\n",
              "      gap: 12px;\n",
              "    }\n",
              "\n",
              "    .colab-df-convert {\n",
              "      background-color: #E8F0FE;\n",
              "      border: none;\n",
              "      border-radius: 50%;\n",
              "      cursor: pointer;\n",
              "      display: none;\n",
              "      fill: #1967D2;\n",
              "      height: 32px;\n",
              "      padding: 0 0 0 0;\n",
              "      width: 32px;\n",
              "    }\n",
              "\n",
              "    .colab-df-convert:hover {\n",
              "      background-color: #E2EBFA;\n",
              "      box-shadow: 0px 1px 2px rgba(60, 64, 67, 0.3), 0px 1px 3px 1px rgba(60, 64, 67, 0.15);\n",
              "      fill: #174EA6;\n",
              "    }\n",
              "\n",
              "    [theme=dark] .colab-df-convert {\n",
              "      background-color: #3B4455;\n",
              "      fill: #D2E3FC;\n",
              "    }\n",
              "\n",
              "    [theme=dark] .colab-df-convert:hover {\n",
              "      background-color: #434B5C;\n",
              "      box-shadow: 0px 1px 3px 1px rgba(0, 0, 0, 0.15);\n",
              "      filter: drop-shadow(0px 1px 2px rgba(0, 0, 0, 0.3));\n",
              "      fill: #FFFFFF;\n",
              "    }\n",
              "  </style>\n",
              "\n",
              "      <script>\n",
              "        const buttonEl =\n",
              "          document.querySelector('#df-64fc207a-cead-4d94-bef4-714fcc7b6d3b button.colab-df-convert');\n",
              "        buttonEl.style.display =\n",
              "          google.colab.kernel.accessAllowed ? 'block' : 'none';\n",
              "\n",
              "        async function convertToInteractive(key) {\n",
              "          const element = document.querySelector('#df-64fc207a-cead-4d94-bef4-714fcc7b6d3b');\n",
              "          const dataTable =\n",
              "            await google.colab.kernel.invokeFunction('convertToInteractive',\n",
              "                                                     [key], {});\n",
              "          if (!dataTable) return;\n",
              "\n",
              "          const docLinkHtml = 'Like what you see? Visit the ' +\n",
              "            '<a target=\"_blank\" href=https://colab.research.google.com/notebooks/data_table.ipynb>data table notebook</a>'\n",
              "            + ' to learn more about interactive tables.';\n",
              "          element.innerHTML = '';\n",
              "          dataTable['output_type'] = 'display_data';\n",
              "          await google.colab.output.renderOutput(dataTable, element);\n",
              "          const docLink = document.createElement('div');\n",
              "          docLink.innerHTML = docLinkHtml;\n",
              "          element.appendChild(docLink);\n",
              "        }\n",
              "      </script>\n",
              "    </div>\n",
              "  </div>\n",
              "  "
            ]
          },
          "metadata": {},
          "execution_count": 25
        }
      ]
    },
    {
      "cell_type": "markdown",
      "source": [
        "# 3. Text representation (approaches in course module 2)"
      ],
      "metadata": {
        "id": "axAHe1HR1fRb"
      }
    },
    {
      "cell_type": "markdown",
      "source": [
        "## Tokenisation, Lemmatization, Stemming, pos, entities"
      ],
      "metadata": {
        "id": "mJ3TciyV09jT"
      }
    },
    {
      "cell_type": "code",
      "source": [
        "import re\n",
        "import string\n",
        "import nltk\n",
        "from nltk.corpus import stopwords\n",
        "from nltk.tokenize import word_tokenize\n",
        "from nltk.stem.porter import PorterStemmer\n",
        "from nltk.stem.wordnet import WordNetLemmatizer\n",
        "\n",
        "# Convert text to lowercase\n",
        "sample_df['NewReview'] = sample_df['NewReview'].str.lower()\n",
        "\n",
        "# Remove URLs\n",
        "sample_df['NewReview'] = sample_df['NewReview'].apply(lambda x: re.sub(r'http\\S+', '', x))\n",
        "\n",
        "# Remove HTML tags\n",
        "sample_df['NewReview'] = sample_df['NewReview'].apply(lambda x: re.sub(r'<.*?>', '', x))\n",
        "\n",
        "# Remove punctuation\n",
        "sample_df['NewReview'] = sample_df['NewReview'].apply(lambda x: x.translate(str.maketrans('', '', string.punctuation)))\n"
      ],
      "metadata": {
        "id": "EY6QrMvUn3Ln"
      },
      "execution_count": 26,
      "outputs": []
    },
    {
      "cell_type": "code",
      "source": [
        "\n",
        "reviews = [str(review) for review in sample_df.NewReview.values]\n"
      ],
      "metadata": {
        "id": "6nci-VvuoDT7"
      },
      "execution_count": 27,
      "outputs": []
    },
    {
      "cell_type": "code",
      "source": [
        "# Tokenize the text\n",
        "sample_df['NewReview'] = sample_df['NewReview'].apply(lambda x: word_tokenize(x))\n",
        "\n",
        "# Remove stopwords and perform stemming\n",
        "stop_words = set(stopwords.words('english'))\n",
        "porter = PorterStemmer()\n",
        "\n",
        "sample_df['NewReview'] = sample_df['NewReview'].apply(lambda x: [porter.stem(word) for word in x if word not in stop_words])\n",
        "\n",
        "# Join the stemmed words back into a single string\n",
        "sample_df['NewReview'] = sample_df['NewReview'].apply(lambda x: ' '.join(x))\n"
      ],
      "metadata": {
        "id": "tk6XRrPEoD3-"
      },
      "execution_count": 28,
      "outputs": []
    },
    {
      "cell_type": "code",
      "execution_count": 29,
      "metadata": {
        "id": "tN8P7E-IHrxu",
        "scrolled": true
      },
      "outputs": [],
      "source": [
        "#Tokenisation\n",
        "tokens = [[token.text for token in nlp(sentence)] for sentence in reviews]\n",
        "\n",
        "#Lemmatization\n",
        "lemmas = [[token.lemma_ if token.lemma_ != \"-PRON-\" else token.lower_ for token in nlp(sentence)] for sentence in reviews]\n",
        "\n",
        "#Stemming\n",
        "stems = [[stemmer.stem(token) for token in sentence] for sentence in tokens]\n",
        "\n",
        "#Getting pos\n",
        "pos = [nltk.pos_tag(token) for token in tokens]\n",
        "\n",
        "#Getting entities\n",
        "entities = [[[ent.text, ent.label_] for ent in nlp(sentence).ents] for sentence in reviews] "
      ]
    },
    {
      "cell_type": "code",
      "execution_count": 30,
      "metadata": {
        "colab": {
          "base_uri": "https://localhost:8080/"
        },
        "id": "_O8GQR1THrxv",
        "outputId": "6a9b72b9-6acf-4527-f46d-001014cc2363"
      },
      "outputs": [
        {
          "output_type": "stream",
          "name": "stdout",
          "text": [
            "5 most common people:  [('chris cornell', 5), ('taylor', 5), ('johann sebastian bach', 5), ('chris', 4), ('hamilton', 4), ('antonin dvorak', 4), ('george strait', 3), ('michael jackson', 3), ('matt smith', 3), ('bobby fuller', 2)]\n",
            "5 most common work of art:  [('peer gynt', 2)]\n"
          ]
        }
      ],
      "source": [
        "#Most common people\n",
        "people = [person[0] for person in [item for sublist in entities for item in sublist if item[1]=='PERSON']]\n",
        "print('5 most common people: ', Counter(people).most_common(10))\n",
        "\n",
        "#Most common music\n",
        "music = [person[0] for person in [item for sublist in entities for item in sublist if item[1]=='WORK_OF_ART']]\n",
        "print('5 most common work of art: ', Counter(music).most_common(10))"
      ]
    },
    {
      "cell_type": "code",
      "execution_count": 31,
      "metadata": {
        "id": "rl4_kAOeHrxu"
      },
      "outputs": [],
      "source": [
        "#Taking the stems or the lemmas \n",
        "ptext = [' '.join(word) for word in lemmas]\n",
        "\n",
        "#Converting to lowercase\n",
        "ptext = [review.lower() for review in ptext]\n",
        "\n",
        "#Removing numbers\n",
        "ptext = [re.sub(r'\\d+', '', review) for review in ptext]\n",
        "\n",
        "#Removing punctuation\n",
        "ptext = [re.sub(r'[^\\w\\s]',' ',review) for review in ptext]\n",
        "ptext = [re.sub(' +', ' ', review) for review in ptext]\n",
        "ptext = [re.sub('_', '', review) for review in ptext]\n",
        "\n",
        "#Removing leading and trailing whitespaces\n",
        "ptext = [review.strip() for review in ptext]\n",
        "\n",
        "#Removing stopwords\n",
        "ptext = [' '.join([word for word in review.split() if word not in stop_words]) for review in ptext]"
      ]
    },
    {
      "cell_type": "code",
      "execution_count": 32,
      "metadata": {
        "colab": {
          "base_uri": "https://localhost:8080/",
          "height": 424
        },
        "id": "-_BYH4yWdEUD",
        "outputId": "91f70221-5a52-4bda-8b2f-054f99ea7937"
      },
      "outputs": [
        {
          "output_type": "execute_result",
          "data": {
            "text/plain": [
              "                                              Original  \\\n",
              "0                                great song five stars   \n",
              "1    what can i say this the music i grew up on try...   \n",
              "2    it starts with pain followed by hate story of ...   \n",
              "3                                         5 five stars   \n",
              "4    whitney houstons version of this song is the b...   \n",
              "..                                                 ...   \n",
              "995                        good compilation four stars   \n",
              "996  my cousin sings this every week when we go out...   \n",
              "997             good product  fast delivery five stars   \n",
              "998  elva ruby connes miller was truly one of the m...   \n",
              "999  i first heard this song at my niece wedding fe...   \n",
              "\n",
              "                                   After Proprocessing  \n",
              "0                                 great song five star  \n",
              "1                     say music grow try like try like  \n",
              "2              start pain follow hate story life speak  \n",
              "3                                            five star  \n",
              "4    whitney houston version song good version come...  \n",
              "..                                                 ...  \n",
              "995                         good compilation four star  \n",
              "996  cousin sing every week go karaoke great comfor...  \n",
              "997               good product fast delivery five star  \n",
              "998  elva ruby conne miller truly one amazing voice...  \n",
              "999  first hear song niece wedding feel love glad s...  \n",
              "\n",
              "[1000 rows x 2 columns]"
            ],
            "text/html": [
              "\n",
              "  <div id=\"df-fe6a5fe0-8852-4c90-b9f4-c8a8817a511f\">\n",
              "    <div class=\"colab-df-container\">\n",
              "      <div>\n",
              "<style scoped>\n",
              "    .dataframe tbody tr th:only-of-type {\n",
              "        vertical-align: middle;\n",
              "    }\n",
              "\n",
              "    .dataframe tbody tr th {\n",
              "        vertical-align: top;\n",
              "    }\n",
              "\n",
              "    .dataframe thead th {\n",
              "        text-align: right;\n",
              "    }\n",
              "</style>\n",
              "<table border=\"1\" class=\"dataframe\">\n",
              "  <thead>\n",
              "    <tr style=\"text-align: right;\">\n",
              "      <th></th>\n",
              "      <th>Original</th>\n",
              "      <th>After Proprocessing</th>\n",
              "    </tr>\n",
              "  </thead>\n",
              "  <tbody>\n",
              "    <tr>\n",
              "      <th>0</th>\n",
              "      <td>great song five stars</td>\n",
              "      <td>great song five star</td>\n",
              "    </tr>\n",
              "    <tr>\n",
              "      <th>1</th>\n",
              "      <td>what can i say this the music i grew up on try...</td>\n",
              "      <td>say music grow try like try like</td>\n",
              "    </tr>\n",
              "    <tr>\n",
              "      <th>2</th>\n",
              "      <td>it starts with pain followed by hate story of ...</td>\n",
              "      <td>start pain follow hate story life speak</td>\n",
              "    </tr>\n",
              "    <tr>\n",
              "      <th>3</th>\n",
              "      <td>5 five stars</td>\n",
              "      <td>five star</td>\n",
              "    </tr>\n",
              "    <tr>\n",
              "      <th>4</th>\n",
              "      <td>whitney houstons version of this song is the b...</td>\n",
              "      <td>whitney houston version song good version come...</td>\n",
              "    </tr>\n",
              "    <tr>\n",
              "      <th>...</th>\n",
              "      <td>...</td>\n",
              "      <td>...</td>\n",
              "    </tr>\n",
              "    <tr>\n",
              "      <th>995</th>\n",
              "      <td>good compilation four stars</td>\n",
              "      <td>good compilation four star</td>\n",
              "    </tr>\n",
              "    <tr>\n",
              "      <th>996</th>\n",
              "      <td>my cousin sings this every week when we go out...</td>\n",
              "      <td>cousin sing every week go karaoke great comfor...</td>\n",
              "    </tr>\n",
              "    <tr>\n",
              "      <th>997</th>\n",
              "      <td>good product  fast delivery five stars</td>\n",
              "      <td>good product fast delivery five star</td>\n",
              "    </tr>\n",
              "    <tr>\n",
              "      <th>998</th>\n",
              "      <td>elva ruby connes miller was truly one of the m...</td>\n",
              "      <td>elva ruby conne miller truly one amazing voice...</td>\n",
              "    </tr>\n",
              "    <tr>\n",
              "      <th>999</th>\n",
              "      <td>i first heard this song at my niece wedding fe...</td>\n",
              "      <td>first hear song niece wedding feel love glad s...</td>\n",
              "    </tr>\n",
              "  </tbody>\n",
              "</table>\n",
              "<p>1000 rows × 2 columns</p>\n",
              "</div>\n",
              "      <button class=\"colab-df-convert\" onclick=\"convertToInteractive('df-fe6a5fe0-8852-4c90-b9f4-c8a8817a511f')\"\n",
              "              title=\"Convert this dataframe to an interactive table.\"\n",
              "              style=\"display:none;\">\n",
              "        \n",
              "  <svg xmlns=\"http://www.w3.org/2000/svg\" height=\"24px\"viewBox=\"0 0 24 24\"\n",
              "       width=\"24px\">\n",
              "    <path d=\"M0 0h24v24H0V0z\" fill=\"none\"/>\n",
              "    <path d=\"M18.56 5.44l.94 2.06.94-2.06 2.06-.94-2.06-.94-.94-2.06-.94 2.06-2.06.94zm-11 1L8.5 8.5l.94-2.06 2.06-.94-2.06-.94L8.5 2.5l-.94 2.06-2.06.94zm10 10l.94 2.06.94-2.06 2.06-.94-2.06-.94-.94-2.06-.94 2.06-2.06.94z\"/><path d=\"M17.41 7.96l-1.37-1.37c-.4-.4-.92-.59-1.43-.59-.52 0-1.04.2-1.43.59L10.3 9.45l-7.72 7.72c-.78.78-.78 2.05 0 2.83L4 21.41c.39.39.9.59 1.41.59.51 0 1.02-.2 1.41-.59l7.78-7.78 2.81-2.81c.8-.78.8-2.07 0-2.86zM5.41 20L4 18.59l7.72-7.72 1.47 1.35L5.41 20z\"/>\n",
              "  </svg>\n",
              "      </button>\n",
              "      \n",
              "  <style>\n",
              "    .colab-df-container {\n",
              "      display:flex;\n",
              "      flex-wrap:wrap;\n",
              "      gap: 12px;\n",
              "    }\n",
              "\n",
              "    .colab-df-convert {\n",
              "      background-color: #E8F0FE;\n",
              "      border: none;\n",
              "      border-radius: 50%;\n",
              "      cursor: pointer;\n",
              "      display: none;\n",
              "      fill: #1967D2;\n",
              "      height: 32px;\n",
              "      padding: 0 0 0 0;\n",
              "      width: 32px;\n",
              "    }\n",
              "\n",
              "    .colab-df-convert:hover {\n",
              "      background-color: #E2EBFA;\n",
              "      box-shadow: 0px 1px 2px rgba(60, 64, 67, 0.3), 0px 1px 3px 1px rgba(60, 64, 67, 0.15);\n",
              "      fill: #174EA6;\n",
              "    }\n",
              "\n",
              "    [theme=dark] .colab-df-convert {\n",
              "      background-color: #3B4455;\n",
              "      fill: #D2E3FC;\n",
              "    }\n",
              "\n",
              "    [theme=dark] .colab-df-convert:hover {\n",
              "      background-color: #434B5C;\n",
              "      box-shadow: 0px 1px 3px 1px rgba(0, 0, 0, 0.15);\n",
              "      filter: drop-shadow(0px 1px 2px rgba(0, 0, 0, 0.3));\n",
              "      fill: #FFFFFF;\n",
              "    }\n",
              "  </style>\n",
              "\n",
              "      <script>\n",
              "        const buttonEl =\n",
              "          document.querySelector('#df-fe6a5fe0-8852-4c90-b9f4-c8a8817a511f button.colab-df-convert');\n",
              "        buttonEl.style.display =\n",
              "          google.colab.kernel.accessAllowed ? 'block' : 'none';\n",
              "\n",
              "        async function convertToInteractive(key) {\n",
              "          const element = document.querySelector('#df-fe6a5fe0-8852-4c90-b9f4-c8a8817a511f');\n",
              "          const dataTable =\n",
              "            await google.colab.kernel.invokeFunction('convertToInteractive',\n",
              "                                                     [key], {});\n",
              "          if (!dataTable) return;\n",
              "\n",
              "          const docLinkHtml = 'Like what you see? Visit the ' +\n",
              "            '<a target=\"_blank\" href=https://colab.research.google.com/notebooks/data_table.ipynb>data table notebook</a>'\n",
              "            + ' to learn more about interactive tables.';\n",
              "          element.innerHTML = '';\n",
              "          dataTable['output_type'] = 'display_data';\n",
              "          await google.colab.output.renderOutput(dataTable, element);\n",
              "          const docLink = document.createElement('div');\n",
              "          docLink.innerHTML = docLinkHtml;\n",
              "          element.appendChild(docLink);\n",
              "        }\n",
              "      </script>\n",
              "    </div>\n",
              "  </div>\n",
              "  "
            ]
          },
          "metadata": {},
          "execution_count": 32
        }
      ],
      "source": [
        "frame = {'Original': reviews, \n",
        "        'After Proprocessing': ptext}\n",
        "\n",
        "pd.DataFrame.from_dict(frame)\n"
      ]
    },
    {
      "cell_type": "code",
      "execution_count": 33,
      "metadata": {
        "colab": {
          "base_uri": "https://localhost:8080/"
        },
        "id": "Tzv-v7G1dzbn",
        "outputId": "570b2505-2e8c-48ea-dd11-3ea728df5e90"
      },
      "outputs": [
        {
          "output_type": "stream",
          "name": "stdout",
          "text": [
            "Number of words:\n",
            "- Before preprocessing:  34924\n",
            "- After preprocessing:  18715\n",
            "\n",
            "Average review length:\n",
            "- Before preprocessing:  34.924\n",
            "- After preprocessing:  18.715\n",
            "\n",
            "Number of punctuation character:\n",
            "- Before preprocessing:  1\n",
            "- After preprocessing:  0\n",
            "\n"
          ]
        }
      ],
      "source": [
        "#Number of words\n",
        "print('Number of words:')\n",
        "\n",
        "bef = len(re.findall(r'\\w+', ' '.join(reviews)))\n",
        "aft = len(re.findall(r'\\w+', ' '.join(ptext)))\n",
        "\n",
        "print('- Before preprocessing: ', bef )\n",
        "print('- After preprocessing: ', aft )\n",
        "print()\n",
        "\n",
        "#Average review length\n",
        "print('Average review length:')\n",
        "\n",
        "bef_a = bef/n_samples\n",
        "aft_a = aft/n_samples\n",
        "\n",
        "print('- Before preprocessing: ', bef_a )\n",
        "print('- After preprocessing: ', aft_a )\n",
        "print()\n",
        "\n",
        "#Punctuation\n",
        "count = lambda l1,l2: sum([1 for x in l1 if x in l2])\n",
        "punct_b = 0\n",
        "for i in sample_df:\n",
        "    punct_b += count(i,set(string.punctuation))\n",
        "punct_a = 0\n",
        "for i in ptext:\n",
        "    punct_a += count(i,set(string.punctuation))\n",
        "    \n",
        "print('Number of punctuation character:')\n",
        "print('- Before preprocessing: ', punct_b)\n",
        "print('- After preprocessing: ', punct_a)\n",
        "print()\n"
      ]
    },
    {
      "cell_type": "code",
      "source": [],
      "metadata": {
        "id": "pyX9GHDOiPfJ"
      },
      "execution_count": 33,
      "outputs": []
    },
    {
      "cell_type": "markdown",
      "source": [
        "## glove"
      ],
      "metadata": {
        "id": "rzJZMP18iLkQ"
      }
    },
    {
      "cell_type": "code",
      "source": [
        "from keras.utils import get_file\n",
        "\n",
        "dir1 = get_file(origin=\"https://raw.githubusercontent.com/shahrzadko/NLPDigitalMusic/main/glove.6B.100d.zip.001?token=GHSAT0AAAAAAB6LOL42SKHPCCMIVYPOC4REY7AKE2Q\")\n",
        "dir2 = get_file(origin=\"https://raw.githubusercontent.com/shahrzadko/NLPDigitalMusic/main/glove.6B.100d.zip.002?token=GHSAT0AAAAAAB6LOL42SKHPCCMIVYPOC4REY7AKE2Q\")\n",
        "\n",
        "dir1"
      ],
      "metadata": {
        "colab": {
          "base_uri": "https://localhost:8080/",
          "height": 105
        },
        "id": "7n6YwJUxiQaf",
        "outputId": "879c834a-5f81-47dd-d0f0-4dc7b334353d"
      },
      "execution_count": 34,
      "outputs": [
        {
          "output_type": "stream",
          "name": "stdout",
          "text": [
            "Downloading data from https://raw.githubusercontent.com/shahrzadko/NLPDigitalMusic/main/glove.6B.100d.zip.001?token=GHSAT0AAAAAAB6LOL42SKHPCCMIVYPOC4REY7AKE2Q\n",
            "83886080/83886080 [==============================] - 0s 0us/step\n",
            "Downloading data from https://raw.githubusercontent.com/shahrzadko/NLPDigitalMusic/main/glove.6B.100d.zip.002?token=GHSAT0AAAAAAB6LOL42SKHPCCMIVYPOC4REY7AKE2Q\n",
            "38726106/38726106 [==============================] - 0s 0us/step\n"
          ]
        },
        {
          "output_type": "execute_result",
          "data": {
            "text/plain": [
              "'/root/.keras/datasets/glove.6B.100d.zip.001'"
            ],
            "application/vnd.google.colaboratory.intrinsic+json": {
              "type": "string"
            }
          },
          "metadata": {},
          "execution_count": 34
        }
      ]
    },
    {
      "cell_type": "code",
      "source": [
        "### for Colab!!! change path if not running in Colab \n",
        "\n",
        "!cat /root/.keras/datasets/glove.6B.100d.zip* > /root/.keras/datasets/glove.6B.100d.zip\n",
        "\n",
        "!unzip  /root/.keras/datasets/glove.6B.100d.zip "
      ],
      "metadata": {
        "colab": {
          "base_uri": "https://localhost:8080/"
        },
        "id": "QaXsd_UCjUgD",
        "outputId": "8d75cbb9-68ac-4102-c5ce-d2c673c508cd"
      },
      "execution_count": 39,
      "outputs": [
        {
          "output_type": "stream",
          "name": "stdout",
          "text": [
            "Archive:  /root/.keras/datasets/glove.6B.100d.zip\n",
            "  inflating: glove.6B.100d.txt       \n"
          ]
        }
      ]
    },
    {
      "cell_type": "code",
      "source": [
        "EMBEDDING_DIM = 100 # @param {type:\"integer\"}"
      ],
      "metadata": {
        "id": "nde0iVV-0Ixk"
      },
      "execution_count": 36,
      "outputs": []
    },
    {
      "cell_type": "code",
      "source": [
        "\n",
        "# first, build index mapping words in the embeddings set\n",
        "# to their embedding vector\n",
        "\n",
        "embeddings_index = {}\n",
        "#C:\\Courses_cent\\COMP 262\\practical-nlp-master\\Ch4\\Glove6B\n",
        "#with open(os.path.join(GLOVE_DIR, 'glove.6B.100d.txt'), encoding=\"utf-8\") as f:\n",
        "with open(\"glove.6B.100d.txt\", encoding =\"utf-8\") as f:\n",
        "    for line in f:\n",
        "        values = line.split()\n",
        "        word = values[0]\n",
        "        coefs = np.asarray(values[1:], dtype='float32')\n",
        "        embeddings_index[word] = coefs\n",
        "\n",
        "print('Found %s word vectors in Glove embeddings.' % len(embeddings_index))\n",
        "\n",
        "def get_embeddings(word):\n",
        "    embedding_vector = embeddings_index.get(word)\n",
        "    if embedding_vector is None:\n",
        "        # words not found in embedding index will be all-zeros.\n",
        "        embedding_vector = np.zeros(shape=(EMBEDDING_DIM, ))\n",
        "    return embedding_vector"
      ],
      "metadata": {
        "colab": {
          "base_uri": "https://localhost:8080/"
        },
        "id": "o6pbQ1sKkRbx",
        "outputId": "8b25ba05-9813-476f-cac1-2060b798f6b2"
      },
      "execution_count": 40,
      "outputs": [
        {
          "output_type": "stream",
          "name": "stdout",
          "text": [
            "Found 400000 word vectors in Glove embeddings.\n"
          ]
        }
      ]
    },
    {
      "cell_type": "code",
      "source": [
        "embeded = [[get_embeddings(word) for word in review.split() ] for review in ptext]\n"
      ],
      "metadata": {
        "id": "SWbXq2YinGwa"
      },
      "execution_count": 41,
      "outputs": []
    },
    {
      "cell_type": "code",
      "source": [
        "frame = {'Original': reviews, \n",
        "        'After embedding': embeded}\n",
        "\n",
        "pd.DataFrame.from_dict(frame)\n"
      ],
      "metadata": {
        "colab": {
          "base_uri": "https://localhost:8080/",
          "height": 424
        },
        "id": "0tTMTMj-zmUv",
        "outputId": "82a7baa1-7073-4a32-bc46-a080d042bf9a"
      },
      "execution_count": 43,
      "outputs": [
        {
          "output_type": "execute_result",
          "data": {
            "text/plain": [
              "                                              Original  \\\n",
              "0                                great song five stars   \n",
              "1    what can i say this the music i grew up on try...   \n",
              "2    it starts with pain followed by hate story of ...   \n",
              "3                                         5 five stars   \n",
              "4    whitney houstons version of this song is the b...   \n",
              "..                                                 ...   \n",
              "995                        good compilation four stars   \n",
              "996  my cousin sings this every week when we go out...   \n",
              "997             good product  fast delivery five stars   \n",
              "998  elva ruby connes miller was truly one of the m...   \n",
              "999  i first heard this song at my niece wedding fe...   \n",
              "\n",
              "                                       After embedding  \n",
              "0    [[-0.013786, 0.38216, 0.53236, 0.15261, -0.296...  \n",
              "1    [[-0.091682, 0.58105, 0.40477, -0.41979, -0.85...  \n",
              "2    [[0.23336, 0.16042, 0.050714, -0.0016366, -0.4...  \n",
              "3    [[0.062482, 0.47966, 0.11041, -0.32933, 0.4811...  \n",
              "4    [[0.1347, 0.55149, -0.20511, -0.69281, 0.42393...  \n",
              "..                                                 ...  \n",
              "995  [[-0.030769, 0.11993, 0.53909, -0.43696, -0.73...  \n",
              "996  [[0.53674, -0.42193, 0.41404, -0.13696, 0.0923...  \n",
              "997  [[-0.030769, 0.11993, 0.53909, -0.43696, -0.73...  \n",
              "998  [[0.026681, -0.060791, 0.011155, 0.028152, 0.0...  \n",
              "999  [[-0.020102, 0.037514, 0.35363, 0.16576, 0.094...  \n",
              "\n",
              "[1000 rows x 2 columns]"
            ],
            "text/html": [
              "\n",
              "  <div id=\"df-c0ec2b0b-3bf2-4bf6-9be3-c09129b9df35\">\n",
              "    <div class=\"colab-df-container\">\n",
              "      <div>\n",
              "<style scoped>\n",
              "    .dataframe tbody tr th:only-of-type {\n",
              "        vertical-align: middle;\n",
              "    }\n",
              "\n",
              "    .dataframe tbody tr th {\n",
              "        vertical-align: top;\n",
              "    }\n",
              "\n",
              "    .dataframe thead th {\n",
              "        text-align: right;\n",
              "    }\n",
              "</style>\n",
              "<table border=\"1\" class=\"dataframe\">\n",
              "  <thead>\n",
              "    <tr style=\"text-align: right;\">\n",
              "      <th></th>\n",
              "      <th>Original</th>\n",
              "      <th>After embedding</th>\n",
              "    </tr>\n",
              "  </thead>\n",
              "  <tbody>\n",
              "    <tr>\n",
              "      <th>0</th>\n",
              "      <td>great song five stars</td>\n",
              "      <td>[[-0.013786, 0.38216, 0.53236, 0.15261, -0.296...</td>\n",
              "    </tr>\n",
              "    <tr>\n",
              "      <th>1</th>\n",
              "      <td>what can i say this the music i grew up on try...</td>\n",
              "      <td>[[-0.091682, 0.58105, 0.40477, -0.41979, -0.85...</td>\n",
              "    </tr>\n",
              "    <tr>\n",
              "      <th>2</th>\n",
              "      <td>it starts with pain followed by hate story of ...</td>\n",
              "      <td>[[0.23336, 0.16042, 0.050714, -0.0016366, -0.4...</td>\n",
              "    </tr>\n",
              "    <tr>\n",
              "      <th>3</th>\n",
              "      <td>5 five stars</td>\n",
              "      <td>[[0.062482, 0.47966, 0.11041, -0.32933, 0.4811...</td>\n",
              "    </tr>\n",
              "    <tr>\n",
              "      <th>4</th>\n",
              "      <td>whitney houstons version of this song is the b...</td>\n",
              "      <td>[[0.1347, 0.55149, -0.20511, -0.69281, 0.42393...</td>\n",
              "    </tr>\n",
              "    <tr>\n",
              "      <th>...</th>\n",
              "      <td>...</td>\n",
              "      <td>...</td>\n",
              "    </tr>\n",
              "    <tr>\n",
              "      <th>995</th>\n",
              "      <td>good compilation four stars</td>\n",
              "      <td>[[-0.030769, 0.11993, 0.53909, -0.43696, -0.73...</td>\n",
              "    </tr>\n",
              "    <tr>\n",
              "      <th>996</th>\n",
              "      <td>my cousin sings this every week when we go out...</td>\n",
              "      <td>[[0.53674, -0.42193, 0.41404, -0.13696, 0.0923...</td>\n",
              "    </tr>\n",
              "    <tr>\n",
              "      <th>997</th>\n",
              "      <td>good product  fast delivery five stars</td>\n",
              "      <td>[[-0.030769, 0.11993, 0.53909, -0.43696, -0.73...</td>\n",
              "    </tr>\n",
              "    <tr>\n",
              "      <th>998</th>\n",
              "      <td>elva ruby connes miller was truly one of the m...</td>\n",
              "      <td>[[0.026681, -0.060791, 0.011155, 0.028152, 0.0...</td>\n",
              "    </tr>\n",
              "    <tr>\n",
              "      <th>999</th>\n",
              "      <td>i first heard this song at my niece wedding fe...</td>\n",
              "      <td>[[-0.020102, 0.037514, 0.35363, 0.16576, 0.094...</td>\n",
              "    </tr>\n",
              "  </tbody>\n",
              "</table>\n",
              "<p>1000 rows × 2 columns</p>\n",
              "</div>\n",
              "      <button class=\"colab-df-convert\" onclick=\"convertToInteractive('df-c0ec2b0b-3bf2-4bf6-9be3-c09129b9df35')\"\n",
              "              title=\"Convert this dataframe to an interactive table.\"\n",
              "              style=\"display:none;\">\n",
              "        \n",
              "  <svg xmlns=\"http://www.w3.org/2000/svg\" height=\"24px\"viewBox=\"0 0 24 24\"\n",
              "       width=\"24px\">\n",
              "    <path d=\"M0 0h24v24H0V0z\" fill=\"none\"/>\n",
              "    <path d=\"M18.56 5.44l.94 2.06.94-2.06 2.06-.94-2.06-.94-.94-2.06-.94 2.06-2.06.94zm-11 1L8.5 8.5l.94-2.06 2.06-.94-2.06-.94L8.5 2.5l-.94 2.06-2.06.94zm10 10l.94 2.06.94-2.06 2.06-.94-2.06-.94-.94-2.06-.94 2.06-2.06.94z\"/><path d=\"M17.41 7.96l-1.37-1.37c-.4-.4-.92-.59-1.43-.59-.52 0-1.04.2-1.43.59L10.3 9.45l-7.72 7.72c-.78.78-.78 2.05 0 2.83L4 21.41c.39.39.9.59 1.41.59.51 0 1.02-.2 1.41-.59l7.78-7.78 2.81-2.81c.8-.78.8-2.07 0-2.86zM5.41 20L4 18.59l7.72-7.72 1.47 1.35L5.41 20z\"/>\n",
              "  </svg>\n",
              "      </button>\n",
              "      \n",
              "  <style>\n",
              "    .colab-df-container {\n",
              "      display:flex;\n",
              "      flex-wrap:wrap;\n",
              "      gap: 12px;\n",
              "    }\n",
              "\n",
              "    .colab-df-convert {\n",
              "      background-color: #E8F0FE;\n",
              "      border: none;\n",
              "      border-radius: 50%;\n",
              "      cursor: pointer;\n",
              "      display: none;\n",
              "      fill: #1967D2;\n",
              "      height: 32px;\n",
              "      padding: 0 0 0 0;\n",
              "      width: 32px;\n",
              "    }\n",
              "\n",
              "    .colab-df-convert:hover {\n",
              "      background-color: #E2EBFA;\n",
              "      box-shadow: 0px 1px 2px rgba(60, 64, 67, 0.3), 0px 1px 3px 1px rgba(60, 64, 67, 0.15);\n",
              "      fill: #174EA6;\n",
              "    }\n",
              "\n",
              "    [theme=dark] .colab-df-convert {\n",
              "      background-color: #3B4455;\n",
              "      fill: #D2E3FC;\n",
              "    }\n",
              "\n",
              "    [theme=dark] .colab-df-convert:hover {\n",
              "      background-color: #434B5C;\n",
              "      box-shadow: 0px 1px 3px 1px rgba(0, 0, 0, 0.15);\n",
              "      filter: drop-shadow(0px 1px 2px rgba(0, 0, 0, 0.3));\n",
              "      fill: #FFFFFF;\n",
              "    }\n",
              "  </style>\n",
              "\n",
              "      <script>\n",
              "        const buttonEl =\n",
              "          document.querySelector('#df-c0ec2b0b-3bf2-4bf6-9be3-c09129b9df35 button.colab-df-convert');\n",
              "        buttonEl.style.display =\n",
              "          google.colab.kernel.accessAllowed ? 'block' : 'none';\n",
              "\n",
              "        async function convertToInteractive(key) {\n",
              "          const element = document.querySelector('#df-c0ec2b0b-3bf2-4bf6-9be3-c09129b9df35');\n",
              "          const dataTable =\n",
              "            await google.colab.kernel.invokeFunction('convertToInteractive',\n",
              "                                                     [key], {});\n",
              "          if (!dataTable) return;\n",
              "\n",
              "          const docLinkHtml = 'Like what you see? Visit the ' +\n",
              "            '<a target=\"_blank\" href=https://colab.research.google.com/notebooks/data_table.ipynb>data table notebook</a>'\n",
              "            + ' to learn more about interactive tables.';\n",
              "          element.innerHTML = '';\n",
              "          dataTable['output_type'] = 'display_data';\n",
              "          await google.colab.output.renderOutput(dataTable, element);\n",
              "          const docLink = document.createElement('div');\n",
              "          docLink.innerHTML = docLinkHtml;\n",
              "          element.appendChild(docLink);\n",
              "        }\n",
              "      </script>\n",
              "    </div>\n",
              "  </div>\n",
              "  "
            ]
          },
          "metadata": {},
          "execution_count": 43
        }
      ]
    },
    {
      "cell_type": "markdown",
      "source": [
        "\n",
        "# 4. Modeling "
      ],
      "metadata": {
        "id": "58kTIY22vTQT"
      }
    },
    {
      "cell_type": "markdown",
      "metadata": {
        "id": "vXV9HF95Hrxw"
      },
      "source": [
        "## VADR sentiment"
      ]
    },
    {
      "cell_type": "code",
      "execution_count": 44,
      "metadata": {
        "id": "KL6HELwBnXSM"
      },
      "outputs": [],
      "source": [
        "import locale\n",
        "locale.getpreferredencoding = lambda: \"UTF-8\""
      ]
    },
    {
      "cell_type": "code",
      "execution_count": 45,
      "metadata": {
        "colab": {
          "base_uri": "https://localhost:8080/"
        },
        "id": "IWvKWCh_0_QM",
        "outputId": "cc7a9570-46b0-4507-8743-d6bf5cc938fc"
      },
      "outputs": [
        {
          "output_type": "stream",
          "name": "stdout",
          "text": [
            "Looking in indexes: https://pypi.org/simple, https://us-python.pkg.dev/colab-wheels/public/simple/\n",
            "Collecting vaderSentiment\n",
            "  Downloading vaderSentiment-3.3.2-py2.py3-none-any.whl (125 kB)\n",
            "\u001b[2K     \u001b[90m━━━━━━━━━━━━━━━━━━━━━━━━━━━━━━━━━━━━━━━\u001b[0m \u001b[32m126.0/126.0 KB\u001b[0m \u001b[31m6.8 MB/s\u001b[0m eta \u001b[36m0:00:00\u001b[0m\n",
            "\u001b[?25hRequirement already satisfied: requests in /usr/local/lib/python3.8/dist-packages (from vaderSentiment) (2.25.1)\n",
            "Requirement already satisfied: certifi>=2017.4.17 in /usr/local/lib/python3.8/dist-packages (from requests->vaderSentiment) (2022.12.7)\n",
            "Requirement already satisfied: chardet<5,>=3.0.2 in /usr/local/lib/python3.8/dist-packages (from requests->vaderSentiment) (4.0.0)\n",
            "Requirement already satisfied: idna<3,>=2.5 in /usr/local/lib/python3.8/dist-packages (from requests->vaderSentiment) (2.10)\n",
            "Requirement already satisfied: urllib3<1.27,>=1.21.1 in /usr/local/lib/python3.8/dist-packages (from requests->vaderSentiment) (1.26.14)\n",
            "Installing collected packages: vaderSentiment\n",
            "Successfully installed vaderSentiment-3.3.2\n"
          ]
        }
      ],
      "source": [
        "!pip install --upgrade vaderSentiment"
      ]
    },
    {
      "cell_type": "code",
      "execution_count": 46,
      "metadata": {
        "colab": {
          "base_uri": "https://localhost:8080/"
        },
        "id": "XlQxe2Oeyyc0",
        "outputId": "04c86f87-3d69-4184-96fd-44148d5f9dd4"
      },
      "outputs": [
        {
          "output_type": "stream",
          "name": "stderr",
          "text": [
            "[nltk_data] Downloading package sentiwordnet to /root/nltk_data...\n",
            "[nltk_data]   Unzipping corpora/sentiwordnet.zip.\n",
            "[nltk_data] Downloading package omw-1.4 to /root/nltk_data...\n"
          ]
        },
        {
          "output_type": "execute_result",
          "data": {
            "text/plain": [
              "True"
            ]
          },
          "metadata": {},
          "execution_count": 46
        }
      ],
      "source": [
        "nltk.download('sentiwordnet')\n",
        "nltk.download('omw-1.4')"
      ]
    },
    {
      "cell_type": "code",
      "execution_count": 47,
      "metadata": {
        "id": "JEijrtztivYM"
      },
      "outputs": [],
      "source": [
        "from vaderSentiment.vaderSentiment import SentimentIntensityAnalyzer"
      ]
    },
    {
      "cell_type": "code",
      "execution_count": 48,
      "metadata": {
        "id": "HPPaIA1iivYM"
      },
      "outputs": [],
      "source": [
        "def sentiment_scores(sentence):\n",
        " \n",
        "    # Create a SentimentIntensityAnalyzer object.\n",
        "    sid_obj = SentimentIntensityAnalyzer()\n",
        " \n",
        "    # polarity_scores method of SentimentIntensityAnalyzer\n",
        "    # object gives a sentiment dictionary.\n",
        "    # which contains pos, neg, neu, and compound scores.\n",
        "    sentiment_dict = sid_obj.polarity_scores(sentence)\n",
        "     \n",
        "    # decide sentiment as positive, negative and neutral\n",
        "    if sentiment_dict['compound'] >= 0 :\n",
        "        result = 'Positive'\n",
        " \n",
        "    elif sentiment_dict['compound'] < - 0.07 :\n",
        "        result = 'negative'\n",
        " \n",
        "    else :\n",
        "        result = 'Neurtral'\n",
        "    return result, sentiment_dict\n",
        "\n",
        "\n",
        "\n",
        "    # print(\"Overall sentiment dictionary is : \", sentiment_dict)\n",
        "    # print(\"sentence was rated as \", sentiment_dict['neg']*100, \"% Negative\")\n",
        "    # print(\"sentence was rated as \", sentiment_dict['neu']*100, \"% Neutral\")\n",
        "    # print(\"sentence was rated as \", sentiment_dict['pos']*100, \"% Positive\")\n",
        " \n",
        "    # print(\"Sentence Overall Rated As\", end = \" \")\n",
        " \n",
        "    # # decide sentiment as positive, negative and neutral\n",
        "    # if sentiment_dict['compound'] >= 0.05 :\n",
        "    #     print(\"Positive\")\n",
        " \n",
        "    # elif sentiment_dict['compound'] <= - 0.05 :\n",
        "    #     print(\"Negative\")\n",
        " \n",
        "    # else :\n",
        "    #     print(\"Neutral\")"
      ]
    },
    {
      "cell_type": "code",
      "execution_count": 49,
      "metadata": {
        "colab": {
          "base_uri": "https://localhost:8080/"
        },
        "id": "GK55roSGivYN",
        "outputId": "4b9c2c2c-c5f3-4dec-c765-787da8c353db"
      },
      "outputs": [
        {
          "output_type": "execute_result",
          "data": {
            "text/plain": [
              "133839                                 great song five star\n",
              "132014         say music grew tri youll like tri youll like\n",
              "165975              start pain follow hate stori life speak\n",
              "47346                                           5 five star\n",
              "138675    whitney houston version song best version ive ...\n",
              "                                ...                        \n",
              "87648                                 good compil four star\n",
              "29173     cousin sing everi week go karaok great comfort...\n",
              "99609                  good product fast deliveri five star\n",
              "9240      elva rubi conn miller truli one amaz voic twen...\n",
              "15588     first heard song niec wed felt love glad saw s...\n",
              "Name: NewReview, Length: 1000, dtype: object"
            ]
          },
          "metadata": {},
          "execution_count": 49
        }
      ],
      "source": [
        "sample_df['NewReview']"
      ]
    },
    {
      "cell_type": "code",
      "execution_count": 50,
      "metadata": {
        "id": "y259TF8eivYN"
      },
      "outputs": [],
      "source": [
        "sample_df.reset_index(inplace=True)"
      ]
    },
    {
      "cell_type": "code",
      "execution_count": 51,
      "metadata": {
        "id": "i1rdr-v8ivYN"
      },
      "outputs": [],
      "source": [
        "# sentiment_scores(sample_df['NewReview'][0])\n"
      ]
    },
    {
      "cell_type": "code",
      "execution_count": 52,
      "metadata": {
        "id": "FY59ga4FynDd"
      },
      "outputs": [],
      "source": [
        "# from nltk.corpus import sentiwordnet as swn\n",
        "# breakdown = swn.senti_synset('breakdown.n.03')"
      ]
    },
    {
      "cell_type": "code",
      "execution_count": 53,
      "metadata": {
        "id": "V--MZPfSy58f"
      },
      "outputs": [],
      "source": [
        "# list(swn.senti_synsets('slow'))"
      ]
    },
    {
      "cell_type": "code",
      "source": [
        "sample_df['SentimentScores'] = sample_df['NewReview'].apply(lambda x: sentiment_scores(x))\n",
        "sample_df[['PredictedSentiment','SentimentDict']] = sample_df['SentimentScores'].apply(lambda x: pd.Series([x[0], x[1]]))"
      ],
      "metadata": {
        "id": "A87vxb_bpz7L"
      },
      "execution_count": 54,
      "outputs": []
    },
    {
      "cell_type": "code",
      "source": [
        "sample_df['SentimentScores'][10] , sample_df['Sentiment'][10], sample_df['NewReview'][10]"
      ],
      "metadata": {
        "colab": {
          "base_uri": "https://localhost:8080/"
        },
        "id": "KTHRSnPCp2nl",
        "outputId": "1367db7a-8bd9-403a-a213-8f23c79d8542"
      },
      "execution_count": 55,
      "outputs": [
        {
          "output_type": "execute_result",
          "data": {
            "text/plain": [
              "(('Positive', {'neg': 0.0, 'neu': 1.0, 'pos': 0.0, 'compound': 0.0}),\n",
              " 'Positive',\n",
              " 'awesom song five star')"
            ]
          },
          "metadata": {},
          "execution_count": 55
        }
      ]
    },
    {
      "cell_type": "code",
      "source": [
        "# Define a function to compute the accuracy\n",
        "def compute_accuracy(row):\n",
        "    if row['PredictedSentiment'] == row['Sentiment']:\n",
        "        return 1\n",
        "    else:\n",
        "        return 0\n",
        "\n",
        "# Apply the function to each row and save the results to a new column\n",
        "sample_df['accuracy'] = sample_df.apply(compute_accuracy, axis=1)\n",
        "\n",
        "# Compute the overall accuracy\n",
        "accuracy = sample_df['accuracy'].sum() / len(sample_df)\n",
        "print(f\"Overall accuracy: {accuracy}\")"
      ],
      "metadata": {
        "colab": {
          "base_uri": "https://localhost:8080/"
        },
        "id": "_gtDkCtdp4cr",
        "outputId": "835943eb-f0e1-48d8-b4c6-8b4573bbef5c"
      },
      "execution_count": 56,
      "outputs": [
        {
          "output_type": "stream",
          "name": "stdout",
          "text": [
            "Overall accuracy: 0.914\n"
          ]
        }
      ]
    },
    {
      "cell_type": "markdown",
      "metadata": {
        "id": "tPIPUZ7bowNI"
      },
      "source": [
        "## Text blob"
      ]
    },
    {
      "cell_type": "code",
      "execution_count": 57,
      "metadata": {
        "id": "rSA_OTWvovRL"
      },
      "outputs": [],
      "source": [
        "from textblob import TextBlob"
      ]
    },
    {
      "cell_type": "code",
      "execution_count": 58,
      "metadata": {
        "id": "yjHn9-nio4ij"
      },
      "outputs": [],
      "source": [
        "wiki = TextBlob(sample_df['NewReview'][0])"
      ]
    },
    {
      "cell_type": "code",
      "execution_count": 59,
      "metadata": {
        "colab": {
          "base_uri": "https://localhost:8080/"
        },
        "id": "SuIrcIEKqFAp",
        "outputId": "3bb38e47-37e6-499c-d23f-59b867800bcf"
      },
      "outputs": [
        {
          "output_type": "stream",
          "name": "stderr",
          "text": [
            "[nltk_data] Downloading package punkt to /root/nltk_data...\n",
            "[nltk_data]   Package punkt is already up-to-date!\n",
            "[nltk_data] Downloading package brown to /root/nltk_data...\n",
            "[nltk_data]   Package brown is already up-to-date!\n"
          ]
        },
        {
          "output_type": "execute_result",
          "data": {
            "text/plain": [
              "True"
            ]
          },
          "metadata": {},
          "execution_count": 59
        }
      ],
      "source": [
        "import nltk\n",
        "nltk.download('punkt')\n",
        "nltk.download('brown')"
      ]
    },
    {
      "cell_type": "code",
      "execution_count": 60,
      "metadata": {
        "colab": {
          "base_uri": "https://localhost:8080/"
        },
        "id": "ghGVoe4Sp0hd",
        "outputId": "16eca5a8-2d78-4a7d-b1b8-39865c7af409"
      },
      "outputs": [
        {
          "output_type": "execute_result",
          "data": {
            "text/plain": [
              "[('great', 'JJ'), ('song', 'NN'), ('five', 'CD'), ('star', 'NN')]"
            ]
          },
          "metadata": {},
          "execution_count": 60
        }
      ],
      "source": [
        "#Parts of Speech\n",
        "wiki.tags"
      ]
    },
    {
      "cell_type": "code",
      "execution_count": 61,
      "metadata": {
        "colab": {
          "base_uri": "https://localhost:8080/"
        },
        "id": "3Z4kvEbFqBeE",
        "outputId": "0addec4f-222d-4c39-f996-733b702d80a3"
      },
      "outputs": [
        {
          "output_type": "execute_result",
          "data": {
            "text/plain": [
              "WordList(['great song'])"
            ]
          },
          "metadata": {},
          "execution_count": 61
        }
      ],
      "source": [
        "wiki.noun_phrases"
      ]
    },
    {
      "cell_type": "code",
      "execution_count": 62,
      "metadata": {
        "colab": {
          "base_uri": "https://localhost:8080/"
        },
        "id": "Sg9i4m6GqPyp",
        "outputId": "f51eaa56-5d9f-4d41-97ff-8a463c07bc26"
      },
      "outputs": [
        {
          "output_type": "execute_result",
          "data": {
            "text/plain": [
              "Sentiment(polarity=0.8, subjectivity=0.75)"
            ]
          },
          "metadata": {},
          "execution_count": 62
        }
      ],
      "source": [
        "wiki.sentiment"
      ]
    },
    {
      "cell_type": "code",
      "execution_count": 63,
      "metadata": {
        "colab": {
          "base_uri": "https://localhost:8080/"
        },
        "id": "IZDZnfdSqaha",
        "outputId": "cd0733fc-8fde-4a36-e36d-91b8363e3ce8"
      },
      "outputs": [
        {
          "output_type": "execute_result",
          "data": {
            "text/plain": [
              "WordList(['great', 'song', 'five', 'star'])"
            ]
          },
          "metadata": {},
          "execution_count": 63
        }
      ],
      "source": [
        "wiki.words"
      ]
    },
    {
      "cell_type": "code",
      "execution_count": 64,
      "metadata": {
        "id": "Wik8Qj4Wq8Iy"
      },
      "outputs": [],
      "source": [
        "df_textblob = sample_df"
      ]
    },
    {
      "cell_type": "code",
      "execution_count": 65,
      "metadata": {
        "id": "g60Q-N5tqePE"
      },
      "outputs": [],
      "source": [
        "df_textblob['sentiment'] = sample_df['NewReview'].apply(lambda tweet: TextBlob(tweet).sentiment)"
      ]
    },
    {
      "cell_type": "code",
      "execution_count": 66,
      "metadata": {
        "id": "oNFWVOhlrD-9"
      },
      "outputs": [],
      "source": [
        "def sentiment_calc(text):\n",
        "    try:\n",
        "        return TextBlob(text).sentiment\n",
        "    except:\n",
        "        return None\n",
        "\n",
        "df_textblob['sentiment'] = sample_df['NewReview'].apply(sentiment_calc)"
      ]
    },
    {
      "cell_type": "code",
      "execution_count": 67,
      "metadata": {
        "colab": {
          "base_uri": "https://localhost:8080/",
          "height": 815
        },
        "id": "4Kb3QcvWrOia",
        "outputId": "c91e3bc6-5849-4d96-f164-3a283aa37bf8"
      },
      "outputs": [
        {
          "output_type": "execute_result",
          "data": {
            "text/plain": [
              "      index  overall  verified        asin Sentiment  \\\n",
              "0    133839      5.0      True  B00136LMJ8  Positive   \n",
              "1    132014      5.0      True  B0012486CM  Positive   \n",
              "2    165975      4.0      True  B00QNJW6L8  Positive   \n",
              "3     47346      5.0      True  B00137MPOI  Positive   \n",
              "4    138675      5.0      True  B00137X9O8  Positive   \n",
              "..      ...      ...       ...         ...       ...   \n",
              "995   87648      4.0      True  B00C6MPXUM  Positive   \n",
              "996   29173      5.0     False  B000VRQQRS  Positive   \n",
              "997   99609      5.0      True  B00JRZP3EC  Positive   \n",
              "998    9240      5.0      True  B000WAJIE2  Positive   \n",
              "999   15588      5.0      True  B00122Z1F4  Positive   \n",
              "\n",
              "                                             NewReview  review_length  \\\n",
              "0                                 great song five star              4   \n",
              "1         say music grew tri youll like tri youll like             19   \n",
              "2              start pain follow hate stori life speak             14   \n",
              "3                                          5 five star              3   \n",
              "4    whitney houston version song best version ive ...             45   \n",
              "..                                                 ...            ...   \n",
              "995                              good compil four star              4   \n",
              "996  cousin sing everi week go karaok great comfort...             28   \n",
              "997               good product fast deliveri five star              7   \n",
              "998  elva rubi conn miller truli one amaz voic twen...            233   \n",
              "999  first heard song niec wed felt love glad saw s...             47   \n",
              "\n",
              "                                       SentimentScores PredictedSentiment  \\\n",
              "0    (Positive, {'neg': 0.0, 'neu': 0.423, 'pos': 0...           Positive   \n",
              "1    (Positive, {'neg': 0.0, 'neu': 0.583, 'pos': 0...           Positive   \n",
              "2    (negative, {'neg': 0.583, 'neu': 0.417, 'pos':...           negative   \n",
              "3    (Positive, {'neg': 0.0, 'neu': 1.0, 'pos': 0.0...           Positive   \n",
              "4    (Positive, {'neg': 0.0, 'neu': 0.514, 'pos': 0...           Positive   \n",
              "..                                                 ...                ...   \n",
              "995  (Positive, {'neg': 0.0, 'neu': 0.508, 'pos': 0...           Positive   \n",
              "996  (Positive, {'neg': 0.155, 'neu': 0.442, 'pos':...           Positive   \n",
              "997  (Positive, {'neg': 0.0, 'neu': 0.633, 'pos': 0...           Positive   \n",
              "998  (Positive, {'neg': 0.056, 'neu': 0.715, 'pos':...           Positive   \n",
              "999  (Positive, {'neg': 0.0, 'neu': 0.496, 'pos': 0...           Positive   \n",
              "\n",
              "                                         SentimentDict  accuracy  \\\n",
              "0    {'neg': 0.0, 'neu': 0.423, 'pos': 0.577, 'comp...         1   \n",
              "1    {'neg': 0.0, 'neu': 0.583, 'pos': 0.417, 'comp...         1   \n",
              "2    {'neg': 0.583, 'neu': 0.417, 'pos': 0.0, 'comp...         0   \n",
              "3    {'neg': 0.0, 'neu': 1.0, 'pos': 0.0, 'compound...         1   \n",
              "4    {'neg': 0.0, 'neu': 0.514, 'pos': 0.486, 'comp...         1   \n",
              "..                                                 ...       ...   \n",
              "995  {'neg': 0.0, 'neu': 0.508, 'pos': 0.492, 'comp...         1   \n",
              "996  {'neg': 0.155, 'neu': 0.442, 'pos': 0.403, 'co...         1   \n",
              "997  {'neg': 0.0, 'neu': 0.633, 'pos': 0.367, 'comp...         1   \n",
              "998  {'neg': 0.056, 'neu': 0.715, 'pos': 0.228, 'co...         1   \n",
              "999  {'neg': 0.0, 'neu': 0.496, 'pos': 0.504, 'comp...         1   \n",
              "\n",
              "                                     sentiment  \n",
              "0                                  (0.8, 0.75)  \n",
              "1                                   (0.0, 0.0)  \n",
              "2                                  (-0.8, 0.9)  \n",
              "3                                   (0.0, 0.0)  \n",
              "4                   (0.62, 0.5399999999999999)  \n",
              "..                                         ...  \n",
              "995                  (0.7, 0.6000000000000001)  \n",
              "996   (0.0500000000000001, 0.7083333333333333)  \n",
              "997  (0.44999999999999996, 0.6000000000000001)  \n",
              "998   (0.2590909090909091, 0.3959595959595959)  \n",
              "999                 (0.45, 0.6866666666666668)  \n",
              "\n",
              "[1000 rows x 12 columns]"
            ],
            "text/html": [
              "\n",
              "  <div id=\"df-3f136324-ea48-40f0-afb5-04e28c6d9c3e\">\n",
              "    <div class=\"colab-df-container\">\n",
              "      <div>\n",
              "<style scoped>\n",
              "    .dataframe tbody tr th:only-of-type {\n",
              "        vertical-align: middle;\n",
              "    }\n",
              "\n",
              "    .dataframe tbody tr th {\n",
              "        vertical-align: top;\n",
              "    }\n",
              "\n",
              "    .dataframe thead th {\n",
              "        text-align: right;\n",
              "    }\n",
              "</style>\n",
              "<table border=\"1\" class=\"dataframe\">\n",
              "  <thead>\n",
              "    <tr style=\"text-align: right;\">\n",
              "      <th></th>\n",
              "      <th>index</th>\n",
              "      <th>overall</th>\n",
              "      <th>verified</th>\n",
              "      <th>asin</th>\n",
              "      <th>Sentiment</th>\n",
              "      <th>NewReview</th>\n",
              "      <th>review_length</th>\n",
              "      <th>SentimentScores</th>\n",
              "      <th>PredictedSentiment</th>\n",
              "      <th>SentimentDict</th>\n",
              "      <th>accuracy</th>\n",
              "      <th>sentiment</th>\n",
              "    </tr>\n",
              "  </thead>\n",
              "  <tbody>\n",
              "    <tr>\n",
              "      <th>0</th>\n",
              "      <td>133839</td>\n",
              "      <td>5.0</td>\n",
              "      <td>True</td>\n",
              "      <td>B00136LMJ8</td>\n",
              "      <td>Positive</td>\n",
              "      <td>great song five star</td>\n",
              "      <td>4</td>\n",
              "      <td>(Positive, {'neg': 0.0, 'neu': 0.423, 'pos': 0...</td>\n",
              "      <td>Positive</td>\n",
              "      <td>{'neg': 0.0, 'neu': 0.423, 'pos': 0.577, 'comp...</td>\n",
              "      <td>1</td>\n",
              "      <td>(0.8, 0.75)</td>\n",
              "    </tr>\n",
              "    <tr>\n",
              "      <th>1</th>\n",
              "      <td>132014</td>\n",
              "      <td>5.0</td>\n",
              "      <td>True</td>\n",
              "      <td>B0012486CM</td>\n",
              "      <td>Positive</td>\n",
              "      <td>say music grew tri youll like tri youll like</td>\n",
              "      <td>19</td>\n",
              "      <td>(Positive, {'neg': 0.0, 'neu': 0.583, 'pos': 0...</td>\n",
              "      <td>Positive</td>\n",
              "      <td>{'neg': 0.0, 'neu': 0.583, 'pos': 0.417, 'comp...</td>\n",
              "      <td>1</td>\n",
              "      <td>(0.0, 0.0)</td>\n",
              "    </tr>\n",
              "    <tr>\n",
              "      <th>2</th>\n",
              "      <td>165975</td>\n",
              "      <td>4.0</td>\n",
              "      <td>True</td>\n",
              "      <td>B00QNJW6L8</td>\n",
              "      <td>Positive</td>\n",
              "      <td>start pain follow hate stori life speak</td>\n",
              "      <td>14</td>\n",
              "      <td>(negative, {'neg': 0.583, 'neu': 0.417, 'pos':...</td>\n",
              "      <td>negative</td>\n",
              "      <td>{'neg': 0.583, 'neu': 0.417, 'pos': 0.0, 'comp...</td>\n",
              "      <td>0</td>\n",
              "      <td>(-0.8, 0.9)</td>\n",
              "    </tr>\n",
              "    <tr>\n",
              "      <th>3</th>\n",
              "      <td>47346</td>\n",
              "      <td>5.0</td>\n",
              "      <td>True</td>\n",
              "      <td>B00137MPOI</td>\n",
              "      <td>Positive</td>\n",
              "      <td>5 five star</td>\n",
              "      <td>3</td>\n",
              "      <td>(Positive, {'neg': 0.0, 'neu': 1.0, 'pos': 0.0...</td>\n",
              "      <td>Positive</td>\n",
              "      <td>{'neg': 0.0, 'neu': 1.0, 'pos': 0.0, 'compound...</td>\n",
              "      <td>1</td>\n",
              "      <td>(0.0, 0.0)</td>\n",
              "    </tr>\n",
              "    <tr>\n",
              "      <th>4</th>\n",
              "      <td>138675</td>\n",
              "      <td>5.0</td>\n",
              "      <td>True</td>\n",
              "      <td>B00137X9O8</td>\n",
              "      <td>Positive</td>\n",
              "      <td>whitney houston version song best version ive ...</td>\n",
              "      <td>45</td>\n",
              "      <td>(Positive, {'neg': 0.0, 'neu': 0.514, 'pos': 0...</td>\n",
              "      <td>Positive</td>\n",
              "      <td>{'neg': 0.0, 'neu': 0.514, 'pos': 0.486, 'comp...</td>\n",
              "      <td>1</td>\n",
              "      <td>(0.62, 0.5399999999999999)</td>\n",
              "    </tr>\n",
              "    <tr>\n",
              "      <th>...</th>\n",
              "      <td>...</td>\n",
              "      <td>...</td>\n",
              "      <td>...</td>\n",
              "      <td>...</td>\n",
              "      <td>...</td>\n",
              "      <td>...</td>\n",
              "      <td>...</td>\n",
              "      <td>...</td>\n",
              "      <td>...</td>\n",
              "      <td>...</td>\n",
              "      <td>...</td>\n",
              "      <td>...</td>\n",
              "    </tr>\n",
              "    <tr>\n",
              "      <th>995</th>\n",
              "      <td>87648</td>\n",
              "      <td>4.0</td>\n",
              "      <td>True</td>\n",
              "      <td>B00C6MPXUM</td>\n",
              "      <td>Positive</td>\n",
              "      <td>good compil four star</td>\n",
              "      <td>4</td>\n",
              "      <td>(Positive, {'neg': 0.0, 'neu': 0.508, 'pos': 0...</td>\n",
              "      <td>Positive</td>\n",
              "      <td>{'neg': 0.0, 'neu': 0.508, 'pos': 0.492, 'comp...</td>\n",
              "      <td>1</td>\n",
              "      <td>(0.7, 0.6000000000000001)</td>\n",
              "    </tr>\n",
              "    <tr>\n",
              "      <th>996</th>\n",
              "      <td>29173</td>\n",
              "      <td>5.0</td>\n",
              "      <td>False</td>\n",
              "      <td>B000VRQQRS</td>\n",
              "      <td>Positive</td>\n",
              "      <td>cousin sing everi week go karaok great comfort...</td>\n",
              "      <td>28</td>\n",
              "      <td>(Positive, {'neg': 0.155, 'neu': 0.442, 'pos':...</td>\n",
              "      <td>Positive</td>\n",
              "      <td>{'neg': 0.155, 'neu': 0.442, 'pos': 0.403, 'co...</td>\n",
              "      <td>1</td>\n",
              "      <td>(0.0500000000000001, 0.7083333333333333)</td>\n",
              "    </tr>\n",
              "    <tr>\n",
              "      <th>997</th>\n",
              "      <td>99609</td>\n",
              "      <td>5.0</td>\n",
              "      <td>True</td>\n",
              "      <td>B00JRZP3EC</td>\n",
              "      <td>Positive</td>\n",
              "      <td>good product fast deliveri five star</td>\n",
              "      <td>7</td>\n",
              "      <td>(Positive, {'neg': 0.0, 'neu': 0.633, 'pos': 0...</td>\n",
              "      <td>Positive</td>\n",
              "      <td>{'neg': 0.0, 'neu': 0.633, 'pos': 0.367, 'comp...</td>\n",
              "      <td>1</td>\n",
              "      <td>(0.44999999999999996, 0.6000000000000001)</td>\n",
              "    </tr>\n",
              "    <tr>\n",
              "      <th>998</th>\n",
              "      <td>9240</td>\n",
              "      <td>5.0</td>\n",
              "      <td>True</td>\n",
              "      <td>B000WAJIE2</td>\n",
              "      <td>Positive</td>\n",
              "      <td>elva rubi conn miller truli one amaz voic twen...</td>\n",
              "      <td>233</td>\n",
              "      <td>(Positive, {'neg': 0.056, 'neu': 0.715, 'pos':...</td>\n",
              "      <td>Positive</td>\n",
              "      <td>{'neg': 0.056, 'neu': 0.715, 'pos': 0.228, 'co...</td>\n",
              "      <td>1</td>\n",
              "      <td>(0.2590909090909091, 0.3959595959595959)</td>\n",
              "    </tr>\n",
              "    <tr>\n",
              "      <th>999</th>\n",
              "      <td>15588</td>\n",
              "      <td>5.0</td>\n",
              "      <td>True</td>\n",
              "      <td>B00122Z1F4</td>\n",
              "      <td>Positive</td>\n",
              "      <td>first heard song niec wed felt love glad saw s...</td>\n",
              "      <td>47</td>\n",
              "      <td>(Positive, {'neg': 0.0, 'neu': 0.496, 'pos': 0...</td>\n",
              "      <td>Positive</td>\n",
              "      <td>{'neg': 0.0, 'neu': 0.496, 'pos': 0.504, 'comp...</td>\n",
              "      <td>1</td>\n",
              "      <td>(0.45, 0.6866666666666668)</td>\n",
              "    </tr>\n",
              "  </tbody>\n",
              "</table>\n",
              "<p>1000 rows × 12 columns</p>\n",
              "</div>\n",
              "      <button class=\"colab-df-convert\" onclick=\"convertToInteractive('df-3f136324-ea48-40f0-afb5-04e28c6d9c3e')\"\n",
              "              title=\"Convert this dataframe to an interactive table.\"\n",
              "              style=\"display:none;\">\n",
              "        \n",
              "  <svg xmlns=\"http://www.w3.org/2000/svg\" height=\"24px\"viewBox=\"0 0 24 24\"\n",
              "       width=\"24px\">\n",
              "    <path d=\"M0 0h24v24H0V0z\" fill=\"none\"/>\n",
              "    <path d=\"M18.56 5.44l.94 2.06.94-2.06 2.06-.94-2.06-.94-.94-2.06-.94 2.06-2.06.94zm-11 1L8.5 8.5l.94-2.06 2.06-.94-2.06-.94L8.5 2.5l-.94 2.06-2.06.94zm10 10l.94 2.06.94-2.06 2.06-.94-2.06-.94-.94-2.06-.94 2.06-2.06.94z\"/><path d=\"M17.41 7.96l-1.37-1.37c-.4-.4-.92-.59-1.43-.59-.52 0-1.04.2-1.43.59L10.3 9.45l-7.72 7.72c-.78.78-.78 2.05 0 2.83L4 21.41c.39.39.9.59 1.41.59.51 0 1.02-.2 1.41-.59l7.78-7.78 2.81-2.81c.8-.78.8-2.07 0-2.86zM5.41 20L4 18.59l7.72-7.72 1.47 1.35L5.41 20z\"/>\n",
              "  </svg>\n",
              "      </button>\n",
              "      \n",
              "  <style>\n",
              "    .colab-df-container {\n",
              "      display:flex;\n",
              "      flex-wrap:wrap;\n",
              "      gap: 12px;\n",
              "    }\n",
              "\n",
              "    .colab-df-convert {\n",
              "      background-color: #E8F0FE;\n",
              "      border: none;\n",
              "      border-radius: 50%;\n",
              "      cursor: pointer;\n",
              "      display: none;\n",
              "      fill: #1967D2;\n",
              "      height: 32px;\n",
              "      padding: 0 0 0 0;\n",
              "      width: 32px;\n",
              "    }\n",
              "\n",
              "    .colab-df-convert:hover {\n",
              "      background-color: #E2EBFA;\n",
              "      box-shadow: 0px 1px 2px rgba(60, 64, 67, 0.3), 0px 1px 3px 1px rgba(60, 64, 67, 0.15);\n",
              "      fill: #174EA6;\n",
              "    }\n",
              "\n",
              "    [theme=dark] .colab-df-convert {\n",
              "      background-color: #3B4455;\n",
              "      fill: #D2E3FC;\n",
              "    }\n",
              "\n",
              "    [theme=dark] .colab-df-convert:hover {\n",
              "      background-color: #434B5C;\n",
              "      box-shadow: 0px 1px 3px 1px rgba(0, 0, 0, 0.15);\n",
              "      filter: drop-shadow(0px 1px 2px rgba(0, 0, 0, 0.3));\n",
              "      fill: #FFFFFF;\n",
              "    }\n",
              "  </style>\n",
              "\n",
              "      <script>\n",
              "        const buttonEl =\n",
              "          document.querySelector('#df-3f136324-ea48-40f0-afb5-04e28c6d9c3e button.colab-df-convert');\n",
              "        buttonEl.style.display =\n",
              "          google.colab.kernel.accessAllowed ? 'block' : 'none';\n",
              "\n",
              "        async function convertToInteractive(key) {\n",
              "          const element = document.querySelector('#df-3f136324-ea48-40f0-afb5-04e28c6d9c3e');\n",
              "          const dataTable =\n",
              "            await google.colab.kernel.invokeFunction('convertToInteractive',\n",
              "                                                     [key], {});\n",
              "          if (!dataTable) return;\n",
              "\n",
              "          const docLinkHtml = 'Like what you see? Visit the ' +\n",
              "            '<a target=\"_blank\" href=https://colab.research.google.com/notebooks/data_table.ipynb>data table notebook</a>'\n",
              "            + ' to learn more about interactive tables.';\n",
              "          element.innerHTML = '';\n",
              "          dataTable['output_type'] = 'display_data';\n",
              "          await google.colab.output.renderOutput(dataTable, element);\n",
              "          const docLink = document.createElement('div');\n",
              "          docLink.innerHTML = docLinkHtml;\n",
              "          element.appendChild(docLink);\n",
              "        }\n",
              "      </script>\n",
              "    </div>\n",
              "  </div>\n",
              "  "
            ]
          },
          "metadata": {},
          "execution_count": 67
        }
      ],
      "source": [
        "df_textblob"
      ]
    },
    {
      "cell_type": "code",
      "execution_count": 67,
      "metadata": {
        "id": "4YIj7KoGrWLH"
      },
      "outputs": [],
      "source": []
    },
    {
      "cell_type": "markdown",
      "metadata": {
        "id": "DMqLu0BeHrxu"
      },
      "source": [
        "## Word Cloud"
      ]
    },
    {
      "cell_type": "code",
      "execution_count": 68,
      "metadata": {
        "colab": {
          "base_uri": "https://localhost:8080/",
          "height": 466
        },
        "id": "QI8ulTWRi4O8",
        "outputId": "abc31a8b-f4e4-45d9-9112-303e273f7c7a"
      },
      "outputs": [
        {
          "output_type": "display_data",
          "data": {
            "text/plain": [
              "<Figure size 576x576 with 1 Axes>"
            ],
            "image/png": "[encoded data removed]"
          },
          "metadata": {
            "needs_background": "light"
          }
        }
      ],
      "source": [
        "#Code take from GFG to generate Word Cloud\n",
        "\n",
        "comment_words = ''\n",
        "stopwords = set(STOPWORDS)\n",
        " \n",
        "# iterate through the csv file\n",
        "for val in ptext:\n",
        "     \n",
        "    # typecaste each val to string\n",
        "    val = str(val)\n",
        " \n",
        "    # split the value\n",
        "    tokens = val.split()\n",
        "     \n",
        "    # Converts each token into lowercase\n",
        "    for i in range(len(tokens)):\n",
        "        tokens[i] = tokens[i].lower()\n",
        "     \n",
        "    comment_words += \" \".join(tokens)+\" \"\n",
        "\n",
        "#Generate word cloud\n",
        "wordcloud = WordCloud(width = 800, height = 800,\n",
        "                background_color ='black',\n",
        "                stopwords = stopwords,\n",
        "                min_font_size = 10).generate(comment_words)\n",
        " \n",
        "#Plot the WordCloud image                      \n",
        "plt.figure(figsize = (8, 8), facecolor = None)\n",
        "plt.imshow(wordcloud)\n",
        "plt.axis(\"off\")\n",
        " \n",
        "plt.show()"
      ]
    }
  ],
  "metadata": {
    "colab": {
      "provenance": []
    },
    "gpuClass": "standard",
    "kernelspec": {
      "display_name": "Python 3 (ipykernel)",
      "language": "python",
      "name": "python3"
    },
    "language_info": {
      "codemirror_mode": {
        "name": "ipython",
        "version": 3
      },
      "file_extension": ".py",
      "mimetype": "text/x-python",
      "name": "python",
      "nbconvert_exporter": "python",
      "pygments_lexer": "ipython3",
      "version": "3.9.15"
    },
    "vscode": {
      "interpreter": {
        "hash": "5b8f17365b4d5f240483afef44bca8ebe6c470ce8044008344980ae5c331b88f"
      }
    }
  },
  "nbformat": 4,
  "nbformat_minor": 0
}