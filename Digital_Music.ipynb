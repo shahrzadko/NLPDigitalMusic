{
  "cells": [
    {
      "cell_type": "markdown",
      "metadata": {
        "id": "wXUHxfvjHrxp"
      },
      "source": [
        "# 1. Dataset & Data exploration "
      ]
    },
    {
      "cell_type": "markdown",
      "metadata": {
        "id": "p4-6gMdGHrxr"
      },
      "source": [
        "### Import libraries"
      ]
    },
    {
      "cell_type": "code",
      "execution_count": 1,
      "metadata": {
        "colab": {
          "base_uri": "https://localhost:8080/"
        },
        "id": "kkybWHgCHrxr",
        "outputId": "a4332cb9-8a29-41a2-9b45-9dc305e1f705"
      },
      "outputs": [
        {
          "output_type": "stream",
          "name": "stderr",
          "text": [
            "/usr/local/lib/python3.8/dist-packages/torch/cuda/__init__.py:497: UserWarning: Can't initialize NVML\n",
            "  warnings.warn(\"Can't initialize NVML\")\n",
            "[nltk_data] Downloading package stopwords to /root/nltk_data...\n",
            "[nltk_data]   Package stopwords is already up-to-date!\n",
            "[nltk_data] Downloading package wordnet to /root/nltk_data...\n",
            "[nltk_data]   Package wordnet is already up-to-date!\n",
            "[nltk_data] Downloading package genesis to /root/nltk_data...\n",
            "[nltk_data]   Package genesis is already up-to-date!\n",
            "[nltk_data] Downloading package averaged_perceptron_tagger to\n",
            "[nltk_data]     /root/nltk_data...\n",
            "[nltk_data]   Package averaged_perceptron_tagger is already up-to-\n",
            "[nltk_data]       date!\n"
          ]
        }
      ],
      "source": [
        "import pandas as pd\n",
        "import numpy as np\n",
        "import matplotlib.pyplot as plt\n",
        "import gzip\n",
        "import nltk\n",
        "import spacy\n",
        "import string\n",
        "import re\n",
        "import warnings\n",
        "\n",
        "from nltk.corpus import stopwords\n",
        "from nltk.collocations import *\n",
        "from collections import Counter\n",
        "from nltk.stem import porter\n",
        "from wordcloud import WordCloud, STOPWORDS\n",
        "\n",
        "nltk.download('stopwords')\n",
        "nltk.download('wordnet')\n",
        "nltk.download('genesis')\n",
        "nltk.download('averaged_perceptron_tagger')\n",
        "\n",
        "stop_words = set(stopwords.words('english'))\n",
        "stemmer = porter.PorterStemmer()\n",
        "\n",
        "warnings.simplefilter(action='ignore', category=FutureWarning)\n",
        "warnings.simplefilter(action='ignore', category=DeprecationWarning)\n",
        "\n",
        "nlp = spacy.load(\"en_core_web_sm\")"
      ]
    },
    {
      "cell_type": "markdown",
      "metadata": {
        "id": "KiYHzXeBJMBP"
      },
      "source": [
        "## Importing the dataset"
      ]
    },
    {
      "cell_type": "code",
      "execution_count": 2,
      "metadata": {
        "id": "7nDOeR2UHrxt"
      },
      "outputs": [],
      "source": [
        "# Importing the dataset\n",
        "url = 'https://raw.githubusercontent.com/shahrzadko/NLPDigitalMusic/main/Digital_Music_5.json?token=GHSAT0AAAAAAB6LOL42SKHPCCMIVYPOC4REY7AKE2Q'\n",
        "df_raw = pd.read_json(url)\n",
        "full_df = pd.DataFrame.from_records(df_raw['data'])\n"
      ]
    },
    {
      "cell_type": "code",
      "execution_count": 3,
      "metadata": {
        "colab": {
          "base_uri": "https://localhost:8080/",
          "height": 337
        },
        "id": "YWWA0cAjjMyD",
        "outputId": "8b466274-6a31-4f68-9c10-221b9ac0f758"
      },
      "outputs": [
        {
          "output_type": "execute_result",
          "data": {
            "text/plain": [
              "   overall vote  verified   reviewTime      reviewerID        asin  \\\n",
              "0      5.0    3      True   06 3, 2013  A2TYZ821XXK2YZ  3426958910   \n",
              "1      5.0  NaN      True  10 11, 2014  A3OFSREZADFUDY  3426958910   \n",
              "2      5.0  NaN      True  02 11, 2014  A2VAMODP8M77NG  3426958910   \n",
              "3      4.0    3     False   12 7, 2013   AAKSLZ9IDTEH0  3426958910   \n",
              "4      5.0  NaN      True  06 12, 2016  A3OH43OZJLKI09  5557706259   \n",
              "\n",
              "                      style       reviewerName  \\\n",
              "0  {'Format:': ' Audio CD'}            Garrett   \n",
              "1  {'Format:': ' Audio CD'}                 Ad   \n",
              "2  {'Format:': ' Audio CD'}             JTGabq   \n",
              "3  {'Format:': ' Audio CD'}  john F&#039;n doe   \n",
              "4  {'Format:': ' Audio CD'}  melinda a goodman   \n",
              "\n",
              "                                          reviewText  \\\n",
              "0  This is awesome to listen to, A must-have for ...   \n",
              "1                                               bien   \n",
              "2  It was great to hear the old stuff again and I...   \n",
              "3  well best of's are a bit poison normally but t...   \n",
              "4  What can I say? This is Casting Crowns!!!This ...   \n",
              "\n",
              "                                             summary  unixReviewTime image  \n",
              "0                                      Slayer Rules!      1370217600   NaN  \n",
              "1                                         Five Stars      1412985600   NaN  \n",
              "2                        SLAYER!!!!!!!!!!!!!!!!!!!!!      1392076800   NaN  \n",
              "3  slayer greatest hits! you mean everything righ...      1386374400   NaN  \n",
              "4                    This is a good, blessing filled      1465689600   NaN  "
            ],
            "text/html": [
              "\n",
              "  <div id=\"df-5a5b8ba9-3303-4ebe-afd3-5a770b660bff\">\n",
              "    <div class=\"colab-df-container\">\n",
              "      <div>\n",
              "<style scoped>\n",
              "    .dataframe tbody tr th:only-of-type {\n",
              "        vertical-align: middle;\n",
              "    }\n",
              "\n",
              "    .dataframe tbody tr th {\n",
              "        vertical-align: top;\n",
              "    }\n",
              "\n",
              "    .dataframe thead th {\n",
              "        text-align: right;\n",
              "    }\n",
              "</style>\n",
              "<table border=\"1\" class=\"dataframe\">\n",
              "  <thead>\n",
              "    <tr style=\"text-align: right;\">\n",
              "      <th></th>\n",
              "      <th>overall</th>\n",
              "      <th>vote</th>\n",
              "      <th>verified</th>\n",
              "      <th>reviewTime</th>\n",
              "      <th>reviewerID</th>\n",
              "      <th>asin</th>\n",
              "      <th>style</th>\n",
              "      <th>reviewerName</th>\n",
              "      <th>reviewText</th>\n",
              "      <th>summary</th>\n",
              "      <th>unixReviewTime</th>\n",
              "      <th>image</th>\n",
              "    </tr>\n",
              "  </thead>\n",
              "  <tbody>\n",
              "    <tr>\n",
              "      <th>0</th>\n",
              "      <td>5.0</td>\n",
              "      <td>3</td>\n",
              "      <td>True</td>\n",
              "      <td>06 3, 2013</td>\n",
              "      <td>A2TYZ821XXK2YZ</td>\n",
              "      <td>3426958910</td>\n",
              "      <td>{'Format:': ' Audio CD'}</td>\n",
              "      <td>Garrett</td>\n",
              "      <td>This is awesome to listen to, A must-have for ...</td>\n",
              "      <td>Slayer Rules!</td>\n",
              "      <td>1370217600</td>\n",
              "      <td>NaN</td>\n",
              "    </tr>\n",
              "    <tr>\n",
              "      <th>1</th>\n",
              "      <td>5.0</td>\n",
              "      <td>NaN</td>\n",
              "      <td>True</td>\n",
              "      <td>10 11, 2014</td>\n",
              "      <td>A3OFSREZADFUDY</td>\n",
              "      <td>3426958910</td>\n",
              "      <td>{'Format:': ' Audio CD'}</td>\n",
              "      <td>Ad</td>\n",
              "      <td>bien</td>\n",
              "      <td>Five Stars</td>\n",
              "      <td>1412985600</td>\n",
              "      <td>NaN</td>\n",
              "    </tr>\n",
              "    <tr>\n",
              "      <th>2</th>\n",
              "      <td>5.0</td>\n",
              "      <td>NaN</td>\n",
              "      <td>True</td>\n",
              "      <td>02 11, 2014</td>\n",
              "      <td>A2VAMODP8M77NG</td>\n",
              "      <td>3426958910</td>\n",
              "      <td>{'Format:': ' Audio CD'}</td>\n",
              "      <td>JTGabq</td>\n",
              "      <td>It was great to hear the old stuff again and I...</td>\n",
              "      <td>SLAYER!!!!!!!!!!!!!!!!!!!!!</td>\n",
              "      <td>1392076800</td>\n",
              "      <td>NaN</td>\n",
              "    </tr>\n",
              "    <tr>\n",
              "      <th>3</th>\n",
              "      <td>4.0</td>\n",
              "      <td>3</td>\n",
              "      <td>False</td>\n",
              "      <td>12 7, 2013</td>\n",
              "      <td>AAKSLZ9IDTEH0</td>\n",
              "      <td>3426958910</td>\n",
              "      <td>{'Format:': ' Audio CD'}</td>\n",
              "      <td>john F&amp;#039;n doe</td>\n",
              "      <td>well best of's are a bit poison normally but t...</td>\n",
              "      <td>slayer greatest hits! you mean everything righ...</td>\n",
              "      <td>1386374400</td>\n",
              "      <td>NaN</td>\n",
              "    </tr>\n",
              "    <tr>\n",
              "      <th>4</th>\n",
              "      <td>5.0</td>\n",
              "      <td>NaN</td>\n",
              "      <td>True</td>\n",
              "      <td>06 12, 2016</td>\n",
              "      <td>A3OH43OZJLKI09</td>\n",
              "      <td>5557706259</td>\n",
              "      <td>{'Format:': ' Audio CD'}</td>\n",
              "      <td>melinda a goodman</td>\n",
              "      <td>What can I say? This is Casting Crowns!!!This ...</td>\n",
              "      <td>This is a good, blessing filled</td>\n",
              "      <td>1465689600</td>\n",
              "      <td>NaN</td>\n",
              "    </tr>\n",
              "  </tbody>\n",
              "</table>\n",
              "</div>\n",
              "      <button class=\"colab-df-convert\" onclick=\"convertToInteractive('df-5a5b8ba9-3303-4ebe-afd3-5a770b660bff')\"\n",
              "              title=\"Convert this dataframe to an interactive table.\"\n",
              "              style=\"display:none;\">\n",
              "        \n",
              "  <svg xmlns=\"http://www.w3.org/2000/svg\" height=\"24px\"viewBox=\"0 0 24 24\"\n",
              "       width=\"24px\">\n",
              "    <path d=\"M0 0h24v24H0V0z\" fill=\"none\"/>\n",
              "    <path d=\"M18.56 5.44l.94 2.06.94-2.06 2.06-.94-2.06-.94-.94-2.06-.94 2.06-2.06.94zm-11 1L8.5 8.5l.94-2.06 2.06-.94-2.06-.94L8.5 2.5l-.94 2.06-2.06.94zm10 10l.94 2.06.94-2.06 2.06-.94-2.06-.94-.94-2.06-.94 2.06-2.06.94z\"/><path d=\"M17.41 7.96l-1.37-1.37c-.4-.4-.92-.59-1.43-.59-.52 0-1.04.2-1.43.59L10.3 9.45l-7.72 7.72c-.78.78-.78 2.05 0 2.83L4 21.41c.39.39.9.59 1.41.59.51 0 1.02-.2 1.41-.59l7.78-7.78 2.81-2.81c.8-.78.8-2.07 0-2.86zM5.41 20L4 18.59l7.72-7.72 1.47 1.35L5.41 20z\"/>\n",
              "  </svg>\n",
              "      </button>\n",
              "      \n",
              "  <style>\n",
              "    .colab-df-container {\n",
              "      display:flex;\n",
              "      flex-wrap:wrap;\n",
              "      gap: 12px;\n",
              "    }\n",
              "\n",
              "    .colab-df-convert {\n",
              "      background-color: #E8F0FE;\n",
              "      border: none;\n",
              "      border-radius: 50%;\n",
              "      cursor: pointer;\n",
              "      display: none;\n",
              "      fill: #1967D2;\n",
              "      height: 32px;\n",
              "      padding: 0 0 0 0;\n",
              "      width: 32px;\n",
              "    }\n",
              "\n",
              "    .colab-df-convert:hover {\n",
              "      background-color: #E2EBFA;\n",
              "      box-shadow: 0px 1px 2px rgba(60, 64, 67, 0.3), 0px 1px 3px 1px rgba(60, 64, 67, 0.15);\n",
              "      fill: #174EA6;\n",
              "    }\n",
              "\n",
              "    [theme=dark] .colab-df-convert {\n",
              "      background-color: #3B4455;\n",
              "      fill: #D2E3FC;\n",
              "    }\n",
              "\n",
              "    [theme=dark] .colab-df-convert:hover {\n",
              "      background-color: #434B5C;\n",
              "      box-shadow: 0px 1px 3px 1px rgba(0, 0, 0, 0.15);\n",
              "      filter: drop-shadow(0px 1px 2px rgba(0, 0, 0, 0.3));\n",
              "      fill: #FFFFFF;\n",
              "    }\n",
              "  </style>\n",
              "\n",
              "      <script>\n",
              "        const buttonEl =\n",
              "          document.querySelector('#df-5a5b8ba9-3303-4ebe-afd3-5a770b660bff button.colab-df-convert');\n",
              "        buttonEl.style.display =\n",
              "          google.colab.kernel.accessAllowed ? 'block' : 'none';\n",
              "\n",
              "        async function convertToInteractive(key) {\n",
              "          const element = document.querySelector('#df-5a5b8ba9-3303-4ebe-afd3-5a770b660bff');\n",
              "          const dataTable =\n",
              "            await google.colab.kernel.invokeFunction('convertToInteractive',\n",
              "                                                     [key], {});\n",
              "          if (!dataTable) return;\n",
              "\n",
              "          const docLinkHtml = 'Like what you see? Visit the ' +\n",
              "            '<a target=\"_blank\" href=https://colab.research.google.com/notebooks/data_table.ipynb>data table notebook</a>'\n",
              "            + ' to learn more about interactive tables.';\n",
              "          element.innerHTML = '';\n",
              "          dataTable['output_type'] = 'display_data';\n",
              "          await google.colab.output.renderOutput(dataTable, element);\n",
              "          const docLink = document.createElement('div');\n",
              "          docLink.innerHTML = docLinkHtml;\n",
              "          element.appendChild(docLink);\n",
              "        }\n",
              "      </script>\n",
              "    </div>\n",
              "  </div>\n",
              "  "
            ]
          },
          "metadata": {},
          "execution_count": 3
        }
      ],
      "source": [
        "full_df.head()"
      ]
    },
    {
      "cell_type": "markdown",
      "source": [
        "## exploration "
      ],
      "metadata": {
        "id": "fQegTCXtqyYK"
      }
    },
    {
      "cell_type": "code",
      "execution_count": 4,
      "metadata": {
        "colab": {
          "base_uri": "https://localhost:8080/"
        },
        "id": "FsmUejDzzZKg",
        "outputId": "3697b142-9b9c-4e1d-971d-9167eff9f27f"
      },
      "outputs": [
        {
          "output_type": "execute_result",
          "data": {
            "text/plain": [
              "count    169781.000000\n",
              "mean          4.700019\n",
              "std           0.713420\n",
              "min           1.000000\n",
              "25%           5.000000\n",
              "50%           5.000000\n",
              "75%           5.000000\n",
              "max           5.000000\n",
              "Name: overall, dtype: float64"
            ]
          },
          "metadata": {},
          "execution_count": 4
        }
      ],
      "source": [
        "full_df['overall'].describe()"
      ]
    },
    {
      "cell_type": "code",
      "execution_count": 5,
      "metadata": {
        "colab": {
          "base_uri": "https://localhost:8080/"
        },
        "id": "3W4u9VbGHrxv",
        "outputId": "1c68d01e-af68-4414-f2a0-f92c84395b63"
      },
      "outputs": [
        {
          "output_type": "stream",
          "name": "stdout",
          "text": [
            "- Number of reviews: 169781\n",
            "- Number of different products reviewed:  11797\n",
            "- Number of people who reviewed:  16566\n",
            "- max rating:  5.0\n",
            "- min rating:  1.0\n",
            "- avg rating:  4.700019436803883\n",
            "- First review:  1998-07-09\n",
            "- Last review:  2018-09-26\n"
          ]
        }
      ],
      "source": [
        "#Number of reviews\n",
        "print('- Number of reviews:', len(full_df))\n",
        "\n",
        "#Number of different products reviewed\n",
        "print('- Number of different products reviewed: ', len(full_df.asin.unique()))\n",
        "\n",
        "#Number of people who reviewed\n",
        "print('- Number of people who reviewed: ', len(full_df.reviewerID.unique()))\n",
        "\n",
        "#Reviews range and average\n",
        "print('- max rating: ', full_df.overall.max())\n",
        "print('- min rating: ', full_df.overall.min())\n",
        "print('- avg rating: ', full_df.overall.mean())\n",
        "\n",
        "#Time range\n",
        "start = pd.to_datetime(full_df['unixReviewTime'],unit='s').min().date()\n",
        "end = pd.to_datetime(full_df['unixReviewTime'],unit='s').max().date()\n",
        "\n",
        "print('- First review: ', start)\n",
        "print('- Last review: ', end)\n"
      ]
    },
    {
      "cell_type": "markdown",
      "source": [
        "Distribution of rating"
      ],
      "metadata": {
        "id": "Rh6i7WyZ4OHv"
      }
    },
    {
      "cell_type": "code",
      "source": [
        "ax = full_df.overall.hist(grid=False, bins=np.arange(0.75,5.75,0.5),figsize=(5,5))\n",
        "\n",
        "ax.set_xlabel(\"stars\")\n",
        "ax.set_ylabel(\"reiew counts\")"
      ],
      "metadata": {
        "colab": {
          "base_uri": "https://localhost:8080/",
          "height": 351
        },
        "id": "MD8Wqvsd4Lov",
        "outputId": "579bf50f-674b-45f6-9da2-091a557ae1d2"
      },
      "execution_count": 6,
      "outputs": [
        {
          "output_type": "execute_result",
          "data": {
            "text/plain": [
              "Text(0, 0.5, 'reiew counts')"
            ]
          },
          "metadata": {},
          "execution_count": 6
        },
        {
          "output_type": "display_data",
          "data": {
            "text/plain": [
              "<Figure size 360x360 with 1 Axes>"
            ],
            "image/png": "[encoded data removed]"
          },
          "metadata": {
            "needs_background": "light"
          }
        }
      ]
    },
    {
      "cell_type": "markdown",
      "source": [
        "Distribution of reviews per product"
      ],
      "metadata": {
        "id": "7-Rk7H9K4fMb"
      }
    },
    {
      "cell_type": "code",
      "source": [
        "reviews_per_asin = full_df.asin.value_counts()\n",
        "reviews_per_asin"
      ],
      "metadata": {
        "colab": {
          "base_uri": "https://localhost:8080/"
        },
        "id": "QG_j_sNf4oVD",
        "outputId": "3bc614fa-cccb-4551-93e3-fee2d197601e"
      },
      "execution_count": 7,
      "outputs": [
        {
          "output_type": "execute_result",
          "data": {
            "text/plain": [
              "B00CZF8B68    574\n",
              "B00BWGHIHY    316\n",
              "B00136J7ZE    294\n",
              "B00EH49FRE    283\n",
              "B00136NUG6    262\n",
              "             ... \n",
              "B000W1S2WU      1\n",
              "B00125MGQI      1\n",
              "B001QET6G8      1\n",
              "B001664ADA      1\n",
              "B00138APMQ      1\n",
              "Name: asin, Length: 11797, dtype: int64"
            ]
          },
          "metadata": {},
          "execution_count": 7
        }
      ]
    },
    {
      "cell_type": "code",
      "source": [
        "print(\"reviews product-counts\")\n",
        "print(reviews_per_asin.value_counts())\n",
        "\n",
        "ax = reviews_per_asin.hist(log=True,grid=False,bins=200,figsize=(20,5))\n",
        "ax.set_xlabel(\"num of rewiews on that product\")\n",
        "ax.set_ylabel(\"product counts\")"
      ],
      "metadata": {
        "colab": {
          "base_uri": "https://localhost:8080/",
          "height": 577
        },
        "id": "9E69N1jp4vGT",
        "outputId": "a1da0c3c-6385-4c3d-b18d-d62f8615e4b5"
      },
      "execution_count": 8,
      "outputs": [
        {
          "output_type": "stream",
          "name": "stdout",
          "text": [
            "reviews product-counts\n",
            "5      2072\n",
            "6      1506\n",
            "7      1050\n",
            "8       824\n",
            "9       684\n",
            "       ... \n",
            "146       1\n",
            "147       1\n",
            "148       1\n",
            "152       1\n",
            "574       1\n",
            "Name: asin, Length: 163, dtype: int64\n"
          ]
        },
        {
          "output_type": "execute_result",
          "data": {
            "text/plain": [
              "Text(0, 0.5, 'product counts')"
            ]
          },
          "metadata": {},
          "execution_count": 8
        },
        {
          "output_type": "display_data",
          "data": {
            "text/plain": [
              "<Figure size 1440x360 with 1 Axes>"
            ],
            "image/png": "[encoded data removed]"
          },
          "metadata": {
            "needs_background": "light"
          }
        }
      ]
    },
    {
      "cell_type": "markdown",
      "source": [
        "Distribution of reviews per user"
      ],
      "metadata": {
        "id": "DzM9JA9h4mCT"
      }
    },
    {
      "cell_type": "code",
      "source": [
        "reviews_per_user = full_df.reviewerID.value_counts()\n",
        "reviews_per_user"
      ],
      "metadata": {
        "colab": {
          "base_uri": "https://localhost:8080/"
        },
        "id": "1qL9SxVK4o0l",
        "outputId": "0c60e8ab-8b50-4e70-e12a-39b88728b860"
      },
      "execution_count": 9,
      "outputs": [
        {
          "output_type": "execute_result",
          "data": {
            "text/plain": [
              "A3W4D8XOGLWUN5    791\n",
              "A2H3JURQZOHVMB    314\n",
              "A36EDWL4F3AASU    223\n",
              "A165P3MOJV3OVZ    219\n",
              "AVKHYC2D7MD56     214\n",
              "                 ... \n",
              "A2VWLNEBMW4ITQ      2\n",
              "A2M4D98UYXMUZE      2\n",
              "A518S7KT78N51       2\n",
              "A25HR6FTWBQ2NZ      1\n",
              "A70WPHE33U5B        1\n",
              "Name: reviewerID, Length: 16566, dtype: int64"
            ]
          },
          "metadata": {},
          "execution_count": 9
        }
      ]
    },
    {
      "cell_type": "code",
      "source": [
        "print(\"reviews user-counts\")\n",
        "print(reviews_per_user.value_counts())\n",
        "\n",
        "ax = reviews_per_user.hist(log=True,grid=False,bins=200,figsize=(20,5))\n",
        "ax.set_xlabel(\"num of rewiews posted\")\n",
        "ax.set_ylabel(\"user counts\")\n"
      ],
      "metadata": {
        "colab": {
          "base_uri": "https://localhost:8080/",
          "height": 577
        },
        "id": "520UHrgs4vbg",
        "outputId": "983b3e71-1527-4eed-adcb-246c176685fb"
      },
      "execution_count": 10,
      "outputs": [
        {
          "output_type": "stream",
          "name": "stdout",
          "text": [
            "reviews user-counts\n",
            "5      4559\n",
            "6      2798\n",
            "7      1927\n",
            "8      1288\n",
            "9       974\n",
            "       ... \n",
            "101       1\n",
            "102       1\n",
            "314       1\n",
            "106       1\n",
            "791       1\n",
            "Name: reviewerID, Length: 125, dtype: int64\n"
          ]
        },
        {
          "output_type": "execute_result",
          "data": {
            "text/plain": [
              "Text(0, 0.5, 'user counts')"
            ]
          },
          "metadata": {},
          "execution_count": 10
        },
        {
          "output_type": "display_data",
          "data": {
            "text/plain": [
              "<Figure size 1440x360 with 1 Axes>"
            ],
            "image/png": "[encoded data removed]"
          },
          "metadata": {
            "needs_background": "light"
          }
        }
      ]
    },
    {
      "cell_type": "markdown",
      "metadata": {
        "id": "Zmm3FZKJHrxt"
      },
      "source": [
        "# 2. Text basic pre-processing"
      ]
    },
    {
      "cell_type": "markdown",
      "metadata": {
        "id": "tt7_8x4QiIkx"
      },
      "source": [
        "## (Col:''Sentiment') based on the value of “rating of the product”:<br/> i. Ratings 4,5: Positive <br/>ii. Rating 3: Neutral <br/>iii. Ratings 1,2: Negative\n"
      ]
    },
    {
      "cell_type": "code",
      "execution_count": 11,
      "metadata": {
        "colab": {
          "base_uri": "https://localhost:8080/",
          "height": 337
        },
        "id": "asLcP4rxiHRv",
        "outputId": "f8cd9313-1ef3-4913-f77b-8e0b00c7dc88"
      },
      "outputs": [
        {
          "output_type": "execute_result",
          "data": {
            "text/plain": [
              "   overall vote  verified   reviewTime      reviewerID        asin  \\\n",
              "0      5.0    3      True   06 3, 2013  A2TYZ821XXK2YZ  3426958910   \n",
              "1      5.0  NaN      True  10 11, 2014  A3OFSREZADFUDY  3426958910   \n",
              "2      5.0  NaN      True  02 11, 2014  A2VAMODP8M77NG  3426958910   \n",
              "3      4.0    3     False   12 7, 2013   AAKSLZ9IDTEH0  3426958910   \n",
              "4      5.0  NaN      True  06 12, 2016  A3OH43OZJLKI09  5557706259   \n",
              "\n",
              "                      style       reviewerName  \\\n",
              "0  {'Format:': ' Audio CD'}            Garrett   \n",
              "1  {'Format:': ' Audio CD'}                 Ad   \n",
              "2  {'Format:': ' Audio CD'}             JTGabq   \n",
              "3  {'Format:': ' Audio CD'}  john F&#039;n doe   \n",
              "4  {'Format:': ' Audio CD'}  melinda a goodman   \n",
              "\n",
              "                                          reviewText  \\\n",
              "0  This is awesome to listen to, A must-have for ...   \n",
              "1                                               bien   \n",
              "2  It was great to hear the old stuff again and I...   \n",
              "3  well best of's are a bit poison normally but t...   \n",
              "4  What can I say? This is Casting Crowns!!!This ...   \n",
              "\n",
              "                                             summary  unixReviewTime image  \\\n",
              "0                                      Slayer Rules!      1370217600   NaN   \n",
              "1                                         Five Stars      1412985600   NaN   \n",
              "2                        SLAYER!!!!!!!!!!!!!!!!!!!!!      1392076800   NaN   \n",
              "3  slayer greatest hits! you mean everything righ...      1386374400   NaN   \n",
              "4                    This is a good, blessing filled      1465689600   NaN   \n",
              "\n",
              "  Sentiment  \n",
              "0  Positive  \n",
              "1  Positive  \n",
              "2  Positive  \n",
              "3  Positive  \n",
              "4  Positive  "
            ],
            "text/html": [
              "\n",
              "  <div id=\"df-d9647b6b-4ad6-43b1-892c-25d216b31968\">\n",
              "    <div class=\"colab-df-container\">\n",
              "      <div>\n",
              "<style scoped>\n",
              "    .dataframe tbody tr th:only-of-type {\n",
              "        vertical-align: middle;\n",
              "    }\n",
              "\n",
              "    .dataframe tbody tr th {\n",
              "        vertical-align: top;\n",
              "    }\n",
              "\n",
              "    .dataframe thead th {\n",
              "        text-align: right;\n",
              "    }\n",
              "</style>\n",
              "<table border=\"1\" class=\"dataframe\">\n",
              "  <thead>\n",
              "    <tr style=\"text-align: right;\">\n",
              "      <th></th>\n",
              "      <th>overall</th>\n",
              "      <th>vote</th>\n",
              "      <th>verified</th>\n",
              "      <th>reviewTime</th>\n",
              "      <th>reviewerID</th>\n",
              "      <th>asin</th>\n",
              "      <th>style</th>\n",
              "      <th>reviewerName</th>\n",
              "      <th>reviewText</th>\n",
              "      <th>summary</th>\n",
              "      <th>unixReviewTime</th>\n",
              "      <th>image</th>\n",
              "      <th>Sentiment</th>\n",
              "    </tr>\n",
              "  </thead>\n",
              "  <tbody>\n",
              "    <tr>\n",
              "      <th>0</th>\n",
              "      <td>5.0</td>\n",
              "      <td>3</td>\n",
              "      <td>True</td>\n",
              "      <td>06 3, 2013</td>\n",
              "      <td>A2TYZ821XXK2YZ</td>\n",
              "      <td>3426958910</td>\n",
              "      <td>{'Format:': ' Audio CD'}</td>\n",
              "      <td>Garrett</td>\n",
              "      <td>This is awesome to listen to, A must-have for ...</td>\n",
              "      <td>Slayer Rules!</td>\n",
              "      <td>1370217600</td>\n",
              "      <td>NaN</td>\n",
              "      <td>Positive</td>\n",
              "    </tr>\n",
              "    <tr>\n",
              "      <th>1</th>\n",
              "      <td>5.0</td>\n",
              "      <td>NaN</td>\n",
              "      <td>True</td>\n",
              "      <td>10 11, 2014</td>\n",
              "      <td>A3OFSREZADFUDY</td>\n",
              "      <td>3426958910</td>\n",
              "      <td>{'Format:': ' Audio CD'}</td>\n",
              "      <td>Ad</td>\n",
              "      <td>bien</td>\n",
              "      <td>Five Stars</td>\n",
              "      <td>1412985600</td>\n",
              "      <td>NaN</td>\n",
              "      <td>Positive</td>\n",
              "    </tr>\n",
              "    <tr>\n",
              "      <th>2</th>\n",
              "      <td>5.0</td>\n",
              "      <td>NaN</td>\n",
              "      <td>True</td>\n",
              "      <td>02 11, 2014</td>\n",
              "      <td>A2VAMODP8M77NG</td>\n",
              "      <td>3426958910</td>\n",
              "      <td>{'Format:': ' Audio CD'}</td>\n",
              "      <td>JTGabq</td>\n",
              "      <td>It was great to hear the old stuff again and I...</td>\n",
              "      <td>SLAYER!!!!!!!!!!!!!!!!!!!!!</td>\n",
              "      <td>1392076800</td>\n",
              "      <td>NaN</td>\n",
              "      <td>Positive</td>\n",
              "    </tr>\n",
              "    <tr>\n",
              "      <th>3</th>\n",
              "      <td>4.0</td>\n",
              "      <td>3</td>\n",
              "      <td>False</td>\n",
              "      <td>12 7, 2013</td>\n",
              "      <td>AAKSLZ9IDTEH0</td>\n",
              "      <td>3426958910</td>\n",
              "      <td>{'Format:': ' Audio CD'}</td>\n",
              "      <td>john F&amp;#039;n doe</td>\n",
              "      <td>well best of's are a bit poison normally but t...</td>\n",
              "      <td>slayer greatest hits! you mean everything righ...</td>\n",
              "      <td>1386374400</td>\n",
              "      <td>NaN</td>\n",
              "      <td>Positive</td>\n",
              "    </tr>\n",
              "    <tr>\n",
              "      <th>4</th>\n",
              "      <td>5.0</td>\n",
              "      <td>NaN</td>\n",
              "      <td>True</td>\n",
              "      <td>06 12, 2016</td>\n",
              "      <td>A3OH43OZJLKI09</td>\n",
              "      <td>5557706259</td>\n",
              "      <td>{'Format:': ' Audio CD'}</td>\n",
              "      <td>melinda a goodman</td>\n",
              "      <td>What can I say? This is Casting Crowns!!!This ...</td>\n",
              "      <td>This is a good, blessing filled</td>\n",
              "      <td>1465689600</td>\n",
              "      <td>NaN</td>\n",
              "      <td>Positive</td>\n",
              "    </tr>\n",
              "  </tbody>\n",
              "</table>\n",
              "</div>\n",
              "      <button class=\"colab-df-convert\" onclick=\"convertToInteractive('df-d9647b6b-4ad6-43b1-892c-25d216b31968')\"\n",
              "              title=\"Convert this dataframe to an interactive table.\"\n",
              "              style=\"display:none;\">\n",
              "        \n",
              "  <svg xmlns=\"http://www.w3.org/2000/svg\" height=\"24px\"viewBox=\"0 0 24 24\"\n",
              "       width=\"24px\">\n",
              "    <path d=\"M0 0h24v24H0V0z\" fill=\"none\"/>\n",
              "    <path d=\"M18.56 5.44l.94 2.06.94-2.06 2.06-.94-2.06-.94-.94-2.06-.94 2.06-2.06.94zm-11 1L8.5 8.5l.94-2.06 2.06-.94-2.06-.94L8.5 2.5l-.94 2.06-2.06.94zm10 10l.94 2.06.94-2.06 2.06-.94-2.06-.94-.94-2.06-.94 2.06-2.06.94z\"/><path d=\"M17.41 7.96l-1.37-1.37c-.4-.4-.92-.59-1.43-.59-.52 0-1.04.2-1.43.59L10.3 9.45l-7.72 7.72c-.78.78-.78 2.05 0 2.83L4 21.41c.39.39.9.59 1.41.59.51 0 1.02-.2 1.41-.59l7.78-7.78 2.81-2.81c.8-.78.8-2.07 0-2.86zM5.41 20L4 18.59l7.72-7.72 1.47 1.35L5.41 20z\"/>\n",
              "  </svg>\n",
              "      </button>\n",
              "      \n",
              "  <style>\n",
              "    .colab-df-container {\n",
              "      display:flex;\n",
              "      flex-wrap:wrap;\n",
              "      gap: 12px;\n",
              "    }\n",
              "\n",
              "    .colab-df-convert {\n",
              "      background-color: #E8F0FE;\n",
              "      border: none;\n",
              "      border-radius: 50%;\n",
              "      cursor: pointer;\n",
              "      display: none;\n",
              "      fill: #1967D2;\n",
              "      height: 32px;\n",
              "      padding: 0 0 0 0;\n",
              "      width: 32px;\n",
              "    }\n",
              "\n",
              "    .colab-df-convert:hover {\n",
              "      background-color: #E2EBFA;\n",
              "      box-shadow: 0px 1px 2px rgba(60, 64, 67, 0.3), 0px 1px 3px 1px rgba(60, 64, 67, 0.15);\n",
              "      fill: #174EA6;\n",
              "    }\n",
              "\n",
              "    [theme=dark] .colab-df-convert {\n",
              "      background-color: #3B4455;\n",
              "      fill: #D2E3FC;\n",
              "    }\n",
              "\n",
              "    [theme=dark] .colab-df-convert:hover {\n",
              "      background-color: #434B5C;\n",
              "      box-shadow: 0px 1px 3px 1px rgba(0, 0, 0, 0.15);\n",
              "      filter: drop-shadow(0px 1px 2px rgba(0, 0, 0, 0.3));\n",
              "      fill: #FFFFFF;\n",
              "    }\n",
              "  </style>\n",
              "\n",
              "      <script>\n",
              "        const buttonEl =\n",
              "          document.querySelector('#df-d9647b6b-4ad6-43b1-892c-25d216b31968 button.colab-df-convert');\n",
              "        buttonEl.style.display =\n",
              "          google.colab.kernel.accessAllowed ? 'block' : 'none';\n",
              "\n",
              "        async function convertToInteractive(key) {\n",
              "          const element = document.querySelector('#df-d9647b6b-4ad6-43b1-892c-25d216b31968');\n",
              "          const dataTable =\n",
              "            await google.colab.kernel.invokeFunction('convertToInteractive',\n",
              "                                                     [key], {});\n",
              "          if (!dataTable) return;\n",
              "\n",
              "          const docLinkHtml = 'Like what you see? Visit the ' +\n",
              "            '<a target=\"_blank\" href=https://colab.research.google.com/notebooks/data_table.ipynb>data table notebook</a>'\n",
              "            + ' to learn more about interactive tables.';\n",
              "          element.innerHTML = '';\n",
              "          dataTable['output_type'] = 'display_data';\n",
              "          await google.colab.output.renderOutput(dataTable, element);\n",
              "          const docLink = document.createElement('div');\n",
              "          docLink.innerHTML = docLinkHtml;\n",
              "          element.appendChild(docLink);\n",
              "        }\n",
              "      </script>\n",
              "    </div>\n",
              "  </div>\n",
              "  "
            ]
          },
          "metadata": {},
          "execution_count": 11
        }
      ],
      "source": [
        "full_df['Sentiment'] = np.where((full_df['overall'] > 3), 'Positive', \n",
        "                          np.where((full_df['overall'] < 3), 'Negative', 'Neutral'))\n",
        "full_df.head()"
      ]
    },
    {
      "cell_type": "code",
      "execution_count": 12,
      "metadata": {
        "colab": {
          "base_uri": "https://localhost:8080/"
        },
        "id": "enZ12nHSx6JD",
        "outputId": "1938cb75-15ce-4f51-aab0-a1f00e766bbc"
      },
      "outputs": [
        {
          "output_type": "execute_result",
          "data": {
            "text/plain": [
              "Positive    158985\n",
              "Neutral       6792\n",
              "Negative      4004\n",
              "Name: Sentiment, dtype: int64"
            ]
          },
          "metadata": {},
          "execution_count": 12
        }
      ],
      "source": [
        "full_df['Sentiment'].value_counts() #how can we balance this data?"
      ]
    },
    {
      "cell_type": "markdown",
      "source": [
        "## columns selection"
      ],
      "metadata": {
        "id": "_OgJoNE2z2fX"
      }
    },
    {
      "cell_type": "code",
      "execution_count": 13,
      "metadata": {
        "colab": {
          "base_uri": "https://localhost:8080/"
        },
        "id": "fJ3Yu4QGhqrR",
        "outputId": "898b6f91-5be0-4a63-f6ba-93a93dd55b3b"
      },
      "outputs": [
        {
          "output_type": "execute_result",
          "data": {
            "text/plain": [
              "True     148944\n",
              "False     20837\n",
              "Name: verified, dtype: int64"
            ]
          },
          "metadata": {},
          "execution_count": 13
        }
      ],
      "source": [
        "full_df['verified'].value_counts()"
      ]
    },
    {
      "cell_type": "code",
      "execution_count": 14,
      "metadata": {
        "id": "FV_fG_3GdTuP"
      },
      "outputs": [],
      "source": [
        "#full_df.info()"
      ]
    },
    {
      "cell_type": "code",
      "execution_count": 15,
      "metadata": {
        "id": "xWEtk4WruGvW"
      },
      "outputs": [],
      "source": [
        "cols = ['reviewText','summary']\n",
        "full_df['NewReview'] = full_df[cols].apply(lambda row: '_'.join(row.values.astype(str)), axis=1)\n"
      ]
    },
    {
      "cell_type": "code",
      "execution_count": 16,
      "metadata": {
        "colab": {
          "base_uri": "https://localhost:8080/"
        },
        "id": "5cMUnP-quZ1D",
        "outputId": "0401a982-6409-4eca-a590-c5119c6be7dd"
      },
      "outputs": [
        {
          "output_type": "stream",
          "name": "stdout",
          "text": [
            "<class 'pandas.core.frame.DataFrame'>\n",
            "RangeIndex: 169781 entries, 0 to 169780\n",
            "Data columns (total 14 columns):\n",
            " #   Column          Non-Null Count   Dtype  \n",
            "---  ------          --------------   -----  \n",
            " 0   overall         169781 non-null  float64\n",
            " 1   vote            7611 non-null    object \n",
            " 2   verified        169781 non-null  bool   \n",
            " 3   reviewTime      169781 non-null  object \n",
            " 4   reviewerID      169781 non-null  object \n",
            " 5   asin            169781 non-null  object \n",
            " 6   style           157989 non-null  object \n",
            " 7   reviewerName    169776 non-null  object \n",
            " 8   reviewText      169623 non-null  object \n",
            " 9   summary         169745 non-null  object \n",
            " 10  unixReviewTime  169781 non-null  int64  \n",
            " 11  image           182 non-null     object \n",
            " 12  Sentiment       169781 non-null  object \n",
            " 13  NewReview       169781 non-null  object \n",
            "dtypes: bool(1), float64(1), int64(1), object(11)\n",
            "memory usage: 17.0+ MB\n"
          ]
        }
      ],
      "source": [
        "full_df.info()"
      ]
    },
    {
      "cell_type": "code",
      "execution_count": 17,
      "metadata": {
        "colab": {
          "base_uri": "https://localhost:8080/",
          "height": 208
        },
        "id": "tSFJ1_tstGpQ",
        "outputId": "40311a50-c399-4a95-efbd-d97ab627dee7"
      },
      "outputs": [
        {
          "output_type": "execute_result",
          "data": {
            "text/plain": [
              "   overall vote  verified   reviewTime      reviewerID        asin  \\\n",
              "0      5.0    3      True   06 3, 2013  A2TYZ821XXK2YZ  3426958910   \n",
              "1      5.0  NaN      True  10 11, 2014  A3OFSREZADFUDY  3426958910   \n",
              "\n",
              "                      style reviewerName  \\\n",
              "0  {'Format:': ' Audio CD'}      Garrett   \n",
              "1  {'Format:': ' Audio CD'}           Ad   \n",
              "\n",
              "                                          reviewText        summary  \\\n",
              "0  This is awesome to listen to, A must-have for ...  Slayer Rules!   \n",
              "1                                               bien     Five Stars   \n",
              "\n",
              "   unixReviewTime image Sentiment  \\\n",
              "0      1370217600   NaN  Positive   \n",
              "1      1412985600   NaN  Positive   \n",
              "\n",
              "                                           NewReview  \n",
              "0  This is awesome to listen to, A must-have for ...  \n",
              "1                                    bien_Five Stars  "
            ],
            "text/html": [
              "\n",
              "  <div id=\"df-91aa7aec-be6c-4cee-9151-86ad574bd069\">\n",
              "    <div class=\"colab-df-container\">\n",
              "      <div>\n",
              "<style scoped>\n",
              "    .dataframe tbody tr th:only-of-type {\n",
              "        vertical-align: middle;\n",
              "    }\n",
              "\n",
              "    .dataframe tbody tr th {\n",
              "        vertical-align: top;\n",
              "    }\n",
              "\n",
              "    .dataframe thead th {\n",
              "        text-align: right;\n",
              "    }\n",
              "</style>\n",
              "<table border=\"1\" class=\"dataframe\">\n",
              "  <thead>\n",
              "    <tr style=\"text-align: right;\">\n",
              "      <th></th>\n",
              "      <th>overall</th>\n",
              "      <th>vote</th>\n",
              "      <th>verified</th>\n",
              "      <th>reviewTime</th>\n",
              "      <th>reviewerID</th>\n",
              "      <th>asin</th>\n",
              "      <th>style</th>\n",
              "      <th>reviewerName</th>\n",
              "      <th>reviewText</th>\n",
              "      <th>summary</th>\n",
              "      <th>unixReviewTime</th>\n",
              "      <th>image</th>\n",
              "      <th>Sentiment</th>\n",
              "      <th>NewReview</th>\n",
              "    </tr>\n",
              "  </thead>\n",
              "  <tbody>\n",
              "    <tr>\n",
              "      <th>0</th>\n",
              "      <td>5.0</td>\n",
              "      <td>3</td>\n",
              "      <td>True</td>\n",
              "      <td>06 3, 2013</td>\n",
              "      <td>A2TYZ821XXK2YZ</td>\n",
              "      <td>3426958910</td>\n",
              "      <td>{'Format:': ' Audio CD'}</td>\n",
              "      <td>Garrett</td>\n",
              "      <td>This is awesome to listen to, A must-have for ...</td>\n",
              "      <td>Slayer Rules!</td>\n",
              "      <td>1370217600</td>\n",
              "      <td>NaN</td>\n",
              "      <td>Positive</td>\n",
              "      <td>This is awesome to listen to, A must-have for ...</td>\n",
              "    </tr>\n",
              "    <tr>\n",
              "      <th>1</th>\n",
              "      <td>5.0</td>\n",
              "      <td>NaN</td>\n",
              "      <td>True</td>\n",
              "      <td>10 11, 2014</td>\n",
              "      <td>A3OFSREZADFUDY</td>\n",
              "      <td>3426958910</td>\n",
              "      <td>{'Format:': ' Audio CD'}</td>\n",
              "      <td>Ad</td>\n",
              "      <td>bien</td>\n",
              "      <td>Five Stars</td>\n",
              "      <td>1412985600</td>\n",
              "      <td>NaN</td>\n",
              "      <td>Positive</td>\n",
              "      <td>bien_Five Stars</td>\n",
              "    </tr>\n",
              "  </tbody>\n",
              "</table>\n",
              "</div>\n",
              "      <button class=\"colab-df-convert\" onclick=\"convertToInteractive('df-91aa7aec-be6c-4cee-9151-86ad574bd069')\"\n",
              "              title=\"Convert this dataframe to an interactive table.\"\n",
              "              style=\"display:none;\">\n",
              "        \n",
              "  <svg xmlns=\"http://www.w3.org/2000/svg\" height=\"24px\"viewBox=\"0 0 24 24\"\n",
              "       width=\"24px\">\n",
              "    <path d=\"M0 0h24v24H0V0z\" fill=\"none\"/>\n",
              "    <path d=\"M18.56 5.44l.94 2.06.94-2.06 2.06-.94-2.06-.94-.94-2.06-.94 2.06-2.06.94zm-11 1L8.5 8.5l.94-2.06 2.06-.94-2.06-.94L8.5 2.5l-.94 2.06-2.06.94zm10 10l.94 2.06.94-2.06 2.06-.94-2.06-.94-.94-2.06-.94 2.06-2.06.94z\"/><path d=\"M17.41 7.96l-1.37-1.37c-.4-.4-.92-.59-1.43-.59-.52 0-1.04.2-1.43.59L10.3 9.45l-7.72 7.72c-.78.78-.78 2.05 0 2.83L4 21.41c.39.39.9.59 1.41.59.51 0 1.02-.2 1.41-.59l7.78-7.78 2.81-2.81c.8-.78.8-2.07 0-2.86zM5.41 20L4 18.59l7.72-7.72 1.47 1.35L5.41 20z\"/>\n",
              "  </svg>\n",
              "      </button>\n",
              "      \n",
              "  <style>\n",
              "    .colab-df-container {\n",
              "      display:flex;\n",
              "      flex-wrap:wrap;\n",
              "      gap: 12px;\n",
              "    }\n",
              "\n",
              "    .colab-df-convert {\n",
              "      background-color: #E8F0FE;\n",
              "      border: none;\n",
              "      border-radius: 50%;\n",
              "      cursor: pointer;\n",
              "      display: none;\n",
              "      fill: #1967D2;\n",
              "      height: 32px;\n",
              "      padding: 0 0 0 0;\n",
              "      width: 32px;\n",
              "    }\n",
              "\n",
              "    .colab-df-convert:hover {\n",
              "      background-color: #E2EBFA;\n",
              "      box-shadow: 0px 1px 2px rgba(60, 64, 67, 0.3), 0px 1px 3px 1px rgba(60, 64, 67, 0.15);\n",
              "      fill: #174EA6;\n",
              "    }\n",
              "\n",
              "    [theme=dark] .colab-df-convert {\n",
              "      background-color: #3B4455;\n",
              "      fill: #D2E3FC;\n",
              "    }\n",
              "\n",
              "    [theme=dark] .colab-df-convert:hover {\n",
              "      background-color: #434B5C;\n",
              "      box-shadow: 0px 1px 3px 1px rgba(0, 0, 0, 0.15);\n",
              "      filter: drop-shadow(0px 1px 2px rgba(0, 0, 0, 0.3));\n",
              "      fill: #FFFFFF;\n",
              "    }\n",
              "  </style>\n",
              "\n",
              "      <script>\n",
              "        const buttonEl =\n",
              "          document.querySelector('#df-91aa7aec-be6c-4cee-9151-86ad574bd069 button.colab-df-convert');\n",
              "        buttonEl.style.display =\n",
              "          google.colab.kernel.accessAllowed ? 'block' : 'none';\n",
              "\n",
              "        async function convertToInteractive(key) {\n",
              "          const element = document.querySelector('#df-91aa7aec-be6c-4cee-9151-86ad574bd069');\n",
              "          const dataTable =\n",
              "            await google.colab.kernel.invokeFunction('convertToInteractive',\n",
              "                                                     [key], {});\n",
              "          if (!dataTable) return;\n",
              "\n",
              "          const docLinkHtml = 'Like what you see? Visit the ' +\n",
              "            '<a target=\"_blank\" href=https://colab.research.google.com/notebooks/data_table.ipynb>data table notebook</a>'\n",
              "            + ' to learn more about interactive tables.';\n",
              "          element.innerHTML = '';\n",
              "          dataTable['output_type'] = 'display_data';\n",
              "          await google.colab.output.renderOutput(dataTable, element);\n",
              "          const docLink = document.createElement('div');\n",
              "          docLink.innerHTML = docLinkHtml;\n",
              "          element.appendChild(docLink);\n",
              "        }\n",
              "      </script>\n",
              "    </div>\n",
              "  </div>\n",
              "  "
            ]
          },
          "metadata": {},
          "execution_count": 17
        }
      ],
      "source": [
        "full_df.head(2)"
      ]
    },
    {
      "cell_type": "code",
      "execution_count": 18,
      "metadata": {
        "id": "pnsfVP_6dqn5"
      },
      "outputs": [],
      "source": [
        "#reviewerID will be useful later to see if they are outliers or not\n",
        "music_review_df = full_df.drop(columns=['vote','reviewerID','image','reviewTime','reviewerID','style','reviewerName','unixReviewTime','reviewText','summary'])"
      ]
    },
    {
      "cell_type": "code",
      "execution_count": 19,
      "metadata": {
        "colab": {
          "base_uri": "https://localhost:8080/",
          "height": 112
        },
        "id": "VRvfBSi8eY_t",
        "outputId": "e0690a14-8298-463e-ee7c-45fb35113217"
      },
      "outputs": [
        {
          "output_type": "execute_result",
          "data": {
            "text/plain": [
              "   overall  verified        asin Sentiment  \\\n",
              "0      5.0      True  3426958910  Positive   \n",
              "1      5.0      True  3426958910  Positive   \n",
              "\n",
              "                                           NewReview  \n",
              "0  This is awesome to listen to, A must-have for ...  \n",
              "1                                    bien_Five Stars  "
            ],
            "text/html": [
              "\n",
              "  <div id=\"df-5b8124ae-8eaf-4a82-b035-cea6b64ee63f\">\n",
              "    <div class=\"colab-df-container\">\n",
              "      <div>\n",
              "<style scoped>\n",
              "    .dataframe tbody tr th:only-of-type {\n",
              "        vertical-align: middle;\n",
              "    }\n",
              "\n",
              "    .dataframe tbody tr th {\n",
              "        vertical-align: top;\n",
              "    }\n",
              "\n",
              "    .dataframe thead th {\n",
              "        text-align: right;\n",
              "    }\n",
              "</style>\n",
              "<table border=\"1\" class=\"dataframe\">\n",
              "  <thead>\n",
              "    <tr style=\"text-align: right;\">\n",
              "      <th></th>\n",
              "      <th>overall</th>\n",
              "      <th>verified</th>\n",
              "      <th>asin</th>\n",
              "      <th>Sentiment</th>\n",
              "      <th>NewReview</th>\n",
              "    </tr>\n",
              "  </thead>\n",
              "  <tbody>\n",
              "    <tr>\n",
              "      <th>0</th>\n",
              "      <td>5.0</td>\n",
              "      <td>True</td>\n",
              "      <td>3426958910</td>\n",
              "      <td>Positive</td>\n",
              "      <td>This is awesome to listen to, A must-have for ...</td>\n",
              "    </tr>\n",
              "    <tr>\n",
              "      <th>1</th>\n",
              "      <td>5.0</td>\n",
              "      <td>True</td>\n",
              "      <td>3426958910</td>\n",
              "      <td>Positive</td>\n",
              "      <td>bien_Five Stars</td>\n",
              "    </tr>\n",
              "  </tbody>\n",
              "</table>\n",
              "</div>\n",
              "      <button class=\"colab-df-convert\" onclick=\"convertToInteractive('df-5b8124ae-8eaf-4a82-b035-cea6b64ee63f')\"\n",
              "              title=\"Convert this dataframe to an interactive table.\"\n",
              "              style=\"display:none;\">\n",
              "        \n",
              "  <svg xmlns=\"http://www.w3.org/2000/svg\" height=\"24px\"viewBox=\"0 0 24 24\"\n",
              "       width=\"24px\">\n",
              "    <path d=\"M0 0h24v24H0V0z\" fill=\"none\"/>\n",
              "    <path d=\"M18.56 5.44l.94 2.06.94-2.06 2.06-.94-2.06-.94-.94-2.06-.94 2.06-2.06.94zm-11 1L8.5 8.5l.94-2.06 2.06-.94-2.06-.94L8.5 2.5l-.94 2.06-2.06.94zm10 10l.94 2.06.94-2.06 2.06-.94-2.06-.94-.94-2.06-.94 2.06-2.06.94z\"/><path d=\"M17.41 7.96l-1.37-1.37c-.4-.4-.92-.59-1.43-.59-.52 0-1.04.2-1.43.59L10.3 9.45l-7.72 7.72c-.78.78-.78 2.05 0 2.83L4 21.41c.39.39.9.59 1.41.59.51 0 1.02-.2 1.41-.59l7.78-7.78 2.81-2.81c.8-.78.8-2.07 0-2.86zM5.41 20L4 18.59l7.72-7.72 1.47 1.35L5.41 20z\"/>\n",
              "  </svg>\n",
              "      </button>\n",
              "      \n",
              "  <style>\n",
              "    .colab-df-container {\n",
              "      display:flex;\n",
              "      flex-wrap:wrap;\n",
              "      gap: 12px;\n",
              "    }\n",
              "\n",
              "    .colab-df-convert {\n",
              "      background-color: #E8F0FE;\n",
              "      border: none;\n",
              "      border-radius: 50%;\n",
              "      cursor: pointer;\n",
              "      display: none;\n",
              "      fill: #1967D2;\n",
              "      height: 32px;\n",
              "      padding: 0 0 0 0;\n",
              "      width: 32px;\n",
              "    }\n",
              "\n",
              "    .colab-df-convert:hover {\n",
              "      background-color: #E2EBFA;\n",
              "      box-shadow: 0px 1px 2px rgba(60, 64, 67, 0.3), 0px 1px 3px 1px rgba(60, 64, 67, 0.15);\n",
              "      fill: #174EA6;\n",
              "    }\n",
              "\n",
              "    [theme=dark] .colab-df-convert {\n",
              "      background-color: #3B4455;\n",
              "      fill: #D2E3FC;\n",
              "    }\n",
              "\n",
              "    [theme=dark] .colab-df-convert:hover {\n",
              "      background-color: #434B5C;\n",
              "      box-shadow: 0px 1px 3px 1px rgba(0, 0, 0, 0.15);\n",
              "      filter: drop-shadow(0px 1px 2px rgba(0, 0, 0, 0.3));\n",
              "      fill: #FFFFFF;\n",
              "    }\n",
              "  </style>\n",
              "\n",
              "      <script>\n",
              "        const buttonEl =\n",
              "          document.querySelector('#df-5b8124ae-8eaf-4a82-b035-cea6b64ee63f button.colab-df-convert');\n",
              "        buttonEl.style.display =\n",
              "          google.colab.kernel.accessAllowed ? 'block' : 'none';\n",
              "\n",
              "        async function convertToInteractive(key) {\n",
              "          const element = document.querySelector('#df-5b8124ae-8eaf-4a82-b035-cea6b64ee63f');\n",
              "          const dataTable =\n",
              "            await google.colab.kernel.invokeFunction('convertToInteractive',\n",
              "                                                     [key], {});\n",
              "          if (!dataTable) return;\n",
              "\n",
              "          const docLinkHtml = 'Like what you see? Visit the ' +\n",
              "            '<a target=\"_blank\" href=https://colab.research.google.com/notebooks/data_table.ipynb>data table notebook</a>'\n",
              "            + ' to learn more about interactive tables.';\n",
              "          element.innerHTML = '';\n",
              "          dataTable['output_type'] = 'display_data';\n",
              "          await google.colab.output.renderOutput(dataTable, element);\n",
              "          const docLink = document.createElement('div');\n",
              "          docLink.innerHTML = docLinkHtml;\n",
              "          element.appendChild(docLink);\n",
              "        }\n",
              "      </script>\n",
              "    </div>\n",
              "  </div>\n",
              "  "
            ]
          },
          "metadata": {},
          "execution_count": 19
        }
      ],
      "source": [
        "music_review_df.head(2)"
      ]
    },
    {
      "cell_type": "code",
      "execution_count": 20,
      "metadata": {
        "colab": {
          "base_uri": "https://localhost:8080/"
        },
        "id": "ata1v15megmt",
        "outputId": "99072c06-7934-40aa-80fc-a718cb570c48"
      },
      "outputs": [
        {
          "output_type": "stream",
          "name": "stdout",
          "text": [
            "<class 'pandas.core.frame.DataFrame'>\n",
            "RangeIndex: 169781 entries, 0 to 169780\n",
            "Data columns (total 5 columns):\n",
            " #   Column     Non-Null Count   Dtype  \n",
            "---  ------     --------------   -----  \n",
            " 0   overall    169781 non-null  float64\n",
            " 1   verified   169781 non-null  bool   \n",
            " 2   asin       169781 non-null  object \n",
            " 3   Sentiment  169781 non-null  object \n",
            " 4   NewReview  169781 non-null  object \n",
            "dtypes: bool(1), float64(1), object(3)\n",
            "memory usage: 5.3+ MB\n"
          ]
        }
      ],
      "source": [
        "music_review_df.info()"
      ]
    },
    {
      "cell_type": "markdown",
      "source": [
        "## sampling "
      ],
      "metadata": {
        "id": "qOB297gNv0Q4"
      }
    },
    {
      "cell_type": "code",
      "source": [
        "n_samples = 1000 # @param {type:\"integer\"}"
      ],
      "metadata": {
        "id": "mK0aF9f6ybtU"
      },
      "execution_count": 21,
      "outputs": []
    },
    {
      "cell_type": "code",
      "execution_count": 22,
      "metadata": {
        "id": "deTfUncKPta8"
      },
      "outputs": [],
      "source": [
        "\n",
        "#Getting the reviews from the dataset\n",
        "sample_df=music_review_df.sample(n = n_samples)\n",
        "reviews = [str(review) for review in sample_df.NewReview.values]\n",
        "\n",
        "#sample = reviews[:1000] #To reduce the runtime"
      ]
    },
    {
      "cell_type": "code",
      "execution_count": 23,
      "metadata": {
        "colab": {
          "base_uri": "https://localhost:8080/"
        },
        "id": "Z4imG0ixxxFD",
        "outputId": "88887b34-1810-48a4-c3f3-a11c7726989c"
      },
      "outputs": [
        {
          "output_type": "stream",
          "name": "stdout",
          "text": [
            "<class 'pandas.core.frame.DataFrame'>\n",
            "Int64Index: 1000 entries, 152082 to 9886\n",
            "Data columns (total 5 columns):\n",
            " #   Column     Non-Null Count  Dtype  \n",
            "---  ------     --------------  -----  \n",
            " 0   overall    1000 non-null   float64\n",
            " 1   verified   1000 non-null   bool   \n",
            " 2   asin       1000 non-null   object \n",
            " 3   Sentiment  1000 non-null   object \n",
            " 4   NewReview  1000 non-null   object \n",
            "dtypes: bool(1), float64(1), object(3)\n",
            "memory usage: 40.0+ KB\n"
          ]
        }
      ],
      "source": [
        "sample_df.info()"
      ]
    },
    {
      "cell_type": "code",
      "source": [
        "sample_df.head()"
      ],
      "metadata": {
        "colab": {
          "base_uri": "https://localhost:8080/",
          "height": 206
        },
        "id": "HwF3_1gDq3n3",
        "outputId": "c8cc7f59-393b-44ba-941b-567ec22c7f70"
      },
      "execution_count": 25,
      "outputs": [
        {
          "output_type": "execute_result",
          "data": {
            "text/plain": [
              "        overall  verified        asin Sentiment  \\\n",
              "152082      5.0      True  B004QMR6KA  Positive   \n",
              "142232      5.0      True  B001B65PBQ  Positive   \n",
              "40193       5.0     False  B00124AA2G  Positive   \n",
              "105703      5.0      True  B00OQZ4BV4  Positive   \n",
              "89977       5.0      True  B00DPJ055I  Positive   \n",
              "\n",
              "                                                NewReview  \n",
              "152082      Had to add to my collection._Library complete  \n",
              "142232    Very fun to use in the party we had._Five Stars  \n",
              "40193   She used to be mine. People being dumped: we f...  \n",
              "105703  Upbeat song. Fun, thoughtful, and sexy lyrics....  \n",
              "89977   This is amazingly good music.  Some of the bes...  "
            ],
            "text/html": [
              "\n",
              "  <div id=\"df-b5b86843-6a3b-48d9-ad35-7b73b8193a55\">\n",
              "    <div class=\"colab-df-container\">\n",
              "      <div>\n",
              "<style scoped>\n",
              "    .dataframe tbody tr th:only-of-type {\n",
              "        vertical-align: middle;\n",
              "    }\n",
              "\n",
              "    .dataframe tbody tr th {\n",
              "        vertical-align: top;\n",
              "    }\n",
              "\n",
              "    .dataframe thead th {\n",
              "        text-align: right;\n",
              "    }\n",
              "</style>\n",
              "<table border=\"1\" class=\"dataframe\">\n",
              "  <thead>\n",
              "    <tr style=\"text-align: right;\">\n",
              "      <th></th>\n",
              "      <th>overall</th>\n",
              "      <th>verified</th>\n",
              "      <th>asin</th>\n",
              "      <th>Sentiment</th>\n",
              "      <th>NewReview</th>\n",
              "    </tr>\n",
              "  </thead>\n",
              "  <tbody>\n",
              "    <tr>\n",
              "      <th>152082</th>\n",
              "      <td>5.0</td>\n",
              "      <td>True</td>\n",
              "      <td>B004QMR6KA</td>\n",
              "      <td>Positive</td>\n",
              "      <td>Had to add to my collection._Library complete</td>\n",
              "    </tr>\n",
              "    <tr>\n",
              "      <th>142232</th>\n",
              "      <td>5.0</td>\n",
              "      <td>True</td>\n",
              "      <td>B001B65PBQ</td>\n",
              "      <td>Positive</td>\n",
              "      <td>Very fun to use in the party we had._Five Stars</td>\n",
              "    </tr>\n",
              "    <tr>\n",
              "      <th>40193</th>\n",
              "      <td>5.0</td>\n",
              "      <td>False</td>\n",
              "      <td>B00124AA2G</td>\n",
              "      <td>Positive</td>\n",
              "      <td>She used to be mine. People being dumped: we f...</td>\n",
              "    </tr>\n",
              "    <tr>\n",
              "      <th>105703</th>\n",
              "      <td>5.0</td>\n",
              "      <td>True</td>\n",
              "      <td>B00OQZ4BV4</td>\n",
              "      <td>Positive</td>\n",
              "      <td>Upbeat song. Fun, thoughtful, and sexy lyrics....</td>\n",
              "    </tr>\n",
              "    <tr>\n",
              "      <th>89977</th>\n",
              "      <td>5.0</td>\n",
              "      <td>True</td>\n",
              "      <td>B00DPJ055I</td>\n",
              "      <td>Positive</td>\n",
              "      <td>This is amazingly good music.  Some of the bes...</td>\n",
              "    </tr>\n",
              "  </tbody>\n",
              "</table>\n",
              "</div>\n",
              "      <button class=\"colab-df-convert\" onclick=\"convertToInteractive('df-b5b86843-6a3b-48d9-ad35-7b73b8193a55')\"\n",
              "              title=\"Convert this dataframe to an interactive table.\"\n",
              "              style=\"display:none;\">\n",
              "        \n",
              "  <svg xmlns=\"http://www.w3.org/2000/svg\" height=\"24px\"viewBox=\"0 0 24 24\"\n",
              "       width=\"24px\">\n",
              "    <path d=\"M0 0h24v24H0V0z\" fill=\"none\"/>\n",
              "    <path d=\"M18.56 5.44l.94 2.06.94-2.06 2.06-.94-2.06-.94-.94-2.06-.94 2.06-2.06.94zm-11 1L8.5 8.5l.94-2.06 2.06-.94-2.06-.94L8.5 2.5l-.94 2.06-2.06.94zm10 10l.94 2.06.94-2.06 2.06-.94-2.06-.94-.94-2.06-.94 2.06-2.06.94z\"/><path d=\"M17.41 7.96l-1.37-1.37c-.4-.4-.92-.59-1.43-.59-.52 0-1.04.2-1.43.59L10.3 9.45l-7.72 7.72c-.78.78-.78 2.05 0 2.83L4 21.41c.39.39.9.59 1.41.59.51 0 1.02-.2 1.41-.59l7.78-7.78 2.81-2.81c.8-.78.8-2.07 0-2.86zM5.41 20L4 18.59l7.72-7.72 1.47 1.35L5.41 20z\"/>\n",
              "  </svg>\n",
              "      </button>\n",
              "      \n",
              "  <style>\n",
              "    .colab-df-container {\n",
              "      display:flex;\n",
              "      flex-wrap:wrap;\n",
              "      gap: 12px;\n",
              "    }\n",
              "\n",
              "    .colab-df-convert {\n",
              "      background-color: #E8F0FE;\n",
              "      border: none;\n",
              "      border-radius: 50%;\n",
              "      cursor: pointer;\n",
              "      display: none;\n",
              "      fill: #1967D2;\n",
              "      height: 32px;\n",
              "      padding: 0 0 0 0;\n",
              "      width: 32px;\n",
              "    }\n",
              "\n",
              "    .colab-df-convert:hover {\n",
              "      background-color: #E2EBFA;\n",
              "      box-shadow: 0px 1px 2px rgba(60, 64, 67, 0.3), 0px 1px 3px 1px rgba(60, 64, 67, 0.15);\n",
              "      fill: #174EA6;\n",
              "    }\n",
              "\n",
              "    [theme=dark] .colab-df-convert {\n",
              "      background-color: #3B4455;\n",
              "      fill: #D2E3FC;\n",
              "    }\n",
              "\n",
              "    [theme=dark] .colab-df-convert:hover {\n",
              "      background-color: #434B5C;\n",
              "      box-shadow: 0px 1px 3px 1px rgba(0, 0, 0, 0.15);\n",
              "      filter: drop-shadow(0px 1px 2px rgba(0, 0, 0, 0.3));\n",
              "      fill: #FFFFFF;\n",
              "    }\n",
              "  </style>\n",
              "\n",
              "      <script>\n",
              "        const buttonEl =\n",
              "          document.querySelector('#df-b5b86843-6a3b-48d9-ad35-7b73b8193a55 button.colab-df-convert');\n",
              "        buttonEl.style.display =\n",
              "          google.colab.kernel.accessAllowed ? 'block' : 'none';\n",
              "\n",
              "        async function convertToInteractive(key) {\n",
              "          const element = document.querySelector('#df-b5b86843-6a3b-48d9-ad35-7b73b8193a55');\n",
              "          const dataTable =\n",
              "            await google.colab.kernel.invokeFunction('convertToInteractive',\n",
              "                                                     [key], {});\n",
              "          if (!dataTable) return;\n",
              "\n",
              "          const docLinkHtml = 'Like what you see? Visit the ' +\n",
              "            '<a target=\"_blank\" href=https://colab.research.google.com/notebooks/data_table.ipynb>data table notebook</a>'\n",
              "            + ' to learn more about interactive tables.';\n",
              "          element.innerHTML = '';\n",
              "          dataTable['output_type'] = 'display_data';\n",
              "          await google.colab.output.renderOutput(dataTable, element);\n",
              "          const docLink = document.createElement('div');\n",
              "          docLink.innerHTML = docLinkHtml;\n",
              "          element.appendChild(docLink);\n",
              "        }\n",
              "      </script>\n",
              "    </div>\n",
              "  </div>\n",
              "  "
            ]
          },
          "metadata": {},
          "execution_count": 25
        }
      ]
    },
    {
      "cell_type": "code",
      "source": [
        "\n",
        "# average length\n",
        "print('- average review length (words): ', len(re.findall(r'\\w+', ' '.join(reviews)))/len(reviews))"
      ],
      "metadata": {
        "colab": {
          "base_uri": "https://localhost:8080/"
        },
        "id": "yJL2qnXBxiMp",
        "outputId": "069c1471-30a4-4e6e-88f7-f9a679424446"
      },
      "execution_count": 60,
      "outputs": [
        {
          "output_type": "stream",
          "name": "stdout",
          "text": [
            "- average review length (words):  37.653\n"
          ]
        }
      ]
    },
    {
      "cell_type": "markdown",
      "source": [
        "# 3. Text representation (approaches in course module 2)"
      ],
      "metadata": {
        "id": "axAHe1HR1fRb"
      }
    },
    {
      "cell_type": "markdown",
      "source": [
        "## Tokenisation, Lemmatization, Stemming, pos, entities"
      ],
      "metadata": {
        "id": "mJ3TciyV09jT"
      }
    },
    {
      "cell_type": "code",
      "execution_count": 27,
      "metadata": {
        "id": "tN8P7E-IHrxu",
        "scrolled": true
      },
      "outputs": [],
      "source": [
        "#Tokenisation\n",
        "tokens = [[token.text for token in nlp(sentence)] for sentence in reviews]\n",
        "\n",
        "#Lemmatization\n",
        "lemmas = [[token.lemma_ if token.lemma_ != \"-PRON-\" else token.lower_ for token in nlp(sentence)] for sentence in reviews]\n",
        "\n",
        "#Stemming\n",
        "stems = [[stemmer.stem(token) for token in sentence] for sentence in tokens]\n",
        "\n",
        "#Getting pos\n",
        "pos = [nltk.pos_tag(token) for token in tokens]\n",
        "\n",
        "#Getting entities\n",
        "entities = [[[ent.text, ent.label_] for ent in nlp(sentence).ents] for sentence in reviews] "
      ]
    },
    {
      "cell_type": "code",
      "execution_count": 28,
      "metadata": {
        "colab": {
          "base_uri": "https://localhost:8080/"
        },
        "id": "_O8GQR1THrxv",
        "outputId": "0a6d6e22-724d-4f81-b699-44eb8f2e543c"
      },
      "outputs": [
        {
          "output_type": "stream",
          "name": "stdout",
          "text": [
            "5 most common people:  [('Whitney Houston', 9), ('Monica', 7), ('Hudson', 6), ('Michael Jackson', 5), ('Andy Williams', 5), ('Floyd', 5), ('Pink Floyd', 5), ('Tim', 5), ('Rihanna', 4), ('Anita', 4)]\n",
            "5 most common work of art:  [('Love', 18), ('The Desired Effect', 5), ('Five Stars', 5), ('Love it!_Five Stars', 3), ('Love it_Five', 3), ('Badlands', 3), ('This Feeling', 2), ('Your Hit Parade', 2), ('Paint It, Black', 2), ('I Want To Be Loved', 2)]\n"
          ]
        }
      ],
      "source": [
        "#Most common people\n",
        "people = [person[0] for person in [item for sublist in entities for item in sublist if item[1]=='PERSON']]\n",
        "print('5 most common people: ', Counter(people).most_common(10))\n",
        "\n",
        "#Most common music\n",
        "music = [person[0] for person in [item for sublist in entities for item in sublist if item[1]=='WORK_OF_ART']]\n",
        "print('5 most common work of art: ', Counter(music).most_common(10))"
      ]
    },
    {
      "cell_type": "code",
      "execution_count": 29,
      "metadata": {
        "id": "rl4_kAOeHrxu"
      },
      "outputs": [],
      "source": [
        "#Taking the stems or the lemmas \n",
        "ptext = [' '.join(word) for word in lemmas]\n",
        "\n",
        "#Converting to lowercase\n",
        "ptext = [review.lower() for review in ptext]\n",
        "\n",
        "#Removing numbers\n",
        "ptext = [re.sub(r'\\d+', '', review) for review in ptext]\n",
        "\n",
        "#Removing punctuation\n",
        "ptext = [re.sub(r'[^\\w\\s]',' ',review) for review in ptext]\n",
        "ptext = [re.sub(' +', ' ', review) for review in ptext]\n",
        "ptext = [re.sub('_', '', review) for review in ptext]\n",
        "\n",
        "#Removing leading and trailing whitespaces\n",
        "ptext = [review.strip() for review in ptext]\n",
        "\n",
        "#Removing stopwords\n",
        "ptext = [' '.join([word for word in review.split() if word not in stop_words]) for review in ptext]"
      ]
    },
    {
      "cell_type": "code",
      "execution_count": 30,
      "metadata": {
        "colab": {
          "base_uri": "https://localhost:8080/",
          "height": 424
        },
        "id": "-_BYH4yWdEUD",
        "outputId": "69c40738-78ab-4639-a238-1e98281be81e"
      },
      "outputs": [
        {
          "output_type": "execute_result",
          "data": {
            "text/plain": [
              "                                              Original  \\\n",
              "0        Had to add to my collection._Library complete   \n",
              "1      Very fun to use in the party we had._Five Stars   \n",
              "2    She used to be mine. People being dumped: we f...   \n",
              "3    Upbeat song. Fun, thoughtful, and sexy lyrics....   \n",
              "4    This is amazingly good music.  Some of the bes...   \n",
              "..                                                 ...   \n",
              "995  Just a beautiful song by two great country art...   \n",
              "996                         Love this song!_Five Stars   \n",
              "997                                Loves it_Five Stars   \n",
              "998  Most beautiful words ever written sung by a be...   \n",
              "999                   Very good collection._Five Stars   \n",
              "\n",
              "                                   After Proprocessing  \n",
              "0                      add collection library complete  \n",
              "1                              fun use party five star  \n",
              "2    use mine people dump figure alone night wake n...  \n",
              "3    upbeat song fun thoughtful sexy lyric love ble...  \n",
              "4    amazingly good music good classical music list...  \n",
              "..                                                 ...  \n",
              "995  beautiful song two great country artist video ...  \n",
              "996                                love song five star  \n",
              "997                                   love itfive star  \n",
              "998  beautiful word ever write sing beautiful voice...  \n",
              "999                          good collection five star  \n",
              "\n",
              "[1000 rows x 2 columns]"
            ],
            "text/html": [
              "\n",
              "  <div id=\"df-03a339c3-4519-44ca-a3ff-92b4079f7240\">\n",
              "    <div class=\"colab-df-container\">\n",
              "      <div>\n",
              "<style scoped>\n",
              "    .dataframe tbody tr th:only-of-type {\n",
              "        vertical-align: middle;\n",
              "    }\n",
              "\n",
              "    .dataframe tbody tr th {\n",
              "        vertical-align: top;\n",
              "    }\n",
              "\n",
              "    .dataframe thead th {\n",
              "        text-align: right;\n",
              "    }\n",
              "</style>\n",
              "<table border=\"1\" class=\"dataframe\">\n",
              "  <thead>\n",
              "    <tr style=\"text-align: right;\">\n",
              "      <th></th>\n",
              "      <th>Original</th>\n",
              "      <th>After Proprocessing</th>\n",
              "    </tr>\n",
              "  </thead>\n",
              "  <tbody>\n",
              "    <tr>\n",
              "      <th>0</th>\n",
              "      <td>Had to add to my collection._Library complete</td>\n",
              "      <td>add collection library complete</td>\n",
              "    </tr>\n",
              "    <tr>\n",
              "      <th>1</th>\n",
              "      <td>Very fun to use in the party we had._Five Stars</td>\n",
              "      <td>fun use party five star</td>\n",
              "    </tr>\n",
              "    <tr>\n",
              "      <th>2</th>\n",
              "      <td>She used to be mine. People being dumped: we f...</td>\n",
              "      <td>use mine people dump figure alone night wake n...</td>\n",
              "    </tr>\n",
              "    <tr>\n",
              "      <th>3</th>\n",
              "      <td>Upbeat song. Fun, thoughtful, and sexy lyrics....</td>\n",
              "      <td>upbeat song fun thoughtful sexy lyric love ble...</td>\n",
              "    </tr>\n",
              "    <tr>\n",
              "      <th>4</th>\n",
              "      <td>This is amazingly good music.  Some of the bes...</td>\n",
              "      <td>amazingly good music good classical music list...</td>\n",
              "    </tr>\n",
              "    <tr>\n",
              "      <th>...</th>\n",
              "      <td>...</td>\n",
              "      <td>...</td>\n",
              "    </tr>\n",
              "    <tr>\n",
              "      <th>995</th>\n",
              "      <td>Just a beautiful song by two great country art...</td>\n",
              "      <td>beautiful song two great country artist video ...</td>\n",
              "    </tr>\n",
              "    <tr>\n",
              "      <th>996</th>\n",
              "      <td>Love this song!_Five Stars</td>\n",
              "      <td>love song five star</td>\n",
              "    </tr>\n",
              "    <tr>\n",
              "      <th>997</th>\n",
              "      <td>Loves it_Five Stars</td>\n",
              "      <td>love itfive star</td>\n",
              "    </tr>\n",
              "    <tr>\n",
              "      <th>998</th>\n",
              "      <td>Most beautiful words ever written sung by a be...</td>\n",
              "      <td>beautiful word ever write sing beautiful voice...</td>\n",
              "    </tr>\n",
              "    <tr>\n",
              "      <th>999</th>\n",
              "      <td>Very good collection._Five Stars</td>\n",
              "      <td>good collection five star</td>\n",
              "    </tr>\n",
              "  </tbody>\n",
              "</table>\n",
              "<p>1000 rows × 2 columns</p>\n",
              "</div>\n",
              "      <button class=\"colab-df-convert\" onclick=\"convertToInteractive('df-03a339c3-4519-44ca-a3ff-92b4079f7240')\"\n",
              "              title=\"Convert this dataframe to an interactive table.\"\n",
              "              style=\"display:none;\">\n",
              "        \n",
              "  <svg xmlns=\"http://www.w3.org/2000/svg\" height=\"24px\"viewBox=\"0 0 24 24\"\n",
              "       width=\"24px\">\n",
              "    <path d=\"M0 0h24v24H0V0z\" fill=\"none\"/>\n",
              "    <path d=\"M18.56 5.44l.94 2.06.94-2.06 2.06-.94-2.06-.94-.94-2.06-.94 2.06-2.06.94zm-11 1L8.5 8.5l.94-2.06 2.06-.94-2.06-.94L8.5 2.5l-.94 2.06-2.06.94zm10 10l.94 2.06.94-2.06 2.06-.94-2.06-.94-.94-2.06-.94 2.06-2.06.94z\"/><path d=\"M17.41 7.96l-1.37-1.37c-.4-.4-.92-.59-1.43-.59-.52 0-1.04.2-1.43.59L10.3 9.45l-7.72 7.72c-.78.78-.78 2.05 0 2.83L4 21.41c.39.39.9.59 1.41.59.51 0 1.02-.2 1.41-.59l7.78-7.78 2.81-2.81c.8-.78.8-2.07 0-2.86zM5.41 20L4 18.59l7.72-7.72 1.47 1.35L5.41 20z\"/>\n",
              "  </svg>\n",
              "      </button>\n",
              "      \n",
              "  <style>\n",
              "    .colab-df-container {\n",
              "      display:flex;\n",
              "      flex-wrap:wrap;\n",
              "      gap: 12px;\n",
              "    }\n",
              "\n",
              "    .colab-df-convert {\n",
              "      background-color: #E8F0FE;\n",
              "      border: none;\n",
              "      border-radius: 50%;\n",
              "      cursor: pointer;\n",
              "      display: none;\n",
              "      fill: #1967D2;\n",
              "      height: 32px;\n",
              "      padding: 0 0 0 0;\n",
              "      width: 32px;\n",
              "    }\n",
              "\n",
              "    .colab-df-convert:hover {\n",
              "      background-color: #E2EBFA;\n",
              "      box-shadow: 0px 1px 2px rgba(60, 64, 67, 0.3), 0px 1px 3px 1px rgba(60, 64, 67, 0.15);\n",
              "      fill: #174EA6;\n",
              "    }\n",
              "\n",
              "    [theme=dark] .colab-df-convert {\n",
              "      background-color: #3B4455;\n",
              "      fill: #D2E3FC;\n",
              "    }\n",
              "\n",
              "    [theme=dark] .colab-df-convert:hover {\n",
              "      background-color: #434B5C;\n",
              "      box-shadow: 0px 1px 3px 1px rgba(0, 0, 0, 0.15);\n",
              "      filter: drop-shadow(0px 1px 2px rgba(0, 0, 0, 0.3));\n",
              "      fill: #FFFFFF;\n",
              "    }\n",
              "  </style>\n",
              "\n",
              "      <script>\n",
              "        const buttonEl =\n",
              "          document.querySelector('#df-03a339c3-4519-44ca-a3ff-92b4079f7240 button.colab-df-convert');\n",
              "        buttonEl.style.display =\n",
              "          google.colab.kernel.accessAllowed ? 'block' : 'none';\n",
              "\n",
              "        async function convertToInteractive(key) {\n",
              "          const element = document.querySelector('#df-03a339c3-4519-44ca-a3ff-92b4079f7240');\n",
              "          const dataTable =\n",
              "            await google.colab.kernel.invokeFunction('convertToInteractive',\n",
              "                                                     [key], {});\n",
              "          if (!dataTable) return;\n",
              "\n",
              "          const docLinkHtml = 'Like what you see? Visit the ' +\n",
              "            '<a target=\"_blank\" href=https://colab.research.google.com/notebooks/data_table.ipynb>data table notebook</a>'\n",
              "            + ' to learn more about interactive tables.';\n",
              "          element.innerHTML = '';\n",
              "          dataTable['output_type'] = 'display_data';\n",
              "          await google.colab.output.renderOutput(dataTable, element);\n",
              "          const docLink = document.createElement('div');\n",
              "          docLink.innerHTML = docLinkHtml;\n",
              "          element.appendChild(docLink);\n",
              "        }\n",
              "      </script>\n",
              "    </div>\n",
              "  </div>\n",
              "  "
            ]
          },
          "metadata": {},
          "execution_count": 30
        }
      ],
      "source": [
        "frame = {'Original': reviews, \n",
        "        'After Proprocessing': ptext}\n",
        "\n",
        "pd.DataFrame.from_dict(frame)\n"
      ]
    },
    {
      "cell_type": "code",
      "execution_count": 31,
      "metadata": {
        "colab": {
          "base_uri": "https://localhost:8080/"
        },
        "id": "Tzv-v7G1dzbn",
        "outputId": "e1d31f24-1fa0-4c58-808d-0bc41e888444"
      },
      "outputs": [
        {
          "output_type": "stream",
          "name": "stdout",
          "text": [
            "Number of words:\n",
            "- Before preprocessing:  37653\n",
            "- After preprocessing:  19579\n",
            "\n",
            "Average review length:\n",
            "- Before preprocessing:  37.653\n",
            "- After preprocessing:  19.579\n",
            "\n",
            "Number of punctuation character:\n",
            "- Before preprocessing:  0\n",
            "- After preprocessing:  0\n",
            "\n"
          ]
        }
      ],
      "source": [
        "#Number of words\n",
        "print('Number of words:')\n",
        "\n",
        "bef = len(re.findall(r'\\w+', ' '.join(reviews)))\n",
        "aft = len(re.findall(r'\\w+', ' '.join(ptext)))\n",
        "\n",
        "print('- Before preprocessing: ', bef )\n",
        "print('- After preprocessing: ', aft )\n",
        "print()\n",
        "\n",
        "#Average review length\n",
        "print('Average review length:')\n",
        "\n",
        "bef_a = bef/n_samples\n",
        "aft_a = aft/n_samples\n",
        "\n",
        "print('- Before preprocessing: ', bef_a )\n",
        "print('- After preprocessing: ', aft_a )\n",
        "print()\n",
        "\n",
        "#Punctuation\n",
        "count = lambda l1,l2: sum([1 for x in l1 if x in l2])\n",
        "punct_b = 0\n",
        "for i in sample_df:\n",
        "    punct_b += count(i,set(string.punctuation))\n",
        "punct_a = 0\n",
        "for i in ptext:\n",
        "    punct_a += count(i,set(string.punctuation))\n",
        "    \n",
        "print('Number of punctuation character:')\n",
        "print('- Before preprocessing: ', punct_b)\n",
        "print('- After preprocessing: ', punct_a)\n",
        "print()\n"
      ]
    },
    {
      "cell_type": "code",
      "source": [],
      "metadata": {
        "id": "pyX9GHDOiPfJ"
      },
      "execution_count": 31,
      "outputs": []
    },
    {
      "cell_type": "markdown",
      "source": [
        "## glove"
      ],
      "metadata": {
        "id": "rzJZMP18iLkQ"
      }
    },
    {
      "cell_type": "code",
      "source": [
        "from keras.utils import get_file\n",
        "\n",
        "dir1 = get_file(origin=\"https://raw.githubusercontent.com/shahrzadko/NLPDigitalMusic/main/glove.6B.100d.zip.001?token=GHSAT0AAAAAAB6LOL42SKHPCCMIVYPOC4REY7AKE2Q\")\n",
        "dir2 = get_file(origin=\"https://raw.githubusercontent.com/shahrzadko/NLPDigitalMusic/main/glove.6B.100d.zip.002?token=GHSAT0AAAAAAB6LOL42SKHPCCMIVYPOC4REY7AKE2Q\")\n",
        "\n",
        "dir1\n"
      ],
      "metadata": {
        "colab": {
          "base_uri": "https://localhost:8080/",
          "height": 35
        },
        "id": "7n6YwJUxiQaf",
        "outputId": "83df4f30-cf74-47a6-f7e3-c1c343b2883c"
      },
      "execution_count": 32,
      "outputs": [
        {
          "output_type": "execute_result",
          "data": {
            "text/plain": [
              "'/root/.keras/datasets/glove.6B.100d.zip.001'"
            ],
            "application/vnd.google.colaboratory.intrinsic+json": {
              "type": "string"
            }
          },
          "metadata": {},
          "execution_count": 32
        }
      ]
    },
    {
      "cell_type": "code",
      "source": [
        "### for Colab!!! change path if not running in Colab \n",
        "\n",
        "!cat /root/.keras/datasets/glove.6B.100d.zip* > /root/.keras/datasets/glove.6B.100d.zip\n",
        "\n",
        "!unzip -f /root/.keras/datasets/glove.6B.100d.zip \n"
      ],
      "metadata": {
        "colab": {
          "base_uri": "https://localhost:8080/"
        },
        "id": "QaXsd_UCjUgD",
        "outputId": "0f40b154-7e97-46d7-b1d9-2ad0a10cc45d"
      },
      "execution_count": 33,
      "outputs": [
        {
          "output_type": "stream",
          "name": "stdout",
          "text": [
            "Archive:  /root/.keras/datasets/glove.6B.100d.zip\n"
          ]
        }
      ]
    },
    {
      "cell_type": "code",
      "source": [
        "\n",
        "EMBEDDING_DIM = 100 # @param {type:\"integer\"}"
      ],
      "metadata": {
        "id": "nde0iVV-0Ixk"
      },
      "execution_count": 34,
      "outputs": []
    },
    {
      "cell_type": "code",
      "source": [
        "\n",
        "\n",
        "# first, build index mapping words in the embeddings set\n",
        "# to their embedding vector\n",
        "\n",
        "embeddings_index = {}\n",
        "#C:\\Courses_cent\\COMP 262\\practical-nlp-master\\Ch4\\Glove6B\n",
        "#with open(os.path.join(GLOVE_DIR, 'glove.6B.100d.txt'), encoding=\"utf-8\") as f:\n",
        "with open(\"glove.6B.100d.txt\", encoding =\"utf-8\") as f:\n",
        "    for line in f:\n",
        "        values = line.split()\n",
        "        word = values[0]\n",
        "        coefs = np.asarray(values[1:], dtype='float32')\n",
        "        embeddings_index[word] = coefs\n",
        "\n",
        "print('Found %s word vectors in Glove embeddings.' % len(embeddings_index))\n",
        "\n",
        "def get_embeddings(word):\n",
        "    embedding_vector = embeddings_index.get(word)\n",
        "    if embedding_vector is None:\n",
        "        # words not found in embedding index will be all-zeros.\n",
        "        embedding_vector = np.zeros(shape=(EMBEDDING_DIM, ))\n",
        "    return embedding_vector"
      ],
      "metadata": {
        "colab": {
          "base_uri": "https://localhost:8080/"
        },
        "id": "o6pbQ1sKkRbx",
        "outputId": "86ba28b6-a5a3-4f22-9890-605953cde471"
      },
      "execution_count": 35,
      "outputs": [
        {
          "output_type": "stream",
          "name": "stdout",
          "text": [
            "Found 400000 word vectors in Glove embeddings.\n"
          ]
        }
      ]
    },
    {
      "cell_type": "code",
      "source": [
        "embeded = [[get_embeddings(word) for word in review.split() ] for review in ptext]\n"
      ],
      "metadata": {
        "id": "SWbXq2YinGwa"
      },
      "execution_count": 36,
      "outputs": []
    },
    {
      "cell_type": "code",
      "source": [
        "frame = {'Original': reviews, \n",
        "        'After embedding': embeded}\n",
        "\n",
        "pd.DataFrame.from_dict(frame)\n"
      ],
      "metadata": {
        "colab": {
          "base_uri": "https://localhost:8080/",
          "height": 424
        },
        "id": "0tTMTMj-zmUv",
        "outputId": "39339859-e775-4ccf-a28b-12228118230f"
      },
      "execution_count": 37,
      "outputs": [
        {
          "output_type": "execute_result",
          "data": {
            "text/plain": [
              "                                              Original  \\\n",
              "0        Had to add to my collection._Library complete   \n",
              "1      Very fun to use in the party we had._Five Stars   \n",
              "2    She used to be mine. People being dumped: we f...   \n",
              "3    Upbeat song. Fun, thoughtful, and sexy lyrics....   \n",
              "4    This is amazingly good music.  Some of the bes...   \n",
              "..                                                 ...   \n",
              "995  Just a beautiful song by two great country art...   \n",
              "996                         Love this song!_Five Stars   \n",
              "997                                Loves it_Five Stars   \n",
              "998  Most beautiful words ever written sung by a be...   \n",
              "999                   Very good collection._Five Stars   \n",
              "\n",
              "                                       After embedding  \n",
              "0    [[-1.2393, 0.83369, 0.083531, -0.20049, 0.0447...  \n",
              "1    [[-0.43375, 0.081643, 0.27594, -0.73382, -0.39...  \n",
              "2    [[-0.36531, 0.31785, -0.32047, 0.051639, -0.12...  \n",
              "3    [[-0.78119, 0.12775, 0.55569, -0.016857, 0.012...  \n",
              "4    [[-0.32747, 0.16029, 0.21122, -0.46486, -0.179...  \n",
              "..                                                 ...  \n",
              "995  [[-0.18173, 0.49759, 0.46326, 0.22507, 0.46379...  \n",
              "996  [[0.25975, 0.55833, 0.57986, -0.21361, 0.13084...  \n",
              "997  [[0.25975, 0.55833, 0.57986, -0.21361, 0.13084...  \n",
              "998  [[-0.18173, 0.49759, 0.46326, 0.22507, 0.46379...  \n",
              "999  [[-0.030769, 0.11993, 0.53909, -0.43696, -0.73...  \n",
              "\n",
              "[1000 rows x 2 columns]"
            ],
            "text/html": [
              "\n",
              "  <div id=\"df-c749886f-672e-4e23-a0f3-151e39214e22\">\n",
              "    <div class=\"colab-df-container\">\n",
              "      <div>\n",
              "<style scoped>\n",
              "    .dataframe tbody tr th:only-of-type {\n",
              "        vertical-align: middle;\n",
              "    }\n",
              "\n",
              "    .dataframe tbody tr th {\n",
              "        vertical-align: top;\n",
              "    }\n",
              "\n",
              "    .dataframe thead th {\n",
              "        text-align: right;\n",
              "    }\n",
              "</style>\n",
              "<table border=\"1\" class=\"dataframe\">\n",
              "  <thead>\n",
              "    <tr style=\"text-align: right;\">\n",
              "      <th></th>\n",
              "      <th>Original</th>\n",
              "      <th>After embedding</th>\n",
              "    </tr>\n",
              "  </thead>\n",
              "  <tbody>\n",
              "    <tr>\n",
              "      <th>0</th>\n",
              "      <td>Had to add to my collection._Library complete</td>\n",
              "      <td>[[-1.2393, 0.83369, 0.083531, -0.20049, 0.0447...</td>\n",
              "    </tr>\n",
              "    <tr>\n",
              "      <th>1</th>\n",
              "      <td>Very fun to use in the party we had._Five Stars</td>\n",
              "      <td>[[-0.43375, 0.081643, 0.27594, -0.73382, -0.39...</td>\n",
              "    </tr>\n",
              "    <tr>\n",
              "      <th>2</th>\n",
              "      <td>She used to be mine. People being dumped: we f...</td>\n",
              "      <td>[[-0.36531, 0.31785, -0.32047, 0.051639, -0.12...</td>\n",
              "    </tr>\n",
              "    <tr>\n",
              "      <th>3</th>\n",
              "      <td>Upbeat song. Fun, thoughtful, and sexy lyrics....</td>\n",
              "      <td>[[-0.78119, 0.12775, 0.55569, -0.016857, 0.012...</td>\n",
              "    </tr>\n",
              "    <tr>\n",
              "      <th>4</th>\n",
              "      <td>This is amazingly good music.  Some of the bes...</td>\n",
              "      <td>[[-0.32747, 0.16029, 0.21122, -0.46486, -0.179...</td>\n",
              "    </tr>\n",
              "    <tr>\n",
              "      <th>...</th>\n",
              "      <td>...</td>\n",
              "      <td>...</td>\n",
              "    </tr>\n",
              "    <tr>\n",
              "      <th>995</th>\n",
              "      <td>Just a beautiful song by two great country art...</td>\n",
              "      <td>[[-0.18173, 0.49759, 0.46326, 0.22507, 0.46379...</td>\n",
              "    </tr>\n",
              "    <tr>\n",
              "      <th>996</th>\n",
              "      <td>Love this song!_Five Stars</td>\n",
              "      <td>[[0.25975, 0.55833, 0.57986, -0.21361, 0.13084...</td>\n",
              "    </tr>\n",
              "    <tr>\n",
              "      <th>997</th>\n",
              "      <td>Loves it_Five Stars</td>\n",
              "      <td>[[0.25975, 0.55833, 0.57986, -0.21361, 0.13084...</td>\n",
              "    </tr>\n",
              "    <tr>\n",
              "      <th>998</th>\n",
              "      <td>Most beautiful words ever written sung by a be...</td>\n",
              "      <td>[[-0.18173, 0.49759, 0.46326, 0.22507, 0.46379...</td>\n",
              "    </tr>\n",
              "    <tr>\n",
              "      <th>999</th>\n",
              "      <td>Very good collection._Five Stars</td>\n",
              "      <td>[[-0.030769, 0.11993, 0.53909, -0.43696, -0.73...</td>\n",
              "    </tr>\n",
              "  </tbody>\n",
              "</table>\n",
              "<p>1000 rows × 2 columns</p>\n",
              "</div>\n",
              "      <button class=\"colab-df-convert\" onclick=\"convertToInteractive('df-c749886f-672e-4e23-a0f3-151e39214e22')\"\n",
              "              title=\"Convert this dataframe to an interactive table.\"\n",
              "              style=\"display:none;\">\n",
              "        \n",
              "  <svg xmlns=\"http://www.w3.org/2000/svg\" height=\"24px\"viewBox=\"0 0 24 24\"\n",
              "       width=\"24px\">\n",
              "    <path d=\"M0 0h24v24H0V0z\" fill=\"none\"/>\n",
              "    <path d=\"M18.56 5.44l.94 2.06.94-2.06 2.06-.94-2.06-.94-.94-2.06-.94 2.06-2.06.94zm-11 1L8.5 8.5l.94-2.06 2.06-.94-2.06-.94L8.5 2.5l-.94 2.06-2.06.94zm10 10l.94 2.06.94-2.06 2.06-.94-2.06-.94-.94-2.06-.94 2.06-2.06.94z\"/><path d=\"M17.41 7.96l-1.37-1.37c-.4-.4-.92-.59-1.43-.59-.52 0-1.04.2-1.43.59L10.3 9.45l-7.72 7.72c-.78.78-.78 2.05 0 2.83L4 21.41c.39.39.9.59 1.41.59.51 0 1.02-.2 1.41-.59l7.78-7.78 2.81-2.81c.8-.78.8-2.07 0-2.86zM5.41 20L4 18.59l7.72-7.72 1.47 1.35L5.41 20z\"/>\n",
              "  </svg>\n",
              "      </button>\n",
              "      \n",
              "  <style>\n",
              "    .colab-df-container {\n",
              "      display:flex;\n",
              "      flex-wrap:wrap;\n",
              "      gap: 12px;\n",
              "    }\n",
              "\n",
              "    .colab-df-convert {\n",
              "      background-color: #E8F0FE;\n",
              "      border: none;\n",
              "      border-radius: 50%;\n",
              "      cursor: pointer;\n",
              "      display: none;\n",
              "      fill: #1967D2;\n",
              "      height: 32px;\n",
              "      padding: 0 0 0 0;\n",
              "      width: 32px;\n",
              "    }\n",
              "\n",
              "    .colab-df-convert:hover {\n",
              "      background-color: #E2EBFA;\n",
              "      box-shadow: 0px 1px 2px rgba(60, 64, 67, 0.3), 0px 1px 3px 1px rgba(60, 64, 67, 0.15);\n",
              "      fill: #174EA6;\n",
              "    }\n",
              "\n",
              "    [theme=dark] .colab-df-convert {\n",
              "      background-color: #3B4455;\n",
              "      fill: #D2E3FC;\n",
              "    }\n",
              "\n",
              "    [theme=dark] .colab-df-convert:hover {\n",
              "      background-color: #434B5C;\n",
              "      box-shadow: 0px 1px 3px 1px rgba(0, 0, 0, 0.15);\n",
              "      filter: drop-shadow(0px 1px 2px rgba(0, 0, 0, 0.3));\n",
              "      fill: #FFFFFF;\n",
              "    }\n",
              "  </style>\n",
              "\n",
              "      <script>\n",
              "        const buttonEl =\n",
              "          document.querySelector('#df-c749886f-672e-4e23-a0f3-151e39214e22 button.colab-df-convert');\n",
              "        buttonEl.style.display =\n",
              "          google.colab.kernel.accessAllowed ? 'block' : 'none';\n",
              "\n",
              "        async function convertToInteractive(key) {\n",
              "          const element = document.querySelector('#df-c749886f-672e-4e23-a0f3-151e39214e22');\n",
              "          const dataTable =\n",
              "            await google.colab.kernel.invokeFunction('convertToInteractive',\n",
              "                                                     [key], {});\n",
              "          if (!dataTable) return;\n",
              "\n",
              "          const docLinkHtml = 'Like what you see? Visit the ' +\n",
              "            '<a target=\"_blank\" href=https://colab.research.google.com/notebooks/data_table.ipynb>data table notebook</a>'\n",
              "            + ' to learn more about interactive tables.';\n",
              "          element.innerHTML = '';\n",
              "          dataTable['output_type'] = 'display_data';\n",
              "          await google.colab.output.renderOutput(dataTable, element);\n",
              "          const docLink = document.createElement('div');\n",
              "          docLink.innerHTML = docLinkHtml;\n",
              "          element.appendChild(docLink);\n",
              "        }\n",
              "      </script>\n",
              "    </div>\n",
              "  </div>\n",
              "  "
            ]
          },
          "metadata": {},
          "execution_count": 37
        }
      ]
    },
    {
      "cell_type": "markdown",
      "source": [
        "\n",
        "# 4. Modeling "
      ],
      "metadata": {
        "id": "58kTIY22vTQT"
      }
    },
    {
      "cell_type": "markdown",
      "metadata": {
        "id": "vXV9HF95Hrxw"
      },
      "source": [
        "## VADR sentiment"
      ]
    },
    {
      "cell_type": "code",
      "execution_count": 38,
      "metadata": {
        "id": "KL6HELwBnXSM"
      },
      "outputs": [],
      "source": [
        "import locale\n",
        "locale.getpreferredencoding = lambda: \"UTF-8\""
      ]
    },
    {
      "cell_type": "code",
      "execution_count": 39,
      "metadata": {
        "colab": {
          "base_uri": "https://localhost:8080/"
        },
        "id": "IWvKWCh_0_QM",
        "outputId": "125d7480-e463-4f4f-a3be-36fd8530c190"
      },
      "outputs": [
        {
          "output_type": "stream",
          "name": "stdout",
          "text": [
            "Looking in indexes: https://pypi.org/simple, https://us-python.pkg.dev/colab-wheels/public/simple/\n",
            "Requirement already satisfied: vaderSentiment in /usr/local/lib/python3.8/dist-packages (3.3.2)\n",
            "Requirement already satisfied: requests in /usr/local/lib/python3.8/dist-packages (from vaderSentiment) (2.25.1)\n",
            "Requirement already satisfied: idna<3,>=2.5 in /usr/local/lib/python3.8/dist-packages (from requests->vaderSentiment) (2.10)\n",
            "Requirement already satisfied: certifi>=2017.4.17 in /usr/local/lib/python3.8/dist-packages (from requests->vaderSentiment) (2022.12.7)\n",
            "Requirement already satisfied: chardet<5,>=3.0.2 in /usr/local/lib/python3.8/dist-packages (from requests->vaderSentiment) (4.0.0)\n",
            "Requirement already satisfied: urllib3<1.27,>=1.21.1 in /usr/local/lib/python3.8/dist-packages (from requests->vaderSentiment) (1.26.14)\n"
          ]
        }
      ],
      "source": [
        "!pip install --upgrade vaderSentiment"
      ]
    },
    {
      "cell_type": "code",
      "execution_count": 40,
      "metadata": {
        "colab": {
          "base_uri": "https://localhost:8080/"
        },
        "id": "XlQxe2Oeyyc0",
        "outputId": "25a1a95b-756a-4c52-b6d6-f7132fac85bb"
      },
      "outputs": [
        {
          "output_type": "stream",
          "name": "stderr",
          "text": [
            "[nltk_data] Downloading package sentiwordnet to /root/nltk_data...\n",
            "[nltk_data]   Package sentiwordnet is already up-to-date!\n",
            "[nltk_data] Downloading package omw-1.4 to /root/nltk_data...\n",
            "[nltk_data]   Package omw-1.4 is already up-to-date!\n"
          ]
        },
        {
          "output_type": "execute_result",
          "data": {
            "text/plain": [
              "True"
            ]
          },
          "metadata": {},
          "execution_count": 40
        }
      ],
      "source": [
        "nltk.download('sentiwordnet')\n",
        "nltk.download('omw-1.4')"
      ]
    },
    {
      "cell_type": "code",
      "execution_count": 41,
      "metadata": {
        "id": "JEijrtztivYM"
      },
      "outputs": [],
      "source": [
        "from vaderSentiment.vaderSentiment import SentimentIntensityAnalyzer"
      ]
    },
    {
      "cell_type": "code",
      "execution_count": 42,
      "metadata": {
        "id": "HPPaIA1iivYM"
      },
      "outputs": [],
      "source": [
        "def sentiment_scores(sentence):\n",
        " \n",
        "    # Create a SentimentIntensityAnalyzer object.\n",
        "    sid_obj = SentimentIntensityAnalyzer()\n",
        " \n",
        "    # polarity_scores method of SentimentIntensityAnalyzer\n",
        "    # object gives a sentiment dictionary.\n",
        "    # which contains pos, neg, neu, and compound scores.\n",
        "    sentiment_dict = sid_obj.polarity_scores(sentence)\n",
        "     \n",
        "    print(\"Overall sentiment dictionary is : \", sentiment_dict)\n",
        "    print(\"sentence was rated as \", sentiment_dict['neg']*100, \"% Negative\")\n",
        "    print(\"sentence was rated as \", sentiment_dict['neu']*100, \"% Neutral\")\n",
        "    print(\"sentence was rated as \", sentiment_dict['pos']*100, \"% Positive\")\n",
        " \n",
        "    print(\"Sentence Overall Rated As\", end = \" \")\n",
        " \n",
        "    # decide sentiment as positive, negative and neutral\n",
        "    if sentiment_dict['compound'] >= 0.05 :\n",
        "        print(\"Positive\")\n",
        " \n",
        "    elif sentiment_dict['compound'] <= - 0.05 :\n",
        "        print(\"Negative\")\n",
        " \n",
        "    else :\n",
        "        print(\"Neutral\")"
      ]
    },
    {
      "cell_type": "code",
      "execution_count": 43,
      "metadata": {
        "colab": {
          "base_uri": "https://localhost:8080/"
        },
        "id": "GK55roSGivYN",
        "outputId": "4d38e228-af44-4b3d-8813-2ee2cae9b080"
      },
      "outputs": [
        {
          "output_type": "execute_result",
          "data": {
            "text/plain": [
              "152082        Had to add to my collection._Library complete\n",
              "142232      Very fun to use in the party we had._Five Stars\n",
              "40193     She used to be mine. People being dumped: we f...\n",
              "105703    Upbeat song. Fun, thoughtful, and sexy lyrics....\n",
              "89977     This is amazingly good music.  Some of the bes...\n",
              "                                ...                        \n",
              "11100     Just a beautiful song by two great country art...\n",
              "111564                           Love this song!_Five Stars\n",
              "155919                                  Loves it_Five Stars\n",
              "36278     Most beautiful words ever written sung by a be...\n",
              "9886                       Very good collection._Five Stars\n",
              "Name: NewReview, Length: 1000, dtype: object"
            ]
          },
          "metadata": {},
          "execution_count": 43
        }
      ],
      "source": [
        "sample_df['NewReview']"
      ]
    },
    {
      "cell_type": "code",
      "execution_count": 44,
      "metadata": {
        "id": "y259TF8eivYN"
      },
      "outputs": [],
      "source": [
        "sample_df.reset_index(inplace=True)"
      ]
    },
    {
      "cell_type": "code",
      "execution_count": 45,
      "metadata": {
        "colab": {
          "base_uri": "https://localhost:8080/"
        },
        "id": "i1rdr-v8ivYN",
        "outputId": "1f0e9c2a-748f-4613-a71d-f86efa88b381"
      },
      "outputs": [
        {
          "output_type": "stream",
          "name": "stdout",
          "text": [
            "Overall sentiment dictionary is :  {'neg': 0.0, 'neu': 1.0, 'pos': 0.0, 'compound': 0.0}\n",
            "sentence was rated as  0.0 % Negative\n",
            "sentence was rated as  100.0 % Neutral\n",
            "sentence was rated as  0.0 % Positive\n",
            "Sentence Overall Rated As Neutral\n"
          ]
        }
      ],
      "source": [
        "sentiment_scores(sample_df['NewReview'][0])\n"
      ]
    },
    {
      "cell_type": "code",
      "execution_count": 46,
      "metadata": {
        "id": "FY59ga4FynDd"
      },
      "outputs": [],
      "source": [
        "from nltk.corpus import sentiwordnet as swn\n",
        "breakdown = swn.senti_synset('breakdown.n.03')"
      ]
    },
    {
      "cell_type": "code",
      "execution_count": 47,
      "metadata": {
        "colab": {
          "base_uri": "https://localhost:8080/"
        },
        "id": "V--MZPfSy58f",
        "outputId": "9d9b20b7-1c85-4221-8dc1-2a03488b8a3e"
      },
      "outputs": [
        {
          "output_type": "execute_result",
          "data": {
            "text/plain": [
              "[SentiSynset('decelerate.v.01'),\n",
              " SentiSynset('slow.v.02'),\n",
              " SentiSynset('slow.v.03'),\n",
              " SentiSynset('slow.a.01'),\n",
              " SentiSynset('slow.a.02'),\n",
              " SentiSynset('dense.s.04'),\n",
              " SentiSynset('slow.a.04'),\n",
              " SentiSynset('boring.s.01'),\n",
              " SentiSynset('dull.s.08'),\n",
              " SentiSynset('slowly.r.01'),\n",
              " SentiSynset('behind.r.03')]"
            ]
          },
          "metadata": {},
          "execution_count": 47
        }
      ],
      "source": [
        "list(swn.senti_synsets('slow'))"
      ]
    },
    {
      "cell_type": "markdown",
      "metadata": {
        "id": "tPIPUZ7bowNI"
      },
      "source": [
        "## Text blob"
      ]
    },
    {
      "cell_type": "code",
      "execution_count": 48,
      "metadata": {
        "id": "rSA_OTWvovRL"
      },
      "outputs": [],
      "source": [
        "from textblob import TextBlob"
      ]
    },
    {
      "cell_type": "code",
      "execution_count": 49,
      "metadata": {
        "id": "yjHn9-nio4ij"
      },
      "outputs": [],
      "source": [
        "wiki = TextBlob(sample_df['NewReview'][0])"
      ]
    },
    {
      "cell_type": "code",
      "execution_count": 50,
      "metadata": {
        "colab": {
          "base_uri": "https://localhost:8080/"
        },
        "id": "SuIrcIEKqFAp",
        "outputId": "d6014ee0-170c-4955-a4ed-b8202d15d732"
      },
      "outputs": [
        {
          "output_type": "stream",
          "name": "stderr",
          "text": [
            "[nltk_data] Downloading package punkt to /root/nltk_data...\n",
            "[nltk_data]   Package punkt is already up-to-date!\n",
            "[nltk_data] Downloading package brown to /root/nltk_data...\n",
            "[nltk_data]   Package brown is already up-to-date!\n"
          ]
        },
        {
          "output_type": "execute_result",
          "data": {
            "text/plain": [
              "True"
            ]
          },
          "metadata": {},
          "execution_count": 50
        }
      ],
      "source": [
        "import nltk\n",
        "nltk.download('punkt')\n",
        "nltk.download('brown')"
      ]
    },
    {
      "cell_type": "code",
      "execution_count": 51,
      "metadata": {
        "colab": {
          "base_uri": "https://localhost:8080/"
        },
        "id": "ghGVoe4Sp0hd",
        "outputId": "a6ad69ad-8eaa-4f9a-b350-5b5bf737ad9d"
      },
      "outputs": [
        {
          "output_type": "execute_result",
          "data": {
            "text/plain": [
              "[('Had', 'NNP'),\n",
              " ('to', 'TO'),\n",
              " ('add', 'VB'),\n",
              " ('to', 'TO'),\n",
              " ('my', 'PRP$'),\n",
              " ('collection._Library', 'JJ'),\n",
              " ('complete', 'JJ')]"
            ]
          },
          "metadata": {},
          "execution_count": 51
        }
      ],
      "source": [
        "#Parts of Speech\n",
        "wiki.tags"
      ]
    },
    {
      "cell_type": "code",
      "execution_count": 52,
      "metadata": {
        "colab": {
          "base_uri": "https://localhost:8080/"
        },
        "id": "3Z4kvEbFqBeE",
        "outputId": "387c5403-df81-4a35-a9c3-6edde362a3c4"
      },
      "outputs": [
        {
          "output_type": "execute_result",
          "data": {
            "text/plain": [
              "WordList([])"
            ]
          },
          "metadata": {},
          "execution_count": 52
        }
      ],
      "source": [
        "wiki.noun_phrases"
      ]
    },
    {
      "cell_type": "code",
      "execution_count": 53,
      "metadata": {
        "colab": {
          "base_uri": "https://localhost:8080/"
        },
        "id": "Sg9i4m6GqPyp",
        "outputId": "453b68dd-a7ef-4525-f043-6fcd69341e2d"
      },
      "outputs": [
        {
          "output_type": "execute_result",
          "data": {
            "text/plain": [
              "Sentiment(polarity=0.1, subjectivity=0.4)"
            ]
          },
          "metadata": {},
          "execution_count": 53
        }
      ],
      "source": [
        "wiki.sentiment"
      ]
    },
    {
      "cell_type": "code",
      "execution_count": 54,
      "metadata": {
        "colab": {
          "base_uri": "https://localhost:8080/"
        },
        "id": "IZDZnfdSqaha",
        "outputId": "dda72311-802e-4b74-daee-9d1d7b528e84"
      },
      "outputs": [
        {
          "output_type": "execute_result",
          "data": {
            "text/plain": [
              "WordList(['Had', 'to', 'add', 'to', 'my', 'collection._Library', 'complete'])"
            ]
          },
          "metadata": {},
          "execution_count": 54
        }
      ],
      "source": [
        "wiki.words"
      ]
    },
    {
      "cell_type": "code",
      "execution_count": 55,
      "metadata": {
        "id": "Wik8Qj4Wq8Iy"
      },
      "outputs": [],
      "source": [
        "df_textblob = sample_df"
      ]
    },
    {
      "cell_type": "code",
      "execution_count": 56,
      "metadata": {
        "id": "g60Q-N5tqePE"
      },
      "outputs": [],
      "source": [
        "df_textblob['sentiment'] = sample_df['NewReview'].apply(lambda tweet: TextBlob(tweet).sentiment)"
      ]
    },
    {
      "cell_type": "code",
      "execution_count": 57,
      "metadata": {
        "id": "oNFWVOhlrD-9"
      },
      "outputs": [],
      "source": [
        "def sentiment_calc(text):\n",
        "    try:\n",
        "        return TextBlob(text).sentiment\n",
        "    except:\n",
        "        return None\n",
        "\n",
        "df_textblob['sentiment'] = sample_df['NewReview'].apply(sentiment_calc)"
      ]
    },
    {
      "cell_type": "code",
      "execution_count": 58,
      "metadata": {
        "colab": {
          "base_uri": "https://localhost:8080/",
          "height": 424
        },
        "id": "4Kb3QcvWrOia",
        "outputId": "2c19d949-a92f-441e-c1fd-47484d477843"
      },
      "outputs": [
        {
          "output_type": "execute_result",
          "data": {
            "text/plain": [
              "      index  overall  verified        asin Sentiment  \\\n",
              "0    152082      5.0      True  B004QMR6KA  Positive   \n",
              "1    142232      5.0      True  B001B65PBQ  Positive   \n",
              "2     40193      5.0     False  B00124AA2G  Positive   \n",
              "3    105703      5.0      True  B00OQZ4BV4  Positive   \n",
              "4     89977      5.0      True  B00DPJ055I  Positive   \n",
              "..      ...      ...       ...         ...       ...   \n",
              "995   11100      5.0      True  B0011W0CE0  Positive   \n",
              "996  111564      5.0      True  B00WB21BFS  Positive   \n",
              "997  155919      5.0      True  B007Y1AM1A  Positive   \n",
              "998   36278      5.0      True  B0011Z2YKW  Positive   \n",
              "999    9886      5.0      True  B000WLTMPQ  Positive   \n",
              "\n",
              "                                             NewReview  \\\n",
              "0        Had to add to my collection._Library complete   \n",
              "1      Very fun to use in the party we had._Five Stars   \n",
              "2    She used to be mine. People being dumped: we f...   \n",
              "3    Upbeat song. Fun, thoughtful, and sexy lyrics....   \n",
              "4    This is amazingly good music.  Some of the bes...   \n",
              "..                                                 ...   \n",
              "995  Just a beautiful song by two great country art...   \n",
              "996                         Love this song!_Five Stars   \n",
              "997                                Loves it_Five Stars   \n",
              "998  Most beautiful words ever written sung by a be...   \n",
              "999                   Very good collection._Five Stars   \n",
              "\n",
              "                                     sentiment  \n",
              "0                                   (0.1, 0.4)  \n",
              "1                                 (0.39, 0.26)  \n",
              "2    (-0.5666666666666667, 0.5888888888888889)  \n",
              "3                           (0.39375, 0.58125)  \n",
              "4    (0.5666666666666667, 0.30000000000000004)  \n",
              "..                                         ...  \n",
              "995  (0.44999999999999996, 0.5916666666666667)  \n",
              "996                                 (0.5, 0.6)  \n",
              "997                                 (0.0, 0.0)  \n",
              "998   (0.7333333333333334, 0.8333333333333334)  \n",
              "999   (0.9099999999999999, 0.7800000000000001)  \n",
              "\n",
              "[1000 rows x 7 columns]"
            ],
            "text/html": [
              "\n",
              "  <div id=\"df-28cf6a60-4051-409c-a8d5-c5c26de98caf\">\n",
              "    <div class=\"colab-df-container\">\n",
              "      <div>\n",
              "<style scoped>\n",
              "    .dataframe tbody tr th:only-of-type {\n",
              "        vertical-align: middle;\n",
              "    }\n",
              "\n",
              "    .dataframe tbody tr th {\n",
              "        vertical-align: top;\n",
              "    }\n",
              "\n",
              "    .dataframe thead th {\n",
              "        text-align: right;\n",
              "    }\n",
              "</style>\n",
              "<table border=\"1\" class=\"dataframe\">\n",
              "  <thead>\n",
              "    <tr style=\"text-align: right;\">\n",
              "      <th></th>\n",
              "      <th>index</th>\n",
              "      <th>overall</th>\n",
              "      <th>verified</th>\n",
              "      <th>asin</th>\n",
              "      <th>Sentiment</th>\n",
              "      <th>NewReview</th>\n",
              "      <th>sentiment</th>\n",
              "    </tr>\n",
              "  </thead>\n",
              "  <tbody>\n",
              "    <tr>\n",
              "      <th>0</th>\n",
              "      <td>152082</td>\n",
              "      <td>5.0</td>\n",
              "      <td>True</td>\n",
              "      <td>B004QMR6KA</td>\n",
              "      <td>Positive</td>\n",
              "      <td>Had to add to my collection._Library complete</td>\n",
              "      <td>(0.1, 0.4)</td>\n",
              "    </tr>\n",
              "    <tr>\n",
              "      <th>1</th>\n",
              "      <td>142232</td>\n",
              "      <td>5.0</td>\n",
              "      <td>True</td>\n",
              "      <td>B001B65PBQ</td>\n",
              "      <td>Positive</td>\n",
              "      <td>Very fun to use in the party we had._Five Stars</td>\n",
              "      <td>(0.39, 0.26)</td>\n",
              "    </tr>\n",
              "    <tr>\n",
              "      <th>2</th>\n",
              "      <td>40193</td>\n",
              "      <td>5.0</td>\n",
              "      <td>False</td>\n",
              "      <td>B00124AA2G</td>\n",
              "      <td>Positive</td>\n",
              "      <td>She used to be mine. People being dumped: we f...</td>\n",
              "      <td>(-0.5666666666666667, 0.5888888888888889)</td>\n",
              "    </tr>\n",
              "    <tr>\n",
              "      <th>3</th>\n",
              "      <td>105703</td>\n",
              "      <td>5.0</td>\n",
              "      <td>True</td>\n",
              "      <td>B00OQZ4BV4</td>\n",
              "      <td>Positive</td>\n",
              "      <td>Upbeat song. Fun, thoughtful, and sexy lyrics....</td>\n",
              "      <td>(0.39375, 0.58125)</td>\n",
              "    </tr>\n",
              "    <tr>\n",
              "      <th>4</th>\n",
              "      <td>89977</td>\n",
              "      <td>5.0</td>\n",
              "      <td>True</td>\n",
              "      <td>B00DPJ055I</td>\n",
              "      <td>Positive</td>\n",
              "      <td>This is amazingly good music.  Some of the bes...</td>\n",
              "      <td>(0.5666666666666667, 0.30000000000000004)</td>\n",
              "    </tr>\n",
              "    <tr>\n",
              "      <th>...</th>\n",
              "      <td>...</td>\n",
              "      <td>...</td>\n",
              "      <td>...</td>\n",
              "      <td>...</td>\n",
              "      <td>...</td>\n",
              "      <td>...</td>\n",
              "      <td>...</td>\n",
              "    </tr>\n",
              "    <tr>\n",
              "      <th>995</th>\n",
              "      <td>11100</td>\n",
              "      <td>5.0</td>\n",
              "      <td>True</td>\n",
              "      <td>B0011W0CE0</td>\n",
              "      <td>Positive</td>\n",
              "      <td>Just a beautiful song by two great country art...</td>\n",
              "      <td>(0.44999999999999996, 0.5916666666666667)</td>\n",
              "    </tr>\n",
              "    <tr>\n",
              "      <th>996</th>\n",
              "      <td>111564</td>\n",
              "      <td>5.0</td>\n",
              "      <td>True</td>\n",
              "      <td>B00WB21BFS</td>\n",
              "      <td>Positive</td>\n",
              "      <td>Love this song!_Five Stars</td>\n",
              "      <td>(0.5, 0.6)</td>\n",
              "    </tr>\n",
              "    <tr>\n",
              "      <th>997</th>\n",
              "      <td>155919</td>\n",
              "      <td>5.0</td>\n",
              "      <td>True</td>\n",
              "      <td>B007Y1AM1A</td>\n",
              "      <td>Positive</td>\n",
              "      <td>Loves it_Five Stars</td>\n",
              "      <td>(0.0, 0.0)</td>\n",
              "    </tr>\n",
              "    <tr>\n",
              "      <th>998</th>\n",
              "      <td>36278</td>\n",
              "      <td>5.0</td>\n",
              "      <td>True</td>\n",
              "      <td>B0011Z2YKW</td>\n",
              "      <td>Positive</td>\n",
              "      <td>Most beautiful words ever written sung by a be...</td>\n",
              "      <td>(0.7333333333333334, 0.8333333333333334)</td>\n",
              "    </tr>\n",
              "    <tr>\n",
              "      <th>999</th>\n",
              "      <td>9886</td>\n",
              "      <td>5.0</td>\n",
              "      <td>True</td>\n",
              "      <td>B000WLTMPQ</td>\n",
              "      <td>Positive</td>\n",
              "      <td>Very good collection._Five Stars</td>\n",
              "      <td>(0.9099999999999999, 0.7800000000000001)</td>\n",
              "    </tr>\n",
              "  </tbody>\n",
              "</table>\n",
              "<p>1000 rows × 7 columns</p>\n",
              "</div>\n",
              "      <button class=\"colab-df-convert\" onclick=\"convertToInteractive('df-28cf6a60-4051-409c-a8d5-c5c26de98caf')\"\n",
              "              title=\"Convert this dataframe to an interactive table.\"\n",
              "              style=\"display:none;\">\n",
              "        \n",
              "  <svg xmlns=\"http://www.w3.org/2000/svg\" height=\"24px\"viewBox=\"0 0 24 24\"\n",
              "       width=\"24px\">\n",
              "    <path d=\"M0 0h24v24H0V0z\" fill=\"none\"/>\n",
              "    <path d=\"M18.56 5.44l.94 2.06.94-2.06 2.06-.94-2.06-.94-.94-2.06-.94 2.06-2.06.94zm-11 1L8.5 8.5l.94-2.06 2.06-.94-2.06-.94L8.5 2.5l-.94 2.06-2.06.94zm10 10l.94 2.06.94-2.06 2.06-.94-2.06-.94-.94-2.06-.94 2.06-2.06.94z\"/><path d=\"M17.41 7.96l-1.37-1.37c-.4-.4-.92-.59-1.43-.59-.52 0-1.04.2-1.43.59L10.3 9.45l-7.72 7.72c-.78.78-.78 2.05 0 2.83L4 21.41c.39.39.9.59 1.41.59.51 0 1.02-.2 1.41-.59l7.78-7.78 2.81-2.81c.8-.78.8-2.07 0-2.86zM5.41 20L4 18.59l7.72-7.72 1.47 1.35L5.41 20z\"/>\n",
              "  </svg>\n",
              "      </button>\n",
              "      \n",
              "  <style>\n",
              "    .colab-df-container {\n",
              "      display:flex;\n",
              "      flex-wrap:wrap;\n",
              "      gap: 12px;\n",
              "    }\n",
              "\n",
              "    .colab-df-convert {\n",
              "      background-color: #E8F0FE;\n",
              "      border: none;\n",
              "      border-radius: 50%;\n",
              "      cursor: pointer;\n",
              "      display: none;\n",
              "      fill: #1967D2;\n",
              "      height: 32px;\n",
              "      padding: 0 0 0 0;\n",
              "      width: 32px;\n",
              "    }\n",
              "\n",
              "    .colab-df-convert:hover {\n",
              "      background-color: #E2EBFA;\n",
              "      box-shadow: 0px 1px 2px rgba(60, 64, 67, 0.3), 0px 1px 3px 1px rgba(60, 64, 67, 0.15);\n",
              "      fill: #174EA6;\n",
              "    }\n",
              "\n",
              "    [theme=dark] .colab-df-convert {\n",
              "      background-color: #3B4455;\n",
              "      fill: #D2E3FC;\n",
              "    }\n",
              "\n",
              "    [theme=dark] .colab-df-convert:hover {\n",
              "      background-color: #434B5C;\n",
              "      box-shadow: 0px 1px 3px 1px rgba(0, 0, 0, 0.15);\n",
              "      filter: drop-shadow(0px 1px 2px rgba(0, 0, 0, 0.3));\n",
              "      fill: #FFFFFF;\n",
              "    }\n",
              "  </style>\n",
              "\n",
              "      <script>\n",
              "        const buttonEl =\n",
              "          document.querySelector('#df-28cf6a60-4051-409c-a8d5-c5c26de98caf button.colab-df-convert');\n",
              "        buttonEl.style.display =\n",
              "          google.colab.kernel.accessAllowed ? 'block' : 'none';\n",
              "\n",
              "        async function convertToInteractive(key) {\n",
              "          const element = document.querySelector('#df-28cf6a60-4051-409c-a8d5-c5c26de98caf');\n",
              "          const dataTable =\n",
              "            await google.colab.kernel.invokeFunction('convertToInteractive',\n",
              "                                                     [key], {});\n",
              "          if (!dataTable) return;\n",
              "\n",
              "          const docLinkHtml = 'Like what you see? Visit the ' +\n",
              "            '<a target=\"_blank\" href=https://colab.research.google.com/notebooks/data_table.ipynb>data table notebook</a>'\n",
              "            + ' to learn more about interactive tables.';\n",
              "          element.innerHTML = '';\n",
              "          dataTable['output_type'] = 'display_data';\n",
              "          await google.colab.output.renderOutput(dataTable, element);\n",
              "          const docLink = document.createElement('div');\n",
              "          docLink.innerHTML = docLinkHtml;\n",
              "          element.appendChild(docLink);\n",
              "        }\n",
              "      </script>\n",
              "    </div>\n",
              "  </div>\n",
              "  "
            ]
          },
          "metadata": {},
          "execution_count": 58
        }
      ],
      "source": [
        "df_textblob"
      ]
    },
    {
      "cell_type": "code",
      "execution_count": 58,
      "metadata": {
        "id": "4YIj7KoGrWLH"
      },
      "outputs": [],
      "source": []
    },
    {
      "cell_type": "markdown",
      "metadata": {
        "id": "DMqLu0BeHrxu"
      },
      "source": [
        "## Word Cloud"
      ]
    },
    {
      "cell_type": "code",
      "execution_count": 59,
      "metadata": {
        "colab": {
          "base_uri": "https://localhost:8080/",
          "height": 466
        },
        "id": "QI8ulTWRi4O8",
        "outputId": "532db149-60cb-406c-9f39-8a4f2ad892f7"
      },
      "outputs": [
        {
          "output_type": "display_data",
          "data": {
            "text/plain": [
              "<Figure size 576x576 with 1 Axes>"
            ],
            "image/png": "[encoded data removed]"
          },
          "metadata": {
            "needs_background": "light"
          }
        }
      ],
      "source": [
        "#Code take from GFG to generate Word Cloud\n",
        "\n",
        "comment_words = ''\n",
        "stopwords = set(STOPWORDS)\n",
        " \n",
        "# iterate through the csv file\n",
        "for val in ptext:\n",
        "     \n",
        "    # typecaste each val to string\n",
        "    val = str(val)\n",
        " \n",
        "    # split the value\n",
        "    tokens = val.split()\n",
        "     \n",
        "    # Converts each token into lowercase\n",
        "    for i in range(len(tokens)):\n",
        "        tokens[i] = tokens[i].lower()\n",
        "     \n",
        "    comment_words += \" \".join(tokens)+\" \"\n",
        "\n",
        "#Generate word cloud\n",
        "wordcloud = WordCloud(width = 800, height = 800,\n",
        "                background_color ='black',\n",
        "                stopwords = stopwords,\n",
        "                min_font_size = 10).generate(comment_words)\n",
        " \n",
        "#Plot the WordCloud image                      \n",
        "plt.figure(figsize = (8, 8), facecolor = None)\n",
        "plt.imshow(wordcloud)\n",
        "plt.axis(\"off\")\n",
        " \n",
        "plt.show()"
      ]
    }
  ],
  "metadata": {
    "colab": {
      "provenance": []
    },
    "gpuClass": "standard",
    "kernelspec": {
      "display_name": "Python 3 (ipykernel)",
      "language": "python",
      "name": "python3"
    },
    "language_info": {
      "codemirror_mode": {
        "name": "ipython",
        "version": 3
      },
      "file_extension": ".py",
      "mimetype": "text/x-python",
      "name": "python",
      "nbconvert_exporter": "python",
      "pygments_lexer": "ipython3",
      "version": "3.9.15"
    },
    "vscode": {
      "interpreter": {
        "hash": "5b8f17365b4d5f240483afef44bca8ebe6c470ce8044008344980ae5c331b88f"
      }
    }
  },
  "nbformat": 4,
  "nbformat_minor": 0
}