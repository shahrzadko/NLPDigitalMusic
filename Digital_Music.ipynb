{
  "cells": [
    {
      "cell_type": "markdown",
      "metadata": {
        "id": "wXUHxfvjHrxp"
      },
      "source": [
        "# 1. Dataset & Data exploration "
      ]
    },
    {
      "cell_type": "markdown",
      "metadata": {
        "id": "p4-6gMdGHrxr"
      },
      "source": [
        "### Import libraries"
      ]
    },
    {
      "cell_type": "code",
      "execution_count": 1,
      "metadata": {
        "colab": {
          "base_uri": "https://localhost:8080/"
        },
        "id": "kkybWHgCHrxr",
        "outputId": "672eefce-ec57-4b6f-9384-fa3530f4618b"
      },
      "outputs": [
        {
          "output_type": "stream",
          "name": "stderr",
          "text": [
            "/usr/local/lib/python3.8/dist-packages/torch/cuda/__init__.py:497: UserWarning: Can't initialize NVML\n",
            "  warnings.warn(\"Can't initialize NVML\")\n",
            "[nltk_data] Downloading package stopwords to /root/nltk_data...\n",
            "[nltk_data]   Package stopwords is already up-to-date!\n",
            "[nltk_data] Downloading package wordnet to /root/nltk_data...\n",
            "[nltk_data]   Package wordnet is already up-to-date!\n",
            "[nltk_data] Downloading package genesis to /root/nltk_data...\n",
            "[nltk_data]   Package genesis is already up-to-date!\n",
            "[nltk_data] Downloading package averaged_perceptron_tagger to\n",
            "[nltk_data]     /root/nltk_data...\n",
            "[nltk_data]   Package averaged_perceptron_tagger is already up-to-\n",
            "[nltk_data]       date!\n"
          ]
        }
      ],
      "source": [
        "import pandas as pd\n",
        "import numpy as np\n",
        "import matplotlib.pyplot as plt\n",
        "import gzip\n",
        "import nltk\n",
        "import spacy\n",
        "import string\n",
        "import re\n",
        "import warnings\n",
        "\n",
        "from nltk.corpus import stopwords\n",
        "from nltk.collocations import *\n",
        "from collections import Counter\n",
        "from nltk.stem import porter\n",
        "from wordcloud import WordCloud, STOPWORDS\n",
        "\n",
        "nltk.download('stopwords')\n",
        "nltk.download('wordnet')\n",
        "nltk.download('genesis')\n",
        "nltk.download('averaged_perceptron_tagger')\n",
        "\n",
        "stop_words = set(stopwords.words('english'))\n",
        "stemmer = porter.PorterStemmer()\n",
        "\n",
        "warnings.simplefilter(action='ignore', category=FutureWarning)\n",
        "warnings.simplefilter(action='ignore', category=DeprecationWarning)\n",
        "\n",
        "nlp = spacy.load(\"en_core_web_sm\")"
      ]
    },
    {
      "cell_type": "markdown",
      "metadata": {
        "id": "KiYHzXeBJMBP"
      },
      "source": [
        "## Importing the dataset"
      ]
    },
    {
      "cell_type": "code",
      "execution_count": 2,
      "metadata": {
        "id": "7nDOeR2UHrxt"
      },
      "outputs": [],
      "source": [
        "# Importing the dataset\n",
        "url = 'https://raw.githubusercontent.com/shahrzadko/NLPDigitalMusic/main/Digital_Music_5.json?token=GHSAT0AAAAAAB6LOL42SKHPCCMIVYPOC4REY7AKE2Q'\n",
        "df_raw = pd.read_json(url)\n",
        "full_df = pd.DataFrame.from_records(df_raw['data'])\n"
      ]
    },
    {
      "cell_type": "code",
      "execution_count": 3,
      "metadata": {
        "colab": {
          "base_uri": "https://localhost:8080/",
          "height": 337
        },
        "id": "YWWA0cAjjMyD",
        "outputId": "ec9c4f3b-18c1-47fa-f02f-1fef02e4c8dc"
      },
      "outputs": [
        {
          "output_type": "execute_result",
          "data": {
            "text/plain": [
              "   overall vote  verified   reviewTime      reviewerID        asin  \\\n",
              "0      5.0    3      True   06 3, 2013  A2TYZ821XXK2YZ  3426958910   \n",
              "1      5.0  NaN      True  10 11, 2014  A3OFSREZADFUDY  3426958910   \n",
              "2      5.0  NaN      True  02 11, 2014  A2VAMODP8M77NG  3426958910   \n",
              "3      4.0    3     False   12 7, 2013   AAKSLZ9IDTEH0  3426958910   \n",
              "4      5.0  NaN      True  06 12, 2016  A3OH43OZJLKI09  5557706259   \n",
              "\n",
              "                      style       reviewerName  \\\n",
              "0  {'Format:': ' Audio CD'}            Garrett   \n",
              "1  {'Format:': ' Audio CD'}                 Ad   \n",
              "2  {'Format:': ' Audio CD'}             JTGabq   \n",
              "3  {'Format:': ' Audio CD'}  john F&#039;n doe   \n",
              "4  {'Format:': ' Audio CD'}  melinda a goodman   \n",
              "\n",
              "                                          reviewText  \\\n",
              "0  This is awesome to listen to, A must-have for ...   \n",
              "1                                               bien   \n",
              "2  It was great to hear the old stuff again and I...   \n",
              "3  well best of's are a bit poison normally but t...   \n",
              "4  What can I say? This is Casting Crowns!!!This ...   \n",
              "\n",
              "                                             summary  unixReviewTime image  \n",
              "0                                      Slayer Rules!      1370217600   NaN  \n",
              "1                                         Five Stars      1412985600   NaN  \n",
              "2                        SLAYER!!!!!!!!!!!!!!!!!!!!!      1392076800   NaN  \n",
              "3  slayer greatest hits! you mean everything righ...      1386374400   NaN  \n",
              "4                    This is a good, blessing filled      1465689600   NaN  "
            ],
            "text/html": [
              "\n",
              "  <div id=\"df-045938b0-f94a-42d2-bc86-46db9d12acb6\">\n",
              "    <div class=\"colab-df-container\">\n",
              "      <div>\n",
              "<style scoped>\n",
              "    .dataframe tbody tr th:only-of-type {\n",
              "        vertical-align: middle;\n",
              "    }\n",
              "\n",
              "    .dataframe tbody tr th {\n",
              "        vertical-align: top;\n",
              "    }\n",
              "\n",
              "    .dataframe thead th {\n",
              "        text-align: right;\n",
              "    }\n",
              "</style>\n",
              "<table border=\"1\" class=\"dataframe\">\n",
              "  <thead>\n",
              "    <tr style=\"text-align: right;\">\n",
              "      <th></th>\n",
              "      <th>overall</th>\n",
              "      <th>vote</th>\n",
              "      <th>verified</th>\n",
              "      <th>reviewTime</th>\n",
              "      <th>reviewerID</th>\n",
              "      <th>asin</th>\n",
              "      <th>style</th>\n",
              "      <th>reviewerName</th>\n",
              "      <th>reviewText</th>\n",
              "      <th>summary</th>\n",
              "      <th>unixReviewTime</th>\n",
              "      <th>image</th>\n",
              "    </tr>\n",
              "  </thead>\n",
              "  <tbody>\n",
              "    <tr>\n",
              "      <th>0</th>\n",
              "      <td>5.0</td>\n",
              "      <td>3</td>\n",
              "      <td>True</td>\n",
              "      <td>06 3, 2013</td>\n",
              "      <td>A2TYZ821XXK2YZ</td>\n",
              "      <td>3426958910</td>\n",
              "      <td>{'Format:': ' Audio CD'}</td>\n",
              "      <td>Garrett</td>\n",
              "      <td>This is awesome to listen to, A must-have for ...</td>\n",
              "      <td>Slayer Rules!</td>\n",
              "      <td>1370217600</td>\n",
              "      <td>NaN</td>\n",
              "    </tr>\n",
              "    <tr>\n",
              "      <th>1</th>\n",
              "      <td>5.0</td>\n",
              "      <td>NaN</td>\n",
              "      <td>True</td>\n",
              "      <td>10 11, 2014</td>\n",
              "      <td>A3OFSREZADFUDY</td>\n",
              "      <td>3426958910</td>\n",
              "      <td>{'Format:': ' Audio CD'}</td>\n",
              "      <td>Ad</td>\n",
              "      <td>bien</td>\n",
              "      <td>Five Stars</td>\n",
              "      <td>1412985600</td>\n",
              "      <td>NaN</td>\n",
              "    </tr>\n",
              "    <tr>\n",
              "      <th>2</th>\n",
              "      <td>5.0</td>\n",
              "      <td>NaN</td>\n",
              "      <td>True</td>\n",
              "      <td>02 11, 2014</td>\n",
              "      <td>A2VAMODP8M77NG</td>\n",
              "      <td>3426958910</td>\n",
              "      <td>{'Format:': ' Audio CD'}</td>\n",
              "      <td>JTGabq</td>\n",
              "      <td>It was great to hear the old stuff again and I...</td>\n",
              "      <td>SLAYER!!!!!!!!!!!!!!!!!!!!!</td>\n",
              "      <td>1392076800</td>\n",
              "      <td>NaN</td>\n",
              "    </tr>\n",
              "    <tr>\n",
              "      <th>3</th>\n",
              "      <td>4.0</td>\n",
              "      <td>3</td>\n",
              "      <td>False</td>\n",
              "      <td>12 7, 2013</td>\n",
              "      <td>AAKSLZ9IDTEH0</td>\n",
              "      <td>3426958910</td>\n",
              "      <td>{'Format:': ' Audio CD'}</td>\n",
              "      <td>john F&amp;#039;n doe</td>\n",
              "      <td>well best of's are a bit poison normally but t...</td>\n",
              "      <td>slayer greatest hits! you mean everything righ...</td>\n",
              "      <td>1386374400</td>\n",
              "      <td>NaN</td>\n",
              "    </tr>\n",
              "    <tr>\n",
              "      <th>4</th>\n",
              "      <td>5.0</td>\n",
              "      <td>NaN</td>\n",
              "      <td>True</td>\n",
              "      <td>06 12, 2016</td>\n",
              "      <td>A3OH43OZJLKI09</td>\n",
              "      <td>5557706259</td>\n",
              "      <td>{'Format:': ' Audio CD'}</td>\n",
              "      <td>melinda a goodman</td>\n",
              "      <td>What can I say? This is Casting Crowns!!!This ...</td>\n",
              "      <td>This is a good, blessing filled</td>\n",
              "      <td>1465689600</td>\n",
              "      <td>NaN</td>\n",
              "    </tr>\n",
              "  </tbody>\n",
              "</table>\n",
              "</div>\n",
              "      <button class=\"colab-df-convert\" onclick=\"convertToInteractive('df-045938b0-f94a-42d2-bc86-46db9d12acb6')\"\n",
              "              title=\"Convert this dataframe to an interactive table.\"\n",
              "              style=\"display:none;\">\n",
              "        \n",
              "  <svg xmlns=\"http://www.w3.org/2000/svg\" height=\"24px\"viewBox=\"0 0 24 24\"\n",
              "       width=\"24px\">\n",
              "    <path d=\"M0 0h24v24H0V0z\" fill=\"none\"/>\n",
              "    <path d=\"M18.56 5.44l.94 2.06.94-2.06 2.06-.94-2.06-.94-.94-2.06-.94 2.06-2.06.94zm-11 1L8.5 8.5l.94-2.06 2.06-.94-2.06-.94L8.5 2.5l-.94 2.06-2.06.94zm10 10l.94 2.06.94-2.06 2.06-.94-2.06-.94-.94-2.06-.94 2.06-2.06.94z\"/><path d=\"M17.41 7.96l-1.37-1.37c-.4-.4-.92-.59-1.43-.59-.52 0-1.04.2-1.43.59L10.3 9.45l-7.72 7.72c-.78.78-.78 2.05 0 2.83L4 21.41c.39.39.9.59 1.41.59.51 0 1.02-.2 1.41-.59l7.78-7.78 2.81-2.81c.8-.78.8-2.07 0-2.86zM5.41 20L4 18.59l7.72-7.72 1.47 1.35L5.41 20z\"/>\n",
              "  </svg>\n",
              "      </button>\n",
              "      \n",
              "  <style>\n",
              "    .colab-df-container {\n",
              "      display:flex;\n",
              "      flex-wrap:wrap;\n",
              "      gap: 12px;\n",
              "    }\n",
              "\n",
              "    .colab-df-convert {\n",
              "      background-color: #E8F0FE;\n",
              "      border: none;\n",
              "      border-radius: 50%;\n",
              "      cursor: pointer;\n",
              "      display: none;\n",
              "      fill: #1967D2;\n",
              "      height: 32px;\n",
              "      padding: 0 0 0 0;\n",
              "      width: 32px;\n",
              "    }\n",
              "\n",
              "    .colab-df-convert:hover {\n",
              "      background-color: #E2EBFA;\n",
              "      box-shadow: 0px 1px 2px rgba(60, 64, 67, 0.3), 0px 1px 3px 1px rgba(60, 64, 67, 0.15);\n",
              "      fill: #174EA6;\n",
              "    }\n",
              "\n",
              "    [theme=dark] .colab-df-convert {\n",
              "      background-color: #3B4455;\n",
              "      fill: #D2E3FC;\n",
              "    }\n",
              "\n",
              "    [theme=dark] .colab-df-convert:hover {\n",
              "      background-color: #434B5C;\n",
              "      box-shadow: 0px 1px 3px 1px rgba(0, 0, 0, 0.15);\n",
              "      filter: drop-shadow(0px 1px 2px rgba(0, 0, 0, 0.3));\n",
              "      fill: #FFFFFF;\n",
              "    }\n",
              "  </style>\n",
              "\n",
              "      <script>\n",
              "        const buttonEl =\n",
              "          document.querySelector('#df-045938b0-f94a-42d2-bc86-46db9d12acb6 button.colab-df-convert');\n",
              "        buttonEl.style.display =\n",
              "          google.colab.kernel.accessAllowed ? 'block' : 'none';\n",
              "\n",
              "        async function convertToInteractive(key) {\n",
              "          const element = document.querySelector('#df-045938b0-f94a-42d2-bc86-46db9d12acb6');\n",
              "          const dataTable =\n",
              "            await google.colab.kernel.invokeFunction('convertToInteractive',\n",
              "                                                     [key], {});\n",
              "          if (!dataTable) return;\n",
              "\n",
              "          const docLinkHtml = 'Like what you see? Visit the ' +\n",
              "            '<a target=\"_blank\" href=https://colab.research.google.com/notebooks/data_table.ipynb>data table notebook</a>'\n",
              "            + ' to learn more about interactive tables.';\n",
              "          element.innerHTML = '';\n",
              "          dataTable['output_type'] = 'display_data';\n",
              "          await google.colab.output.renderOutput(dataTable, element);\n",
              "          const docLink = document.createElement('div');\n",
              "          docLink.innerHTML = docLinkHtml;\n",
              "          element.appendChild(docLink);\n",
              "        }\n",
              "      </script>\n",
              "    </div>\n",
              "  </div>\n",
              "  "
            ]
          },
          "metadata": {},
          "execution_count": 3
        }
      ],
      "source": [
        "full_df.head()"
      ]
    },
    {
      "cell_type": "markdown",
      "source": [
        "## exploration "
      ],
      "metadata": {
        "id": "fQegTCXtqyYK"
      }
    },
    {
      "cell_type": "code",
      "execution_count": 4,
      "metadata": {
        "colab": {
          "base_uri": "https://localhost:8080/"
        },
        "id": "FsmUejDzzZKg",
        "outputId": "f748dbcd-2621-42b7-99fc-573e71e13c71"
      },
      "outputs": [
        {
          "output_type": "execute_result",
          "data": {
            "text/plain": [
              "count    169781.000000\n",
              "mean          4.700019\n",
              "std           0.713420\n",
              "min           1.000000\n",
              "25%           5.000000\n",
              "50%           5.000000\n",
              "75%           5.000000\n",
              "max           5.000000\n",
              "Name: overall, dtype: float64"
            ]
          },
          "metadata": {},
          "execution_count": 4
        }
      ],
      "source": [
        "full_df['overall'].describe()"
      ]
    },
    {
      "cell_type": "code",
      "execution_count": 5,
      "metadata": {
        "colab": {
          "base_uri": "https://localhost:8080/"
        },
        "id": "3W4u9VbGHrxv",
        "outputId": "a612afb3-85db-4924-e4d6-fbab665d2e9b"
      },
      "outputs": [
        {
          "output_type": "stream",
          "name": "stdout",
          "text": [
            "- Number of reviews: 169781\n",
            "- Number of different products reviewed:  11797\n",
            "- Number of people who reviewed:  16566\n",
            "- max rating:  5.0\n",
            "- min rating:  1.0\n",
            "- avg rating:  4.700019436803883\n",
            "- First review:  1998-07-09\n",
            "- Last review:  2018-09-26\n"
          ]
        }
      ],
      "source": [
        "#Number of reviews\n",
        "print('- Number of reviews:', len(full_df))\n",
        "\n",
        "#Number of different products reviewed\n",
        "print('- Number of different products reviewed: ', len(full_df.asin.unique()))\n",
        "\n",
        "#Number of people who reviewed\n",
        "print('- Number of people who reviewed: ', len(full_df.reviewerID.unique()))\n",
        "\n",
        "#Reviews range and average\n",
        "print('- max rating: ', full_df.overall.max())\n",
        "print('- min rating: ', full_df.overall.min())\n",
        "print('- avg rating: ', full_df.overall.mean())\n",
        "\n",
        "#Time range\n",
        "start = pd.to_datetime(full_df['unixReviewTime'],unit='s').min().date()\n",
        "end = pd.to_datetime(full_df['unixReviewTime'],unit='s').max().date()\n",
        "\n",
        "print('- First review: ', start)\n",
        "print('- Last review: ', end)\n"
      ]
    },
    {
      "cell_type": "markdown",
      "source": [
        "Distribution of rating"
      ],
      "metadata": {
        "id": "Rh6i7WyZ4OHv"
      }
    },
    {
      "cell_type": "code",
      "source": [
        "ax = full_df.overall.hist(grid=False, bins=np.arange(0.75,5.75,0.5),figsize=(5,5))\n",
        "\n",
        "ax.set_xlabel(\"stars\")\n",
        "ax.set_ylabel(\"reiew counts\")"
      ],
      "metadata": {
        "colab": {
          "base_uri": "https://localhost:8080/",
          "height": 351
        },
        "id": "MD8Wqvsd4Lov",
        "outputId": "a0678acf-eeac-418f-9142-388fc1fc14a8"
      },
      "execution_count": 6,
      "outputs": [
        {
          "output_type": "execute_result",
          "data": {
            "text/plain": [
              "Text(0, 0.5, 'reiew counts')"
            ]
          },
          "metadata": {},
          "execution_count": 6
        },
        {
          "output_type": "display_data",
          "data": {
            "text/plain": [
              "<Figure size 360x360 with 1 Axes>"
            ],
            "image/png": "[encoded data removed]"
          },
          "metadata": {
            "needs_background": "light"
          }
        }
      ]
    },
    {
      "cell_type": "markdown",
      "source": [
        "Distribution of reviews per product"
      ],
      "metadata": {
        "id": "7-Rk7H9K4fMb"
      }
    },
    {
      "cell_type": "code",
      "source": [
        "reviews_per_asin = full_df.asin.value_counts()\n",
        "reviews_per_asin"
      ],
      "metadata": {
        "colab": {
          "base_uri": "https://localhost:8080/"
        },
        "id": "QG_j_sNf4oVD",
        "outputId": "dd668589-0fa0-425c-9bc5-d3a9ffc6fc28"
      },
      "execution_count": 7,
      "outputs": [
        {
          "output_type": "execute_result",
          "data": {
            "text/plain": [
              "B00CZF8B68    574\n",
              "B00BWGHIHY    316\n",
              "B00136J7ZE    294\n",
              "B00EH49FRE    283\n",
              "B00136NUG6    262\n",
              "             ... \n",
              "B000W1S2WU      1\n",
              "B00125MGQI      1\n",
              "B001QET6G8      1\n",
              "B001664ADA      1\n",
              "B00138APMQ      1\n",
              "Name: asin, Length: 11797, dtype: int64"
            ]
          },
          "metadata": {},
          "execution_count": 7
        }
      ]
    },
    {
      "cell_type": "code",
      "source": [
        "print(\"reviews product-counts\")\n",
        "print(reviews_per_asin.value_counts())\n",
        "\n",
        "ax = reviews_per_asin.hist(log=True,grid=False,bins=200,figsize=(20,5))\n",
        "ax.set_xlabel(\"num of rewiews on that product\")\n",
        "ax.set_ylabel(\"product counts\")"
      ],
      "metadata": {
        "colab": {
          "base_uri": "https://localhost:8080/",
          "height": 577
        },
        "id": "9E69N1jp4vGT",
        "outputId": "4be356b8-d808-4926-d522-76d90347cd7b"
      },
      "execution_count": 8,
      "outputs": [
        {
          "output_type": "stream",
          "name": "stdout",
          "text": [
            "reviews product-counts\n",
            "5      2072\n",
            "6      1506\n",
            "7      1050\n",
            "8       824\n",
            "9       684\n",
            "       ... \n",
            "146       1\n",
            "147       1\n",
            "148       1\n",
            "152       1\n",
            "574       1\n",
            "Name: asin, Length: 163, dtype: int64\n"
          ]
        },
        {
          "output_type": "execute_result",
          "data": {
            "text/plain": [
              "Text(0, 0.5, 'product counts')"
            ]
          },
          "metadata": {},
          "execution_count": 8
        },
        {
          "output_type": "display_data",
          "data": {
            "text/plain": [
              "<Figure size 1440x360 with 1 Axes>"
            ],
            "image/png": "[encoded data removed]"
          },
          "metadata": {
            "needs_background": "light"
          }
        }
      ]
    },
    {
      "cell_type": "markdown",
      "source": [
        "Distribution of reviews per user"
      ],
      "metadata": {
        "id": "DzM9JA9h4mCT"
      }
    },
    {
      "cell_type": "code",
      "source": [
        "reviews_per_user = full_df.reviewerID.value_counts()\n",
        "reviews_per_user"
      ],
      "metadata": {
        "colab": {
          "base_uri": "https://localhost:8080/"
        },
        "id": "1qL9SxVK4o0l",
        "outputId": "1e7ddd15-8997-4e7f-d51b-3d14a4092b92"
      },
      "execution_count": 9,
      "outputs": [
        {
          "output_type": "execute_result",
          "data": {
            "text/plain": [
              "A3W4D8XOGLWUN5    791\n",
              "A2H3JURQZOHVMB    314\n",
              "A36EDWL4F3AASU    223\n",
              "A165P3MOJV3OVZ    219\n",
              "AVKHYC2D7MD56     214\n",
              "                 ... \n",
              "A2VWLNEBMW4ITQ      2\n",
              "A2M4D98UYXMUZE      2\n",
              "A518S7KT78N51       2\n",
              "A25HR6FTWBQ2NZ      1\n",
              "A70WPHE33U5B        1\n",
              "Name: reviewerID, Length: 16566, dtype: int64"
            ]
          },
          "metadata": {},
          "execution_count": 9
        }
      ]
    },
    {
      "cell_type": "code",
      "source": [
        "print(\"reviews user-counts\")\n",
        "print(reviews_per_user.value_counts())\n",
        "\n",
        "ax = reviews_per_user.hist(log=True,grid=False,bins=200,figsize=(20,5))\n",
        "ax.set_xlabel(\"num of rewiews posted\")\n",
        "ax.set_ylabel(\"user counts\")\n"
      ],
      "metadata": {
        "colab": {
          "base_uri": "https://localhost:8080/",
          "height": 577
        },
        "id": "520UHrgs4vbg",
        "outputId": "b1186612-7e1f-4fe8-9317-94787c7e614d"
      },
      "execution_count": 10,
      "outputs": [
        {
          "output_type": "stream",
          "name": "stdout",
          "text": [
            "reviews user-counts\n",
            "5      4559\n",
            "6      2798\n",
            "7      1927\n",
            "8      1288\n",
            "9       974\n",
            "       ... \n",
            "101       1\n",
            "102       1\n",
            "314       1\n",
            "106       1\n",
            "791       1\n",
            "Name: reviewerID, Length: 125, dtype: int64\n"
          ]
        },
        {
          "output_type": "execute_result",
          "data": {
            "text/plain": [
              "Text(0, 0.5, 'user counts')"
            ]
          },
          "metadata": {},
          "execution_count": 10
        },
        {
          "output_type": "display_data",
          "data": {
            "text/plain": [
              "<Figure size 1440x360 with 1 Axes>"
            ],
            "image/png": "[encoded data removed]"
          },
          "metadata": {
            "needs_background": "light"
          }
        }
      ]
    },
    {
      "cell_type": "markdown",
      "metadata": {
        "id": "Zmm3FZKJHrxt"
      },
      "source": [
        "# 2. Text basic pre-processing"
      ]
    },
    {
      "cell_type": "markdown",
      "metadata": {
        "id": "tt7_8x4QiIkx"
      },
      "source": [
        "## (Col:'Sentiment') based on the value of “rating of the product”:<br/> i. Ratings 4,5: Positive <br/>ii. Rating 3: Neutral <br/>iii. Ratings 1,2: Negative\n"
      ]
    },
    {
      "cell_type": "code",
      "execution_count": 11,
      "metadata": {
        "colab": {
          "base_uri": "https://localhost:8080/",
          "height": 337
        },
        "id": "asLcP4rxiHRv",
        "outputId": "c50f79af-36fa-4169-ae60-cdb30c1e089d"
      },
      "outputs": [
        {
          "output_type": "execute_result",
          "data": {
            "text/plain": [
              "   overall vote  verified   reviewTime      reviewerID        asin  \\\n",
              "0      5.0    3      True   06 3, 2013  A2TYZ821XXK2YZ  3426958910   \n",
              "1      5.0  NaN      True  10 11, 2014  A3OFSREZADFUDY  3426958910   \n",
              "2      5.0  NaN      True  02 11, 2014  A2VAMODP8M77NG  3426958910   \n",
              "3      4.0    3     False   12 7, 2013   AAKSLZ9IDTEH0  3426958910   \n",
              "4      5.0  NaN      True  06 12, 2016  A3OH43OZJLKI09  5557706259   \n",
              "\n",
              "                      style       reviewerName  \\\n",
              "0  {'Format:': ' Audio CD'}            Garrett   \n",
              "1  {'Format:': ' Audio CD'}                 Ad   \n",
              "2  {'Format:': ' Audio CD'}             JTGabq   \n",
              "3  {'Format:': ' Audio CD'}  john F&#039;n doe   \n",
              "4  {'Format:': ' Audio CD'}  melinda a goodman   \n",
              "\n",
              "                                          reviewText  \\\n",
              "0  This is awesome to listen to, A must-have for ...   \n",
              "1                                               bien   \n",
              "2  It was great to hear the old stuff again and I...   \n",
              "3  well best of's are a bit poison normally but t...   \n",
              "4  What can I say? This is Casting Crowns!!!This ...   \n",
              "\n",
              "                                             summary  unixReviewTime image  \\\n",
              "0                                      Slayer Rules!      1370217600   NaN   \n",
              "1                                         Five Stars      1412985600   NaN   \n",
              "2                        SLAYER!!!!!!!!!!!!!!!!!!!!!      1392076800   NaN   \n",
              "3  slayer greatest hits! you mean everything righ...      1386374400   NaN   \n",
              "4                    This is a good, blessing filled      1465689600   NaN   \n",
              "\n",
              "  Sentiment  \n",
              "0  Positive  \n",
              "1  Positive  \n",
              "2  Positive  \n",
              "3  Positive  \n",
              "4  Positive  "
            ],
            "text/html": [
              "\n",
              "  <div id=\"df-e2a1c3ec-5036-49b8-8a17-80eb6487412d\">\n",
              "    <div class=\"colab-df-container\">\n",
              "      <div>\n",
              "<style scoped>\n",
              "    .dataframe tbody tr th:only-of-type {\n",
              "        vertical-align: middle;\n",
              "    }\n",
              "\n",
              "    .dataframe tbody tr th {\n",
              "        vertical-align: top;\n",
              "    }\n",
              "\n",
              "    .dataframe thead th {\n",
              "        text-align: right;\n",
              "    }\n",
              "</style>\n",
              "<table border=\"1\" class=\"dataframe\">\n",
              "  <thead>\n",
              "    <tr style=\"text-align: right;\">\n",
              "      <th></th>\n",
              "      <th>overall</th>\n",
              "      <th>vote</th>\n",
              "      <th>verified</th>\n",
              "      <th>reviewTime</th>\n",
              "      <th>reviewerID</th>\n",
              "      <th>asin</th>\n",
              "      <th>style</th>\n",
              "      <th>reviewerName</th>\n",
              "      <th>reviewText</th>\n",
              "      <th>summary</th>\n",
              "      <th>unixReviewTime</th>\n",
              "      <th>image</th>\n",
              "      <th>Sentiment</th>\n",
              "    </tr>\n",
              "  </thead>\n",
              "  <tbody>\n",
              "    <tr>\n",
              "      <th>0</th>\n",
              "      <td>5.0</td>\n",
              "      <td>3</td>\n",
              "      <td>True</td>\n",
              "      <td>06 3, 2013</td>\n",
              "      <td>A2TYZ821XXK2YZ</td>\n",
              "      <td>3426958910</td>\n",
              "      <td>{'Format:': ' Audio CD'}</td>\n",
              "      <td>Garrett</td>\n",
              "      <td>This is awesome to listen to, A must-have for ...</td>\n",
              "      <td>Slayer Rules!</td>\n",
              "      <td>1370217600</td>\n",
              "      <td>NaN</td>\n",
              "      <td>Positive</td>\n",
              "    </tr>\n",
              "    <tr>\n",
              "      <th>1</th>\n",
              "      <td>5.0</td>\n",
              "      <td>NaN</td>\n",
              "      <td>True</td>\n",
              "      <td>10 11, 2014</td>\n",
              "      <td>A3OFSREZADFUDY</td>\n",
              "      <td>3426958910</td>\n",
              "      <td>{'Format:': ' Audio CD'}</td>\n",
              "      <td>Ad</td>\n",
              "      <td>bien</td>\n",
              "      <td>Five Stars</td>\n",
              "      <td>1412985600</td>\n",
              "      <td>NaN</td>\n",
              "      <td>Positive</td>\n",
              "    </tr>\n",
              "    <tr>\n",
              "      <th>2</th>\n",
              "      <td>5.0</td>\n",
              "      <td>NaN</td>\n",
              "      <td>True</td>\n",
              "      <td>02 11, 2014</td>\n",
              "      <td>A2VAMODP8M77NG</td>\n",
              "      <td>3426958910</td>\n",
              "      <td>{'Format:': ' Audio CD'}</td>\n",
              "      <td>JTGabq</td>\n",
              "      <td>It was great to hear the old stuff again and I...</td>\n",
              "      <td>SLAYER!!!!!!!!!!!!!!!!!!!!!</td>\n",
              "      <td>1392076800</td>\n",
              "      <td>NaN</td>\n",
              "      <td>Positive</td>\n",
              "    </tr>\n",
              "    <tr>\n",
              "      <th>3</th>\n",
              "      <td>4.0</td>\n",
              "      <td>3</td>\n",
              "      <td>False</td>\n",
              "      <td>12 7, 2013</td>\n",
              "      <td>AAKSLZ9IDTEH0</td>\n",
              "      <td>3426958910</td>\n",
              "      <td>{'Format:': ' Audio CD'}</td>\n",
              "      <td>john F&amp;#039;n doe</td>\n",
              "      <td>well best of's are a bit poison normally but t...</td>\n",
              "      <td>slayer greatest hits! you mean everything righ...</td>\n",
              "      <td>1386374400</td>\n",
              "      <td>NaN</td>\n",
              "      <td>Positive</td>\n",
              "    </tr>\n",
              "    <tr>\n",
              "      <th>4</th>\n",
              "      <td>5.0</td>\n",
              "      <td>NaN</td>\n",
              "      <td>True</td>\n",
              "      <td>06 12, 2016</td>\n",
              "      <td>A3OH43OZJLKI09</td>\n",
              "      <td>5557706259</td>\n",
              "      <td>{'Format:': ' Audio CD'}</td>\n",
              "      <td>melinda a goodman</td>\n",
              "      <td>What can I say? This is Casting Crowns!!!This ...</td>\n",
              "      <td>This is a good, blessing filled</td>\n",
              "      <td>1465689600</td>\n",
              "      <td>NaN</td>\n",
              "      <td>Positive</td>\n",
              "    </tr>\n",
              "  </tbody>\n",
              "</table>\n",
              "</div>\n",
              "      <button class=\"colab-df-convert\" onclick=\"convertToInteractive('df-e2a1c3ec-5036-49b8-8a17-80eb6487412d')\"\n",
              "              title=\"Convert this dataframe to an interactive table.\"\n",
              "              style=\"display:none;\">\n",
              "        \n",
              "  <svg xmlns=\"http://www.w3.org/2000/svg\" height=\"24px\"viewBox=\"0 0 24 24\"\n",
              "       width=\"24px\">\n",
              "    <path d=\"M0 0h24v24H0V0z\" fill=\"none\"/>\n",
              "    <path d=\"M18.56 5.44l.94 2.06.94-2.06 2.06-.94-2.06-.94-.94-2.06-.94 2.06-2.06.94zm-11 1L8.5 8.5l.94-2.06 2.06-.94-2.06-.94L8.5 2.5l-.94 2.06-2.06.94zm10 10l.94 2.06.94-2.06 2.06-.94-2.06-.94-.94-2.06-.94 2.06-2.06.94z\"/><path d=\"M17.41 7.96l-1.37-1.37c-.4-.4-.92-.59-1.43-.59-.52 0-1.04.2-1.43.59L10.3 9.45l-7.72 7.72c-.78.78-.78 2.05 0 2.83L4 21.41c.39.39.9.59 1.41.59.51 0 1.02-.2 1.41-.59l7.78-7.78 2.81-2.81c.8-.78.8-2.07 0-2.86zM5.41 20L4 18.59l7.72-7.72 1.47 1.35L5.41 20z\"/>\n",
              "  </svg>\n",
              "      </button>\n",
              "      \n",
              "  <style>\n",
              "    .colab-df-container {\n",
              "      display:flex;\n",
              "      flex-wrap:wrap;\n",
              "      gap: 12px;\n",
              "    }\n",
              "\n",
              "    .colab-df-convert {\n",
              "      background-color: #E8F0FE;\n",
              "      border: none;\n",
              "      border-radius: 50%;\n",
              "      cursor: pointer;\n",
              "      display: none;\n",
              "      fill: #1967D2;\n",
              "      height: 32px;\n",
              "      padding: 0 0 0 0;\n",
              "      width: 32px;\n",
              "    }\n",
              "\n",
              "    .colab-df-convert:hover {\n",
              "      background-color: #E2EBFA;\n",
              "      box-shadow: 0px 1px 2px rgba(60, 64, 67, 0.3), 0px 1px 3px 1px rgba(60, 64, 67, 0.15);\n",
              "      fill: #174EA6;\n",
              "    }\n",
              "\n",
              "    [theme=dark] .colab-df-convert {\n",
              "      background-color: #3B4455;\n",
              "      fill: #D2E3FC;\n",
              "    }\n",
              "\n",
              "    [theme=dark] .colab-df-convert:hover {\n",
              "      background-color: #434B5C;\n",
              "      box-shadow: 0px 1px 3px 1px rgba(0, 0, 0, 0.15);\n",
              "      filter: drop-shadow(0px 1px 2px rgba(0, 0, 0, 0.3));\n",
              "      fill: #FFFFFF;\n",
              "    }\n",
              "  </style>\n",
              "\n",
              "      <script>\n",
              "        const buttonEl =\n",
              "          document.querySelector('#df-e2a1c3ec-5036-49b8-8a17-80eb6487412d button.colab-df-convert');\n",
              "        buttonEl.style.display =\n",
              "          google.colab.kernel.accessAllowed ? 'block' : 'none';\n",
              "\n",
              "        async function convertToInteractive(key) {\n",
              "          const element = document.querySelector('#df-e2a1c3ec-5036-49b8-8a17-80eb6487412d');\n",
              "          const dataTable =\n",
              "            await google.colab.kernel.invokeFunction('convertToInteractive',\n",
              "                                                     [key], {});\n",
              "          if (!dataTable) return;\n",
              "\n",
              "          const docLinkHtml = 'Like what you see? Visit the ' +\n",
              "            '<a target=\"_blank\" href=https://colab.research.google.com/notebooks/data_table.ipynb>data table notebook</a>'\n",
              "            + ' to learn more about interactive tables.';\n",
              "          element.innerHTML = '';\n",
              "          dataTable['output_type'] = 'display_data';\n",
              "          await google.colab.output.renderOutput(dataTable, element);\n",
              "          const docLink = document.createElement('div');\n",
              "          docLink.innerHTML = docLinkHtml;\n",
              "          element.appendChild(docLink);\n",
              "        }\n",
              "      </script>\n",
              "    </div>\n",
              "  </div>\n",
              "  "
            ]
          },
          "metadata": {},
          "execution_count": 11
        }
      ],
      "source": [
        "full_df['Sentiment'] = np.where((full_df['overall'] > 3), 'Positive', \n",
        "                          np.where((full_df['overall'] < 3), 'Negative', 'Neutral'))\n",
        "full_df.head()"
      ]
    },
    {
      "cell_type": "code",
      "execution_count": 12,
      "metadata": {
        "colab": {
          "base_uri": "https://localhost:8080/"
        },
        "id": "enZ12nHSx6JD",
        "outputId": "0788a6b1-eb7b-4f8d-946b-4114124823cd"
      },
      "outputs": [
        {
          "output_type": "execute_result",
          "data": {
            "text/plain": [
              "Positive    158985\n",
              "Neutral       6792\n",
              "Negative      4004\n",
              "Name: Sentiment, dtype: int64"
            ]
          },
          "metadata": {},
          "execution_count": 12
        }
      ],
      "source": [
        "full_df['Sentiment'].value_counts() #how can we balance this data?"
      ]
    },
    {
      "cell_type": "markdown",
      "source": [
        "## columns selection"
      ],
      "metadata": {
        "id": "_OgJoNE2z2fX"
      }
    },
    {
      "cell_type": "code",
      "execution_count": 13,
      "metadata": {
        "colab": {
          "base_uri": "https://localhost:8080/"
        },
        "id": "fJ3Yu4QGhqrR",
        "outputId": "c43d1b43-0727-478f-a678-54f8200f3ee5"
      },
      "outputs": [
        {
          "output_type": "execute_result",
          "data": {
            "text/plain": [
              "True     148944\n",
              "False     20837\n",
              "Name: verified, dtype: int64"
            ]
          },
          "metadata": {},
          "execution_count": 13
        }
      ],
      "source": [
        "full_df['verified'].value_counts()"
      ]
    },
    {
      "cell_type": "code",
      "execution_count": 14,
      "metadata": {
        "id": "FV_fG_3GdTuP"
      },
      "outputs": [],
      "source": [
        "#full_df.info()"
      ]
    },
    {
      "cell_type": "code",
      "execution_count": 15,
      "metadata": {
        "id": "xWEtk4WruGvW"
      },
      "outputs": [],
      "source": [
        "cols = ['reviewText','summary']\n",
        "full_df['NewReview'] = full_df[cols].apply(lambda row: ' '.join(row.values.astype(str)), axis=1)\n"
      ]
    },
    {
      "cell_type": "code",
      "execution_count": 16,
      "metadata": {
        "colab": {
          "base_uri": "https://localhost:8080/"
        },
        "id": "5cMUnP-quZ1D",
        "outputId": "233a52d4-9702-4c5a-92f1-414955e013a0"
      },
      "outputs": [
        {
          "output_type": "stream",
          "name": "stdout",
          "text": [
            "<class 'pandas.core.frame.DataFrame'>\n",
            "RangeIndex: 169781 entries, 0 to 169780\n",
            "Data columns (total 14 columns):\n",
            " #   Column          Non-Null Count   Dtype  \n",
            "---  ------          --------------   -----  \n",
            " 0   overall         169781 non-null  float64\n",
            " 1   vote            7611 non-null    object \n",
            " 2   verified        169781 non-null  bool   \n",
            " 3   reviewTime      169781 non-null  object \n",
            " 4   reviewerID      169781 non-null  object \n",
            " 5   asin            169781 non-null  object \n",
            " 6   style           157989 non-null  object \n",
            " 7   reviewerName    169776 non-null  object \n",
            " 8   reviewText      169623 non-null  object \n",
            " 9   summary         169745 non-null  object \n",
            " 10  unixReviewTime  169781 non-null  int64  \n",
            " 11  image           182 non-null     object \n",
            " 12  Sentiment       169781 non-null  object \n",
            " 13  NewReview       169781 non-null  object \n",
            "dtypes: bool(1), float64(1), int64(1), object(11)\n",
            "memory usage: 17.0+ MB\n"
          ]
        }
      ],
      "source": [
        "full_df.info()"
      ]
    },
    {
      "cell_type": "code",
      "execution_count": 17,
      "metadata": {
        "colab": {
          "base_uri": "https://localhost:8080/",
          "height": 208
        },
        "id": "tSFJ1_tstGpQ",
        "outputId": "2747908e-f054-434e-ce58-b8f76df23167"
      },
      "outputs": [
        {
          "output_type": "execute_result",
          "data": {
            "text/plain": [
              "   overall vote  verified   reviewTime      reviewerID        asin  \\\n",
              "0      5.0    3      True   06 3, 2013  A2TYZ821XXK2YZ  3426958910   \n",
              "1      5.0  NaN      True  10 11, 2014  A3OFSREZADFUDY  3426958910   \n",
              "\n",
              "                      style reviewerName  \\\n",
              "0  {'Format:': ' Audio CD'}      Garrett   \n",
              "1  {'Format:': ' Audio CD'}           Ad   \n",
              "\n",
              "                                          reviewText        summary  \\\n",
              "0  This is awesome to listen to, A must-have for ...  Slayer Rules!   \n",
              "1                                               bien     Five Stars   \n",
              "\n",
              "   unixReviewTime image Sentiment  \\\n",
              "0      1370217600   NaN  Positive   \n",
              "1      1412985600   NaN  Positive   \n",
              "\n",
              "                                           NewReview  \n",
              "0  This is awesome to listen to, A must-have for ...  \n",
              "1                                    bien Five Stars  "
            ],
            "text/html": [
              "\n",
              "  <div id=\"df-5381fc38-bad5-4743-9dfb-4ae200a1f7c1\">\n",
              "    <div class=\"colab-df-container\">\n",
              "      <div>\n",
              "<style scoped>\n",
              "    .dataframe tbody tr th:only-of-type {\n",
              "        vertical-align: middle;\n",
              "    }\n",
              "\n",
              "    .dataframe tbody tr th {\n",
              "        vertical-align: top;\n",
              "    }\n",
              "\n",
              "    .dataframe thead th {\n",
              "        text-align: right;\n",
              "    }\n",
              "</style>\n",
              "<table border=\"1\" class=\"dataframe\">\n",
              "  <thead>\n",
              "    <tr style=\"text-align: right;\">\n",
              "      <th></th>\n",
              "      <th>overall</th>\n",
              "      <th>vote</th>\n",
              "      <th>verified</th>\n",
              "      <th>reviewTime</th>\n",
              "      <th>reviewerID</th>\n",
              "      <th>asin</th>\n",
              "      <th>style</th>\n",
              "      <th>reviewerName</th>\n",
              "      <th>reviewText</th>\n",
              "      <th>summary</th>\n",
              "      <th>unixReviewTime</th>\n",
              "      <th>image</th>\n",
              "      <th>Sentiment</th>\n",
              "      <th>NewReview</th>\n",
              "    </tr>\n",
              "  </thead>\n",
              "  <tbody>\n",
              "    <tr>\n",
              "      <th>0</th>\n",
              "      <td>5.0</td>\n",
              "      <td>3</td>\n",
              "      <td>True</td>\n",
              "      <td>06 3, 2013</td>\n",
              "      <td>A2TYZ821XXK2YZ</td>\n",
              "      <td>3426958910</td>\n",
              "      <td>{'Format:': ' Audio CD'}</td>\n",
              "      <td>Garrett</td>\n",
              "      <td>This is awesome to listen to, A must-have for ...</td>\n",
              "      <td>Slayer Rules!</td>\n",
              "      <td>1370217600</td>\n",
              "      <td>NaN</td>\n",
              "      <td>Positive</td>\n",
              "      <td>This is awesome to listen to, A must-have for ...</td>\n",
              "    </tr>\n",
              "    <tr>\n",
              "      <th>1</th>\n",
              "      <td>5.0</td>\n",
              "      <td>NaN</td>\n",
              "      <td>True</td>\n",
              "      <td>10 11, 2014</td>\n",
              "      <td>A3OFSREZADFUDY</td>\n",
              "      <td>3426958910</td>\n",
              "      <td>{'Format:': ' Audio CD'}</td>\n",
              "      <td>Ad</td>\n",
              "      <td>bien</td>\n",
              "      <td>Five Stars</td>\n",
              "      <td>1412985600</td>\n",
              "      <td>NaN</td>\n",
              "      <td>Positive</td>\n",
              "      <td>bien Five Stars</td>\n",
              "    </tr>\n",
              "  </tbody>\n",
              "</table>\n",
              "</div>\n",
              "      <button class=\"colab-df-convert\" onclick=\"convertToInteractive('df-5381fc38-bad5-4743-9dfb-4ae200a1f7c1')\"\n",
              "              title=\"Convert this dataframe to an interactive table.\"\n",
              "              style=\"display:none;\">\n",
              "        \n",
              "  <svg xmlns=\"http://www.w3.org/2000/svg\" height=\"24px\"viewBox=\"0 0 24 24\"\n",
              "       width=\"24px\">\n",
              "    <path d=\"M0 0h24v24H0V0z\" fill=\"none\"/>\n",
              "    <path d=\"M18.56 5.44l.94 2.06.94-2.06 2.06-.94-2.06-.94-.94-2.06-.94 2.06-2.06.94zm-11 1L8.5 8.5l.94-2.06 2.06-.94-2.06-.94L8.5 2.5l-.94 2.06-2.06.94zm10 10l.94 2.06.94-2.06 2.06-.94-2.06-.94-.94-2.06-.94 2.06-2.06.94z\"/><path d=\"M17.41 7.96l-1.37-1.37c-.4-.4-.92-.59-1.43-.59-.52 0-1.04.2-1.43.59L10.3 9.45l-7.72 7.72c-.78.78-.78 2.05 0 2.83L4 21.41c.39.39.9.59 1.41.59.51 0 1.02-.2 1.41-.59l7.78-7.78 2.81-2.81c.8-.78.8-2.07 0-2.86zM5.41 20L4 18.59l7.72-7.72 1.47 1.35L5.41 20z\"/>\n",
              "  </svg>\n",
              "      </button>\n",
              "      \n",
              "  <style>\n",
              "    .colab-df-container {\n",
              "      display:flex;\n",
              "      flex-wrap:wrap;\n",
              "      gap: 12px;\n",
              "    }\n",
              "\n",
              "    .colab-df-convert {\n",
              "      background-color: #E8F0FE;\n",
              "      border: none;\n",
              "      border-radius: 50%;\n",
              "      cursor: pointer;\n",
              "      display: none;\n",
              "      fill: #1967D2;\n",
              "      height: 32px;\n",
              "      padding: 0 0 0 0;\n",
              "      width: 32px;\n",
              "    }\n",
              "\n",
              "    .colab-df-convert:hover {\n",
              "      background-color: #E2EBFA;\n",
              "      box-shadow: 0px 1px 2px rgba(60, 64, 67, 0.3), 0px 1px 3px 1px rgba(60, 64, 67, 0.15);\n",
              "      fill: #174EA6;\n",
              "    }\n",
              "\n",
              "    [theme=dark] .colab-df-convert {\n",
              "      background-color: #3B4455;\n",
              "      fill: #D2E3FC;\n",
              "    }\n",
              "\n",
              "    [theme=dark] .colab-df-convert:hover {\n",
              "      background-color: #434B5C;\n",
              "      box-shadow: 0px 1px 3px 1px rgba(0, 0, 0, 0.15);\n",
              "      filter: drop-shadow(0px 1px 2px rgba(0, 0, 0, 0.3));\n",
              "      fill: #FFFFFF;\n",
              "    }\n",
              "  </style>\n",
              "\n",
              "      <script>\n",
              "        const buttonEl =\n",
              "          document.querySelector('#df-5381fc38-bad5-4743-9dfb-4ae200a1f7c1 button.colab-df-convert');\n",
              "        buttonEl.style.display =\n",
              "          google.colab.kernel.accessAllowed ? 'block' : 'none';\n",
              "\n",
              "        async function convertToInteractive(key) {\n",
              "          const element = document.querySelector('#df-5381fc38-bad5-4743-9dfb-4ae200a1f7c1');\n",
              "          const dataTable =\n",
              "            await google.colab.kernel.invokeFunction('convertToInteractive',\n",
              "                                                     [key], {});\n",
              "          if (!dataTable) return;\n",
              "\n",
              "          const docLinkHtml = 'Like what you see? Visit the ' +\n",
              "            '<a target=\"_blank\" href=https://colab.research.google.com/notebooks/data_table.ipynb>data table notebook</a>'\n",
              "            + ' to learn more about interactive tables.';\n",
              "          element.innerHTML = '';\n",
              "          dataTable['output_type'] = 'display_data';\n",
              "          await google.colab.output.renderOutput(dataTable, element);\n",
              "          const docLink = document.createElement('div');\n",
              "          docLink.innerHTML = docLinkHtml;\n",
              "          element.appendChild(docLink);\n",
              "        }\n",
              "      </script>\n",
              "    </div>\n",
              "  </div>\n",
              "  "
            ]
          },
          "metadata": {},
          "execution_count": 17
        }
      ],
      "source": [
        "full_df.head(2)"
      ]
    },
    {
      "cell_type": "code",
      "execution_count": 18,
      "metadata": {
        "id": "pnsfVP_6dqn5"
      },
      "outputs": [],
      "source": [
        "#reviewerID will be useful later to see if they are outliers or not\n",
        "music_review_df = full_df.drop(columns=['vote','reviewerID','image','reviewTime','reviewerID','style','reviewerName','unixReviewTime','reviewText','summary'])"
      ]
    },
    {
      "cell_type": "code",
      "execution_count": 19,
      "metadata": {
        "colab": {
          "base_uri": "https://localhost:8080/",
          "height": 112
        },
        "id": "VRvfBSi8eY_t",
        "outputId": "f4a88bb5-fecd-42f9-8995-db6d13afaa2a"
      },
      "outputs": [
        {
          "output_type": "execute_result",
          "data": {
            "text/plain": [
              "   overall  verified        asin Sentiment  \\\n",
              "0      5.0      True  3426958910  Positive   \n",
              "1      5.0      True  3426958910  Positive   \n",
              "\n",
              "                                           NewReview  \n",
              "0  This is awesome to listen to, A must-have for ...  \n",
              "1                                    bien Five Stars  "
            ],
            "text/html": [
              "\n",
              "  <div id=\"df-905e43b8-599f-42ae-b845-b52dcb427872\">\n",
              "    <div class=\"colab-df-container\">\n",
              "      <div>\n",
              "<style scoped>\n",
              "    .dataframe tbody tr th:only-of-type {\n",
              "        vertical-align: middle;\n",
              "    }\n",
              "\n",
              "    .dataframe tbody tr th {\n",
              "        vertical-align: top;\n",
              "    }\n",
              "\n",
              "    .dataframe thead th {\n",
              "        text-align: right;\n",
              "    }\n",
              "</style>\n",
              "<table border=\"1\" class=\"dataframe\">\n",
              "  <thead>\n",
              "    <tr style=\"text-align: right;\">\n",
              "      <th></th>\n",
              "      <th>overall</th>\n",
              "      <th>verified</th>\n",
              "      <th>asin</th>\n",
              "      <th>Sentiment</th>\n",
              "      <th>NewReview</th>\n",
              "    </tr>\n",
              "  </thead>\n",
              "  <tbody>\n",
              "    <tr>\n",
              "      <th>0</th>\n",
              "      <td>5.0</td>\n",
              "      <td>True</td>\n",
              "      <td>3426958910</td>\n",
              "      <td>Positive</td>\n",
              "      <td>This is awesome to listen to, A must-have for ...</td>\n",
              "    </tr>\n",
              "    <tr>\n",
              "      <th>1</th>\n",
              "      <td>5.0</td>\n",
              "      <td>True</td>\n",
              "      <td>3426958910</td>\n",
              "      <td>Positive</td>\n",
              "      <td>bien Five Stars</td>\n",
              "    </tr>\n",
              "  </tbody>\n",
              "</table>\n",
              "</div>\n",
              "      <button class=\"colab-df-convert\" onclick=\"convertToInteractive('df-905e43b8-599f-42ae-b845-b52dcb427872')\"\n",
              "              title=\"Convert this dataframe to an interactive table.\"\n",
              "              style=\"display:none;\">\n",
              "        \n",
              "  <svg xmlns=\"http://www.w3.org/2000/svg\" height=\"24px\"viewBox=\"0 0 24 24\"\n",
              "       width=\"24px\">\n",
              "    <path d=\"M0 0h24v24H0V0z\" fill=\"none\"/>\n",
              "    <path d=\"M18.56 5.44l.94 2.06.94-2.06 2.06-.94-2.06-.94-.94-2.06-.94 2.06-2.06.94zm-11 1L8.5 8.5l.94-2.06 2.06-.94-2.06-.94L8.5 2.5l-.94 2.06-2.06.94zm10 10l.94 2.06.94-2.06 2.06-.94-2.06-.94-.94-2.06-.94 2.06-2.06.94z\"/><path d=\"M17.41 7.96l-1.37-1.37c-.4-.4-.92-.59-1.43-.59-.52 0-1.04.2-1.43.59L10.3 9.45l-7.72 7.72c-.78.78-.78 2.05 0 2.83L4 21.41c.39.39.9.59 1.41.59.51 0 1.02-.2 1.41-.59l7.78-7.78 2.81-2.81c.8-.78.8-2.07 0-2.86zM5.41 20L4 18.59l7.72-7.72 1.47 1.35L5.41 20z\"/>\n",
              "  </svg>\n",
              "      </button>\n",
              "      \n",
              "  <style>\n",
              "    .colab-df-container {\n",
              "      display:flex;\n",
              "      flex-wrap:wrap;\n",
              "      gap: 12px;\n",
              "    }\n",
              "\n",
              "    .colab-df-convert {\n",
              "      background-color: #E8F0FE;\n",
              "      border: none;\n",
              "      border-radius: 50%;\n",
              "      cursor: pointer;\n",
              "      display: none;\n",
              "      fill: #1967D2;\n",
              "      height: 32px;\n",
              "      padding: 0 0 0 0;\n",
              "      width: 32px;\n",
              "    }\n",
              "\n",
              "    .colab-df-convert:hover {\n",
              "      background-color: #E2EBFA;\n",
              "      box-shadow: 0px 1px 2px rgba(60, 64, 67, 0.3), 0px 1px 3px 1px rgba(60, 64, 67, 0.15);\n",
              "      fill: #174EA6;\n",
              "    }\n",
              "\n",
              "    [theme=dark] .colab-df-convert {\n",
              "      background-color: #3B4455;\n",
              "      fill: #D2E3FC;\n",
              "    }\n",
              "\n",
              "    [theme=dark] .colab-df-convert:hover {\n",
              "      background-color: #434B5C;\n",
              "      box-shadow: 0px 1px 3px 1px rgba(0, 0, 0, 0.15);\n",
              "      filter: drop-shadow(0px 1px 2px rgba(0, 0, 0, 0.3));\n",
              "      fill: #FFFFFF;\n",
              "    }\n",
              "  </style>\n",
              "\n",
              "      <script>\n",
              "        const buttonEl =\n",
              "          document.querySelector('#df-905e43b8-599f-42ae-b845-b52dcb427872 button.colab-df-convert');\n",
              "        buttonEl.style.display =\n",
              "          google.colab.kernel.accessAllowed ? 'block' : 'none';\n",
              "\n",
              "        async function convertToInteractive(key) {\n",
              "          const element = document.querySelector('#df-905e43b8-599f-42ae-b845-b52dcb427872');\n",
              "          const dataTable =\n",
              "            await google.colab.kernel.invokeFunction('convertToInteractive',\n",
              "                                                     [key], {});\n",
              "          if (!dataTable) return;\n",
              "\n",
              "          const docLinkHtml = 'Like what you see? Visit the ' +\n",
              "            '<a target=\"_blank\" href=https://colab.research.google.com/notebooks/data_table.ipynb>data table notebook</a>'\n",
              "            + ' to learn more about interactive tables.';\n",
              "          element.innerHTML = '';\n",
              "          dataTable['output_type'] = 'display_data';\n",
              "          await google.colab.output.renderOutput(dataTable, element);\n",
              "          const docLink = document.createElement('div');\n",
              "          docLink.innerHTML = docLinkHtml;\n",
              "          element.appendChild(docLink);\n",
              "        }\n",
              "      </script>\n",
              "    </div>\n",
              "  </div>\n",
              "  "
            ]
          },
          "metadata": {},
          "execution_count": 19
        }
      ],
      "source": [
        "music_review_df.head(2)"
      ]
    },
    {
      "cell_type": "code",
      "execution_count": 20,
      "metadata": {
        "colab": {
          "base_uri": "https://localhost:8080/"
        },
        "id": "ata1v15megmt",
        "outputId": "066bf0fd-f853-4582-9ad5-a082fab89077"
      },
      "outputs": [
        {
          "output_type": "stream",
          "name": "stdout",
          "text": [
            "<class 'pandas.core.frame.DataFrame'>\n",
            "RangeIndex: 169781 entries, 0 to 169780\n",
            "Data columns (total 5 columns):\n",
            " #   Column     Non-Null Count   Dtype  \n",
            "---  ------     --------------   -----  \n",
            " 0   overall    169781 non-null  float64\n",
            " 1   verified   169781 non-null  bool   \n",
            " 2   asin       169781 non-null  object \n",
            " 3   Sentiment  169781 non-null  object \n",
            " 4   NewReview  169781 non-null  object \n",
            "dtypes: bool(1), float64(1), object(3)\n",
            "memory usage: 5.3+ MB\n"
          ]
        }
      ],
      "source": [
        "music_review_df.info()"
      ]
    },
    {
      "cell_type": "markdown",
      "source": [
        "## sampling "
      ],
      "metadata": {
        "id": "qOB297gNv0Q4"
      }
    },
    {
      "cell_type": "code",
      "execution_count": 22,
      "metadata": {
        "id": "deTfUncKPta8"
      },
      "outputs": [],
      "source": [
        "n_samples = 1000 # @param {type:\"integer\"}\n",
        "\n",
        "#Getting the reviews from the dataset\n",
        "sample_df=music_review_df.sample(n = n_samples)\n",
        "reviews = [str(review) for review in sample_df.NewReview.values]\n",
        "\n",
        "#sample = reviews[:1000] #To reduce the runtime"
      ]
    },
    {
      "cell_type": "code",
      "execution_count": 23,
      "metadata": {
        "colab": {
          "base_uri": "https://localhost:8080/"
        },
        "id": "Z4imG0ixxxFD",
        "outputId": "16ef1c0d-b5e5-4270-dfdc-2a4d4857b1ff"
      },
      "outputs": [
        {
          "output_type": "stream",
          "name": "stdout",
          "text": [
            "<class 'pandas.core.frame.DataFrame'>\n",
            "Int64Index: 1000 entries, 138733 to 112119\n",
            "Data columns (total 5 columns):\n",
            " #   Column     Non-Null Count  Dtype  \n",
            "---  ------     --------------  -----  \n",
            " 0   overall    1000 non-null   float64\n",
            " 1   verified   1000 non-null   bool   \n",
            " 2   asin       1000 non-null   object \n",
            " 3   Sentiment  1000 non-null   object \n",
            " 4   NewReview  1000 non-null   object \n",
            "dtypes: bool(1), float64(1), object(3)\n",
            "memory usage: 40.0+ KB\n"
          ]
        }
      ],
      "source": [
        "sample_df.info()"
      ]
    },
    {
      "cell_type": "code",
      "source": [
        "\n",
        "# average length\n",
        "print('- average review length (words): ', len(re.findall(r'\\w+', ' '.join(reviews)))/len(reviews))"
      ],
      "metadata": {
        "colab": {
          "base_uri": "https://localhost:8080/"
        },
        "id": "yJL2qnXBxiMp",
        "outputId": "9ceae4cb-4b13-431d-e6ee-6a460754bd32"
      },
      "execution_count": 25,
      "outputs": [
        {
          "output_type": "stream",
          "name": "stdout",
          "text": [
            "- average review length (words):  32.113\n"
          ]
        }
      ]
    },
    {
      "cell_type": "code",
      "source": [
        "sample_df.head()"
      ],
      "metadata": {
        "colab": {
          "base_uri": "https://localhost:8080/",
          "height": 206
        },
        "id": "HwF3_1gDq3n3",
        "outputId": "622868e6-8b3d-453a-8779-9831e840f317"
      },
      "execution_count": 24,
      "outputs": [
        {
          "output_type": "execute_result",
          "data": {
            "text/plain": [
              "        overall  verified        asin Sentiment  \\\n",
              "138733      5.0      True  B00137VQYS  Positive   \n",
              "123842      5.0      True  B000V691S0  Positive   \n",
              "94380       5.0     False  B00G7MJ4R0  Positive   \n",
              "8383        5.0      True  B000W1MDPW  Positive   \n",
              "88447       5.0      True  B00CO73XHY  Positive   \n",
              "\n",
              "                                                NewReview  \n",
              "138733  In its day this song never really got a whole ...  \n",
              "123842                             Great song! Five Stars  \n",
              "94380   This is one of my greatest value finds! I list...  \n",
              "8383    This is the best CD/album on the market and Am...  \n",
              "88447   Wonderful song, utterly sad video though. Love...  "
            ],
            "text/html": [
              "\n",
              "  <div id=\"df-85b39c9d-a8c0-4c65-9cd0-f51e70740a9c\">\n",
              "    <div class=\"colab-df-container\">\n",
              "      <div>\n",
              "<style scoped>\n",
              "    .dataframe tbody tr th:only-of-type {\n",
              "        vertical-align: middle;\n",
              "    }\n",
              "\n",
              "    .dataframe tbody tr th {\n",
              "        vertical-align: top;\n",
              "    }\n",
              "\n",
              "    .dataframe thead th {\n",
              "        text-align: right;\n",
              "    }\n",
              "</style>\n",
              "<table border=\"1\" class=\"dataframe\">\n",
              "  <thead>\n",
              "    <tr style=\"text-align: right;\">\n",
              "      <th></th>\n",
              "      <th>overall</th>\n",
              "      <th>verified</th>\n",
              "      <th>asin</th>\n",
              "      <th>Sentiment</th>\n",
              "      <th>NewReview</th>\n",
              "    </tr>\n",
              "  </thead>\n",
              "  <tbody>\n",
              "    <tr>\n",
              "      <th>138733</th>\n",
              "      <td>5.0</td>\n",
              "      <td>True</td>\n",
              "      <td>B00137VQYS</td>\n",
              "      <td>Positive</td>\n",
              "      <td>In its day this song never really got a whole ...</td>\n",
              "    </tr>\n",
              "    <tr>\n",
              "      <th>123842</th>\n",
              "      <td>5.0</td>\n",
              "      <td>True</td>\n",
              "      <td>B000V691S0</td>\n",
              "      <td>Positive</td>\n",
              "      <td>Great song! Five Stars</td>\n",
              "    </tr>\n",
              "    <tr>\n",
              "      <th>94380</th>\n",
              "      <td>5.0</td>\n",
              "      <td>False</td>\n",
              "      <td>B00G7MJ4R0</td>\n",
              "      <td>Positive</td>\n",
              "      <td>This is one of my greatest value finds! I list...</td>\n",
              "    </tr>\n",
              "    <tr>\n",
              "      <th>8383</th>\n",
              "      <td>5.0</td>\n",
              "      <td>True</td>\n",
              "      <td>B000W1MDPW</td>\n",
              "      <td>Positive</td>\n",
              "      <td>This is the best CD/album on the market and Am...</td>\n",
              "    </tr>\n",
              "    <tr>\n",
              "      <th>88447</th>\n",
              "      <td>5.0</td>\n",
              "      <td>True</td>\n",
              "      <td>B00CO73XHY</td>\n",
              "      <td>Positive</td>\n",
              "      <td>Wonderful song, utterly sad video though. Love...</td>\n",
              "    </tr>\n",
              "  </tbody>\n",
              "</table>\n",
              "</div>\n",
              "      <button class=\"colab-df-convert\" onclick=\"convertToInteractive('df-85b39c9d-a8c0-4c65-9cd0-f51e70740a9c')\"\n",
              "              title=\"Convert this dataframe to an interactive table.\"\n",
              "              style=\"display:none;\">\n",
              "        \n",
              "  <svg xmlns=\"http://www.w3.org/2000/svg\" height=\"24px\"viewBox=\"0 0 24 24\"\n",
              "       width=\"24px\">\n",
              "    <path d=\"M0 0h24v24H0V0z\" fill=\"none\"/>\n",
              "    <path d=\"M18.56 5.44l.94 2.06.94-2.06 2.06-.94-2.06-.94-.94-2.06-.94 2.06-2.06.94zm-11 1L8.5 8.5l.94-2.06 2.06-.94-2.06-.94L8.5 2.5l-.94 2.06-2.06.94zm10 10l.94 2.06.94-2.06 2.06-.94-2.06-.94-.94-2.06-.94 2.06-2.06.94z\"/><path d=\"M17.41 7.96l-1.37-1.37c-.4-.4-.92-.59-1.43-.59-.52 0-1.04.2-1.43.59L10.3 9.45l-7.72 7.72c-.78.78-.78 2.05 0 2.83L4 21.41c.39.39.9.59 1.41.59.51 0 1.02-.2 1.41-.59l7.78-7.78 2.81-2.81c.8-.78.8-2.07 0-2.86zM5.41 20L4 18.59l7.72-7.72 1.47 1.35L5.41 20z\"/>\n",
              "  </svg>\n",
              "      </button>\n",
              "      \n",
              "  <style>\n",
              "    .colab-df-container {\n",
              "      display:flex;\n",
              "      flex-wrap:wrap;\n",
              "      gap: 12px;\n",
              "    }\n",
              "\n",
              "    .colab-df-convert {\n",
              "      background-color: #E8F0FE;\n",
              "      border: none;\n",
              "      border-radius: 50%;\n",
              "      cursor: pointer;\n",
              "      display: none;\n",
              "      fill: #1967D2;\n",
              "      height: 32px;\n",
              "      padding: 0 0 0 0;\n",
              "      width: 32px;\n",
              "    }\n",
              "\n",
              "    .colab-df-convert:hover {\n",
              "      background-color: #E2EBFA;\n",
              "      box-shadow: 0px 1px 2px rgba(60, 64, 67, 0.3), 0px 1px 3px 1px rgba(60, 64, 67, 0.15);\n",
              "      fill: #174EA6;\n",
              "    }\n",
              "\n",
              "    [theme=dark] .colab-df-convert {\n",
              "      background-color: #3B4455;\n",
              "      fill: #D2E3FC;\n",
              "    }\n",
              "\n",
              "    [theme=dark] .colab-df-convert:hover {\n",
              "      background-color: #434B5C;\n",
              "      box-shadow: 0px 1px 3px 1px rgba(0, 0, 0, 0.15);\n",
              "      filter: drop-shadow(0px 1px 2px rgba(0, 0, 0, 0.3));\n",
              "      fill: #FFFFFF;\n",
              "    }\n",
              "  </style>\n",
              "\n",
              "      <script>\n",
              "        const buttonEl =\n",
              "          document.querySelector('#df-85b39c9d-a8c0-4c65-9cd0-f51e70740a9c button.colab-df-convert');\n",
              "        buttonEl.style.display =\n",
              "          google.colab.kernel.accessAllowed ? 'block' : 'none';\n",
              "\n",
              "        async function convertToInteractive(key) {\n",
              "          const element = document.querySelector('#df-85b39c9d-a8c0-4c65-9cd0-f51e70740a9c');\n",
              "          const dataTable =\n",
              "            await google.colab.kernel.invokeFunction('convertToInteractive',\n",
              "                                                     [key], {});\n",
              "          if (!dataTable) return;\n",
              "\n",
              "          const docLinkHtml = 'Like what you see? Visit the ' +\n",
              "            '<a target=\"_blank\" href=https://colab.research.google.com/notebooks/data_table.ipynb>data table notebook</a>'\n",
              "            + ' to learn more about interactive tables.';\n",
              "          element.innerHTML = '';\n",
              "          dataTable['output_type'] = 'display_data';\n",
              "          await google.colab.output.renderOutput(dataTable, element);\n",
              "          const docLink = document.createElement('div');\n",
              "          docLink.innerHTML = docLinkHtml;\n",
              "          element.appendChild(docLink);\n",
              "        }\n",
              "      </script>\n",
              "    </div>\n",
              "  </div>\n",
              "  "
            ]
          },
          "metadata": {},
          "execution_count": 24
        }
      ]
    },
    {
      "cell_type": "markdown",
      "source": [
        "# 3. Text representation (approaches in course module 2)"
      ],
      "metadata": {
        "id": "axAHe1HR1fRb"
      }
    },
    {
      "cell_type": "markdown",
      "source": [
        "## Tokenisation, Lemmatization, Stemming, pos, entities"
      ],
      "metadata": {
        "id": "mJ3TciyV09jT"
      }
    },
    {
      "cell_type": "code",
      "execution_count": 26,
      "metadata": {
        "id": "tN8P7E-IHrxu",
        "scrolled": true
      },
      "outputs": [],
      "source": [
        "#Tokenisation\n",
        "tokens = [[token.text for token in nlp(sentence)] for sentence in reviews]\n",
        "\n",
        "#Lemmatization\n",
        "lemmas = [[token.lemma_ if token.lemma_ != \"-PRON-\" else token.lower_ for token in nlp(sentence)] for sentence in reviews]\n",
        "\n",
        "#Stemming\n",
        "stems = [[stemmer.stem(token) for token in sentence] for sentence in tokens]\n",
        "\n",
        "#Getting pos\n",
        "pos = [nltk.pos_tag(token) for token in tokens]\n",
        "\n",
        "#Getting entities\n",
        "entities = [[[ent.text, ent.label_] for ent in nlp(sentence).ents] for sentence in reviews] "
      ]
    },
    {
      "cell_type": "code",
      "execution_count": 27,
      "metadata": {
        "colab": {
          "base_uri": "https://localhost:8080/"
        },
        "id": "_O8GQR1THrxv",
        "outputId": "0031affe-b177-4d8d-960c-7ea6c5ee7a26"
      },
      "outputs": [
        {
          "output_type": "stream",
          "name": "stdout",
          "text": [
            "5 most common people:  [('James', 12), ('Jesus', 7), ('James Taylor', 6), ('Mono', 5), ('Brahms', 5), ('Elvis', 4), ('Neptunes', 4), ('Cher', 4), ('Oscar', 4), ('Motown', 4)]\n",
            "5 most common work of art:  [('Love', 12), ('Four Stars', 4), ('Believe', 3), ('Five Stars', 2), ('Living Proof', 2), ('My Favorite Things', 2), ('No Guts, No Glory', 2), ('O Holy Night', 2), ('Light My Fire', 1), ('The Sound Of Silence', 1)]\n"
          ]
        }
      ],
      "source": [
        "#Most common people\n",
        "people = [person[0] for person in [item for sublist in entities for item in sublist if item[1]=='PERSON']]\n",
        "print('5 most common people: ', Counter(people).most_common(10))\n",
        "\n",
        "#Most common music\n",
        "music = [person[0] for person in [item for sublist in entities for item in sublist if item[1]=='WORK_OF_ART']]\n",
        "print('5 most common work of art: ', Counter(music).most_common(10))"
      ]
    },
    {
      "cell_type": "code",
      "execution_count": 28,
      "metadata": {
        "id": "rl4_kAOeHrxu"
      },
      "outputs": [],
      "source": [
        "#Taking the stems or the lemmas \n",
        "ptext = [' '.join(word) for word in lemmas]\n",
        "\n",
        "#Converting to lowercase\n",
        "ptext = [review.lower() for review in ptext]\n",
        "\n",
        "#Removing numbers\n",
        "ptext = [re.sub(r'\\d+', '', review) for review in ptext]\n",
        "\n",
        "#Removing punctuation\n",
        "ptext = [re.sub(r'[^\\w\\s]',' ',review) for review in ptext]\n",
        "ptext = [re.sub(' +', ' ', review) for review in ptext]\n",
        "ptext = [re.sub('_', '', review) for review in ptext]\n",
        "\n",
        "#Removing leading and trailing whitespaces\n",
        "ptext = [review.strip() for review in ptext]\n",
        "\n",
        "#Removing stopwords\n",
        "ptext = [' '.join([word for word in review.split() if word not in stop_words]) for review in ptext]"
      ]
    },
    {
      "cell_type": "code",
      "execution_count": 29,
      "metadata": {
        "colab": {
          "base_uri": "https://localhost:8080/",
          "height": 424
        },
        "id": "-_BYH4yWdEUD",
        "outputId": "c24c5498-2220-4c3e-ecec-b81db0ac8d9d"
      },
      "outputs": [
        {
          "output_type": "execute_result",
          "data": {
            "text/plain": [
              "                                              Original  \\\n",
              "0    In its day this song never really got a whole ...   \n",
              "1                               Great song! Five Stars   \n",
              "2    This is one of my greatest value finds! I list...   \n",
              "3    This is the best CD/album on the market and Am...   \n",
              "4    Wonderful song, utterly sad video though. Love...   \n",
              "..                                                 ...   \n",
              "995                               Awesome!! Five Stars   \n",
              "996  Prime Cuts: Shout for Joy, Little Drummer Boy,...   \n",
              "997  One of my all time favorites.  Love the fast b...   \n",
              "998  Great riff in this one, never heard all my lif...   \n",
              "999  It is exactly that, \"Big Guitar Box\"!!  I am e...   \n",
              "\n",
              "                                   After Proprocessing  \n",
              "0    day song never really get whole lot air play l...  \n",
              "1                                 great song five star  \n",
              "2    one great value find listen wonderful pleasant...  \n",
              "3    good cd album market amazon lee ann womack jew...  \n",
              "4    wonderful song utterly sad video though love s...  \n",
              "..                                                 ...  \n",
              "995                                  awesome five star  \n",
              "996  prime cuts shout joy little drummer boy holy n...  \n",
              "997  one time favorite love fast beat saxophone bri...  \n",
              "998  great riff one never hear life woman tokyo hus...  \n",
              "999   exactly big guitar box enjoy recommend beautiful  \n",
              "\n",
              "[1000 rows x 2 columns]"
            ],
            "text/html": [
              "\n",
              "  <div id=\"df-e196cdb5-962b-4691-9580-470b5992e094\">\n",
              "    <div class=\"colab-df-container\">\n",
              "      <div>\n",
              "<style scoped>\n",
              "    .dataframe tbody tr th:only-of-type {\n",
              "        vertical-align: middle;\n",
              "    }\n",
              "\n",
              "    .dataframe tbody tr th {\n",
              "        vertical-align: top;\n",
              "    }\n",
              "\n",
              "    .dataframe thead th {\n",
              "        text-align: right;\n",
              "    }\n",
              "</style>\n",
              "<table border=\"1\" class=\"dataframe\">\n",
              "  <thead>\n",
              "    <tr style=\"text-align: right;\">\n",
              "      <th></th>\n",
              "      <th>Original</th>\n",
              "      <th>After Proprocessing</th>\n",
              "    </tr>\n",
              "  </thead>\n",
              "  <tbody>\n",
              "    <tr>\n",
              "      <th>0</th>\n",
              "      <td>In its day this song never really got a whole ...</td>\n",
              "      <td>day song never really get whole lot air play l...</td>\n",
              "    </tr>\n",
              "    <tr>\n",
              "      <th>1</th>\n",
              "      <td>Great song! Five Stars</td>\n",
              "      <td>great song five star</td>\n",
              "    </tr>\n",
              "    <tr>\n",
              "      <th>2</th>\n",
              "      <td>This is one of my greatest value finds! I list...</td>\n",
              "      <td>one great value find listen wonderful pleasant...</td>\n",
              "    </tr>\n",
              "    <tr>\n",
              "      <th>3</th>\n",
              "      <td>This is the best CD/album on the market and Am...</td>\n",
              "      <td>good cd album market amazon lee ann womack jew...</td>\n",
              "    </tr>\n",
              "    <tr>\n",
              "      <th>4</th>\n",
              "      <td>Wonderful song, utterly sad video though. Love...</td>\n",
              "      <td>wonderful song utterly sad video though love s...</td>\n",
              "    </tr>\n",
              "    <tr>\n",
              "      <th>...</th>\n",
              "      <td>...</td>\n",
              "      <td>...</td>\n",
              "    </tr>\n",
              "    <tr>\n",
              "      <th>995</th>\n",
              "      <td>Awesome!! Five Stars</td>\n",
              "      <td>awesome five star</td>\n",
              "    </tr>\n",
              "    <tr>\n",
              "      <th>996</th>\n",
              "      <td>Prime Cuts: Shout for Joy, Little Drummer Boy,...</td>\n",
              "      <td>prime cuts shout joy little drummer boy holy n...</td>\n",
              "    </tr>\n",
              "    <tr>\n",
              "      <th>997</th>\n",
              "      <td>One of my all time favorites.  Love the fast b...</td>\n",
              "      <td>one time favorite love fast beat saxophone bri...</td>\n",
              "    </tr>\n",
              "    <tr>\n",
              "      <th>998</th>\n",
              "      <td>Great riff in this one, never heard all my lif...</td>\n",
              "      <td>great riff one never hear life woman tokyo hus...</td>\n",
              "    </tr>\n",
              "    <tr>\n",
              "      <th>999</th>\n",
              "      <td>It is exactly that, \"Big Guitar Box\"!!  I am e...</td>\n",
              "      <td>exactly big guitar box enjoy recommend beautiful</td>\n",
              "    </tr>\n",
              "  </tbody>\n",
              "</table>\n",
              "<p>1000 rows × 2 columns</p>\n",
              "</div>\n",
              "      <button class=\"colab-df-convert\" onclick=\"convertToInteractive('df-e196cdb5-962b-4691-9580-470b5992e094')\"\n",
              "              title=\"Convert this dataframe to an interactive table.\"\n",
              "              style=\"display:none;\">\n",
              "        \n",
              "  <svg xmlns=\"http://www.w3.org/2000/svg\" height=\"24px\"viewBox=\"0 0 24 24\"\n",
              "       width=\"24px\">\n",
              "    <path d=\"M0 0h24v24H0V0z\" fill=\"none\"/>\n",
              "    <path d=\"M18.56 5.44l.94 2.06.94-2.06 2.06-.94-2.06-.94-.94-2.06-.94 2.06-2.06.94zm-11 1L8.5 8.5l.94-2.06 2.06-.94-2.06-.94L8.5 2.5l-.94 2.06-2.06.94zm10 10l.94 2.06.94-2.06 2.06-.94-2.06-.94-.94-2.06-.94 2.06-2.06.94z\"/><path d=\"M17.41 7.96l-1.37-1.37c-.4-.4-.92-.59-1.43-.59-.52 0-1.04.2-1.43.59L10.3 9.45l-7.72 7.72c-.78.78-.78 2.05 0 2.83L4 21.41c.39.39.9.59 1.41.59.51 0 1.02-.2 1.41-.59l7.78-7.78 2.81-2.81c.8-.78.8-2.07 0-2.86zM5.41 20L4 18.59l7.72-7.72 1.47 1.35L5.41 20z\"/>\n",
              "  </svg>\n",
              "      </button>\n",
              "      \n",
              "  <style>\n",
              "    .colab-df-container {\n",
              "      display:flex;\n",
              "      flex-wrap:wrap;\n",
              "      gap: 12px;\n",
              "    }\n",
              "\n",
              "    .colab-df-convert {\n",
              "      background-color: #E8F0FE;\n",
              "      border: none;\n",
              "      border-radius: 50%;\n",
              "      cursor: pointer;\n",
              "      display: none;\n",
              "      fill: #1967D2;\n",
              "      height: 32px;\n",
              "      padding: 0 0 0 0;\n",
              "      width: 32px;\n",
              "    }\n",
              "\n",
              "    .colab-df-convert:hover {\n",
              "      background-color: #E2EBFA;\n",
              "      box-shadow: 0px 1px 2px rgba(60, 64, 67, 0.3), 0px 1px 3px 1px rgba(60, 64, 67, 0.15);\n",
              "      fill: #174EA6;\n",
              "    }\n",
              "\n",
              "    [theme=dark] .colab-df-convert {\n",
              "      background-color: #3B4455;\n",
              "      fill: #D2E3FC;\n",
              "    }\n",
              "\n",
              "    [theme=dark] .colab-df-convert:hover {\n",
              "      background-color: #434B5C;\n",
              "      box-shadow: 0px 1px 3px 1px rgba(0, 0, 0, 0.15);\n",
              "      filter: drop-shadow(0px 1px 2px rgba(0, 0, 0, 0.3));\n",
              "      fill: #FFFFFF;\n",
              "    }\n",
              "  </style>\n",
              "\n",
              "      <script>\n",
              "        const buttonEl =\n",
              "          document.querySelector('#df-e196cdb5-962b-4691-9580-470b5992e094 button.colab-df-convert');\n",
              "        buttonEl.style.display =\n",
              "          google.colab.kernel.accessAllowed ? 'block' : 'none';\n",
              "\n",
              "        async function convertToInteractive(key) {\n",
              "          const element = document.querySelector('#df-e196cdb5-962b-4691-9580-470b5992e094');\n",
              "          const dataTable =\n",
              "            await google.colab.kernel.invokeFunction('convertToInteractive',\n",
              "                                                     [key], {});\n",
              "          if (!dataTable) return;\n",
              "\n",
              "          const docLinkHtml = 'Like what you see? Visit the ' +\n",
              "            '<a target=\"_blank\" href=https://colab.research.google.com/notebooks/data_table.ipynb>data table notebook</a>'\n",
              "            + ' to learn more about interactive tables.';\n",
              "          element.innerHTML = '';\n",
              "          dataTable['output_type'] = 'display_data';\n",
              "          await google.colab.output.renderOutput(dataTable, element);\n",
              "          const docLink = document.createElement('div');\n",
              "          docLink.innerHTML = docLinkHtml;\n",
              "          element.appendChild(docLink);\n",
              "        }\n",
              "      </script>\n",
              "    </div>\n",
              "  </div>\n",
              "  "
            ]
          },
          "metadata": {},
          "execution_count": 29
        }
      ],
      "source": [
        "frame = {'Original': reviews, \n",
        "        'After Proprocessing': ptext}\n",
        "\n",
        "pd.DataFrame.from_dict(frame)\n"
      ]
    },
    {
      "cell_type": "code",
      "execution_count": 30,
      "metadata": {
        "colab": {
          "base_uri": "https://localhost:8080/"
        },
        "id": "Tzv-v7G1dzbn",
        "outputId": "2d7e8f9f-ed3b-451b-c334-ad13c5b9fb30"
      },
      "outputs": [
        {
          "output_type": "stream",
          "name": "stdout",
          "text": [
            "Number of words:\n",
            "- Before preprocessing:  32113\n",
            "- After preprocessing:  16783\n",
            "\n",
            "Average review length:\n",
            "- Before preprocessing:  32.113\n",
            "- After preprocessing:  16.783\n",
            "\n",
            "Number of punctuation character:\n",
            "- Before preprocessing:  0\n",
            "- After preprocessing:  0\n",
            "\n"
          ]
        }
      ],
      "source": [
        "#Number of words\n",
        "print('Number of words:')\n",
        "\n",
        "bef = len(re.findall(r'\\w+', ' '.join(reviews)))\n",
        "aft = len(re.findall(r'\\w+', ' '.join(ptext)))\n",
        "\n",
        "print('- Before preprocessing: ', bef )\n",
        "print('- After preprocessing: ', aft )\n",
        "print()\n",
        "\n",
        "#Average review length\n",
        "print('Average review length:')\n",
        "\n",
        "bef_a = bef/n_samples\n",
        "aft_a = aft/n_samples\n",
        "\n",
        "print('- Before preprocessing: ', bef_a )\n",
        "print('- After preprocessing: ', aft_a )\n",
        "print()\n",
        "\n",
        "#Punctuation\n",
        "count = lambda l1,l2: sum([1 for x in l1 if x in l2])\n",
        "punct_b = 0\n",
        "for i in sample_df:\n",
        "    punct_b += count(i,set(string.punctuation))\n",
        "punct_a = 0\n",
        "for i in ptext:\n",
        "    punct_a += count(i,set(string.punctuation))\n",
        "    \n",
        "print('Number of punctuation character:')\n",
        "print('- Before preprocessing: ', punct_b)\n",
        "print('- After preprocessing: ', punct_a)\n",
        "print()\n"
      ]
    },
    {
      "cell_type": "code",
      "source": [],
      "metadata": {
        "id": "pyX9GHDOiPfJ"
      },
      "execution_count": 30,
      "outputs": []
    },
    {
      "cell_type": "markdown",
      "source": [
        "## glove"
      ],
      "metadata": {
        "id": "rzJZMP18iLkQ"
      }
    },
    {
      "cell_type": "code",
      "source": [
        "from keras.utils import get_file\n",
        "\n",
        "dir1 = get_file(origin=\"https://raw.githubusercontent.com/shahrzadko/NLPDigitalMusic/main/glove.6B.100d.zip.001?token=GHSAT0AAAAAAB6LOL42SKHPCCMIVYPOC4REY7AKE2Q\")\n",
        "dir2 = get_file(origin=\"https://raw.githubusercontent.com/shahrzadko/NLPDigitalMusic/main/glove.6B.100d.zip.002?token=GHSAT0AAAAAAB6LOL42SKHPCCMIVYPOC4REY7AKE2Q\")\n",
        "\n",
        "dir1"
      ],
      "metadata": {
        "colab": {
          "base_uri": "https://localhost:8080/",
          "height": 35
        },
        "id": "7n6YwJUxiQaf",
        "outputId": "4d589996-bec8-4938-ccdc-c609dc3d01d3"
      },
      "execution_count": 31,
      "outputs": [
        {
          "output_type": "execute_result",
          "data": {
            "text/plain": [
              "'/root/.keras/datasets/glove.6B.100d.zip.001'"
            ],
            "application/vnd.google.colaboratory.intrinsic+json": {
              "type": "string"
            }
          },
          "metadata": {},
          "execution_count": 31
        }
      ]
    },
    {
      "cell_type": "code",
      "source": [
        "### for Colab!!! change path if not running in Colab \n",
        "\n",
        "!cat /root/.keras/datasets/glove.6B.100d.zip* > /root/.keras/datasets/glove.6B.100d.zip\n",
        "\n",
        "!unzip -f /root/.keras/datasets/glove.6B.100d.zip "
      ],
      "metadata": {
        "colab": {
          "base_uri": "https://localhost:8080/"
        },
        "id": "QaXsd_UCjUgD",
        "outputId": "a8d83291-af19-42a9-9a2b-e82195840e2c"
      },
      "execution_count": 32,
      "outputs": [
        {
          "output_type": "stream",
          "name": "stdout",
          "text": [
            "Archive:  /root/.keras/datasets/glove.6B.100d.zip\n"
          ]
        }
      ]
    },
    {
      "cell_type": "code",
      "source": [
        "EMBEDDING_DIM = 100 # @param {type:\"integer\"}"
      ],
      "metadata": {
        "id": "nde0iVV-0Ixk"
      },
      "execution_count": 33,
      "outputs": []
    },
    {
      "cell_type": "code",
      "source": [
        "\n",
        "# first, build index mapping words in the embeddings set\n",
        "# to their embedding vector\n",
        "\n",
        "embeddings_index = {}\n",
        "#C:\\Courses_cent\\COMP 262\\practical-nlp-master\\Ch4\\Glove6B\n",
        "#with open(os.path.join(GLOVE_DIR, 'glove.6B.100d.txt'), encoding=\"utf-8\") as f:\n",
        "with open(\"glove.6B.100d.txt\", encoding =\"utf-8\") as f:\n",
        "    for line in f:\n",
        "        values = line.split()\n",
        "        word = values[0]\n",
        "        coefs = np.asarray(values[1:], dtype='float32')\n",
        "        embeddings_index[word] = coefs\n",
        "\n",
        "print('Found %s word vectors in Glove embeddings.' % len(embeddings_index))\n",
        "\n",
        "def get_embeddings(word):\n",
        "    embedding_vector = embeddings_index.get(word)\n",
        "    if embedding_vector is None:\n",
        "        # words not found in embedding index will be all-zeros.\n",
        "        embedding_vector = np.zeros(shape=(EMBEDDING_DIM, ))\n",
        "    return embedding_vector"
      ],
      "metadata": {
        "colab": {
          "base_uri": "https://localhost:8080/"
        },
        "id": "o6pbQ1sKkRbx",
        "outputId": "1d8abe10-8b15-4bd2-e727-327448cf0e17"
      },
      "execution_count": 34,
      "outputs": [
        {
          "output_type": "stream",
          "name": "stdout",
          "text": [
            "Found 400000 word vectors in Glove embeddings.\n"
          ]
        }
      ]
    },
    {
      "cell_type": "code",
      "source": [
        "embeded = [[get_embeddings(word) for word in review.split() ] for review in ptext]\n"
      ],
      "metadata": {
        "id": "SWbXq2YinGwa"
      },
      "execution_count": 35,
      "outputs": []
    },
    {
      "cell_type": "code",
      "source": [
        "frame = {'Original': reviews, \n",
        "        'After embedding': embeded}\n",
        "\n",
        "pd.DataFrame.from_dict(frame)\n"
      ],
      "metadata": {
        "colab": {
          "base_uri": "https://localhost:8080/",
          "height": 424
        },
        "id": "0tTMTMj-zmUv",
        "outputId": "a46994b5-25f8-43e2-9bcb-7ef87bba3b0e"
      },
      "execution_count": 36,
      "outputs": [
        {
          "output_type": "execute_result",
          "data": {
            "text/plain": [
              "                                              Original  \\\n",
              "0    In its day this song never really got a whole ...   \n",
              "1                               Great song! Five Stars   \n",
              "2    This is one of my greatest value finds! I list...   \n",
              "3    This is the best CD/album on the market and Am...   \n",
              "4    Wonderful song, utterly sad video though. Love...   \n",
              "..                                                 ...   \n",
              "995                               Awesome!! Five Stars   \n",
              "996  Prime Cuts: Shout for Joy, Little Drummer Boy,...   \n",
              "997  One of my all time favorites.  Love the fast b...   \n",
              "998  Great riff in this one, never heard all my lif...   \n",
              "999  It is exactly that, \"Big Guitar Box\"!!  I am e...   \n",
              "\n",
              "                                       After embedding  \n",
              "0    [[-0.36689, 0.4154, 0.13478, -0.17841, -0.4005...  \n",
              "1    [[-0.013786, 0.38216, 0.53236, 0.15261, -0.296...  \n",
              "2    [[-0.22557, 0.49418, 0.4861, -0.4332, 0.13738,...  \n",
              "3    [[-0.030769, 0.11993, 0.53909, -0.43696, -0.73...  \n",
              "4    [[0.19742, 0.5114, 0.19043, -0.20615, -0.23031...  \n",
              "..                                                 ...  \n",
              "995  [[-0.18008, 0.084106, 0.72864, -0.77307, -0.60...  \n",
              "996  [[-1.6661, -0.62657, 0.5335, 1.0205, 0.099005,...  \n",
              "997  [[-0.22557, 0.49418, 0.4861, -0.4332, 0.13738,...  \n",
              "998  [[-0.013786, 0.38216, 0.53236, 0.15261, -0.296...  \n",
              "999  [[-0.02193, 0.36404, 0.61416, 0.28065, -0.6479...  \n",
              "\n",
              "[1000 rows x 2 columns]"
            ],
            "text/html": [
              "\n",
              "  <div id=\"df-aad61ab8-636d-41a1-9951-e6d54e9600fc\">\n",
              "    <div class=\"colab-df-container\">\n",
              "      <div>\n",
              "<style scoped>\n",
              "    .dataframe tbody tr th:only-of-type {\n",
              "        vertical-align: middle;\n",
              "    }\n",
              "\n",
              "    .dataframe tbody tr th {\n",
              "        vertical-align: top;\n",
              "    }\n",
              "\n",
              "    .dataframe thead th {\n",
              "        text-align: right;\n",
              "    }\n",
              "</style>\n",
              "<table border=\"1\" class=\"dataframe\">\n",
              "  <thead>\n",
              "    <tr style=\"text-align: right;\">\n",
              "      <th></th>\n",
              "      <th>Original</th>\n",
              "      <th>After embedding</th>\n",
              "    </tr>\n",
              "  </thead>\n",
              "  <tbody>\n",
              "    <tr>\n",
              "      <th>0</th>\n",
              "      <td>In its day this song never really got a whole ...</td>\n",
              "      <td>[[-0.36689, 0.4154, 0.13478, -0.17841, -0.4005...</td>\n",
              "    </tr>\n",
              "    <tr>\n",
              "      <th>1</th>\n",
              "      <td>Great song! Five Stars</td>\n",
              "      <td>[[-0.013786, 0.38216, 0.53236, 0.15261, -0.296...</td>\n",
              "    </tr>\n",
              "    <tr>\n",
              "      <th>2</th>\n",
              "      <td>This is one of my greatest value finds! I list...</td>\n",
              "      <td>[[-0.22557, 0.49418, 0.4861, -0.4332, 0.13738,...</td>\n",
              "    </tr>\n",
              "    <tr>\n",
              "      <th>3</th>\n",
              "      <td>This is the best CD/album on the market and Am...</td>\n",
              "      <td>[[-0.030769, 0.11993, 0.53909, -0.43696, -0.73...</td>\n",
              "    </tr>\n",
              "    <tr>\n",
              "      <th>4</th>\n",
              "      <td>Wonderful song, utterly sad video though. Love...</td>\n",
              "      <td>[[0.19742, 0.5114, 0.19043, -0.20615, -0.23031...</td>\n",
              "    </tr>\n",
              "    <tr>\n",
              "      <th>...</th>\n",
              "      <td>...</td>\n",
              "      <td>...</td>\n",
              "    </tr>\n",
              "    <tr>\n",
              "      <th>995</th>\n",
              "      <td>Awesome!! Five Stars</td>\n",
              "      <td>[[-0.18008, 0.084106, 0.72864, -0.77307, -0.60...</td>\n",
              "    </tr>\n",
              "    <tr>\n",
              "      <th>996</th>\n",
              "      <td>Prime Cuts: Shout for Joy, Little Drummer Boy,...</td>\n",
              "      <td>[[-1.6661, -0.62657, 0.5335, 1.0205, 0.099005,...</td>\n",
              "    </tr>\n",
              "    <tr>\n",
              "      <th>997</th>\n",
              "      <td>One of my all time favorites.  Love the fast b...</td>\n",
              "      <td>[[-0.22557, 0.49418, 0.4861, -0.4332, 0.13738,...</td>\n",
              "    </tr>\n",
              "    <tr>\n",
              "      <th>998</th>\n",
              "      <td>Great riff in this one, never heard all my lif...</td>\n",
              "      <td>[[-0.013786, 0.38216, 0.53236, 0.15261, -0.296...</td>\n",
              "    </tr>\n",
              "    <tr>\n",
              "      <th>999</th>\n",
              "      <td>It is exactly that, \"Big Guitar Box\"!!  I am e...</td>\n",
              "      <td>[[-0.02193, 0.36404, 0.61416, 0.28065, -0.6479...</td>\n",
              "    </tr>\n",
              "  </tbody>\n",
              "</table>\n",
              "<p>1000 rows × 2 columns</p>\n",
              "</div>\n",
              "      <button class=\"colab-df-convert\" onclick=\"convertToInteractive('df-aad61ab8-636d-41a1-9951-e6d54e9600fc')\"\n",
              "              title=\"Convert this dataframe to an interactive table.\"\n",
              "              style=\"display:none;\">\n",
              "        \n",
              "  <svg xmlns=\"http://www.w3.org/2000/svg\" height=\"24px\"viewBox=\"0 0 24 24\"\n",
              "       width=\"24px\">\n",
              "    <path d=\"M0 0h24v24H0V0z\" fill=\"none\"/>\n",
              "    <path d=\"M18.56 5.44l.94 2.06.94-2.06 2.06-.94-2.06-.94-.94-2.06-.94 2.06-2.06.94zm-11 1L8.5 8.5l.94-2.06 2.06-.94-2.06-.94L8.5 2.5l-.94 2.06-2.06.94zm10 10l.94 2.06.94-2.06 2.06-.94-2.06-.94-.94-2.06-.94 2.06-2.06.94z\"/><path d=\"M17.41 7.96l-1.37-1.37c-.4-.4-.92-.59-1.43-.59-.52 0-1.04.2-1.43.59L10.3 9.45l-7.72 7.72c-.78.78-.78 2.05 0 2.83L4 21.41c.39.39.9.59 1.41.59.51 0 1.02-.2 1.41-.59l7.78-7.78 2.81-2.81c.8-.78.8-2.07 0-2.86zM5.41 20L4 18.59l7.72-7.72 1.47 1.35L5.41 20z\"/>\n",
              "  </svg>\n",
              "      </button>\n",
              "      \n",
              "  <style>\n",
              "    .colab-df-container {\n",
              "      display:flex;\n",
              "      flex-wrap:wrap;\n",
              "      gap: 12px;\n",
              "    }\n",
              "\n",
              "    .colab-df-convert {\n",
              "      background-color: #E8F0FE;\n",
              "      border: none;\n",
              "      border-radius: 50%;\n",
              "      cursor: pointer;\n",
              "      display: none;\n",
              "      fill: #1967D2;\n",
              "      height: 32px;\n",
              "      padding: 0 0 0 0;\n",
              "      width: 32px;\n",
              "    }\n",
              "\n",
              "    .colab-df-convert:hover {\n",
              "      background-color: #E2EBFA;\n",
              "      box-shadow: 0px 1px 2px rgba(60, 64, 67, 0.3), 0px 1px 3px 1px rgba(60, 64, 67, 0.15);\n",
              "      fill: #174EA6;\n",
              "    }\n",
              "\n",
              "    [theme=dark] .colab-df-convert {\n",
              "      background-color: #3B4455;\n",
              "      fill: #D2E3FC;\n",
              "    }\n",
              "\n",
              "    [theme=dark] .colab-df-convert:hover {\n",
              "      background-color: #434B5C;\n",
              "      box-shadow: 0px 1px 3px 1px rgba(0, 0, 0, 0.15);\n",
              "      filter: drop-shadow(0px 1px 2px rgba(0, 0, 0, 0.3));\n",
              "      fill: #FFFFFF;\n",
              "    }\n",
              "  </style>\n",
              "\n",
              "      <script>\n",
              "        const buttonEl =\n",
              "          document.querySelector('#df-aad61ab8-636d-41a1-9951-e6d54e9600fc button.colab-df-convert');\n",
              "        buttonEl.style.display =\n",
              "          google.colab.kernel.accessAllowed ? 'block' : 'none';\n",
              "\n",
              "        async function convertToInteractive(key) {\n",
              "          const element = document.querySelector('#df-aad61ab8-636d-41a1-9951-e6d54e9600fc');\n",
              "          const dataTable =\n",
              "            await google.colab.kernel.invokeFunction('convertToInteractive',\n",
              "                                                     [key], {});\n",
              "          if (!dataTable) return;\n",
              "\n",
              "          const docLinkHtml = 'Like what you see? Visit the ' +\n",
              "            '<a target=\"_blank\" href=https://colab.research.google.com/notebooks/data_table.ipynb>data table notebook</a>'\n",
              "            + ' to learn more about interactive tables.';\n",
              "          element.innerHTML = '';\n",
              "          dataTable['output_type'] = 'display_data';\n",
              "          await google.colab.output.renderOutput(dataTable, element);\n",
              "          const docLink = document.createElement('div');\n",
              "          docLink.innerHTML = docLinkHtml;\n",
              "          element.appendChild(docLink);\n",
              "        }\n",
              "      </script>\n",
              "    </div>\n",
              "  </div>\n",
              "  "
            ]
          },
          "metadata": {},
          "execution_count": 36
        }
      ]
    },
    {
      "cell_type": "markdown",
      "source": [
        "\n",
        "# 4. Modeling "
      ],
      "metadata": {
        "id": "58kTIY22vTQT"
      }
    },
    {
      "cell_type": "markdown",
      "metadata": {
        "id": "vXV9HF95Hrxw"
      },
      "source": [
        "## VADR sentiment"
      ]
    },
    {
      "cell_type": "code",
      "execution_count": 37,
      "metadata": {
        "id": "KL6HELwBnXSM"
      },
      "outputs": [],
      "source": [
        "import locale\n",
        "locale.getpreferredencoding = lambda: \"UTF-8\""
      ]
    },
    {
      "cell_type": "code",
      "execution_count": 38,
      "metadata": {
        "colab": {
          "base_uri": "https://localhost:8080/"
        },
        "id": "IWvKWCh_0_QM",
        "outputId": "c4c87850-b8ee-401a-8dd8-2722ef2d1e7f"
      },
      "outputs": [
        {
          "output_type": "stream",
          "name": "stdout",
          "text": [
            "Looking in indexes: https://pypi.org/simple, https://us-python.pkg.dev/colab-wheels/public/simple/\n",
            "Requirement already satisfied: vaderSentiment in /usr/local/lib/python3.8/dist-packages (3.3.2)\n",
            "Requirement already satisfied: requests in /usr/local/lib/python3.8/dist-packages (from vaderSentiment) (2.25.1)\n",
            "Requirement already satisfied: certifi>=2017.4.17 in /usr/local/lib/python3.8/dist-packages (from requests->vaderSentiment) (2022.12.7)\n",
            "Requirement already satisfied: urllib3<1.27,>=1.21.1 in /usr/local/lib/python3.8/dist-packages (from requests->vaderSentiment) (1.26.14)\n",
            "Requirement already satisfied: idna<3,>=2.5 in /usr/local/lib/python3.8/dist-packages (from requests->vaderSentiment) (2.10)\n",
            "Requirement already satisfied: chardet<5,>=3.0.2 in /usr/local/lib/python3.8/dist-packages (from requests->vaderSentiment) (4.0.0)\n"
          ]
        }
      ],
      "source": [
        "!pip install --upgrade vaderSentiment"
      ]
    },
    {
      "cell_type": "code",
      "execution_count": 39,
      "metadata": {
        "colab": {
          "base_uri": "https://localhost:8080/"
        },
        "id": "XlQxe2Oeyyc0",
        "outputId": "9e31f004-5a52-4e50-acb6-6a3e4326795d"
      },
      "outputs": [
        {
          "output_type": "stream",
          "name": "stderr",
          "text": [
            "[nltk_data] Downloading package sentiwordnet to /root/nltk_data...\n",
            "[nltk_data]   Package sentiwordnet is already up-to-date!\n",
            "[nltk_data] Downloading package omw-1.4 to /root/nltk_data...\n",
            "[nltk_data]   Package omw-1.4 is already up-to-date!\n"
          ]
        },
        {
          "output_type": "execute_result",
          "data": {
            "text/plain": [
              "True"
            ]
          },
          "metadata": {},
          "execution_count": 39
        }
      ],
      "source": [
        "nltk.download('sentiwordnet')\n",
        "nltk.download('omw-1.4')"
      ]
    },
    {
      "cell_type": "code",
      "execution_count": 40,
      "metadata": {
        "id": "JEijrtztivYM"
      },
      "outputs": [],
      "source": [
        "from vaderSentiment.vaderSentiment import SentimentIntensityAnalyzer"
      ]
    },
    {
      "cell_type": "code",
      "execution_count": 41,
      "metadata": {
        "id": "HPPaIA1iivYM"
      },
      "outputs": [],
      "source": [
        "def sentiment_scores(sentence):\n",
        " \n",
        "    # Create a SentimentIntensityAnalyzer object.\n",
        "    sid_obj = SentimentIntensityAnalyzer()\n",
        " \n",
        "    # polarity_scores method of SentimentIntensityAnalyzer\n",
        "    # object gives a sentiment dictionary.\n",
        "    # which contains pos, neg, neu, and compound scores.\n",
        "    sentiment_dict = sid_obj.polarity_scores(sentence)\n",
        "     \n",
        "    print(\"Overall sentiment dictionary is : \", sentiment_dict)\n",
        "    print(\"sentence was rated as \", sentiment_dict['neg']*100, \"% Negative\")\n",
        "    print(\"sentence was rated as \", sentiment_dict['neu']*100, \"% Neutral\")\n",
        "    print(\"sentence was rated as \", sentiment_dict['pos']*100, \"% Positive\")\n",
        " \n",
        "    print(\"Sentence Overall Rated As\", end = \" \")\n",
        " \n",
        "    # decide sentiment as positive, negative and neutral\n",
        "    if sentiment_dict['compound'] >= 0.05 :\n",
        "        print(\"Positive\")\n",
        " \n",
        "    elif sentiment_dict['compound'] <= - 0.05 :\n",
        "        print(\"Negative\")\n",
        " \n",
        "    else :\n",
        "        print(\"Neutral\")"
      ]
    },
    {
      "cell_type": "code",
      "execution_count": 42,
      "metadata": {
        "colab": {
          "base_uri": "https://localhost:8080/"
        },
        "id": "GK55roSGivYN",
        "outputId": "0fa86e91-5205-4913-dba7-bb6e93021760"
      },
      "outputs": [
        {
          "output_type": "execute_result",
          "data": {
            "text/plain": [
              "138733    In its day this song never really got a whole ...\n",
              "123842                               Great song! Five Stars\n",
              "94380     This is one of my greatest value finds! I list...\n",
              "8383      This is the best CD/album on the market and Am...\n",
              "88447     Wonderful song, utterly sad video though. Love...\n",
              "                                ...                        \n",
              "21828                                  Awesome!! Five Stars\n",
              "81602     Prime Cuts: Shout for Joy, Little Drummer Boy,...\n",
              "53561     One of my all time favorites.  Love the fast b...\n",
              "128759    Great riff in this one, never heard all my lif...\n",
              "112119    It is exactly that, \"Big Guitar Box\"!!  I am e...\n",
              "Name: NewReview, Length: 1000, dtype: object"
            ]
          },
          "metadata": {},
          "execution_count": 42
        }
      ],
      "source": [
        "sample_df['NewReview']"
      ]
    },
    {
      "cell_type": "code",
      "execution_count": 43,
      "metadata": {
        "id": "y259TF8eivYN"
      },
      "outputs": [],
      "source": [
        "sample_df.reset_index(inplace=True)"
      ]
    },
    {
      "cell_type": "code",
      "execution_count": 44,
      "metadata": {
        "colab": {
          "base_uri": "https://localhost:8080/"
        },
        "id": "i1rdr-v8ivYN",
        "outputId": "adae041d-792e-4e2d-8c8a-556f7ee38102"
      },
      "outputs": [
        {
          "output_type": "stream",
          "name": "stdout",
          "text": [
            "Overall sentiment dictionary is :  {'neg': 0.0, 'neu': 0.935, 'pos': 0.065, 'compound': 0.6486}\n",
            "sentence was rated as  0.0 % Negative\n",
            "sentence was rated as  93.5 % Neutral\n",
            "sentence was rated as  6.5 % Positive\n",
            "Sentence Overall Rated As Positive\n"
          ]
        }
      ],
      "source": [
        "sentiment_scores(sample_df['NewReview'][0])\n"
      ]
    },
    {
      "cell_type": "code",
      "execution_count": 45,
      "metadata": {
        "id": "FY59ga4FynDd"
      },
      "outputs": [],
      "source": [
        "from nltk.corpus import sentiwordnet as swn\n",
        "breakdown = swn.senti_synset('breakdown.n.03')"
      ]
    },
    {
      "cell_type": "code",
      "execution_count": 46,
      "metadata": {
        "colab": {
          "base_uri": "https://localhost:8080/"
        },
        "id": "V--MZPfSy58f",
        "outputId": "f6c40867-7de8-43ab-dfc0-5ec5d0c3894f"
      },
      "outputs": [
        {
          "output_type": "execute_result",
          "data": {
            "text/plain": [
              "[SentiSynset('decelerate.v.01'),\n",
              " SentiSynset('slow.v.02'),\n",
              " SentiSynset('slow.v.03'),\n",
              " SentiSynset('slow.a.01'),\n",
              " SentiSynset('slow.a.02'),\n",
              " SentiSynset('dense.s.04'),\n",
              " SentiSynset('slow.a.04'),\n",
              " SentiSynset('boring.s.01'),\n",
              " SentiSynset('dull.s.08'),\n",
              " SentiSynset('slowly.r.01'),\n",
              " SentiSynset('behind.r.03')]"
            ]
          },
          "metadata": {},
          "execution_count": 46
        }
      ],
      "source": [
        "list(swn.senti_synsets('slow'))"
      ]
    },
    {
      "cell_type": "markdown",
      "metadata": {
        "id": "tPIPUZ7bowNI"
      },
      "source": [
        "## Text blob"
      ]
    },
    {
      "cell_type": "code",
      "execution_count": 47,
      "metadata": {
        "id": "rSA_OTWvovRL"
      },
      "outputs": [],
      "source": [
        "from textblob import TextBlob"
      ]
    },
    {
      "cell_type": "code",
      "execution_count": 48,
      "metadata": {
        "id": "yjHn9-nio4ij"
      },
      "outputs": [],
      "source": [
        "wiki = TextBlob(sample_df['NewReview'][0])"
      ]
    },
    {
      "cell_type": "code",
      "execution_count": 49,
      "metadata": {
        "colab": {
          "base_uri": "https://localhost:8080/"
        },
        "id": "SuIrcIEKqFAp",
        "outputId": "1b8f330e-103b-4c49-b00d-7c46747d2966"
      },
      "outputs": [
        {
          "output_type": "stream",
          "name": "stderr",
          "text": [
            "[nltk_data] Downloading package punkt to /root/nltk_data...\n",
            "[nltk_data]   Package punkt is already up-to-date!\n",
            "[nltk_data] Downloading package brown to /root/nltk_data...\n",
            "[nltk_data]   Package brown is already up-to-date!\n"
          ]
        },
        {
          "output_type": "execute_result",
          "data": {
            "text/plain": [
              "True"
            ]
          },
          "metadata": {},
          "execution_count": 49
        }
      ],
      "source": [
        "import nltk\n",
        "nltk.download('punkt')\n",
        "nltk.download('brown')"
      ]
    },
    {
      "cell_type": "code",
      "execution_count": 50,
      "metadata": {
        "colab": {
          "base_uri": "https://localhost:8080/"
        },
        "id": "ghGVoe4Sp0hd",
        "outputId": "3f3056dd-f707-4013-9170-a580c9d2f57b"
      },
      "outputs": [
        {
          "output_type": "execute_result",
          "data": {
            "text/plain": [
              "[('In', 'IN'),\n",
              " ('its', 'PRP$'),\n",
              " ('day', 'NN'),\n",
              " ('this', 'DT'),\n",
              " ('song', 'NN'),\n",
              " ('never', 'RB'),\n",
              " ('really', 'RB'),\n",
              " ('got', 'VBD'),\n",
              " ('a', 'DT'),\n",
              " ('whole', 'JJ'),\n",
              " ('lot', 'NN'),\n",
              " ('of', 'IN'),\n",
              " ('air-play', 'NN'),\n",
              " ('on', 'IN'),\n",
              " ('my', 'PRP$'),\n",
              " ('local', 'JJ'),\n",
              " ('top', 'JJ'),\n",
              " ('40', 'CD'),\n",
              " ('Radio', 'NNP'),\n",
              " ('Stations', 'NNP'),\n",
              " ('in', 'IN'),\n",
              " ('fact', 'NN'),\n",
              " ('I', 'PRP'),\n",
              " ('almost', 'RB'),\n",
              " ('forgot', 'VBD'),\n",
              " ('about', 'IN'),\n",
              " ('it', 'PRP'),\n",
              " ('myself', 'PRP'),\n",
              " ('until', 'IN'),\n",
              " ('I', 'PRP'),\n",
              " ('heard', 'VBD'),\n",
              " ('it', 'PRP'),\n",
              " ('on', 'IN'),\n",
              " ('TV', 'NN'),\n",
              " ('recently', 'RB'),\n",
              " ('This', 'DT'),\n",
              " ('is', 'VBZ'),\n",
              " ('one', 'CD'),\n",
              " ('of', 'IN'),\n",
              " ('those', 'DT'),\n",
              " ('songs', 'NNS'),\n",
              " ('that', 'IN'),\n",
              " ('I', 'PRP'),\n",
              " ('decided', 'VBD'),\n",
              " ('to', 'TO'),\n",
              " ('add', 'VB'),\n",
              " ('to', 'TO'),\n",
              " ('my', 'PRP$'),\n",
              " ('large', 'JJ'),\n",
              " ('MP3', 'NNP'),\n",
              " ('collection', 'NN'),\n",
              " ('before', 'IN'),\n",
              " ('I', 'PRP'),\n",
              " ('forgot', 'VBP'),\n",
              " ('about', 'IN'),\n",
              " ('it', 'PRP'),\n",
              " ('To', 'TO'),\n",
              " ('sum', 'VB'),\n",
              " ('things', 'NNS'),\n",
              " ('up', 'RB'),\n",
              " ('I', 'PRP'),\n",
              " ('would', 'MD'),\n",
              " ('not', 'RB'),\n",
              " ('say', 'VB'),\n",
              " ('that', 'IN'),\n",
              " ('I', 'PRP'),\n",
              " ('am', 'VBP'),\n",
              " ('a', 'DT'),\n",
              " ('real', 'JJ'),\n",
              " ('big', 'JJ'),\n",
              " ('Karla', 'NNP'),\n",
              " ('Bonoff', 'NNP'),\n",
              " ('fan', 'NN'),\n",
              " ('but', 'CC'),\n",
              " ('I', 'PRP'),\n",
              " ('do', 'VBP'),\n",
              " ('like', 'IN'),\n",
              " ('some', 'DT'),\n",
              " ('of', 'IN'),\n",
              " ('her', 'PRP$'),\n",
              " ('songs', 'NNS'),\n",
              " ('and', 'CC'),\n",
              " ('this', 'DT'),\n",
              " ('song', 'NN'),\n",
              " ('just', 'RB'),\n",
              " ('happens', 'VBZ'),\n",
              " ('to', 'TO'),\n",
              " ('be', 'VB'),\n",
              " ('one', 'CD'),\n",
              " ('of', 'IN'),\n",
              " ('them', 'PRP'),\n",
              " ('KARLA', 'NNP'),\n",
              " ('BONOFF', 'NNP'),\n",
              " ('PERSONALLY', 'NNP')]"
            ]
          },
          "metadata": {},
          "execution_count": 50
        }
      ],
      "source": [
        "#Parts of Speech\n",
        "wiki.tags"
      ]
    },
    {
      "cell_type": "code",
      "execution_count": 51,
      "metadata": {
        "colab": {
          "base_uri": "https://localhost:8080/"
        },
        "id": "3Z4kvEbFqBeE",
        "outputId": "3edc557e-1aa3-4b9f-8442-715938d8cea2"
      },
      "outputs": [
        {
          "output_type": "execute_result",
          "data": {
            "text/plain": [
              "WordList(['whole lot', 'stations', 'mp3', 'sum things', 'karla bonoff', 'karla bonoff', 'personally'])"
            ]
          },
          "metadata": {},
          "execution_count": 51
        }
      ],
      "source": [
        "wiki.noun_phrases"
      ]
    },
    {
      "cell_type": "code",
      "execution_count": 52,
      "metadata": {
        "colab": {
          "base_uri": "https://localhost:8080/"
        },
        "id": "Sg9i4m6GqPyp",
        "outputId": "b695735a-f2c1-4859-ae76-e0932a26a205"
      },
      "outputs": [
        {
          "output_type": "execute_result",
          "data": {
            "text/plain": [
              "Sentiment(polarity=0.10178571428571428, subjectivity=0.2785714285714286)"
            ]
          },
          "metadata": {},
          "execution_count": 52
        }
      ],
      "source": [
        "wiki.sentiment"
      ]
    },
    {
      "cell_type": "code",
      "execution_count": 53,
      "metadata": {
        "colab": {
          "base_uri": "https://localhost:8080/"
        },
        "id": "IZDZnfdSqaha",
        "outputId": "52941187-4486-46fb-b235-ee86cf223132"
      },
      "outputs": [
        {
          "output_type": "execute_result",
          "data": {
            "text/plain": [
              "WordList(['In', 'its', 'day', 'this', 'song', 'never', 'really', 'got', 'a', 'whole', 'lot', 'of', 'air-play', 'on', 'my', 'local', 'top', '40', 'Radio', 'Stations', 'in', 'fact', 'I', 'almost', 'forgot', 'about', 'it', 'myself', 'until', 'I', 'heard', 'it', 'on', 'TV', 'recently', 'This', 'is', 'one', 'of', 'those', 'songs', 'that', 'I', 'decided', 'to', 'add', 'to', 'my', 'large', 'MP3', 'collection', 'before', 'I', 'forgot', 'about', 'it', 'To', 'sum', 'things', 'up', 'I', 'would', 'not', 'say', 'that', 'I', 'am', 'a', 'real', 'big', 'Karla', 'Bonoff', 'fan', 'but', 'I', 'do', 'like', 'some', 'of', 'her', 'songs', 'and', 'this', 'song', 'just', 'happens', 'to', 'be', 'one', 'of', 'them', 'KARLA', 'BONOFF', 'PERSONALLY'])"
            ]
          },
          "metadata": {},
          "execution_count": 53
        }
      ],
      "source": [
        "wiki.words"
      ]
    },
    {
      "cell_type": "code",
      "execution_count": 54,
      "metadata": {
        "id": "Wik8Qj4Wq8Iy"
      },
      "outputs": [],
      "source": [
        "df_textblob = sample_df"
      ]
    },
    {
      "cell_type": "code",
      "execution_count": 55,
      "metadata": {
        "id": "g60Q-N5tqePE"
      },
      "outputs": [],
      "source": [
        "df_textblob['sentiment'] = sample_df['NewReview'].apply(lambda tweet: TextBlob(tweet).sentiment)"
      ]
    },
    {
      "cell_type": "code",
      "execution_count": 56,
      "metadata": {
        "id": "oNFWVOhlrD-9"
      },
      "outputs": [],
      "source": [
        "def sentiment_calc(text):\n",
        "    try:\n",
        "        return TextBlob(text).sentiment\n",
        "    except:\n",
        "        return None\n",
        "\n",
        "df_textblob['sentiment'] = sample_df['NewReview'].apply(sentiment_calc)"
      ]
    },
    {
      "cell_type": "code",
      "execution_count": 57,
      "metadata": {
        "colab": {
          "base_uri": "https://localhost:8080/",
          "height": 424
        },
        "id": "4Kb3QcvWrOia",
        "outputId": "b47471c7-0573-4d00-8a7b-f151238b00ba"
      },
      "outputs": [
        {
          "output_type": "execute_result",
          "data": {
            "text/plain": [
              "      index  overall  verified        asin Sentiment  \\\n",
              "0    138733      5.0      True  B00137VQYS  Positive   \n",
              "1    123842      5.0      True  B000V691S0  Positive   \n",
              "2     94380      5.0     False  B00G7MJ4R0  Positive   \n",
              "3      8383      5.0      True  B000W1MDPW  Positive   \n",
              "4     88447      5.0      True  B00CO73XHY  Positive   \n",
              "..      ...      ...       ...         ...       ...   \n",
              "995   21828      5.0      True  B00137G8MS  Positive   \n",
              "996   81602      5.0     False  B009IQ0BB0  Positive   \n",
              "997   53561      5.0      True  B001BIKU32  Positive   \n",
              "998  128759      5.0      True  B0011Z339S  Positive   \n",
              "999  112119      5.0      True  B00XXLNUC8  Positive   \n",
              "\n",
              "                                             NewReview  \\\n",
              "0    In its day this song never really got a whole ...   \n",
              "1                               Great song! Five Stars   \n",
              "2    This is one of my greatest value finds! I list...   \n",
              "3    This is the best CD/album on the market and Am...   \n",
              "4    Wonderful song, utterly sad video though. Love...   \n",
              "..                                                 ...   \n",
              "995                               Awesome!! Five Stars   \n",
              "996  Prime Cuts: Shout for Joy, Little Drummer Boy,...   \n",
              "997  One of my all time favorites.  Love the fast b...   \n",
              "998  Great riff in this one, never heard all my lif...   \n",
              "999  It is exactly that, \"Big Guitar Box\"!!  I am e...   \n",
              "\n",
              "                                     sentiment  \n",
              "0    (0.10178571428571428, 0.2785714285714286)  \n",
              "1                                  (1.0, 0.75)  \n",
              "2     (0.6884722222222223, 0.9161111111111112)  \n",
              "3                  (0.68, 0.27799999999999997)  \n",
              "4                                 (0.125, 0.9)  \n",
              "..                                         ...  \n",
              "995                                 (1.0, 1.0)  \n",
              "996  (0.2585921717171718, 0.44733003108003105)  \n",
              "997                            (0.375, 0.4875)  \n",
              "998  (0.46666666666666673, 0.7166666666666667)  \n",
              "999                           (0.4375, 0.4875)  \n",
              "\n",
              "[1000 rows x 7 columns]"
            ],
            "text/html": [
              "\n",
              "  <div id=\"df-fa4c3370-b3d3-438b-b515-5af61c6dbe58\">\n",
              "    <div class=\"colab-df-container\">\n",
              "      <div>\n",
              "<style scoped>\n",
              "    .dataframe tbody tr th:only-of-type {\n",
              "        vertical-align: middle;\n",
              "    }\n",
              "\n",
              "    .dataframe tbody tr th {\n",
              "        vertical-align: top;\n",
              "    }\n",
              "\n",
              "    .dataframe thead th {\n",
              "        text-align: right;\n",
              "    }\n",
              "</style>\n",
              "<table border=\"1\" class=\"dataframe\">\n",
              "  <thead>\n",
              "    <tr style=\"text-align: right;\">\n",
              "      <th></th>\n",
              "      <th>index</th>\n",
              "      <th>overall</th>\n",
              "      <th>verified</th>\n",
              "      <th>asin</th>\n",
              "      <th>Sentiment</th>\n",
              "      <th>NewReview</th>\n",
              "      <th>sentiment</th>\n",
              "    </tr>\n",
              "  </thead>\n",
              "  <tbody>\n",
              "    <tr>\n",
              "      <th>0</th>\n",
              "      <td>138733</td>\n",
              "      <td>5.0</td>\n",
              "      <td>True</td>\n",
              "      <td>B00137VQYS</td>\n",
              "      <td>Positive</td>\n",
              "      <td>In its day this song never really got a whole ...</td>\n",
              "      <td>(0.10178571428571428, 0.2785714285714286)</td>\n",
              "    </tr>\n",
              "    <tr>\n",
              "      <th>1</th>\n",
              "      <td>123842</td>\n",
              "      <td>5.0</td>\n",
              "      <td>True</td>\n",
              "      <td>B000V691S0</td>\n",
              "      <td>Positive</td>\n",
              "      <td>Great song! Five Stars</td>\n",
              "      <td>(1.0, 0.75)</td>\n",
              "    </tr>\n",
              "    <tr>\n",
              "      <th>2</th>\n",
              "      <td>94380</td>\n",
              "      <td>5.0</td>\n",
              "      <td>False</td>\n",
              "      <td>B00G7MJ4R0</td>\n",
              "      <td>Positive</td>\n",
              "      <td>This is one of my greatest value finds! I list...</td>\n",
              "      <td>(0.6884722222222223, 0.9161111111111112)</td>\n",
              "    </tr>\n",
              "    <tr>\n",
              "      <th>3</th>\n",
              "      <td>8383</td>\n",
              "      <td>5.0</td>\n",
              "      <td>True</td>\n",
              "      <td>B000W1MDPW</td>\n",
              "      <td>Positive</td>\n",
              "      <td>This is the best CD/album on the market and Am...</td>\n",
              "      <td>(0.68, 0.27799999999999997)</td>\n",
              "    </tr>\n",
              "    <tr>\n",
              "      <th>4</th>\n",
              "      <td>88447</td>\n",
              "      <td>5.0</td>\n",
              "      <td>True</td>\n",
              "      <td>B00CO73XHY</td>\n",
              "      <td>Positive</td>\n",
              "      <td>Wonderful song, utterly sad video though. Love...</td>\n",
              "      <td>(0.125, 0.9)</td>\n",
              "    </tr>\n",
              "    <tr>\n",
              "      <th>...</th>\n",
              "      <td>...</td>\n",
              "      <td>...</td>\n",
              "      <td>...</td>\n",
              "      <td>...</td>\n",
              "      <td>...</td>\n",
              "      <td>...</td>\n",
              "      <td>...</td>\n",
              "    </tr>\n",
              "    <tr>\n",
              "      <th>995</th>\n",
              "      <td>21828</td>\n",
              "      <td>5.0</td>\n",
              "      <td>True</td>\n",
              "      <td>B00137G8MS</td>\n",
              "      <td>Positive</td>\n",
              "      <td>Awesome!! Five Stars</td>\n",
              "      <td>(1.0, 1.0)</td>\n",
              "    </tr>\n",
              "    <tr>\n",
              "      <th>996</th>\n",
              "      <td>81602</td>\n",
              "      <td>5.0</td>\n",
              "      <td>False</td>\n",
              "      <td>B009IQ0BB0</td>\n",
              "      <td>Positive</td>\n",
              "      <td>Prime Cuts: Shout for Joy, Little Drummer Boy,...</td>\n",
              "      <td>(0.2585921717171718, 0.44733003108003105)</td>\n",
              "    </tr>\n",
              "    <tr>\n",
              "      <th>997</th>\n",
              "      <td>53561</td>\n",
              "      <td>5.0</td>\n",
              "      <td>True</td>\n",
              "      <td>B001BIKU32</td>\n",
              "      <td>Positive</td>\n",
              "      <td>One of my all time favorites.  Love the fast b...</td>\n",
              "      <td>(0.375, 0.4875)</td>\n",
              "    </tr>\n",
              "    <tr>\n",
              "      <th>998</th>\n",
              "      <td>128759</td>\n",
              "      <td>5.0</td>\n",
              "      <td>True</td>\n",
              "      <td>B0011Z339S</td>\n",
              "      <td>Positive</td>\n",
              "      <td>Great riff in this one, never heard all my lif...</td>\n",
              "      <td>(0.46666666666666673, 0.7166666666666667)</td>\n",
              "    </tr>\n",
              "    <tr>\n",
              "      <th>999</th>\n",
              "      <td>112119</td>\n",
              "      <td>5.0</td>\n",
              "      <td>True</td>\n",
              "      <td>B00XXLNUC8</td>\n",
              "      <td>Positive</td>\n",
              "      <td>It is exactly that, \"Big Guitar Box\"!!  I am e...</td>\n",
              "      <td>(0.4375, 0.4875)</td>\n",
              "    </tr>\n",
              "  </tbody>\n",
              "</table>\n",
              "<p>1000 rows × 7 columns</p>\n",
              "</div>\n",
              "      <button class=\"colab-df-convert\" onclick=\"convertToInteractive('df-fa4c3370-b3d3-438b-b515-5af61c6dbe58')\"\n",
              "              title=\"Convert this dataframe to an interactive table.\"\n",
              "              style=\"display:none;\">\n",
              "        \n",
              "  <svg xmlns=\"http://www.w3.org/2000/svg\" height=\"24px\"viewBox=\"0 0 24 24\"\n",
              "       width=\"24px\">\n",
              "    <path d=\"M0 0h24v24H0V0z\" fill=\"none\"/>\n",
              "    <path d=\"M18.56 5.44l.94 2.06.94-2.06 2.06-.94-2.06-.94-.94-2.06-.94 2.06-2.06.94zm-11 1L8.5 8.5l.94-2.06 2.06-.94-2.06-.94L8.5 2.5l-.94 2.06-2.06.94zm10 10l.94 2.06.94-2.06 2.06-.94-2.06-.94-.94-2.06-.94 2.06-2.06.94z\"/><path d=\"M17.41 7.96l-1.37-1.37c-.4-.4-.92-.59-1.43-.59-.52 0-1.04.2-1.43.59L10.3 9.45l-7.72 7.72c-.78.78-.78 2.05 0 2.83L4 21.41c.39.39.9.59 1.41.59.51 0 1.02-.2 1.41-.59l7.78-7.78 2.81-2.81c.8-.78.8-2.07 0-2.86zM5.41 20L4 18.59l7.72-7.72 1.47 1.35L5.41 20z\"/>\n",
              "  </svg>\n",
              "      </button>\n",
              "      \n",
              "  <style>\n",
              "    .colab-df-container {\n",
              "      display:flex;\n",
              "      flex-wrap:wrap;\n",
              "      gap: 12px;\n",
              "    }\n",
              "\n",
              "    .colab-df-convert {\n",
              "      background-color: #E8F0FE;\n",
              "      border: none;\n",
              "      border-radius: 50%;\n",
              "      cursor: pointer;\n",
              "      display: none;\n",
              "      fill: #1967D2;\n",
              "      height: 32px;\n",
              "      padding: 0 0 0 0;\n",
              "      width: 32px;\n",
              "    }\n",
              "\n",
              "    .colab-df-convert:hover {\n",
              "      background-color: #E2EBFA;\n",
              "      box-shadow: 0px 1px 2px rgba(60, 64, 67, 0.3), 0px 1px 3px 1px rgba(60, 64, 67, 0.15);\n",
              "      fill: #174EA6;\n",
              "    }\n",
              "\n",
              "    [theme=dark] .colab-df-convert {\n",
              "      background-color: #3B4455;\n",
              "      fill: #D2E3FC;\n",
              "    }\n",
              "\n",
              "    [theme=dark] .colab-df-convert:hover {\n",
              "      background-color: #434B5C;\n",
              "      box-shadow: 0px 1px 3px 1px rgba(0, 0, 0, 0.15);\n",
              "      filter: drop-shadow(0px 1px 2px rgba(0, 0, 0, 0.3));\n",
              "      fill: #FFFFFF;\n",
              "    }\n",
              "  </style>\n",
              "\n",
              "      <script>\n",
              "        const buttonEl =\n",
              "          document.querySelector('#df-fa4c3370-b3d3-438b-b515-5af61c6dbe58 button.colab-df-convert');\n",
              "        buttonEl.style.display =\n",
              "          google.colab.kernel.accessAllowed ? 'block' : 'none';\n",
              "\n",
              "        async function convertToInteractive(key) {\n",
              "          const element = document.querySelector('#df-fa4c3370-b3d3-438b-b515-5af61c6dbe58');\n",
              "          const dataTable =\n",
              "            await google.colab.kernel.invokeFunction('convertToInteractive',\n",
              "                                                     [key], {});\n",
              "          if (!dataTable) return;\n",
              "\n",
              "          const docLinkHtml = 'Like what you see? Visit the ' +\n",
              "            '<a target=\"_blank\" href=https://colab.research.google.com/notebooks/data_table.ipynb>data table notebook</a>'\n",
              "            + ' to learn more about interactive tables.';\n",
              "          element.innerHTML = '';\n",
              "          dataTable['output_type'] = 'display_data';\n",
              "          await google.colab.output.renderOutput(dataTable, element);\n",
              "          const docLink = document.createElement('div');\n",
              "          docLink.innerHTML = docLinkHtml;\n",
              "          element.appendChild(docLink);\n",
              "        }\n",
              "      </script>\n",
              "    </div>\n",
              "  </div>\n",
              "  "
            ]
          },
          "metadata": {},
          "execution_count": 57
        }
      ],
      "source": [
        "df_textblob"
      ]
    },
    {
      "cell_type": "code",
      "execution_count": 57,
      "metadata": {
        "id": "4YIj7KoGrWLH"
      },
      "outputs": [],
      "source": []
    },
    {
      "cell_type": "markdown",
      "metadata": {
        "id": "DMqLu0BeHrxu"
      },
      "source": [
        "## Word Cloud"
      ]
    },
    {
      "cell_type": "code",
      "execution_count": 58,
      "metadata": {
        "colab": {
          "base_uri": "https://localhost:8080/",
          "height": 466
        },
        "id": "QI8ulTWRi4O8",
        "outputId": "2c6db50b-9ec6-4d48-bb4d-ec84a82083b0"
      },
      "outputs": [
        {
          "output_type": "display_data",
          "data": {
            "text/plain": [
              "<Figure size 576x576 with 1 Axes>"
            ],
            "image/png": "[encoded data removed]"
          },
          "metadata": {
            "needs_background": "light"
          }
        }
      ],
      "source": [
        "#Code take from GFG to generate Word Cloud\n",
        "\n",
        "comment_words = ''\n",
        "stopwords = set(STOPWORDS)\n",
        " \n",
        "# iterate through the csv file\n",
        "for val in ptext:\n",
        "     \n",
        "    # typecaste each val to string\n",
        "    val = str(val)\n",
        " \n",
        "    # split the value\n",
        "    tokens = val.split()\n",
        "     \n",
        "    # Converts each token into lowercase\n",
        "    for i in range(len(tokens)):\n",
        "        tokens[i] = tokens[i].lower()\n",
        "     \n",
        "    comment_words += \" \".join(tokens)+\" \"\n",
        "\n",
        "#Generate word cloud\n",
        "wordcloud = WordCloud(width = 800, height = 800,\n",
        "                background_color ='black',\n",
        "                stopwords = stopwords,\n",
        "                min_font_size = 10).generate(comment_words)\n",
        " \n",
        "#Plot the WordCloud image                      \n",
        "plt.figure(figsize = (8, 8), facecolor = None)\n",
        "plt.imshow(wordcloud)\n",
        "plt.axis(\"off\")\n",
        " \n",
        "plt.show()"
      ]
    }
  ],
  "metadata": {
    "colab": {
      "provenance": []
    },
    "gpuClass": "standard",
    "kernelspec": {
      "display_name": "Python 3 (ipykernel)",
      "language": "python",
      "name": "python3"
    },
    "language_info": {
      "codemirror_mode": {
        "name": "ipython",
        "version": 3
      },
      "file_extension": ".py",
      "mimetype": "text/x-python",
      "name": "python",
      "nbconvert_exporter": "python",
      "pygments_lexer": "ipython3",
      "version": "3.9.15"
    },
    "vscode": {
      "interpreter": {
        "hash": "5b8f17365b4d5f240483afef44bca8ebe6c470ce8044008344980ae5c331b88f"
      }
    }
  },
  "nbformat": 4,
  "nbformat_minor": 0
}