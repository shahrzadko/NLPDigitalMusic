{
  "cells": [
    {
      "cell_type": "markdown",
      "metadata": {
        "id": "wXUHxfvjHrxp"
      },
      "source": [
        "# 1. Dataset & Data exploration "
      ]
    },
    {
      "cell_type": "markdown",
      "metadata": {
        "id": "p4-6gMdGHrxr"
      },
      "source": [
        "### Import libraries"
      ]
    },
    {
      "cell_type": "code",
      "execution_count": 1,
      "metadata": {
        "colab": {
          "base_uri": "https://localhost:8080/"
        },
        "id": "kkybWHgCHrxr",
        "outputId": "1faff090-db26-4146-de68-82ba95f97f59"
      },
      "outputs": [
        {
          "name": "stderr",
          "output_type": "stream",
          "text": [
            "[nltk_data] Downloading package stopwords to\n",
            "[nltk_data]     C:\\Users\\98936\\AppData\\Roaming\\nltk_data...\n",
            "[nltk_data]   Package stopwords is already up-to-date!\n",
            "[nltk_data] Downloading package wordnet to\n",
            "[nltk_data]     C:\\Users\\98936\\AppData\\Roaming\\nltk_data...\n",
            "[nltk_data]   Package wordnet is already up-to-date!\n",
            "[nltk_data] Downloading package genesis to\n",
            "[nltk_data]     C:\\Users\\98936\\AppData\\Roaming\\nltk_data...\n",
            "[nltk_data]   Package genesis is already up-to-date!\n",
            "[nltk_data] Downloading package averaged_perceptron_tagger to\n",
            "[nltk_data]     C:\\Users\\98936\\AppData\\Roaming\\nltk_data...\n",
            "[nltk_data]   Package averaged_perceptron_tagger is already up-to-\n",
            "[nltk_data]       date!\n"
          ]
        }
      ],
      "source": [
        "import pandas as pd\n",
        "import numpy as np\n",
        "import matplotlib.pyplot as plt\n",
        "import gzip\n",
        "import nltk\n",
        "import spacy\n",
        "import string\n",
        "import re\n",
        "import warnings\n",
        "\n",
        "from nltk.corpus import stopwords\n",
        "from nltk.collocations import *\n",
        "from collections import Counter\n",
        "from nltk.stem import porter\n",
        "from wordcloud import WordCloud, STOPWORDS\n",
        "\n",
        "nltk.download('stopwords')\n",
        "nltk.download('wordnet')\n",
        "nltk.download('genesis')\n",
        "nltk.download('averaged_perceptron_tagger')\n",
        "\n",
        "stop_words = set(stopwords.words('english'))\n",
        "stemmer = porter.PorterStemmer()\n",
        "\n",
        "warnings.simplefilter(action='ignore', category=FutureWarning)\n",
        "warnings.simplefilter(action='ignore', category=DeprecationWarning)\n",
        "\n",
        "nlp = spacy.load(\"en_core_web_sm\")"
      ]
    },
    {
      "cell_type": "markdown",
      "metadata": {
        "id": "KiYHzXeBJMBP"
      },
      "source": [
        "## Importing the dataset"
      ]
    },
    {
      "cell_type": "code",
      "execution_count": 2,
      "metadata": {
        "id": "7nDOeR2UHrxt"
      },
      "outputs": [],
      "source": [
        "# Importing the dataset\n",
        "url = 'https://raw.githubusercontent.com/shahrzadko/NLPDigitalMusic/main/Digital_Music_5.json?token=GHSAT0AAAAAAB6LOL42SKHPCCMIVYPOC4REY7AKE2Q'\n",
        "df = pd.read_json(url)\n",
        "full_df = pd.DataFrame.from_records(df['data'])\n"
      ]
    },
    {
      "cell_type": "code",
      "execution_count": null,
      "metadata": {},
      "outputs": [],
      "source": [
        "import pandas_profiling \n",
        "report = pandas_profiling.ProfileReport(full_df)\n",
        "report"
      ]
    },
    {
      "cell_type": "code",
      "execution_count": 3,
      "metadata": {
        "colab": {
          "base_uri": "https://localhost:8080/",
          "height": 0
        },
        "id": "YWWA0cAjjMyD",
        "outputId": "3dba53d7-9e42-4725-e1e5-cdef9fb5672f"
      },
      "outputs": [
        {
          "data": {
            "text/html": [
              "<div>\n",
              "<style scoped>\n",
              "    .dataframe tbody tr th:only-of-type {\n",
              "        vertical-align: middle;\n",
              "    }\n",
              "\n",
              "    .dataframe tbody tr th {\n",
              "        vertical-align: top;\n",
              "    }\n",
              "\n",
              "    .dataframe thead th {\n",
              "        text-align: right;\n",
              "    }\n",
              "</style>\n",
              "<table border=\"1\" class=\"dataframe\">\n",
              "  <thead>\n",
              "    <tr style=\"text-align: right;\">\n",
              "      <th></th>\n",
              "      <th>overall</th>\n",
              "      <th>vote</th>\n",
              "      <th>verified</th>\n",
              "      <th>reviewTime</th>\n",
              "      <th>reviewerID</th>\n",
              "      <th>asin</th>\n",
              "      <th>style</th>\n",
              "      <th>reviewerName</th>\n",
              "      <th>reviewText</th>\n",
              "      <th>summary</th>\n",
              "      <th>unixReviewTime</th>\n",
              "      <th>image</th>\n",
              "    </tr>\n",
              "  </thead>\n",
              "  <tbody>\n",
              "    <tr>\n",
              "      <th>0</th>\n",
              "      <td>5.0</td>\n",
              "      <td>3</td>\n",
              "      <td>True</td>\n",
              "      <td>06 3, 2013</td>\n",
              "      <td>A2TYZ821XXK2YZ</td>\n",
              "      <td>3426958910</td>\n",
              "      <td>{'Format:': ' Audio CD'}</td>\n",
              "      <td>Garrett</td>\n",
              "      <td>This is awesome to listen to, A must-have for ...</td>\n",
              "      <td>Slayer Rules!</td>\n",
              "      <td>1370217600</td>\n",
              "      <td>NaN</td>\n",
              "    </tr>\n",
              "    <tr>\n",
              "      <th>1</th>\n",
              "      <td>5.0</td>\n",
              "      <td>NaN</td>\n",
              "      <td>True</td>\n",
              "      <td>10 11, 2014</td>\n",
              "      <td>A3OFSREZADFUDY</td>\n",
              "      <td>3426958910</td>\n",
              "      <td>{'Format:': ' Audio CD'}</td>\n",
              "      <td>Ad</td>\n",
              "      <td>bien</td>\n",
              "      <td>Five Stars</td>\n",
              "      <td>1412985600</td>\n",
              "      <td>NaN</td>\n",
              "    </tr>\n",
              "    <tr>\n",
              "      <th>2</th>\n",
              "      <td>5.0</td>\n",
              "      <td>NaN</td>\n",
              "      <td>True</td>\n",
              "      <td>02 11, 2014</td>\n",
              "      <td>A2VAMODP8M77NG</td>\n",
              "      <td>3426958910</td>\n",
              "      <td>{'Format:': ' Audio CD'}</td>\n",
              "      <td>JTGabq</td>\n",
              "      <td>It was great to hear the old stuff again and I...</td>\n",
              "      <td>SLAYER!!!!!!!!!!!!!!!!!!!!!</td>\n",
              "      <td>1392076800</td>\n",
              "      <td>NaN</td>\n",
              "    </tr>\n",
              "    <tr>\n",
              "      <th>3</th>\n",
              "      <td>4.0</td>\n",
              "      <td>3</td>\n",
              "      <td>False</td>\n",
              "      <td>12 7, 2013</td>\n",
              "      <td>AAKSLZ9IDTEH0</td>\n",
              "      <td>3426958910</td>\n",
              "      <td>{'Format:': ' Audio CD'}</td>\n",
              "      <td>john F&amp;#039;n doe</td>\n",
              "      <td>well best of's are a bit poison normally but t...</td>\n",
              "      <td>slayer greatest hits! you mean everything righ...</td>\n",
              "      <td>1386374400</td>\n",
              "      <td>NaN</td>\n",
              "    </tr>\n",
              "    <tr>\n",
              "      <th>4</th>\n",
              "      <td>5.0</td>\n",
              "      <td>NaN</td>\n",
              "      <td>True</td>\n",
              "      <td>06 12, 2016</td>\n",
              "      <td>A3OH43OZJLKI09</td>\n",
              "      <td>5557706259</td>\n",
              "      <td>{'Format:': ' Audio CD'}</td>\n",
              "      <td>melinda a goodman</td>\n",
              "      <td>What can I say? This is Casting Crowns!!!This ...</td>\n",
              "      <td>This is a good, blessing filled</td>\n",
              "      <td>1465689600</td>\n",
              "      <td>NaN</td>\n",
              "    </tr>\n",
              "  </tbody>\n",
              "</table>\n",
              "</div>"
            ],
            "text/plain": [
              "   overall vote  verified   reviewTime      reviewerID        asin  \\\n",
              "0      5.0    3      True   06 3, 2013  A2TYZ821XXK2YZ  3426958910   \n",
              "1      5.0  NaN      True  10 11, 2014  A3OFSREZADFUDY  3426958910   \n",
              "2      5.0  NaN      True  02 11, 2014  A2VAMODP8M77NG  3426958910   \n",
              "3      4.0    3     False   12 7, 2013   AAKSLZ9IDTEH0  3426958910   \n",
              "4      5.0  NaN      True  06 12, 2016  A3OH43OZJLKI09  5557706259   \n",
              "\n",
              "                      style       reviewerName  \\\n",
              "0  {'Format:': ' Audio CD'}            Garrett   \n",
              "1  {'Format:': ' Audio CD'}                 Ad   \n",
              "2  {'Format:': ' Audio CD'}             JTGabq   \n",
              "3  {'Format:': ' Audio CD'}  john F&#039;n doe   \n",
              "4  {'Format:': ' Audio CD'}  melinda a goodman   \n",
              "\n",
              "                                          reviewText  \\\n",
              "0  This is awesome to listen to, A must-have for ...   \n",
              "1                                               bien   \n",
              "2  It was great to hear the old stuff again and I...   \n",
              "3  well best of's are a bit poison normally but t...   \n",
              "4  What can I say? This is Casting Crowns!!!This ...   \n",
              "\n",
              "                                             summary  unixReviewTime image  \n",
              "0                                      Slayer Rules!      1370217600   NaN  \n",
              "1                                         Five Stars      1412985600   NaN  \n",
              "2                        SLAYER!!!!!!!!!!!!!!!!!!!!!      1392076800   NaN  \n",
              "3  slayer greatest hits! you mean everything righ...      1386374400   NaN  \n",
              "4                    This is a good, blessing filled      1465689600   NaN  "
            ]
          },
          "execution_count": 3,
          "metadata": {},
          "output_type": "execute_result"
        }
      ],
      "source": [
        "full_df.head(5)"
      ]
    },
    {
      "cell_type": "markdown",
      "metadata": {
        "id": "fQegTCXtqyYK"
      },
      "source": [
        "## exploration "
      ]
    },
    {
      "cell_type": "code",
      "execution_count": 4,
      "metadata": {
        "colab": {
          "base_uri": "https://localhost:8080/"
        },
        "id": "FsmUejDzzZKg",
        "outputId": "52780886-1e56-4e69-8326-198fb5a0153a"
      },
      "outputs": [
        {
          "data": {
            "text/plain": [
              "count    169781.000000\n",
              "mean          4.700019\n",
              "std           0.713420\n",
              "min           1.000000\n",
              "25%           5.000000\n",
              "50%           5.000000\n",
              "75%           5.000000\n",
              "max           5.000000\n",
              "Name: overall, dtype: float64"
            ]
          },
          "execution_count": 4,
          "metadata": {},
          "output_type": "execute_result"
        }
      ],
      "source": [
        "full_df['overall'].describe()"
      ]
    },
    {
      "cell_type": "code",
      "execution_count": 5,
      "metadata": {
        "colab": {
          "base_uri": "https://localhost:8080/"
        },
        "id": "3W4u9VbGHrxv",
        "outputId": "9b874135-78cb-4daf-ee36-901a5a377964"
      },
      "outputs": [
        {
          "name": "stdout",
          "output_type": "stream",
          "text": [
            "- Number of reviews: 169781\n",
            "- Number of different products reviewed:  11797\n",
            "- Number of people who reviewed:  16566\n",
            "- max rating:  5.0\n",
            "- min rating:  1.0\n",
            "- avg rating:  4.700019436803883\n",
            "- First review:  1998-07-09\n",
            "- Last review:  2018-09-26\n"
          ]
        }
      ],
      "source": [
        "#Number of reviews\n",
        "print('- Number of reviews:', len(full_df))\n",
        "\n",
        "#Number of different products reviewed\n",
        "print('- Number of different products reviewed: ', len(full_df.asin.unique()))\n",
        "\n",
        "#Number of people who reviewed\n",
        "print('- Number of people who reviewed: ', len(full_df.reviewerID.unique()))\n",
        "\n",
        "#Reviews range and average\n",
        "print('- max rating: ', full_df.overall.max())\n",
        "print('- min rating: ', full_df.overall.min())\n",
        "print('- avg rating: ', full_df.overall.mean())\n",
        "\n",
        "#Time range\n",
        "start = pd.to_datetime(full_df['unixReviewTime'],unit='s').min().date()\n",
        "end = pd.to_datetime(full_df['unixReviewTime'],unit='s').max().date()\n",
        "\n",
        "print('- First review: ', start)\n",
        "print('- Last review: ', end)\n"
      ]
    },
    {
      "cell_type": "markdown",
      "metadata": {
        "id": "Rh6i7WyZ4OHv"
      },
      "source": [
        "Distribution of rating"
      ]
    },
    {
      "cell_type": "code",
      "execution_count": 6,
      "metadata": {
        "colab": {
          "base_uri": "https://localhost:8080/",
          "height": 0
        },
        "id": "MD8Wqvsd4Lov",
        "outputId": "9e1bc346-e926-44ac-9408-f4a70528d908"
      },
      "outputs": [
        {
          "data": {
            "text/plain": [
              "Text(0, 0.5, 'reiew counts')"
            ]
          },
          "execution_count": 6,
          "metadata": {},
          "output_type": "execute_result"
        },
        {
          "data": {
            "image/png": "[encoded data removed]",
            "text/plain": [
              "<Figure size 500x500 with 1 Axes>"
            ]
          },
          "metadata": {},
          "output_type": "display_data"
        }
      ],
      "source": [
        "ax = full_df.overall.hist(grid=False, bins=np.arange(0.75,5.75,0.5),figsize=(5,5))\n",
        "\n",
        "ax.set_xlabel(\"stars\")\n",
        "ax.set_ylabel(\"reiew counts\")"
      ]
    },
    {
      "cell_type": "markdown",
      "metadata": {
        "id": "7-Rk7H9K4fMb"
      },
      "source": [
        "Distribution of reviews per product"
      ]
    },
    {
      "cell_type": "code",
      "execution_count": 7,
      "metadata": {
        "colab": {
          "base_uri": "https://localhost:8080/"
        },
        "id": "QG_j_sNf4oVD",
        "outputId": "6707e6c6-e504-456a-f617-fb78a44b063a"
      },
      "outputs": [
        {
          "data": {
            "text/plain": [
              "B00CZF8B68    574\n",
              "B00BWGHIHY    316\n",
              "B00136J7ZE    294\n",
              "B00EH49FRE    283\n",
              "B00136NUG6    262\n",
              "             ... \n",
              "B000W1S2WU      1\n",
              "B00125MGQI      1\n",
              "B001QET6G8      1\n",
              "B001664ADA      1\n",
              "B00138APMQ      1\n",
              "Name: asin, Length: 11797, dtype: int64"
            ]
          },
          "execution_count": 7,
          "metadata": {},
          "output_type": "execute_result"
        }
      ],
      "source": [
        "reviews_per_asin = full_df.asin.value_counts()\n",
        "reviews_per_asin"
      ]
    },
    {
      "cell_type": "code",
      "execution_count": 8,
      "metadata": {
        "colab": {
          "base_uri": "https://localhost:8080/",
          "height": 0
        },
        "id": "9E69N1jp4vGT",
        "outputId": "044c302c-9239-4190-e154-e4549aec1eb5"
      },
      "outputs": [
        {
          "name": "stdout",
          "output_type": "stream",
          "text": [
            "reviews product-counts\n",
            "5      2072\n",
            "6      1506\n",
            "7      1050\n",
            "8       824\n",
            "9       684\n",
            "       ... \n",
            "146       1\n",
            "147       1\n",
            "148       1\n",
            "152       1\n",
            "574       1\n",
            "Name: asin, Length: 163, dtype: int64\n"
          ]
        },
        {
          "data": {
            "text/plain": [
              "Text(0, 0.5, 'product counts')"
            ]
          },
          "execution_count": 8,
          "metadata": {},
          "output_type": "execute_result"
        },
        {
          "data": {
            "image/png": "[encoded data removed]",
            "text/plain": [
              "<Figure size 2000x500 with 1 Axes>"
            ]
          },
          "metadata": {},
          "output_type": "display_data"
        }
      ],
      "source": [
        "print(\"reviews product-counts\")\n",
        "print(reviews_per_asin.value_counts())\n",
        "\n",
        "ax = reviews_per_asin.hist(log=True,grid=False,bins=200,figsize=(20,5))\n",
        "ax.set_xlabel(\"num of rewiews on that product\")\n",
        "ax.set_ylabel(\"product counts\")"
      ]
    },
    {
      "cell_type": "markdown",
      "metadata": {
        "id": "DzM9JA9h4mCT"
      },
      "source": [
        "Distribution of reviews per user"
      ]
    },
    {
      "cell_type": "code",
      "execution_count": 9,
      "metadata": {
        "colab": {
          "base_uri": "https://localhost:8080/"
        },
        "id": "1qL9SxVK4o0l",
        "outputId": "b53485b3-0dda-45ad-c76e-478298efbb02"
      },
      "outputs": [
        {
          "data": {
            "text/plain": [
              "A3W4D8XOGLWUN5    791\n",
              "A2H3JURQZOHVMB    314\n",
              "A36EDWL4F3AASU    223\n",
              "A165P3MOJV3OVZ    219\n",
              "AVKHYC2D7MD56     214\n",
              "                 ... \n",
              "A2VWLNEBMW4ITQ      2\n",
              "A2M4D98UYXMUZE      2\n",
              "A518S7KT78N51       2\n",
              "A25HR6FTWBQ2NZ      1\n",
              "A70WPHE33U5B        1\n",
              "Name: reviewerID, Length: 16566, dtype: int64"
            ]
          },
          "execution_count": 9,
          "metadata": {},
          "output_type": "execute_result"
        }
      ],
      "source": [
        "reviews_per_user = full_df.reviewerID.value_counts()\n",
        "reviews_per_user"
      ]
    },
    {
      "cell_type": "code",
      "execution_count": 10,
      "metadata": {
        "colab": {
          "base_uri": "https://localhost:8080/",
          "height": 0
        },
        "id": "520UHrgs4vbg",
        "outputId": "ce9c7fec-d23b-4bd1-9d4e-9139625e5962"
      },
      "outputs": [
        {
          "name": "stdout",
          "output_type": "stream",
          "text": [
            "reviews user-counts\n",
            "5      4559\n",
            "6      2798\n",
            "7      1927\n",
            "8      1288\n",
            "9       974\n",
            "       ... \n",
            "101       1\n",
            "102       1\n",
            "314       1\n",
            "106       1\n",
            "791       1\n",
            "Name: reviewerID, Length: 125, dtype: int64\n"
          ]
        },
        {
          "data": {
            "text/plain": [
              "Text(0, 0.5, 'user counts')"
            ]
          },
          "execution_count": 10,
          "metadata": {},
          "output_type": "execute_result"
        },
        {
          "data": {
            "image/png": "[encoded data removed]",
            "text/plain": [
              "<Figure size 2000x500 with 1 Axes>"
            ]
          },
          "metadata": {},
          "output_type": "display_data"
        }
      ],
      "source": [
        "print(\"reviews user-counts\")\n",
        "print(reviews_per_user.value_counts())\n",
        "\n",
        "ax = reviews_per_user.hist(log=True,grid=False,bins=200,figsize=(20,5))\n",
        "ax.set_xlabel(\"num of rewiews posted\")\n",
        "ax.set_ylabel(\"user counts\")\n"
      ]
    },
    {
      "cell_type": "markdown",
      "metadata": {
        "id": "Zmm3FZKJHrxt"
      },
      "source": [
        "# 2. Text basic pre-processing"
      ]
    },
    {
      "attachments": {},
      "cell_type": "markdown",
      "metadata": {
        "id": "tt7_8x4QiIkx"
      },
      "source": [
        "(Col:''Sentiment') based on the value of “rating of the product”:<br/> i. Ratings 4,5: Positive <br/>ii. Rating 3: Neutral <br/>iii. Ratings 1,2: Negative\n"
      ]
    },
    {
      "cell_type": "code",
      "execution_count": 11,
      "metadata": {
        "colab": {
          "base_uri": "https://localhost:8080/",
          "height": 521
        },
        "id": "asLcP4rxiHRv",
        "outputId": "04c36a9c-b779-4465-a712-cd97fe5d40a2"
      },
      "outputs": [
        {
          "data": {
            "text/html": [
              "<div>\n",
              "<style scoped>\n",
              "    .dataframe tbody tr th:only-of-type {\n",
              "        vertical-align: middle;\n",
              "    }\n",
              "\n",
              "    .dataframe tbody tr th {\n",
              "        vertical-align: top;\n",
              "    }\n",
              "\n",
              "    .dataframe thead th {\n",
              "        text-align: right;\n",
              "    }\n",
              "</style>\n",
              "<table border=\"1\" class=\"dataframe\">\n",
              "  <thead>\n",
              "    <tr style=\"text-align: right;\">\n",
              "      <th></th>\n",
              "      <th>overall</th>\n",
              "      <th>vote</th>\n",
              "      <th>verified</th>\n",
              "      <th>reviewTime</th>\n",
              "      <th>reviewerID</th>\n",
              "      <th>asin</th>\n",
              "      <th>style</th>\n",
              "      <th>reviewerName</th>\n",
              "      <th>reviewText</th>\n",
              "      <th>summary</th>\n",
              "      <th>unixReviewTime</th>\n",
              "      <th>image</th>\n",
              "      <th>Sentiment</th>\n",
              "    </tr>\n",
              "  </thead>\n",
              "  <tbody>\n",
              "    <tr>\n",
              "      <th>0</th>\n",
              "      <td>5.0</td>\n",
              "      <td>3</td>\n",
              "      <td>True</td>\n",
              "      <td>06 3, 2013</td>\n",
              "      <td>A2TYZ821XXK2YZ</td>\n",
              "      <td>3426958910</td>\n",
              "      <td>{'Format:': ' Audio CD'}</td>\n",
              "      <td>Garrett</td>\n",
              "      <td>This is awesome to listen to, A must-have for ...</td>\n",
              "      <td>Slayer Rules!</td>\n",
              "      <td>1370217600</td>\n",
              "      <td>NaN</td>\n",
              "      <td>Positive</td>\n",
              "    </tr>\n",
              "    <tr>\n",
              "      <th>1</th>\n",
              "      <td>5.0</td>\n",
              "      <td>NaN</td>\n",
              "      <td>True</td>\n",
              "      <td>10 11, 2014</td>\n",
              "      <td>A3OFSREZADFUDY</td>\n",
              "      <td>3426958910</td>\n",
              "      <td>{'Format:': ' Audio CD'}</td>\n",
              "      <td>Ad</td>\n",
              "      <td>bien</td>\n",
              "      <td>Five Stars</td>\n",
              "      <td>1412985600</td>\n",
              "      <td>NaN</td>\n",
              "      <td>Positive</td>\n",
              "    </tr>\n",
              "    <tr>\n",
              "      <th>2</th>\n",
              "      <td>5.0</td>\n",
              "      <td>NaN</td>\n",
              "      <td>True</td>\n",
              "      <td>02 11, 2014</td>\n",
              "      <td>A2VAMODP8M77NG</td>\n",
              "      <td>3426958910</td>\n",
              "      <td>{'Format:': ' Audio CD'}</td>\n",
              "      <td>JTGabq</td>\n",
              "      <td>It was great to hear the old stuff again and I...</td>\n",
              "      <td>SLAYER!!!!!!!!!!!!!!!!!!!!!</td>\n",
              "      <td>1392076800</td>\n",
              "      <td>NaN</td>\n",
              "      <td>Positive</td>\n",
              "    </tr>\n",
              "    <tr>\n",
              "      <th>3</th>\n",
              "      <td>4.0</td>\n",
              "      <td>3</td>\n",
              "      <td>False</td>\n",
              "      <td>12 7, 2013</td>\n",
              "      <td>AAKSLZ9IDTEH0</td>\n",
              "      <td>3426958910</td>\n",
              "      <td>{'Format:': ' Audio CD'}</td>\n",
              "      <td>john F&amp;#039;n doe</td>\n",
              "      <td>well best of's are a bit poison normally but t...</td>\n",
              "      <td>slayer greatest hits! you mean everything righ...</td>\n",
              "      <td>1386374400</td>\n",
              "      <td>NaN</td>\n",
              "      <td>Positive</td>\n",
              "    </tr>\n",
              "    <tr>\n",
              "      <th>4</th>\n",
              "      <td>5.0</td>\n",
              "      <td>NaN</td>\n",
              "      <td>True</td>\n",
              "      <td>06 12, 2016</td>\n",
              "      <td>A3OH43OZJLKI09</td>\n",
              "      <td>5557706259</td>\n",
              "      <td>{'Format:': ' Audio CD'}</td>\n",
              "      <td>melinda a goodman</td>\n",
              "      <td>What can I say? This is Casting Crowns!!!This ...</td>\n",
              "      <td>This is a good, blessing filled</td>\n",
              "      <td>1465689600</td>\n",
              "      <td>NaN</td>\n",
              "      <td>Positive</td>\n",
              "    </tr>\n",
              "    <tr>\n",
              "      <th>5</th>\n",
              "      <td>4.0</td>\n",
              "      <td>NaN</td>\n",
              "      <td>True</td>\n",
              "      <td>11 19, 2015</td>\n",
              "      <td>A6JP9YYJCK3WO</td>\n",
              "      <td>5557706259</td>\n",
              "      <td>{'Format:': ' Audio CD'}</td>\n",
              "      <td>Sylvia Arrowood</td>\n",
              "      <td>Enjoy Casting Crowns and their songs</td>\n",
              "      <td>Four Stars</td>\n",
              "      <td>1447891200</td>\n",
              "      <td>NaN</td>\n",
              "      <td>Positive</td>\n",
              "    </tr>\n",
              "    <tr>\n",
              "      <th>6</th>\n",
              "      <td>5.0</td>\n",
              "      <td>NaN</td>\n",
              "      <td>True</td>\n",
              "      <td>06 6, 2015</td>\n",
              "      <td>A20Z0JD766DPG6</td>\n",
              "      <td>5557706259</td>\n",
              "      <td>{'Format:': ' Audio CD'}</td>\n",
              "      <td>M Holley</td>\n",
              "      <td>Another very inspirational collection by a Ver...</td>\n",
              "      <td>Can't say enough.  Great Christian music.  God...</td>\n",
              "      <td>1433548800</td>\n",
              "      <td>NaN</td>\n",
              "      <td>Positive</td>\n",
              "    </tr>\n",
              "    <tr>\n",
              "      <th>7</th>\n",
              "      <td>5.0</td>\n",
              "      <td>NaN</td>\n",
              "      <td>False</td>\n",
              "      <td>12 9, 2008</td>\n",
              "      <td>AXQ89O6YRT7AX</td>\n",
              "      <td>5557706259</td>\n",
              "      <td>{'Format:': ' MP3 Music'}</td>\n",
              "      <td>PacificHype</td>\n",
              "      <td>I love the song Slow Fade by Casting Crowns, e...</td>\n",
              "      <td>DEFINITELY DESERVES PERFECT STARS!!!!</td>\n",
              "      <td>1228780800</td>\n",
              "      <td>NaN</td>\n",
              "      <td>Positive</td>\n",
              "    </tr>\n",
              "    <tr>\n",
              "      <th>8</th>\n",
              "      <td>5.0</td>\n",
              "      <td>NaN</td>\n",
              "      <td>False</td>\n",
              "      <td>10 7, 2008</td>\n",
              "      <td>A1M379MK8MKGUF</td>\n",
              "      <td>5557706259</td>\n",
              "      <td>{'Format:': ' MP3 Music'}</td>\n",
              "      <td>Sergio</td>\n",
              "      <td>This is an awesome album from the amazing Chri...</td>\n",
              "      <td>Can't go wrong with Casting Crowns</td>\n",
              "      <td>1223337600</td>\n",
              "      <td>NaN</td>\n",
              "      <td>Positive</td>\n",
              "    </tr>\n",
              "    <tr>\n",
              "      <th>9</th>\n",
              "      <td>5.0</td>\n",
              "      <td>NaN</td>\n",
              "      <td>False</td>\n",
              "      <td>09 3, 2008</td>\n",
              "      <td>AA762OWLWCPQ2</td>\n",
              "      <td>5557706259</td>\n",
              "      <td>{'Format:': ' Audio CD'}</td>\n",
              "      <td>Daniel T. Hughes</td>\n",
              "      <td>I can't believe I haven't written a review for...</td>\n",
              "      <td>Great music, but even better if you see them l...</td>\n",
              "      <td>1220400000</td>\n",
              "      <td>NaN</td>\n",
              "      <td>Positive</td>\n",
              "    </tr>\n",
              "    <tr>\n",
              "      <th>10</th>\n",
              "      <td>5.0</td>\n",
              "      <td>5</td>\n",
              "      <td>True</td>\n",
              "      <td>10 27, 2007</td>\n",
              "      <td>A16QJ649N8PRV</td>\n",
              "      <td>5557706259</td>\n",
              "      <td>{'Format:': ' Audio CD'}</td>\n",
              "      <td>S. Peek</td>\n",
              "      <td>This latest effort by Casting Crowns is an out...</td>\n",
              "      <td>Very Good</td>\n",
              "      <td>1193443200</td>\n",
              "      <td>NaN</td>\n",
              "      <td>Positive</td>\n",
              "    </tr>\n",
              "    <tr>\n",
              "      <th>11</th>\n",
              "      <td>2.0</td>\n",
              "      <td>8</td>\n",
              "      <td>False</td>\n",
              "      <td>09 18, 2007</td>\n",
              "      <td>ADVX0P3EIKWBK</td>\n",
              "      <td>5557706259</td>\n",
              "      <td>{'Format:': ' Audio CD'}</td>\n",
              "      <td>DarthAmazon</td>\n",
              "      <td>I have gotten ripped on previously Casting Cro...</td>\n",
              "      <td>Wow!  This is pretty...mediocre actually</td>\n",
              "      <td>1190073600</td>\n",
              "      <td>NaN</td>\n",
              "      <td>Negative</td>\n",
              "    </tr>\n",
              "    <tr>\n",
              "      <th>12</th>\n",
              "      <td>5.0</td>\n",
              "      <td>47</td>\n",
              "      <td>False</td>\n",
              "      <td>09 16, 2007</td>\n",
              "      <td>A25B8W9VSY0C5Y</td>\n",
              "      <td>5557706259</td>\n",
              "      <td>{'Format:': ' Audio CD'}</td>\n",
              "      <td>Vicki Williamson</td>\n",
              "      <td>I remember the first time I heard Casting Crow...</td>\n",
              "      <td>Outstanding and worthy of praise!!!</td>\n",
              "      <td>1189900800</td>\n",
              "      <td>NaN</td>\n",
              "      <td>Positive</td>\n",
              "    </tr>\n",
              "    <tr>\n",
              "      <th>13</th>\n",
              "      <td>5.0</td>\n",
              "      <td>25</td>\n",
              "      <td>False</td>\n",
              "      <td>09 6, 2007</td>\n",
              "      <td>A2I6MHMAZZDCRX</td>\n",
              "      <td>5557706259</td>\n",
              "      <td>{'Format:': ' Audio CD'}</td>\n",
              "      <td>Mark Baker - Carstairs Considers</td>\n",
              "      <td>Christian soft rock group Casting Crowns has t...</td>\n",
              "      <td>Another Great Release</td>\n",
              "      <td>1189036800</td>\n",
              "      <td>NaN</td>\n",
              "      <td>Positive</td>\n",
              "    </tr>\n",
              "    <tr>\n",
              "      <th>14</th>\n",
              "      <td>5.0</td>\n",
              "      <td>NaN</td>\n",
              "      <td>True</td>\n",
              "      <td>12 7, 2017</td>\n",
              "      <td>A1XL1WKRIGSTGE</td>\n",
              "      <td>5559166928</td>\n",
              "      <td>{'Format:': ' Audio CD'}</td>\n",
              "      <td>bluebird54</td>\n",
              "      <td>Elvis is still the best!</td>\n",
              "      <td>Five Stars</td>\n",
              "      <td>1512604800</td>\n",
              "      <td>NaN</td>\n",
              "      <td>Positive</td>\n",
              "    </tr>\n",
              "  </tbody>\n",
              "</table>\n",
              "</div>"
            ],
            "text/plain": [
              "    overall vote  verified   reviewTime      reviewerID        asin  \\\n",
              "0       5.0    3      True   06 3, 2013  A2TYZ821XXK2YZ  3426958910   \n",
              "1       5.0  NaN      True  10 11, 2014  A3OFSREZADFUDY  3426958910   \n",
              "2       5.0  NaN      True  02 11, 2014  A2VAMODP8M77NG  3426958910   \n",
              "3       4.0    3     False   12 7, 2013   AAKSLZ9IDTEH0  3426958910   \n",
              "4       5.0  NaN      True  06 12, 2016  A3OH43OZJLKI09  5557706259   \n",
              "5       4.0  NaN      True  11 19, 2015   A6JP9YYJCK3WO  5557706259   \n",
              "6       5.0  NaN      True   06 6, 2015  A20Z0JD766DPG6  5557706259   \n",
              "7       5.0  NaN     False   12 9, 2008   AXQ89O6YRT7AX  5557706259   \n",
              "8       5.0  NaN     False   10 7, 2008  A1M379MK8MKGUF  5557706259   \n",
              "9       5.0  NaN     False   09 3, 2008   AA762OWLWCPQ2  5557706259   \n",
              "10      5.0    5      True  10 27, 2007   A16QJ649N8PRV  5557706259   \n",
              "11      2.0    8     False  09 18, 2007   ADVX0P3EIKWBK  5557706259   \n",
              "12      5.0   47     False  09 16, 2007  A25B8W9VSY0C5Y  5557706259   \n",
              "13      5.0   25     False   09 6, 2007  A2I6MHMAZZDCRX  5557706259   \n",
              "14      5.0  NaN      True   12 7, 2017  A1XL1WKRIGSTGE  5559166928   \n",
              "\n",
              "                        style                      reviewerName  \\\n",
              "0    {'Format:': ' Audio CD'}                           Garrett   \n",
              "1    {'Format:': ' Audio CD'}                                Ad   \n",
              "2    {'Format:': ' Audio CD'}                            JTGabq   \n",
              "3    {'Format:': ' Audio CD'}                 john F&#039;n doe   \n",
              "4    {'Format:': ' Audio CD'}                 melinda a goodman   \n",
              "5    {'Format:': ' Audio CD'}                   Sylvia Arrowood   \n",
              "6    {'Format:': ' Audio CD'}                          M Holley   \n",
              "7   {'Format:': ' MP3 Music'}                       PacificHype   \n",
              "8   {'Format:': ' MP3 Music'}                            Sergio   \n",
              "9    {'Format:': ' Audio CD'}                  Daniel T. Hughes   \n",
              "10   {'Format:': ' Audio CD'}                           S. Peek   \n",
              "11   {'Format:': ' Audio CD'}                       DarthAmazon   \n",
              "12   {'Format:': ' Audio CD'}                  Vicki Williamson   \n",
              "13   {'Format:': ' Audio CD'}  Mark Baker - Carstairs Considers   \n",
              "14   {'Format:': ' Audio CD'}                        bluebird54   \n",
              "\n",
              "                                           reviewText  \\\n",
              "0   This is awesome to listen to, A must-have for ...   \n",
              "1                                                bien   \n",
              "2   It was great to hear the old stuff again and I...   \n",
              "3   well best of's are a bit poison normally but t...   \n",
              "4   What can I say? This is Casting Crowns!!!This ...   \n",
              "5                Enjoy Casting Crowns and their songs   \n",
              "6   Another very inspirational collection by a Ver...   \n",
              "7   I love the song Slow Fade by Casting Crowns, e...   \n",
              "8   This is an awesome album from the amazing Chri...   \n",
              "9   I can't believe I haven't written a review for...   \n",
              "10  This latest effort by Casting Crowns is an out...   \n",
              "11  I have gotten ripped on previously Casting Cro...   \n",
              "12  I remember the first time I heard Casting Crow...   \n",
              "13  Christian soft rock group Casting Crowns has t...   \n",
              "14                           Elvis is still the best!   \n",
              "\n",
              "                                              summary  unixReviewTime image  \\\n",
              "0                                       Slayer Rules!      1370217600   NaN   \n",
              "1                                          Five Stars      1412985600   NaN   \n",
              "2                         SLAYER!!!!!!!!!!!!!!!!!!!!!      1392076800   NaN   \n",
              "3   slayer greatest hits! you mean everything righ...      1386374400   NaN   \n",
              "4                     This is a good, blessing filled      1465689600   NaN   \n",
              "5                                          Four Stars      1447891200   NaN   \n",
              "6   Can't say enough.  Great Christian music.  God...      1433548800   NaN   \n",
              "7               DEFINITELY DESERVES PERFECT STARS!!!!      1228780800   NaN   \n",
              "8                  Can't go wrong with Casting Crowns      1223337600   NaN   \n",
              "9   Great music, but even better if you see them l...      1220400000   NaN   \n",
              "10                                          Very Good      1193443200   NaN   \n",
              "11           Wow!  This is pretty...mediocre actually      1190073600   NaN   \n",
              "12                Outstanding and worthy of praise!!!      1189900800   NaN   \n",
              "13                              Another Great Release      1189036800   NaN   \n",
              "14                                         Five Stars      1512604800   NaN   \n",
              "\n",
              "   Sentiment  \n",
              "0   Positive  \n",
              "1   Positive  \n",
              "2   Positive  \n",
              "3   Positive  \n",
              "4   Positive  \n",
              "5   Positive  \n",
              "6   Positive  \n",
              "7   Positive  \n",
              "8   Positive  \n",
              "9   Positive  \n",
              "10  Positive  \n",
              "11  Negative  \n",
              "12  Positive  \n",
              "13  Positive  \n",
              "14  Positive  "
            ]
          },
          "execution_count": 11,
          "metadata": {},
          "output_type": "execute_result"
        }
      ],
      "source": [
        "full_df['Sentiment'] = np.where((full_df['overall'] > 3), 'Positive', \n",
        "                          np.where((full_df['overall'] < 3), 'Negative', 'Neutral'))\n",
        "full_df.head(15)"
      ]
    },
    {
      "cell_type": "code",
      "execution_count": 12,
      "metadata": {
        "colab": {
          "base_uri": "https://localhost:8080/"
        },
        "id": "enZ12nHSx6JD",
        "outputId": "754ed58f-8abb-43c6-d982-e9cd2de229f9"
      },
      "outputs": [
        {
          "data": {
            "text/plain": [
              "Positive    158985\n",
              "Neutral       6792\n",
              "Negative      4004\n",
              "Name: Sentiment, dtype: int64"
            ]
          },
          "execution_count": 12,
          "metadata": {},
          "output_type": "execute_result"
        }
      ],
      "source": [
        "full_df['Sentiment'].value_counts() "
      ]
    },
    {
      "cell_type": "markdown",
      "metadata": {
        "id": "_OgJoNE2z2fX"
      },
      "source": [
        "## columns selection"
      ]
    },
    {
      "cell_type": "code",
      "execution_count": 13,
      "metadata": {
        "colab": {
          "base_uri": "https://localhost:8080/"
        },
        "id": "fJ3Yu4QGhqrR",
        "outputId": "7326b468-f1bb-4d65-89bd-a37b2438de49"
      },
      "outputs": [
        {
          "data": {
            "text/plain": [
              "True     148944\n",
              "False     20837\n",
              "Name: verified, dtype: int64"
            ]
          },
          "execution_count": 13,
          "metadata": {},
          "output_type": "execute_result"
        }
      ],
      "source": [
        "full_df['verified'].value_counts()"
      ]
    },
    {
      "cell_type": "code",
      "execution_count": 66,
      "metadata": {
        "id": "xWEtk4WruGvW"
      },
      "outputs": [],
      "source": [
        "#joining the two columns of review and summary of the reviews\n",
        "cols = ['reviewText','summary']\n",
        "full_df['NewReview'] = full_df[cols].apply(lambda row: '_'.join(row.values.astype(str)), axis=1)\n",
        "full_df['NewReview'] = full_df['NewReview'].astype(str)\n",
        "\n"
      ]
    },
    {
      "cell_type": "code",
      "execution_count": 67,
      "metadata": {},
      "outputs": [
        {
          "name": "stdout",
          "output_type": "stream",
          "text": [
            "Shape of the dataset: (169781, 14)\n"
          ]
        },
        {
          "data": {
            "image/png": "[encoded data removed]",
            "text/plain": [
              "<Figure size 640x480 with 1 Axes>"
            ]
          },
          "metadata": {},
          "output_type": "display_data"
        },
        {
          "data": {
            "image/png": "[encoded data removed]",
            "text/plain": [
              "<Figure size 1000x600 with 1 Axes>"
            ]
          },
          "metadata": {},
          "output_type": "display_data"
        },
        {
          "data": {
            "image/png": "[encoded data removed]",
            "text/plain": [
              "<Figure size 640x480 with 1 Axes>"
            ]
          },
          "metadata": {},
          "output_type": "display_data"
        },
        {
          "data": {
            "image/png": "[encoded data removed]",
            "text/plain": [
              "<Figure size 640x480 with 1 Axes>"
            ]
          },
          "metadata": {},
          "output_type": "display_data"
        }
      ],
      "source": [
        "import pandas as pd\n",
        "import matplotlib.pyplot as plt\n",
        "import seaborn as sns\n",
        "\n",
        "# Check the shape of the dataset\n",
        "print(\"Shape of the dataset:\", full_df.shape)\n",
        "\n",
        "# Check the distribution of ratings\n",
        "sns.countplot(x='overall', data=full_df)\n",
        "plt.title(\"Distribution of Ratings\")\n",
        "plt.show()\n",
        "\n",
        "# Check the top 10 most reviewed products\n",
        "top_products = full_df['asin'].value_counts().nlargest(10)\n",
        "plt.figure(figsize=(10,6))\n",
        "sns.barplot(x=top_products.index, y=top_products.values)\n",
        "plt.title(\"Top 10 Most Reviewed Products\")\n",
        "plt.xticks(rotation=90)\n",
        "plt.show()\n",
        "\n",
        "# Check the length of reviews\n",
        "full_df['review_length'] = full_df['NewReview'].apply(lambda x: len(x.split()))\n",
        "plt.hist(full_df['review_length'], bins=50)\n",
        "plt.title(\"Distribution of Review Length\")\n",
        "plt.show()\n",
        "\n",
        "# Check the relationship between review length and rating\n",
        "sns.boxplot(x='overall', y='review_length', data=full_df)\n",
        "plt.title(\"Relationship between Review Length and Rating\")\n",
        "plt.show()"
      ]
    },
    {
      "cell_type": "code",
      "execution_count": 15,
      "metadata": {
        "colab": {
          "base_uri": "https://localhost:8080/"
        },
        "id": "5cMUnP-quZ1D",
        "outputId": "dae2c2cc-202b-4c1a-e230-dc4a24ddf043"
      },
      "outputs": [
        {
          "name": "stdout",
          "output_type": "stream",
          "text": [
            "<class 'pandas.core.frame.DataFrame'>\n",
            "RangeIndex: 169781 entries, 0 to 169780\n",
            "Data columns (total 14 columns):\n",
            " #   Column          Non-Null Count   Dtype  \n",
            "---  ------          --------------   -----  \n",
            " 0   overall         169781 non-null  float64\n",
            " 1   vote            7611 non-null    object \n",
            " 2   verified        169781 non-null  bool   \n",
            " 3   reviewTime      169781 non-null  object \n",
            " 4   reviewerID      169781 non-null  object \n",
            " 5   asin            169781 non-null  object \n",
            " 6   style           157989 non-null  object \n",
            " 7   reviewerName    169776 non-null  object \n",
            " 8   reviewText      169623 non-null  object \n",
            " 9   summary         169745 non-null  object \n",
            " 10  unixReviewTime  169781 non-null  int64  \n",
            " 11  image           182 non-null     object \n",
            " 12  Sentiment       169781 non-null  object \n",
            " 13  NewReview       169781 non-null  object \n",
            "dtypes: bool(1), float64(1), int64(1), object(11)\n",
            "memory usage: 17.0+ MB\n"
          ]
        }
      ],
      "source": [
        "full_df.info()"
      ]
    },
    {
      "cell_type": "code",
      "execution_count": 16,
      "metadata": {
        "colab": {
          "base_uri": "https://localhost:8080/",
          "height": 113
        },
        "id": "tSFJ1_tstGpQ",
        "outputId": "c8ccd685-d975-45a6-9f78-165908b74897"
      },
      "outputs": [
        {
          "data": {
            "text/html": [
              "<div>\n",
              "<style scoped>\n",
              "    .dataframe tbody tr th:only-of-type {\n",
              "        vertical-align: middle;\n",
              "    }\n",
              "\n",
              "    .dataframe tbody tr th {\n",
              "        vertical-align: top;\n",
              "    }\n",
              "\n",
              "    .dataframe thead th {\n",
              "        text-align: right;\n",
              "    }\n",
              "</style>\n",
              "<table border=\"1\" class=\"dataframe\">\n",
              "  <thead>\n",
              "    <tr style=\"text-align: right;\">\n",
              "      <th></th>\n",
              "      <th>overall</th>\n",
              "      <th>vote</th>\n",
              "      <th>verified</th>\n",
              "      <th>reviewTime</th>\n",
              "      <th>reviewerID</th>\n",
              "      <th>asin</th>\n",
              "      <th>style</th>\n",
              "      <th>reviewerName</th>\n",
              "      <th>reviewText</th>\n",
              "      <th>summary</th>\n",
              "      <th>unixReviewTime</th>\n",
              "      <th>image</th>\n",
              "      <th>Sentiment</th>\n",
              "      <th>NewReview</th>\n",
              "    </tr>\n",
              "  </thead>\n",
              "  <tbody>\n",
              "    <tr>\n",
              "      <th>0</th>\n",
              "      <td>5.0</td>\n",
              "      <td>3</td>\n",
              "      <td>True</td>\n",
              "      <td>06 3, 2013</td>\n",
              "      <td>A2TYZ821XXK2YZ</td>\n",
              "      <td>3426958910</td>\n",
              "      <td>{'Format:': ' Audio CD'}</td>\n",
              "      <td>Garrett</td>\n",
              "      <td>This is awesome to listen to, A must-have for ...</td>\n",
              "      <td>Slayer Rules!</td>\n",
              "      <td>1370217600</td>\n",
              "      <td>NaN</td>\n",
              "      <td>Positive</td>\n",
              "      <td>This is awesome to listen to, A must-have for ...</td>\n",
              "    </tr>\n",
              "    <tr>\n",
              "      <th>1</th>\n",
              "      <td>5.0</td>\n",
              "      <td>NaN</td>\n",
              "      <td>True</td>\n",
              "      <td>10 11, 2014</td>\n",
              "      <td>A3OFSREZADFUDY</td>\n",
              "      <td>3426958910</td>\n",
              "      <td>{'Format:': ' Audio CD'}</td>\n",
              "      <td>Ad</td>\n",
              "      <td>bien</td>\n",
              "      <td>Five Stars</td>\n",
              "      <td>1412985600</td>\n",
              "      <td>NaN</td>\n",
              "      <td>Positive</td>\n",
              "      <td>bien_Five Stars</td>\n",
              "    </tr>\n",
              "  </tbody>\n",
              "</table>\n",
              "</div>"
            ],
            "text/plain": [
              "   overall vote  verified   reviewTime      reviewerID        asin  \\\n",
              "0      5.0    3      True   06 3, 2013  A2TYZ821XXK2YZ  3426958910   \n",
              "1      5.0  NaN      True  10 11, 2014  A3OFSREZADFUDY  3426958910   \n",
              "\n",
              "                      style reviewerName  \\\n",
              "0  {'Format:': ' Audio CD'}      Garrett   \n",
              "1  {'Format:': ' Audio CD'}           Ad   \n",
              "\n",
              "                                          reviewText        summary  \\\n",
              "0  This is awesome to listen to, A must-have for ...  Slayer Rules!   \n",
              "1                                               bien     Five Stars   \n",
              "\n",
              "   unixReviewTime image Sentiment  \\\n",
              "0      1370217600   NaN  Positive   \n",
              "1      1412985600   NaN  Positive   \n",
              "\n",
              "                                           NewReview  \n",
              "0  This is awesome to listen to, A must-have for ...  \n",
              "1                                    bien_Five Stars  "
            ]
          },
          "execution_count": 16,
          "metadata": {},
          "output_type": "execute_result"
        }
      ],
      "source": [
        "full_df.head(2)"
      ]
    },
    {
      "cell_type": "code",
      "execution_count": 56,
      "metadata": {
        "id": "pnsfVP_6dqn5"
      },
      "outputs": [],
      "source": [
        "#droppin unneccessary columns\n",
        "music_review_df = full_df.drop(columns=['vote','image','reviewTime','style','reviewerName','unixReviewTime','reviewText','summary'])"
      ]
    },
    {
      "cell_type": "code",
      "execution_count": 57,
      "metadata": {
        "colab": {
          "base_uri": "https://localhost:8080/",
          "height": 113
        },
        "id": "VRvfBSi8eY_t",
        "outputId": "b8d929bc-c7b2-4bc9-f1f9-49ef448cf443"
      },
      "outputs": [
        {
          "data": {
            "text/html": [
              "<div>\n",
              "<style scoped>\n",
              "    .dataframe tbody tr th:only-of-type {\n",
              "        vertical-align: middle;\n",
              "    }\n",
              "\n",
              "    .dataframe tbody tr th {\n",
              "        vertical-align: top;\n",
              "    }\n",
              "\n",
              "    .dataframe thead th {\n",
              "        text-align: right;\n",
              "    }\n",
              "</style>\n",
              "<table border=\"1\" class=\"dataframe\">\n",
              "  <thead>\n",
              "    <tr style=\"text-align: right;\">\n",
              "      <th></th>\n",
              "      <th>overall</th>\n",
              "      <th>verified</th>\n",
              "      <th>reviewerID</th>\n",
              "      <th>asin</th>\n",
              "      <th>Sentiment</th>\n",
              "      <th>NewReview</th>\n",
              "    </tr>\n",
              "  </thead>\n",
              "  <tbody>\n",
              "    <tr>\n",
              "      <th>0</th>\n",
              "      <td>5.0</td>\n",
              "      <td>True</td>\n",
              "      <td>A2TYZ821XXK2YZ</td>\n",
              "      <td>3426958910</td>\n",
              "      <td>Positive</td>\n",
              "      <td>This is awesome to listen to, A must-have for ...</td>\n",
              "    </tr>\n",
              "    <tr>\n",
              "      <th>1</th>\n",
              "      <td>5.0</td>\n",
              "      <td>True</td>\n",
              "      <td>A3OFSREZADFUDY</td>\n",
              "      <td>3426958910</td>\n",
              "      <td>Positive</td>\n",
              "      <td>bien_Five Stars</td>\n",
              "    </tr>\n",
              "  </tbody>\n",
              "</table>\n",
              "</div>"
            ],
            "text/plain": [
              "   overall  verified      reviewerID        asin Sentiment  \\\n",
              "0      5.0      True  A2TYZ821XXK2YZ  3426958910  Positive   \n",
              "1      5.0      True  A3OFSREZADFUDY  3426958910  Positive   \n",
              "\n",
              "                                           NewReview  \n",
              "0  This is awesome to listen to, A must-have for ...  \n",
              "1                                    bien_Five Stars  "
            ]
          },
          "execution_count": 57,
          "metadata": {},
          "output_type": "execute_result"
        }
      ],
      "source": [
        "music_review_df.head(2)"
      ]
    },
    {
      "cell_type": "code",
      "execution_count": 19,
      "metadata": {
        "colab": {
          "base_uri": "https://localhost:8080/"
        },
        "id": "ata1v15megmt",
        "outputId": "42ac7406-859b-4bcd-f946-3d602a1d2073"
      },
      "outputs": [
        {
          "name": "stdout",
          "output_type": "stream",
          "text": [
            "<class 'pandas.core.frame.DataFrame'>\n",
            "RangeIndex: 169781 entries, 0 to 169780\n",
            "Data columns (total 5 columns):\n",
            " #   Column     Non-Null Count   Dtype  \n",
            "---  ------     --------------   -----  \n",
            " 0   overall    169781 non-null  float64\n",
            " 1   verified   169781 non-null  bool   \n",
            " 2   asin       169781 non-null  object \n",
            " 3   Sentiment  169781 non-null  object \n",
            " 4   NewReview  169781 non-null  object \n",
            "dtypes: bool(1), float64(1), object(3)\n",
            "memory usage: 5.3+ MB\n"
          ]
        }
      ],
      "source": [
        "music_review_df.info()"
      ]
    },
    {
      "cell_type": "markdown",
      "metadata": {
        "id": "qOB297gNv0Q4"
      },
      "source": [
        "## sampling "
      ]
    },
    {
      "cell_type": "code",
      "execution_count": 20,
      "metadata": {
        "id": "deTfUncKPta8"
      },
      "outputs": [],
      "source": [
        "#Getting the reviews from the dataset\n",
        "sample_df=music_review_df.sample(n = 1000)\n",
        "reviews = [str(review) for review in sample_df.NewReview.values]"
      ]
    },
    {
      "cell_type": "code",
      "execution_count": 21,
      "metadata": {
        "colab": {
          "base_uri": "https://localhost:8080/"
        },
        "id": "Z4imG0ixxxFD",
        "outputId": "9ae2655d-3f94-4a78-c3ae-e3b255ad85ef"
      },
      "outputs": [
        {
          "name": "stdout",
          "output_type": "stream",
          "text": [
            "<class 'pandas.core.frame.DataFrame'>\n",
            "Int64Index: 1000 entries, 163145 to 5571\n",
            "Data columns (total 5 columns):\n",
            " #   Column     Non-Null Count  Dtype  \n",
            "---  ------     --------------  -----  \n",
            " 0   overall    1000 non-null   float64\n",
            " 1   verified   1000 non-null   bool   \n",
            " 2   asin       1000 non-null   object \n",
            " 3   Sentiment  1000 non-null   object \n",
            " 4   NewReview  1000 non-null   object \n",
            "dtypes: bool(1), float64(1), object(3)\n",
            "memory usage: 40.0+ KB\n"
          ]
        }
      ],
      "source": [
        "sample_df.info()"
      ]
    },
    {
      "cell_type": "code",
      "execution_count": 22,
      "metadata": {
        "colab": {
          "base_uri": "https://localhost:8080/"
        },
        "id": "yJL2qnXBxiMp",
        "outputId": "a0aed545-16a7-451f-9a2f-e99571cd8bd2"
      },
      "outputs": [
        {
          "name": "stdout",
          "output_type": "stream",
          "text": [
            "- average review length (words):  0.005\n"
          ]
        }
      ],
      "source": [
        "# average length\n",
        "print('- average review length (words): ', len(re.findall(r'\\w+', ' '.join(sample_df)))/len(sample_df))"
      ]
    },
    {
      "cell_type": "markdown",
      "metadata": {
        "id": "axAHe1HR1fRb"
      },
      "source": [
        "# 3. Text representation (approaches in course module 2)"
      ]
    },
    {
      "cell_type": "markdown",
      "metadata": {
        "id": "mJ3TciyV09jT"
      },
      "source": [
        "## Tokenisation, Lemmatization, Stemming, pos, entities"
      ]
    },
    {
      "cell_type": "code",
      "execution_count": 63,
      "metadata": {},
      "outputs": [],
      "source": [
        "import re\n",
        "import string\n",
        "import nltk\n",
        "from nltk.corpus import stopwords\n",
        "from nltk.tokenize import word_tokenize\n",
        "from nltk.stem.porter import PorterStemmer\n",
        "from nltk.stem.wordnet import WordNetLemmatizer\n",
        "\n",
        "# Convert text to lowercase\n",
        "sample_df['NewReview'] = sample_df['NewReview'].str.lower()\n",
        "\n",
        "# Remove URLs\n",
        "sample_df['NewReview'] = sample_df['NewReview'].apply(lambda x: re.sub(r'http\\S+', '', x))\n",
        "\n",
        "# Remove HTML tags\n",
        "sample_df['NewReview'] = sample_df['NewReview'].apply(lambda x: re.sub(r'<.*?>', '', x))\n",
        "\n",
        "# Remove punctuation\n",
        "sample_df['NewReview'] = sample_df['NewReview'].apply(lambda x: x.translate(str.maketrans('', '', string.punctuation)))\n",
        "\n",
        "# Tokenize the text\n",
        "sample_df['NewReview'] = sample_df['NewReview'].apply(lambda x: word_tokenize(x))\n",
        "\n",
        "# Remove stopwords and perform stemming\n",
        "stop_words = set(stopwords.words('english'))\n",
        "porter = PorterStemmer()\n",
        "\n",
        "sample_df['NewReview'] = sample_df['NewReview'].apply(lambda x: [porter.stem(word) for word in x if word not in stop_words])\n",
        "\n",
        "# Join the stemmed words back into a single string\n",
        "sample_df['NewReview'] = sample_df['NewReview'].apply(lambda x: ' '.join(x))\n"
      ]
    },
    {
      "cell_type": "code",
      "execution_count": 61,
      "metadata": {},
      "outputs": [
        {
          "data": {
            "text/plain": [
              "0                           wanted arrived timefour star\n",
              "1                                     thank youfour star\n",
              "2                                       love itfive star\n",
              "3      currently one goto recording meditation breath...\n",
              "4      gary doesnt disappoint number 1 makinggreat li...\n",
              "                             ...                        \n",
              "995            fast shipment product advertisedfive star\n",
              "996       best rendition song ive ever heardworth buying\n",
              "997    john fahey one best youve never heard give lis...\n",
              "998                                  great songfive star\n",
              "999                               favorite songfive star\n",
              "Name: NewReview, Length: 1000, dtype: object"
            ]
          },
          "execution_count": 61,
          "metadata": {},
          "output_type": "execute_result"
        }
      ],
      "source": [
        "sample_df['NewReview']"
      ]
    },
    {
      "cell_type": "code",
      "execution_count": 23,
      "metadata": {
        "id": "tN8P7E-IHrxu",
        "scrolled": true
      },
      "outputs": [],
      "source": [
        "#Tokenisation\n",
        "#tokens = [[token.text for token in nlp(sentence)] for sentence in sample_df]\n",
        "\n",
        "#Lemmatization\n",
        "#lemmas = [[token.lemma_ if token.lemma_ != \"-PRON-\" else token.lower_ for token in nlp(sentence)] for sentence in sample_df]\n",
        "\n",
        "#Stemming\n",
        "#stems = [[stemmer.stem(token) for token in sentence] for sentence in tokens]\n",
        "\n",
        "#Getting pos\n",
        "#pos = [nltk.pos_tag(token) for token in tokens]\n",
        "\n",
        "#Getting entities\n",
        "#entities = [[[ent.text, ent.label_] for ent in nlp(sentence).ents] for sentence in sample_df] "
      ]
    },
    {
      "cell_type": "code",
      "execution_count": 26,
      "metadata": {
        "colab": {
          "base_uri": "https://localhost:8080/"
        },
        "id": "_O8GQR1THrxv",
        "outputId": "374a2d0a-668a-43f8-e1b7-1a133fc8d0b0"
      },
      "outputs": [],
      "source": [
        "#Most common people\n",
        "#people = [person[0] for person in [item for sublist in entities for item in sublist if item[1]=='PERSON']]\n",
        "#print('5 most common people: ', Counter(people).most_common(10))\n",
        "\n",
        "#Most common music\n",
        "#music = [person[0] for person in [item for sublist in entities for item in sublist if item[1]=='WORK_OF_ART']]\n",
        "#print('5 most common work of art: ', Counter(music).most_common(10))"
      ]
    },
    {
      "cell_type": "code",
      "execution_count": 25,
      "metadata": {
        "id": "rl4_kAOeHrxu"
      },
      "outputs": [],
      "source": [
        "#Taking the stems or the lemmas \n",
        "ptext = [' '.join(word) for word in lemmas]\n",
        "\n",
        "#Converting to lowercase\n",
        "ptext = [review.lower() for review in ptext]\n",
        "\n",
        "#Removing numbers\n",
        "ptext = [re.sub(r'\\d+', '', review) for review in ptext]\n",
        "\n",
        "#Removing punctuation\n",
        "ptext = [re.sub(r'[^\\w\\s]',' ',review) for review in ptext]\n",
        "ptext = [re.sub(' +', ' ', review) for review in ptext]\n",
        "ptext = [re.sub('_', '', review) for review in ptext]\n",
        "\n",
        "#Removing leading and trailing whitespaces\n",
        "ptext = [review.strip() for review in ptext]\n",
        "\n",
        "#Removing stopwords\n",
        "ptext = [' '.join([word for word in review.split() if word not in stop_words]) for review in ptext]"
      ]
    },
    {
      "cell_type": "code",
      "execution_count": 27,
      "metadata": {
        "colab": {
          "base_uri": "https://localhost:8080/",
          "height": 0
        },
        "id": "-_BYH4yWdEUD",
        "outputId": "b9d9310e-a07b-4dbe-eaf5-05967b738a87"
      },
      "outputs": [
        {
          "data": {
            "text/html": [
              "<div>\n",
              "<style scoped>\n",
              "    .dataframe tbody tr th:only-of-type {\n",
              "        vertical-align: middle;\n",
              "    }\n",
              "\n",
              "    .dataframe tbody tr th {\n",
              "        vertical-align: top;\n",
              "    }\n",
              "\n",
              "    .dataframe thead th {\n",
              "        text-align: right;\n",
              "    }\n",
              "</style>\n",
              "<table border=\"1\" class=\"dataframe\">\n",
              "  <thead>\n",
              "    <tr style=\"text-align: right;\">\n",
              "      <th></th>\n",
              "      <th>Original</th>\n",
              "      <th>After Proprocessing</th>\n",
              "    </tr>\n",
              "  </thead>\n",
              "  <tbody>\n",
              "    <tr>\n",
              "      <th>0</th>\n",
              "      <td>overall  verified        asin Sentimen...</td>\n",
              "      <td>[overall, verify, asin, sentiment, newreview]</td>\n",
              "    </tr>\n",
              "  </tbody>\n",
              "</table>\n",
              "</div>"
            ],
            "text/plain": [
              "                                            Original  \\\n",
              "0          overall  verified        asin Sentimen...   \n",
              "\n",
              "                             After Proprocessing  \n",
              "0  [overall, verify, asin, sentiment, newreview]  "
            ]
          },
          "execution_count": 27,
          "metadata": {},
          "output_type": "execute_result"
        }
      ],
      "source": [
        "frame = {'Original': [sample_df], \n",
        "        'After Proprocessing': [ptext]}\n",
        "\n",
        "pd.DataFrame.from_dict(frame)\n"
      ]
    },
    {
      "cell_type": "code",
      "execution_count": null,
      "metadata": {},
      "outputs": [],
      "source": []
    },
    {
      "cell_type": "code",
      "execution_count": 28,
      "metadata": {
        "colab": {
          "base_uri": "https://localhost:8080/",
          "height": 0
        },
        "id": "zf-uoGJBmVJJ",
        "outputId": "caf47bce-9023-418d-b335-7e301dec1333"
      },
      "outputs": [
        {
          "data": {
            "text/html": [
              "<div>\n",
              "<style scoped>\n",
              "    .dataframe tbody tr th:only-of-type {\n",
              "        vertical-align: middle;\n",
              "    }\n",
              "\n",
              "    .dataframe tbody tr th {\n",
              "        vertical-align: top;\n",
              "    }\n",
              "\n",
              "    .dataframe thead th {\n",
              "        text-align: right;\n",
              "    }\n",
              "</style>\n",
              "<table border=\"1\" class=\"dataframe\">\n",
              "  <thead>\n",
              "    <tr style=\"text-align: right;\">\n",
              "      <th></th>\n",
              "      <th>Original</th>\n",
              "      <th>After Proprocessing</th>\n",
              "    </tr>\n",
              "  </thead>\n",
              "  <tbody>\n",
              "    <tr>\n",
              "      <th>0</th>\n",
              "      <td>overall  verified        asin Sentimen...</td>\n",
              "      <td>[overall, verify, asin, sentiment, newreview]</td>\n",
              "    </tr>\n",
              "  </tbody>\n",
              "</table>\n",
              "</div>"
            ],
            "text/plain": [
              "                                            Original  \\\n",
              "0          overall  verified        asin Sentimen...   \n",
              "\n",
              "                             After Proprocessing  \n",
              "0  [overall, verify, asin, sentiment, newreview]  "
            ]
          },
          "execution_count": 28,
          "metadata": {},
          "output_type": "execute_result"
        }
      ],
      "source": [
        "df_2345 = pd.DataFrame.from_records([{ 'Original': sample_df, \n",
        "        'After Proprocessing': ptext }])\n",
        "df_2345"
      ]
    },
    {
      "cell_type": "code",
      "execution_count": 29,
      "metadata": {
        "colab": {
          "base_uri": "https://localhost:8080/"
        },
        "id": "Tzv-v7G1dzbn",
        "outputId": "160b6d0d-5663-4dc3-85a5-48c81da27d95"
      },
      "outputs": [
        {
          "name": "stdout",
          "output_type": "stream",
          "text": [
            "Number of words:\n",
            "- Before preprocessing:  5\n",
            "- After preprocessing:  5\n",
            "\n",
            "Average review length:\n",
            "- Before preprocessing:  0.0005\n",
            "- After preprocessing:  0.0005\n",
            "\n",
            "Number of punctuation character:\n",
            "- Before preprocessing:  0\n",
            "- After preprocessing:  0\n",
            "\n"
          ]
        }
      ],
      "source": [
        "#Number of words\n",
        "print('Number of words:')\n",
        "\n",
        "bef = len(re.findall(r'\\w+', ' '.join(sample_df)))\n",
        "aft = len(re.findall(r'\\w+', ' '.join(ptext)))\n",
        "\n",
        "print('- Before preprocessing: ', bef )\n",
        "print('- After preprocessing: ', aft )\n",
        "print()\n",
        "\n",
        "#Average review length\n",
        "print('Average review length:')\n",
        "\n",
        "bef_a = bef/10000\n",
        "aft_a = aft/10000\n",
        "\n",
        "print('- Before preprocessing: ', bef_a )\n",
        "print('- After preprocessing: ', aft_a )\n",
        "print()\n",
        "\n",
        "#Punctuation\n",
        "count = lambda l1,l2: sum([1 for x in l1 if x in l2])\n",
        "punct_b = 0\n",
        "for i in sample_df:\n",
        "    punct_b += count(i,set(string.punctuation))\n",
        "punct_a = 0\n",
        "for i in ptext:\n",
        "    punct_a += count(i,set(string.punctuation))\n",
        "    \n",
        "print('Number of punctuation character:')\n",
        "print('- Before preprocessing: ', punct_b)\n",
        "print('- After preprocessing: ', punct_a)\n",
        "print()\n"
      ]
    },
    {
      "cell_type": "markdown",
      "metadata": {
        "id": "58kTIY22vTQT"
      },
      "source": [
        "# 4. Modeling "
      ]
    },
    {
      "cell_type": "markdown",
      "metadata": {
        "id": "vXV9HF95Hrxw"
      },
      "source": [
        "## VADR sentiment"
      ]
    },
    {
      "cell_type": "code",
      "execution_count": 30,
      "metadata": {
        "id": "KL6HELwBnXSM"
      },
      "outputs": [],
      "source": [
        "import locale\n",
        "locale.getpreferredencoding = lambda: \"UTF-8\""
      ]
    },
    {
      "cell_type": "code",
      "execution_count": 32,
      "metadata": {
        "colab": {
          "base_uri": "https://localhost:8080/"
        },
        "id": "XlQxe2Oeyyc0",
        "outputId": "2ff29660-9322-46c9-fe06-c5c561232ef9"
      },
      "outputs": [
        {
          "name": "stderr",
          "output_type": "stream",
          "text": [
            "[nltk_data] Downloading package sentiwordnet to\n",
            "[nltk_data]     C:\\Users\\98936\\AppData\\Roaming\\nltk_data...\n",
            "[nltk_data]   Package sentiwordnet is already up-to-date!\n",
            "[nltk_data] Downloading package omw-1.4 to\n",
            "[nltk_data]     C:\\Users\\98936\\AppData\\Roaming\\nltk_data...\n",
            "[nltk_data]   Package omw-1.4 is already up-to-date!\n"
          ]
        },
        {
          "data": {
            "text/plain": [
              "True"
            ]
          },
          "execution_count": 32,
          "metadata": {},
          "output_type": "execute_result"
        }
      ],
      "source": [
        "#!pip install --upgrade vaderSentiment\n",
        "#nltk.download('sentiwordnet')\n",
        "#nltk.download('omw-1.4')"
      ]
    },
    {
      "cell_type": "code",
      "execution_count": 34,
      "metadata": {
        "id": "HPPaIA1iivYM"
      },
      "outputs": [],
      "source": [
        "from vaderSentiment.vaderSentiment import SentimentIntensityAnalyzer\n",
        "def sentiment_scores(sentence):\n",
        " \n",
        "    # Create a SentimentIntensityAnalyzer object.\n",
        "    sid_obj = SentimentIntensityAnalyzer()\n",
        " \n",
        "    # polarity_scores method of SentimentIntensityAnalyzer\n",
        "    # object gives a sentiment dictionary.\n",
        "    # which contains pos, neg, neu, and compound scores.\n",
        "    sentiment_dict = sid_obj.polarity_scores(sentence) \n",
        " \n",
        "    # decide sentiment as positive, negative and neutral\n",
        "    if sentiment_dict['compound'] >= 0 :\n",
        "        result = 'Positive'\n",
        " \n",
        "    elif sentiment_dict['compound'] < - 0.07 :\n",
        "        result = 'negative'\n",
        " \n",
        "    else :\n",
        "        result = 'Neurtral'\n",
        "    return result, sentiment_dict"
      ]
    },
    {
      "cell_type": "code",
      "execution_count": null,
      "metadata": {},
      "outputs": [],
      "source": [
        "sample_df.reset_index(inplace=True)"
      ]
    },
    {
      "cell_type": "code",
      "execution_count": 54,
      "metadata": {
        "colab": {
          "base_uri": "https://localhost:8080/"
        },
        "id": "i1rdr-v8ivYN",
        "outputId": "489cf56d-76a1-4454-b00f-dfc6b873de72"
      },
      "outputs": [
        {
          "name": "stdout",
          "output_type": "stream",
          "text": [
            "Overall sentiment dictionary is :  {'neg': 0.042, 'neu': 0.724, 'pos': 0.233, 'compound': 1.0}\n",
            "sentence was rated as  4.2 % Negative\n",
            "sentence was rated as  72.39999999999999 % Neutral\n",
            "sentence was rated as  23.3 % Positive\n",
            "Sentence Overall Rated As Positive\n"
          ]
        }
      ],
      "source": [
        "sample_df['SentimentScores'] = sample_df['NewReview'].apply(lambda x: sentiment_scores(x))\n",
        "sample_df[['PredictedSentiment','SentimentDict']] = sample_df['SentimentScores'].apply(lambda x: pd.Series([x[0], x[1]]))"
      ]
    },
    {
      "cell_type": "code",
      "execution_count": 38,
      "metadata": {
        "id": "FY59ga4FynDd"
      },
      "outputs": [],
      "source": [
        "sample_df['SentimentScores'][10] , sample_df['Sentiment'][10], sample_df['NewReview'][10]"
      ]
    },
    {
      "cell_type": "code",
      "execution_count": null,
      "metadata": {},
      "outputs": [],
      "source": [
        "# Define a function to compute the accuracy\n",
        "def compute_accuracy(row):\n",
        "    if row['PredictedSentiment'] == row['Sentiment']:\n",
        "        return 1\n",
        "    else:\n",
        "        return 0\n",
        "\n",
        "# Apply the function to each row and save the results to a new column\n",
        "sample_df['accuracy'] = sample_df.apply(compute_accuracy, axis=1)\n",
        "\n",
        "# Compute the overall accuracy\n",
        "accuracy = sample_df['accuracy'].sum() / len(sample_df)\n",
        "print(f\"Overall accuracy: {accuracy}\")"
      ]
    },
    {
      "cell_type": "markdown",
      "metadata": {
        "id": "tPIPUZ7bowNI"
      },
      "source": [
        "## Text blob"
      ]
    },
    {
      "cell_type": "code",
      "execution_count": 42,
      "metadata": {
        "id": "rSA_OTWvovRL"
      },
      "outputs": [],
      "source": [
        "from textblob import TextBlob"
      ]
    },
    {
      "cell_type": "code",
      "execution_count": 43,
      "metadata": {
        "id": "yjHn9-nio4ij"
      },
      "outputs": [],
      "source": [
        "wiki = TextBlob(sample_df['NewReview'][0])"
      ]
    },
    {
      "cell_type": "code",
      "execution_count": 44,
      "metadata": {
        "colab": {
          "base_uri": "https://localhost:8080/"
        },
        "id": "SuIrcIEKqFAp",
        "outputId": "de56421f-d144-458d-bbce-ff0e085e725f"
      },
      "outputs": [
        {
          "name": "stderr",
          "output_type": "stream",
          "text": [
            "[nltk_data] Downloading package punkt to\n",
            "[nltk_data]     C:\\Users\\98936\\AppData\\Roaming\\nltk_data...\n",
            "[nltk_data]   Package punkt is already up-to-date!\n",
            "[nltk_data] Downloading package brown to\n",
            "[nltk_data]     C:\\Users\\98936\\AppData\\Roaming\\nltk_data...\n",
            "[nltk_data]   Unzipping corpora\\brown.zip.\n"
          ]
        },
        {
          "data": {
            "text/plain": [
              "True"
            ]
          },
          "execution_count": 44,
          "metadata": {},
          "output_type": "execute_result"
        }
      ],
      "source": [
        "import nltk\n",
        "nltk.download('punkt')\n",
        "nltk.download('brown')"
      ]
    },
    {
      "cell_type": "code",
      "execution_count": 45,
      "metadata": {
        "colab": {
          "base_uri": "https://localhost:8080/"
        },
        "id": "ghGVoe4Sp0hd",
        "outputId": "6016a5fd-26da-4e5d-dd0e-006e34ca0980"
      },
      "outputs": [
        {
          "data": {
            "text/plain": [
              "[('Just', 'RB'),\n",
              " ('what', 'WP'),\n",
              " ('I', 'PRP'),\n",
              " ('wanted', 'VBD'),\n",
              " ('arrived', 'VBN'),\n",
              " ('on', 'IN'),\n",
              " ('time._Four', 'NN'),\n",
              " ('Stars', 'NNS')]"
            ]
          },
          "execution_count": 45,
          "metadata": {},
          "output_type": "execute_result"
        }
      ],
      "source": [
        "#Parts of Speech\n",
        "wiki.tags"
      ]
    },
    {
      "cell_type": "code",
      "execution_count": 46,
      "metadata": {
        "colab": {
          "base_uri": "https://localhost:8080/"
        },
        "id": "3Z4kvEbFqBeE",
        "outputId": "7316553b-a93e-460a-fb38-327c50f6fe06"
      },
      "outputs": [
        {
          "data": {
            "text/plain": [
              "WordList([])"
            ]
          },
          "execution_count": 46,
          "metadata": {},
          "output_type": "execute_result"
        }
      ],
      "source": [
        "wiki.noun_phrases"
      ]
    },
    {
      "cell_type": "code",
      "execution_count": 47,
      "metadata": {
        "colab": {
          "base_uri": "https://localhost:8080/"
        },
        "id": "Sg9i4m6GqPyp",
        "outputId": "01b9241b-f022-4e28-8f5d-fb70b61076e9"
      },
      "outputs": [
        {
          "data": {
            "text/plain": [
              "Sentiment(polarity=0.0, subjectivity=0.0)"
            ]
          },
          "execution_count": 47,
          "metadata": {},
          "output_type": "execute_result"
        }
      ],
      "source": [
        "wiki.sentiment"
      ]
    },
    {
      "cell_type": "code",
      "execution_count": 48,
      "metadata": {
        "colab": {
          "base_uri": "https://localhost:8080/"
        },
        "id": "IZDZnfdSqaha",
        "outputId": "06824856-ca5d-498d-ff5b-110ba9466acb"
      },
      "outputs": [
        {
          "data": {
            "text/plain": [
              "WordList(['Just', 'what', 'I', 'wanted', 'arrived', 'on', 'time._Four', 'Stars'])"
            ]
          },
          "execution_count": 48,
          "metadata": {},
          "output_type": "execute_result"
        }
      ],
      "source": [
        "wiki.words"
      ]
    },
    {
      "cell_type": "code",
      "execution_count": 49,
      "metadata": {
        "id": "g60Q-N5tqePE"
      },
      "outputs": [],
      "source": [
        "df['sentiment'] = sample_df['NewReview'].apply(lambda tweet: TextBlob(tweet).sentiment)"
      ]
    },
    {
      "cell_type": "code",
      "execution_count": 50,
      "metadata": {
        "id": "Wik8Qj4Wq8Iy"
      },
      "outputs": [],
      "source": [
        "df_reviews = df"
      ]
    },
    {
      "cell_type": "code",
      "execution_count": 51,
      "metadata": {
        "id": "oNFWVOhlrD-9"
      },
      "outputs": [],
      "source": [
        "def sentiment_calc(text):\n",
        "    try:\n",
        "        return TextBlob(text).sentiment\n",
        "    except:\n",
        "        return None\n",
        "\n",
        "df_reviews['sentiment'] = sample_df['NewReview'].apply(sentiment_calc)"
      ]
    },
    {
      "cell_type": "code",
      "execution_count": 52,
      "metadata": {
        "colab": {
          "base_uri": "https://localhost:8080/",
          "height": 0
        },
        "id": "4Kb3QcvWrOia",
        "outputId": "41c42efb-ecfa-4530-96a5-30387711b61e"
      },
      "outputs": [
        {
          "data": {
            "text/html": [
              "<div>\n",
              "<style scoped>\n",
              "    .dataframe tbody tr th:only-of-type {\n",
              "        vertical-align: middle;\n",
              "    }\n",
              "\n",
              "    .dataframe tbody tr th {\n",
              "        vertical-align: top;\n",
              "    }\n",
              "\n",
              "    .dataframe thead th {\n",
              "        text-align: right;\n",
              "    }\n",
              "</style>\n",
              "<table border=\"1\" class=\"dataframe\">\n",
              "  <thead>\n",
              "    <tr style=\"text-align: right;\">\n",
              "      <th></th>\n",
              "      <th>data</th>\n",
              "      <th>sentiment</th>\n",
              "    </tr>\n",
              "  </thead>\n",
              "  <tbody>\n",
              "    <tr>\n",
              "      <th>0</th>\n",
              "      <td>{'overall': 5.0, 'vote': '3', 'verified': True...</td>\n",
              "      <td>(0.0, 0.0)</td>\n",
              "    </tr>\n",
              "    <tr>\n",
              "      <th>1</th>\n",
              "      <td>{'overall': 5.0, 'verified': True, 'reviewTime...</td>\n",
              "      <td>(0.0, 0.0)</td>\n",
              "    </tr>\n",
              "    <tr>\n",
              "      <th>2</th>\n",
              "      <td>{'overall': 5.0, 'verified': True, 'reviewTime...</td>\n",
              "      <td>(0.5, 0.6)</td>\n",
              "    </tr>\n",
              "    <tr>\n",
              "      <th>3</th>\n",
              "      <td>{'overall': 4.0, 'vote': '3', 'verified': Fals...</td>\n",
              "      <td>(0.24138888888888893, 0.5711111111111111)</td>\n",
              "    </tr>\n",
              "    <tr>\n",
              "      <th>4</th>\n",
              "      <td>{'overall': 5.0, 'verified': True, 'reviewTime...</td>\n",
              "      <td>(0.0, 0.0)</td>\n",
              "    </tr>\n",
              "    <tr>\n",
              "      <th>...</th>\n",
              "      <td>...</td>\n",
              "      <td>...</td>\n",
              "    </tr>\n",
              "    <tr>\n",
              "      <th>169776</th>\n",
              "      <td>{'overall': 5.0, 'verified': True, 'reviewTime...</td>\n",
              "      <td>NaN</td>\n",
              "    </tr>\n",
              "    <tr>\n",
              "      <th>169777</th>\n",
              "      <td>{'overall': 5.0, 'verified': True, 'reviewTime...</td>\n",
              "      <td>NaN</td>\n",
              "    </tr>\n",
              "    <tr>\n",
              "      <th>169778</th>\n",
              "      <td>{'overall': 5.0, 'verified': True, 'reviewTime...</td>\n",
              "      <td>NaN</td>\n",
              "    </tr>\n",
              "    <tr>\n",
              "      <th>169779</th>\n",
              "      <td>{'overall': 5.0, 'verified': True, 'reviewTime...</td>\n",
              "      <td>NaN</td>\n",
              "    </tr>\n",
              "    <tr>\n",
              "      <th>169780</th>\n",
              "      <td>{'overall': 5.0, 'verified': True, 'reviewTime...</td>\n",
              "      <td>NaN</td>\n",
              "    </tr>\n",
              "  </tbody>\n",
              "</table>\n",
              "<p>169781 rows × 2 columns</p>\n",
              "</div>"
            ],
            "text/plain": [
              "                                                     data  \\\n",
              "0       {'overall': 5.0, 'vote': '3', 'verified': True...   \n",
              "1       {'overall': 5.0, 'verified': True, 'reviewTime...   \n",
              "2       {'overall': 5.0, 'verified': True, 'reviewTime...   \n",
              "3       {'overall': 4.0, 'vote': '3', 'verified': Fals...   \n",
              "4       {'overall': 5.0, 'verified': True, 'reviewTime...   \n",
              "...                                                   ...   \n",
              "169776  {'overall': 5.0, 'verified': True, 'reviewTime...   \n",
              "169777  {'overall': 5.0, 'verified': True, 'reviewTime...   \n",
              "169778  {'overall': 5.0, 'verified': True, 'reviewTime...   \n",
              "169779  {'overall': 5.0, 'verified': True, 'reviewTime...   \n",
              "169780  {'overall': 5.0, 'verified': True, 'reviewTime...   \n",
              "\n",
              "                                        sentiment  \n",
              "0                                      (0.0, 0.0)  \n",
              "1                                      (0.0, 0.0)  \n",
              "2                                      (0.5, 0.6)  \n",
              "3       (0.24138888888888893, 0.5711111111111111)  \n",
              "4                                      (0.0, 0.0)  \n",
              "...                                           ...  \n",
              "169776                                        NaN  \n",
              "169777                                        NaN  \n",
              "169778                                        NaN  \n",
              "169779                                        NaN  \n",
              "169780                                        NaN  \n",
              "\n",
              "[169781 rows x 2 columns]"
            ]
          },
          "execution_count": 52,
          "metadata": {},
          "output_type": "execute_result"
        }
      ],
      "source": [
        "df_reviews"
      ]
    },
    {
      "cell_type": "markdown",
      "metadata": {
        "id": "DMqLu0BeHrxu"
      },
      "source": [
        "## Word Cloud"
      ]
    },
    {
      "cell_type": "code",
      "execution_count": 53,
      "metadata": {
        "colab": {
          "base_uri": "https://localhost:8080/",
          "height": 0
        },
        "id": "QI8ulTWRi4O8",
        "outputId": "1c7905fc-5b0c-49fb-dc75-d953b4089a87"
      },
      "outputs": [
        {
          "data": {
            "image/png": "[encoded data removed]",
            "text/plain": [
              "<Figure size 800x800 with 1 Axes>"
            ]
          },
          "metadata": {},
          "output_type": "display_data"
        }
      ],
      "source": [
        "#Code take from GFG to generate Word Cloud\n",
        "\n",
        "comment_words = ''\n",
        "stopwords = set(STOPWORDS)\n",
        " \n",
        "# iterate through the csv file\n",
        "for val in ptext:\n",
        "     \n",
        "    # typecaste each val to string\n",
        "    val = str(val)\n",
        " \n",
        "    # split the value\n",
        "    tokens = val.split()\n",
        "     \n",
        "    # Converts each token into lowercase\n",
        "    for i in range(len(tokens)):\n",
        "        tokens[i] = tokens[i].lower()\n",
        "     \n",
        "    comment_words += \" \".join(tokens)+\" \"\n",
        "\n",
        "#Generate word cloud\n",
        "wordcloud = WordCloud(width = 800, height = 800,\n",
        "                background_color ='black',\n",
        "                stopwords = stopwords,\n",
        "                min_font_size = 10).generate(comment_words)\n",
        " \n",
        "#Plot the WordCloud image                      \n",
        "plt.figure(figsize = (8, 8), facecolor = None)\n",
        "plt.imshow(wordcloud)\n",
        "plt.axis(\"off\")\n",
        " \n",
        "plt.show()"
      ]
    }
  ],
  "metadata": {
    "accelerator": "GPU",
    "colab": {
      "provenance": []
    },
    "gpuClass": "standard",
    "kernelspec": {
      "display_name": "Python 3 (ipykernel)",
      "language": "python",
      "name": "python3"
    },
    "language_info": {
      "codemirror_mode": {
        "name": "ipython",
        "version": 3
      },
      "file_extension": ".py",
      "mimetype": "text/x-python",
      "name": "python",
      "nbconvert_exporter": "python",
      "pygments_lexer": "ipython3",
      "version": "3.9.13"
    },
    "vscode": {
      "interpreter": {
        "hash": "5b8f17365b4d5f240483afef44bca8ebe6c470ce8044008344980ae5c331b88f"
      }
    }
  },
  "nbformat": 4,
  "nbformat_minor": 0
}
