{
  "cells": [
    {
      "cell_type": "code",
      "execution_count": null,
      "metadata": {
        "colab": {
          "base_uri": "https://localhost:8080/"
        },
        "id": "4qtvmn6By3zR",
        "outputId": "fce7a6ff-7716-489a-fb1f-49645ffce96a"
      },
      "outputs": [
        {
          "name": "stderr",
          "output_type": "stream",
          "text": [
            "[nltk_data] Downloading package stopwords to /root/nltk_data...\n",
            "[nltk_data]   Unzipping corpora/stopwords.zip.\n",
            "[nltk_data] Downloading package wordnet to /root/nltk_data...\n",
            "[nltk_data] Downloading package genesis to /root/nltk_data...\n",
            "[nltk_data]   Unzipping corpora/genesis.zip.\n",
            "[nltk_data] Downloading package averaged_perceptron_tagger to\n",
            "[nltk_data]     /root/nltk_data...\n",
            "[nltk_data]   Unzipping taggers/averaged_perceptron_tagger.zip.\n",
            "[nltk_data] Downloading package punkt to /root/nltk_data...\n",
            "[nltk_data]   Unzipping tokenizers/punkt.zip.\n",
            "[nltk_data] Downloading package brown to /root/nltk_data...\n",
            "[nltk_data]   Unzipping corpora/brown.zip.\n"
          ]
        },
        {
          "data": {
            "text/plain": [
              "True"
            ]
          },
          "execution_count": 2,
          "metadata": {},
          "output_type": "execute_result"
        }
      ],
      "source": [
        "import pandas as pd\n",
        "import numpy as np\n",
        "import matplotlib.pyplot as plt\n",
        "import gzip\n",
        "import nltk\n",
        "import spacy\n",
        "import string\n",
        "import re\n",
        "import warnings\n",
        "import json\n",
        "\n",
        "\n",
        "from nltk.corpus import stopwords\n",
        "from nltk.collocations import *\n",
        "from collections import Counter\n",
        "from nltk.stem import porter\n",
        "from wordcloud import WordCloud, STOPWORDS\n",
        "from nltk.tokenize import word_tokenize\n",
        "\n",
        "from sklearn.feature_extraction.text import TfidfVectorizer\n",
        "from sklearn.naive_bayes import MultinomialNB\n",
        "from sklearn.model_selection import train_test_split\n",
        "from sklearn.metrics import accuracy_score\n",
        "from sklearn.pipeline import Pipeline\n",
        "from sklearn.linear_model import LogisticRegression\n",
        "from sklearn.feature_extraction.text import CountVectorizer\n",
        "from sklearn.pipeline import make_pipeline\n",
        "from sklearn.preprocessing import StandardScaler\n",
        "from sklearn.ensemble import GradientBoostingClassifier\n",
        "from sklearn.model_selection import train_test_split, GridSearchCV\n",
        "from sklearn.svm import SVC\n",
        "\n",
        "\n",
        "\n",
        "\n",
        "\n",
        "\n",
        "\n",
        "nltk.download('stopwords')\n",
        "nltk.download('wordnet')\n",
        "nltk.download('genesis')\n",
        "nltk.download('averaged_perceptron_tagger')\n",
        "\n",
        "stop_words = set(stopwords.words('english'))\n",
        "stemmer = porter.PorterStemmer()\n",
        "\n",
        "warnings.simplefilter(action='ignore', category=FutureWarning)\n",
        "warnings.simplefilter(action='ignore', category=DeprecationWarning)\n",
        "\n",
        "nlp = spacy.load(\"en_core_web_sm\")\n",
        "\n",
        "nltk.download('punkt')\n",
        "nltk.download('brown')"
      ]
    },
    {
      "cell_type": "markdown",
      "source": [
        "## Importing 'reviews' dataset"
      ],
      "metadata": {
        "id": "r25lio9LbmvD"
      }
    },
    {
      "cell_type": "code",
      "execution_count": null,
      "metadata": {
        "id": "4ABiUORN9QGY"
      },
      "outputs": [],
      "source": []
    },
    {
      "cell_type": "code",
      "execution_count": null,
      "metadata": {
        "id": "2KpzBxXn8tYG"
      },
      "outputs": [],
      "source": [
        "full_df = pd.read_json(\"reviews_Digital_Music_5.json.gz\", orient='records',lines=True)\n"
      ]
    },
    {
      "cell_type": "code",
      "execution_count": null,
      "metadata": {
        "id": "qlniHtyhy3zT"
      },
      "outputs": [],
      "source": [
        "#creating Sentiment column with overall rating\n",
        "full_df['Sentiment'] = np.where((full_df['overall'] > 3), 'Positive', \n",
        "                          np.where((full_df['overall'] < 3), 'Negative', 'Neutral'))\n"
      ]
    },
    {
      "cell_type": "code",
      "execution_count": null,
      "metadata": {
        "colab": {
          "base_uri": "https://localhost:8080/"
        },
        "id": "bgWLiGKQy3zT",
        "outputId": "a4705ab7-ed79-43bd-8242-5db9e2703d6d"
      },
      "outputs": [
        {
          "data": {
            "text/plain": [
              "Positive    158985\n",
              "Neutral       6792\n",
              "Negative      4004\n",
              "Name: Sentiment, dtype: int64"
            ]
          },
          "execution_count": 28,
          "metadata": {},
          "output_type": "execute_result"
        }
      ],
      "source": [
        "#showing that the data is not balanced\n",
        "full_df['Sentiment'].value_counts() "
      ]
    },
    {
      "cell_type": "code",
      "execution_count": null,
      "metadata": {
        "id": "2APJ3Sgmy3zT"
      },
      "outputs": [],
      "source": [
        "#creating  'NewReview'  column using  'reviewText' and 'summary' columns\n",
        "cols = ['reviewText','summary']\n",
        "full_df['NewReview'] = full_df[cols].apply(lambda row: ' '.join(row.values.astype(str)), axis=1)\n",
        "full_df['NewReview'] = full_df['NewReview'].astype(str)\n",
        "full_df['review_length'] = full_df['NewReview'].apply(lambda x: len(x.split()))"
      ]
    },
    {
      "cell_type": "code",
      "execution_count": null,
      "metadata": {
        "id": "2Ru99Y21y3zU"
      },
      "outputs": [],
      "source": [
        "music_df = full_df.drop(columns=['reviewTime','reviewerName','unixReviewTime','summary','reviewText'])"
      ]
    },
    {
      "cell_type": "code",
      "execution_count": null,
      "metadata": {
        "id": "T8IPnFwf4XcE"
      },
      "outputs": [],
      "source": []
    },
    {
      "cell_type": "markdown",
      "metadata": {
        "id": "TU2UwuY340lH"
      },
      "source": [
        "## clean text"
      ]
    },
    {
      "cell_type": "code",
      "execution_count": null,
      "metadata": {
        "id": "AhsLz4Suy3zW"
      },
      "outputs": [],
      "source": [
        "#drop non-English comments\n",
        "from langdetect import detect\n",
        "\n",
        "def is_english(text):\n",
        "    try:\n",
        "        lang = detect(text)\n",
        "        return lang == 'en'\n",
        "    except:\n",
        "        return False\n",
        "\n",
        "#music_df = music_df[music_df['NewReview'].apply(is_english)]\n",
        "\n",
        "\n"
      ]
    },
    {
      "cell_type": "code",
      "execution_count": null,
      "metadata": {
        "id": "4zTalDNY-rnz"
      },
      "outputs": [],
      "source": [
        "\n",
        "#music_df.to_json(\"music_df_en_only.json.gz\", orient='records',lines=True)"
      ]
    },
    {
      "cell_type": "code",
      "execution_count": null,
      "metadata": {
        "id": "N8Zcubsgy3zc"
      },
      "outputs": [],
      "source": [
        "from nltk.stem import *\n",
        "\n",
        "# Initialize stopwords\n",
        "STOPWORDS = set(stopwords.words('english'))\n",
        "# Initialize stemmer and lemmatizer\n",
        "stemmer = PorterStemmer()\n",
        "lemmatizer = WordNetLemmatizer()\n",
        "\n",
        "# Define function for text cleaning\n",
        "def clean_text(text):\n",
        "    # Convert to lowercase\n",
        "    text = text.lower()\n",
        "\n",
        "    # Remove URLs\n",
        "    text = re.sub(r'http\\S+', '', text)\n",
        "\n",
        "    # Remove currency symbols\n",
        "    text = re.sub(r'£|\\$', '', text)\n",
        "\n",
        "    # Remove phone numbers\n",
        "    text = re.sub(r'^\\(?[\\d]{3}\\)?[\\s-]?[\\d]{3}[\\s-]?[\\d]{4}$', '', text)\n",
        "\n",
        "    # Remove email addresses\n",
        "    text = re.sub(r'\\S+@\\S+', '', text)\n",
        "\n",
        "    # Remove punctuation and special characters except emojis\n",
        "    #text = re.sub(r'[^\\w\\s' + emoji.get_emoji_regexp() + ']', '', text)\n",
        "    text = demoji.replace(text, '')\n",
        "\n",
        "    # Tokenize text into words\n",
        "    words = nltk.word_tokenize(text)\n",
        "    \n",
        "    # Remove stopwords and handle negation\n",
        "    negation_words = ['not', 'no', 'never', 'neither', 'nor']\n",
        "    words = [word if word.lower() in negation_words else word.lower() for word in words]\n",
        "    words = [word for word in words if word.lower() not in STOPWORDS]\n",
        "    words = [f'NOT_{words[i+1]}' if (i < len(words)-1 and words[i].lower() in negation_words and words[i+1] not in string.punctuation) else words[i] for i in range(len(words))]\n",
        "    \n",
        "    # Lemmatize words\n",
        "    words = [lemmatizer.lemmatize(word) for word in words]\n",
        "\n",
        "    # Stem words\n",
        "    words = [stemmer.stem(word) for word in words]\n",
        "\n",
        "    # Join words back into text\n",
        "    cleaned_text = ' '.join(words)\n",
        "    return cleaned_text\n"
      ]
    },
    {
      "cell_type": "code",
      "execution_count": null,
      "metadata": {
        "id": "BSaaQj9x805S"
      },
      "outputs": [],
      "source": [
        "from multiprocessing import cpu_count, Pool\n",
        "pool = Pool(cpu_count())\n",
        "tasks = music_df['NewReview'].tolist()\n",
        "done = pool.map(clean_text, tasks)  # parallel processing\n",
        "music_df['processed_review'] = done"
      ]
    },
    {
      "cell_type": "code",
      "execution_count": null,
      "metadata": {
        "id": "DykSm_1I9Wjq"
      },
      "outputs": [],
      "source": [
        "music_df = music_df.drop(columns=['NewReview'])"
      ]
    },
    {
      "cell_type": "code",
      "source": [],
      "metadata": {
        "id": "gl2CswSYeP4-"
      },
      "execution_count": null,
      "outputs": []
    },
    {
      "cell_type": "code",
      "execution_count": null,
      "metadata": {
        "id": "Dw1SaaXw80w6"
      },
      "outputs": [],
      "source": [
        "# code for saving\n",
        "#music_df.to_json(\"music_df_en_only_cleaned.json.gz\", orient='records',lines=True)"
      ]
    },
    {
      "cell_type": "markdown",
      "source": [
        "### skip route a: load cleaned df"
      ],
      "metadata": {
        "id": "RWPdHC-Ncif6"
      }
    },
    {
      "cell_type": "code",
      "execution_count": null,
      "metadata": {
        "id": "NbUqIYQU80oK"
      },
      "outputs": [],
      "source": [
        "music_df = pd.read_json(\"music_df_en_only_cleaned.json.gz\", orient='records',lines=True)\n"
      ]
    },
    {
      "cell_type": "code",
      "execution_count": null,
      "metadata": {
        "colab": {
          "base_uri": "https://localhost:8080/",
          "height": 206
        },
        "id": "CQnEEmyLdezo",
        "outputId": "4987a33e-6b2d-4cf6-8eaa-65783c54db0d"
      },
      "outputs": [
        {
          "data": {
            "text/html": [
              "\n",
              "  <div id=\"df-a151f481-fc1c-433c-a055-f28c62a07470\">\n",
              "    <div class=\"colab-df-container\">\n",
              "      <div>\n",
              "<style scoped>\n",
              "    .dataframe tbody tr th:only-of-type {\n",
              "        vertical-align: middle;\n",
              "    }\n",
              "\n",
              "    .dataframe tbody tr th {\n",
              "        vertical-align: top;\n",
              "    }\n",
              "\n",
              "    .dataframe thead th {\n",
              "        text-align: right;\n",
              "    }\n",
              "</style>\n",
              "<table border=\"1\" class=\"dataframe\">\n",
              "  <thead>\n",
              "    <tr style=\"text-align: right;\">\n",
              "      <th></th>\n",
              "      <th>reviewerID</th>\n",
              "      <th>asin</th>\n",
              "      <th>helpful</th>\n",
              "      <th>overall</th>\n",
              "      <th>Sentiment</th>\n",
              "      <th>review_length</th>\n",
              "      <th>processed_review</th>\n",
              "    </tr>\n",
              "  </thead>\n",
              "  <tbody>\n",
              "    <tr>\n",
              "      <th>0</th>\n",
              "      <td>A3EBHHCZO6V2A4</td>\n",
              "      <td>5555991584</td>\n",
              "      <td>[3, 3]</td>\n",
              "      <td>5</td>\n",
              "      <td>Positive</td>\n",
              "      <td>157</td>\n",
              "      <td>'s hard believ `` memori tree '' came 11 year ...</td>\n",
              "    </tr>\n",
              "    <tr>\n",
              "      <th>1</th>\n",
              "      <td>AZPWAXJG9OJXV</td>\n",
              "      <td>5555991584</td>\n",
              "      <td>[0, 0]</td>\n",
              "      <td>5</td>\n",
              "      <td>Positive</td>\n",
              "      <td>105</td>\n",
              "      <td>clasically-styl introvert album , memori tree ...</td>\n",
              "    </tr>\n",
              "    <tr>\n",
              "      <th>2</th>\n",
              "      <td>A38IRL0X2T4DPF</td>\n",
              "      <td>5555991584</td>\n",
              "      <td>[2, 2]</td>\n",
              "      <td>5</td>\n",
              "      <td>Positive</td>\n",
              "      <td>88</td>\n",
              "      <td>not_thought thought enya would reach sublim he...</td>\n",
              "    </tr>\n",
              "    <tr>\n",
              "      <th>3</th>\n",
              "      <td>A22IK3I6U76GX0</td>\n",
              "      <td>5555991584</td>\n",
              "      <td>[1, 1]</td>\n",
              "      <td>5</td>\n",
              "      <td>Positive</td>\n",
              "      <td>95</td>\n",
              "      <td>third review irish album write today ( other c...</td>\n",
              "    </tr>\n",
              "    <tr>\n",
              "      <th>4</th>\n",
              "      <td>A1AISPOIIHTHXX</td>\n",
              "      <td>5555991584</td>\n",
              "      <td>[1, 1]</td>\n",
              "      <td>4</td>\n",
              "      <td>Positive</td>\n",
              "      <td>719</td>\n",
              "      <td>enya , despit success record artist , n't broa...</td>\n",
              "    </tr>\n",
              "  </tbody>\n",
              "</table>\n",
              "</div>\n",
              "      <button class=\"colab-df-convert\" onclick=\"convertToInteractive('df-a151f481-fc1c-433c-a055-f28c62a07470')\"\n",
              "              title=\"Convert this dataframe to an interactive table.\"\n",
              "              style=\"display:none;\">\n",
              "        \n",
              "  <svg xmlns=\"http://www.w3.org/2000/svg\" height=\"24px\"viewBox=\"0 0 24 24\"\n",
              "       width=\"24px\">\n",
              "    <path d=\"M0 0h24v24H0V0z\" fill=\"none\"/>\n",
              "    <path d=\"M18.56 5.44l.94 2.06.94-2.06 2.06-.94-2.06-.94-.94-2.06-.94 2.06-2.06.94zm-11 1L8.5 8.5l.94-2.06 2.06-.94-2.06-.94L8.5 2.5l-.94 2.06-2.06.94zm10 10l.94 2.06.94-2.06 2.06-.94-2.06-.94-.94-2.06-.94 2.06-2.06.94z\"/><path d=\"M17.41 7.96l-1.37-1.37c-.4-.4-.92-.59-1.43-.59-.52 0-1.04.2-1.43.59L10.3 9.45l-7.72 7.72c-.78.78-.78 2.05 0 2.83L4 21.41c.39.39.9.59 1.41.59.51 0 1.02-.2 1.41-.59l7.78-7.78 2.81-2.81c.8-.78.8-2.07 0-2.86zM5.41 20L4 18.59l7.72-7.72 1.47 1.35L5.41 20z\"/>\n",
              "  </svg>\n",
              "      </button>\n",
              "      \n",
              "  <style>\n",
              "    .colab-df-container {\n",
              "      display:flex;\n",
              "      flex-wrap:wrap;\n",
              "      gap: 12px;\n",
              "    }\n",
              "\n",
              "    .colab-df-convert {\n",
              "      background-color: #E8F0FE;\n",
              "      border: none;\n",
              "      border-radius: 50%;\n",
              "      cursor: pointer;\n",
              "      display: none;\n",
              "      fill: #1967D2;\n",
              "      height: 32px;\n",
              "      padding: 0 0 0 0;\n",
              "      width: 32px;\n",
              "    }\n",
              "\n",
              "    .colab-df-convert:hover {\n",
              "      background-color: #E2EBFA;\n",
              "      box-shadow: 0px 1px 2px rgba(60, 64, 67, 0.3), 0px 1px 3px 1px rgba(60, 64, 67, 0.15);\n",
              "      fill: #174EA6;\n",
              "    }\n",
              "\n",
              "    [theme=dark] .colab-df-convert {\n",
              "      background-color: #3B4455;\n",
              "      fill: #D2E3FC;\n",
              "    }\n",
              "\n",
              "    [theme=dark] .colab-df-convert:hover {\n",
              "      background-color: #434B5C;\n",
              "      box-shadow: 0px 1px 3px 1px rgba(0, 0, 0, 0.15);\n",
              "      filter: drop-shadow(0px 1px 2px rgba(0, 0, 0, 0.3));\n",
              "      fill: #FFFFFF;\n",
              "    }\n",
              "  </style>\n",
              "\n",
              "      <script>\n",
              "        const buttonEl =\n",
              "          document.querySelector('#df-a151f481-fc1c-433c-a055-f28c62a07470 button.colab-df-convert');\n",
              "        buttonEl.style.display =\n",
              "          google.colab.kernel.accessAllowed ? 'block' : 'none';\n",
              "\n",
              "        async function convertToInteractive(key) {\n",
              "          const element = document.querySelector('#df-a151f481-fc1c-433c-a055-f28c62a07470');\n",
              "          const dataTable =\n",
              "            await google.colab.kernel.invokeFunction('convertToInteractive',\n",
              "                                                     [key], {});\n",
              "          if (!dataTable) return;\n",
              "\n",
              "          const docLinkHtml = 'Like what you see? Visit the ' +\n",
              "            '<a target=\"_blank\" href=https://colab.research.google.com/notebooks/data_table.ipynb>data table notebook</a>'\n",
              "            + ' to learn more about interactive tables.';\n",
              "          element.innerHTML = '';\n",
              "          dataTable['output_type'] = 'display_data';\n",
              "          await google.colab.output.renderOutput(dataTable, element);\n",
              "          const docLink = document.createElement('div');\n",
              "          docLink.innerHTML = docLinkHtml;\n",
              "          element.appendChild(docLink);\n",
              "        }\n",
              "      </script>\n",
              "    </div>\n",
              "  </div>\n",
              "  "
            ],
            "text/plain": [
              "       reviewerID        asin helpful  overall Sentiment  review_length  \\\n",
              "0  A3EBHHCZO6V2A4  5555991584  [3, 3]        5  Positive            157   \n",
              "1   AZPWAXJG9OJXV  5555991584  [0, 0]        5  Positive            105   \n",
              "2  A38IRL0X2T4DPF  5555991584  [2, 2]        5  Positive             88   \n",
              "3  A22IK3I6U76GX0  5555991584  [1, 1]        5  Positive             95   \n",
              "4  A1AISPOIIHTHXX  5555991584  [1, 1]        4  Positive            719   \n",
              "\n",
              "                                    processed_review  \n",
              "0  's hard believ `` memori tree '' came 11 year ...  \n",
              "1  clasically-styl introvert album , memori tree ...  \n",
              "2  not_thought thought enya would reach sublim he...  \n",
              "3  third review irish album write today ( other c...  \n",
              "4  enya , despit success record artist , n't broa...  "
            ]
          },
          "execution_count": 15,
          "metadata": {},
          "output_type": "execute_result"
        }
      ],
      "source": [
        "music_df.head()"
      ]
    },
    {
      "cell_type": "code",
      "execution_count": null,
      "metadata": {
        "id": "9CLRcYvSwNvP"
      },
      "outputs": [],
      "source": []
    },
    {
      "cell_type": "markdown",
      "metadata": {
        "id": "FsP5Duzh46YI"
      },
      "source": [
        "### Load metadata (for 'items')"
      ]
    },
    {
      "cell_type": "code",
      "execution_count": null,
      "metadata": {
        "colab": {
          "base_uri": "https://localhost:8080/",
          "height": 90
        },
        "id": "srSlpPI22gpH",
        "outputId": "5ff03775-1c56-4488-87aa-75962cbf561a"
      },
      "outputs": [
        {
          "name": "stdout",
          "output_type": "stream",
          "text": [
            "Downloading data from https://raw.githubusercontent.com/shahrzadko/NLPDigitalMusic/main/meta_Digital_Music.json.gz?token=GHSAT0AAAAAAB6LOL42SKHPCCMIVYPOC4REY7AKE2Q\n",
            "42335451/42335451 [==============================] - 0s 0us/step\n"
          ]
        },
        {
          "data": {
            "application/vnd.google.colaboratory.intrinsic+json": {
              "type": "string"
            },
            "text/plain": [
              "'./meta_Digital_Music.json.gz'"
            ]
          },
          "execution_count": 3,
          "metadata": {},
          "output_type": "execute_result"
        }
      ],
      "source": [
        "from keras.utils import get_file\n",
        "\n",
        "dir1 = get_file(origin=\"https://raw.githubusercontent.com/shahrzadko/NLPDigitalMusic/main/meta_Digital_Music.json.gz?token=GHSAT0AAAAAAB6LOL42SKHPCCMIVYPOC4REY7AKE2Q\")\n",
        "dir1\n",
        "\n",
        "import shutil\n",
        "shutil.move(dir1, \"./meta_Digital_Music.json.gz\")"
      ]
    },
    {
      "cell_type": "code",
      "execution_count": null,
      "metadata": {
        "colab": {
          "base_uri": "https://localhost:8080/"
        },
        "id": "UTXyWUt5419W",
        "outputId": "cdd81397-69a2-49cf-8dee-432b02f70cb3"
      },
      "outputs": [
        {
          "name": "stdout",
          "output_type": "stream",
          "text": [
            "279899\n"
          ]
        }
      ],
      "source": [
        "import ast\n",
        "import html\n",
        "\n",
        "path = 'meta_Digital_Music.json.gz'\n",
        "i = 0\n",
        "df_dict = {}\n",
        "\n",
        "search_full = \"\"\n",
        "\n",
        "jgz = gzip.open(path, 'rb')\n",
        "for line in jgz:\n",
        "    i += 1\n",
        "    #line, _ = re.subn(r'\\'','\"',line.decode('utf-8'))\n",
        "    #d = json.loads(line)\n",
        "    d = ast.literal_eval(line.decode('utf-8'))\n",
        "    \n",
        "    if 'title' not in d or not len(d['title']): continue #remove empty title\n",
        "\n",
        "    #if re.search(r'[<>]',d['title']): continue #remove inviald title that only got html tag\n",
        "    d['title'] = html.unescape(d['title'])\n",
        "    \n",
        "    if d['asin'] in df_dict: continue #remove duplicate items\n",
        "\n",
        "    df_dict[d['asin']] = d \n",
        "\n",
        "mdata_df = pd.DataFrame.from_dict(df_dict, orient='index')\n",
        "print(i)"
      ]
    },
    {
      "cell_type": "code",
      "execution_count": null,
      "metadata": {
        "colab": {
          "base_uri": "https://localhost:8080/"
        },
        "id": "8sdgKp5kgWvt",
        "outputId": "6a19d078-1686-421f-da98-65bf8f55d109"
      },
      "outputs": [
        {
          "data": {
            "text/plain": [
              "(7321, 9)"
            ]
          },
          "execution_count": 7,
          "metadata": {},
          "output_type": "execute_result"
        }
      ],
      "source": [
        "mdata_df.shape"
      ]
    },
    {
      "cell_type": "code",
      "execution_count": null,
      "metadata": {
        "colab": {
          "base_uri": "https://localhost:8080/",
          "height": 441
        },
        "id": "q_DV6wPD6rme",
        "outputId": "317e6f17-7f7e-461e-8ff3-92c5998e7e67"
      },
      "outputs": [
        {
          "data": {
            "text/html": [
              "\n",
              "  <div id=\"df-11eaa089-9628-42bc-aed6-6e80b6f6991e\">\n",
              "    <div class=\"colab-df-container\">\n",
              "      <div>\n",
              "<style scoped>\n",
              "    .dataframe tbody tr th:only-of-type {\n",
              "        vertical-align: middle;\n",
              "    }\n",
              "\n",
              "    .dataframe tbody tr th {\n",
              "        vertical-align: top;\n",
              "    }\n",
              "\n",
              "    .dataframe thead th {\n",
              "        text-align: right;\n",
              "    }\n",
              "</style>\n",
              "<table border=\"1\" class=\"dataframe\">\n",
              "  <thead>\n",
              "    <tr style=\"text-align: right;\">\n",
              "      <th></th>\n",
              "      <th>asin</th>\n",
              "      <th>title</th>\n",
              "      <th>price</th>\n",
              "      <th>imUrl</th>\n",
              "      <th>related</th>\n",
              "      <th>salesRank</th>\n",
              "      <th>categories</th>\n",
              "      <th>description</th>\n",
              "      <th>brand</th>\n",
              "    </tr>\n",
              "  </thead>\n",
              "  <tbody>\n",
              "    <tr>\n",
              "      <th>5555991584</th>\n",
              "      <td>5555991584</td>\n",
              "      <td>Memory of Trees</td>\n",
              "      <td>9.49</td>\n",
              "      <td>http://ecx.images-amazon.com/images/I/51b5WDjd...</td>\n",
              "      <td>{'also_bought': ['B000002LRT', 'B000002LRR', '...</td>\n",
              "      <td>{'Music': 939190}</td>\n",
              "      <td>[[CDs &amp; Vinyl, New Age, Celtic New Age], [CDs ...</td>\n",
              "      <td>NaN</td>\n",
              "      <td>NaN</td>\n",
              "    </tr>\n",
              "    <tr>\n",
              "      <th>6308051551</th>\n",
              "      <td>6308051551</td>\n",
              "      <td>Don't Drink His Blood</td>\n",
              "      <td>8.91</td>\n",
              "      <td>http://ecx.images-amazon.com/images/I/31LT2n7Q...</td>\n",
              "      <td>NaN</td>\n",
              "      <td>NaN</td>\n",
              "      <td>[[Digital Music, Alternative Rock, Indie &amp; Lo-...</td>\n",
              "      <td>NEW Combo BLUWAVS CD and FLAC FILE</td>\n",
              "      <td>NaN</td>\n",
              "    </tr>\n",
              "    <tr>\n",
              "      <th>7901622466</th>\n",
              "      <td>7901622466</td>\n",
              "      <td>On Fire</td>\n",
              "      <td>11.33</td>\n",
              "      <td>http://ecx.images-amazon.com/images/I/21W29WZw...</td>\n",
              "      <td>{'also_bought': ['B00000282A', 'B0084O8O9S', '...</td>\n",
              "      <td>{'Music': 58799}</td>\n",
              "      <td>[[CDs &amp; Vinyl, Christian, Rock &amp; Alternative],...</td>\n",
              "      <td>NaN</td>\n",
              "      <td>NaN</td>\n",
              "    </tr>\n",
              "    <tr>\n",
              "      <th>B0000000ZW</th>\n",
              "      <td>B0000000ZW</td>\n",
              "      <td>Changing Faces</td>\n",
              "      <td>23.64</td>\n",
              "      <td>http://ecx.images-amazon.com/images/I/51H3Bp-3...</td>\n",
              "      <td>{'also_bought': ['B00000010Z', 'B0000039Q5', '...</td>\n",
              "      <td>{'Music': 68784}</td>\n",
              "      <td>[[CDs &amp; Vinyl, Dance &amp; Electronic], [CDs &amp; Vin...</td>\n",
              "      <td></td>\n",
              "      <td></td>\n",
              "    </tr>\n",
              "    <tr>\n",
              "      <th>B00000016W</th>\n",
              "      <td>B00000016W</td>\n",
              "      <td>Pet Sounds</td>\n",
              "      <td>9.49</td>\n",
              "      <td>http://ecx.images-amazon.com/images/I/51pDGkXj...</td>\n",
              "      <td>{'also_bought': ['B0025KVLTM', 'B00007FOMP', '...</td>\n",
              "      <td>{'Music': 77205}</td>\n",
              "      <td>[[CDs &amp; Vinyl, Classic Rock], [CDs &amp; Vinyl, Po...</td>\n",
              "      <td>NaN</td>\n",
              "      <td>NaN</td>\n",
              "    </tr>\n",
              "  </tbody>\n",
              "</table>\n",
              "</div>\n",
              "      <button class=\"colab-df-convert\" onclick=\"convertToInteractive('df-11eaa089-9628-42bc-aed6-6e80b6f6991e')\"\n",
              "              title=\"Convert this dataframe to an interactive table.\"\n",
              "              style=\"display:none;\">\n",
              "        \n",
              "  <svg xmlns=\"http://www.w3.org/2000/svg\" height=\"24px\"viewBox=\"0 0 24 24\"\n",
              "       width=\"24px\">\n",
              "    <path d=\"M0 0h24v24H0V0z\" fill=\"none\"/>\n",
              "    <path d=\"M18.56 5.44l.94 2.06.94-2.06 2.06-.94-2.06-.94-.94-2.06-.94 2.06-2.06.94zm-11 1L8.5 8.5l.94-2.06 2.06-.94-2.06-.94L8.5 2.5l-.94 2.06-2.06.94zm10 10l.94 2.06.94-2.06 2.06-.94-2.06-.94-.94-2.06-.94 2.06-2.06.94z\"/><path d=\"M17.41 7.96l-1.37-1.37c-.4-.4-.92-.59-1.43-.59-.52 0-1.04.2-1.43.59L10.3 9.45l-7.72 7.72c-.78.78-.78 2.05 0 2.83L4 21.41c.39.39.9.59 1.41.59.51 0 1.02-.2 1.41-.59l7.78-7.78 2.81-2.81c.8-.78.8-2.07 0-2.86zM5.41 20L4 18.59l7.72-7.72 1.47 1.35L5.41 20z\"/>\n",
              "  </svg>\n",
              "      </button>\n",
              "      \n",
              "  <style>\n",
              "    .colab-df-container {\n",
              "      display:flex;\n",
              "      flex-wrap:wrap;\n",
              "      gap: 12px;\n",
              "    }\n",
              "\n",
              "    .colab-df-convert {\n",
              "      background-color: #E8F0FE;\n",
              "      border: none;\n",
              "      border-radius: 50%;\n",
              "      cursor: pointer;\n",
              "      display: none;\n",
              "      fill: #1967D2;\n",
              "      height: 32px;\n",
              "      padding: 0 0 0 0;\n",
              "      width: 32px;\n",
              "    }\n",
              "\n",
              "    .colab-df-convert:hover {\n",
              "      background-color: #E2EBFA;\n",
              "      box-shadow: 0px 1px 2px rgba(60, 64, 67, 0.3), 0px 1px 3px 1px rgba(60, 64, 67, 0.15);\n",
              "      fill: #174EA6;\n",
              "    }\n",
              "\n",
              "    [theme=dark] .colab-df-convert {\n",
              "      background-color: #3B4455;\n",
              "      fill: #D2E3FC;\n",
              "    }\n",
              "\n",
              "    [theme=dark] .colab-df-convert:hover {\n",
              "      background-color: #434B5C;\n",
              "      box-shadow: 0px 1px 3px 1px rgba(0, 0, 0, 0.15);\n",
              "      filter: drop-shadow(0px 1px 2px rgba(0, 0, 0, 0.3));\n",
              "      fill: #FFFFFF;\n",
              "    }\n",
              "  </style>\n",
              "\n",
              "      <script>\n",
              "        const buttonEl =\n",
              "          document.querySelector('#df-11eaa089-9628-42bc-aed6-6e80b6f6991e button.colab-df-convert');\n",
              "        buttonEl.style.display =\n",
              "          google.colab.kernel.accessAllowed ? 'block' : 'none';\n",
              "\n",
              "        async function convertToInteractive(key) {\n",
              "          const element = document.querySelector('#df-11eaa089-9628-42bc-aed6-6e80b6f6991e');\n",
              "          const dataTable =\n",
              "            await google.colab.kernel.invokeFunction('convertToInteractive',\n",
              "                                                     [key], {});\n",
              "          if (!dataTable) return;\n",
              "\n",
              "          const docLinkHtml = 'Like what you see? Visit the ' +\n",
              "            '<a target=\"_blank\" href=https://colab.research.google.com/notebooks/data_table.ipynb>data table notebook</a>'\n",
              "            + ' to learn more about interactive tables.';\n",
              "          element.innerHTML = '';\n",
              "          dataTable['output_type'] = 'display_data';\n",
              "          await google.colab.output.renderOutput(dataTable, element);\n",
              "          const docLink = document.createElement('div');\n",
              "          docLink.innerHTML = docLinkHtml;\n",
              "          element.appendChild(docLink);\n",
              "        }\n",
              "      </script>\n",
              "    </div>\n",
              "  </div>\n",
              "  "
            ],
            "text/plain": [
              "                  asin                  title  price  \\\n",
              "5555991584  5555991584        Memory of Trees   9.49   \n",
              "6308051551  6308051551  Don't Drink His Blood   8.91   \n",
              "7901622466  7901622466                On Fire  11.33   \n",
              "B0000000ZW  B0000000ZW         Changing Faces  23.64   \n",
              "B00000016W  B00000016W             Pet Sounds   9.49   \n",
              "\n",
              "                                                        imUrl  \\\n",
              "5555991584  http://ecx.images-amazon.com/images/I/51b5WDjd...   \n",
              "6308051551  http://ecx.images-amazon.com/images/I/31LT2n7Q...   \n",
              "7901622466  http://ecx.images-amazon.com/images/I/21W29WZw...   \n",
              "B0000000ZW  http://ecx.images-amazon.com/images/I/51H3Bp-3...   \n",
              "B00000016W  http://ecx.images-amazon.com/images/I/51pDGkXj...   \n",
              "\n",
              "                                                      related  \\\n",
              "5555991584  {'also_bought': ['B000002LRT', 'B000002LRR', '...   \n",
              "6308051551                                                NaN   \n",
              "7901622466  {'also_bought': ['B00000282A', 'B0084O8O9S', '...   \n",
              "B0000000ZW  {'also_bought': ['B00000010Z', 'B0000039Q5', '...   \n",
              "B00000016W  {'also_bought': ['B0025KVLTM', 'B00007FOMP', '...   \n",
              "\n",
              "                    salesRank  \\\n",
              "5555991584  {'Music': 939190}   \n",
              "6308051551                NaN   \n",
              "7901622466   {'Music': 58799}   \n",
              "B0000000ZW   {'Music': 68784}   \n",
              "B00000016W   {'Music': 77205}   \n",
              "\n",
              "                                                   categories  \\\n",
              "5555991584  [[CDs & Vinyl, New Age, Celtic New Age], [CDs ...   \n",
              "6308051551  [[Digital Music, Alternative Rock, Indie & Lo-...   \n",
              "7901622466  [[CDs & Vinyl, Christian, Rock & Alternative],...   \n",
              "B0000000ZW  [[CDs & Vinyl, Dance & Electronic], [CDs & Vin...   \n",
              "B00000016W  [[CDs & Vinyl, Classic Rock], [CDs & Vinyl, Po...   \n",
              "\n",
              "                                   description brand  \n",
              "5555991584                                 NaN   NaN  \n",
              "6308051551  NEW Combo BLUWAVS CD and FLAC FILE   NaN  \n",
              "7901622466                                 NaN   NaN  \n",
              "B0000000ZW                                            \n",
              "B00000016W                                 NaN   NaN  "
            ]
          },
          "execution_count": 5,
          "metadata": {},
          "output_type": "execute_result"
        }
      ],
      "source": [
        "mdata_df.head()"
      ]
    },
    {
      "cell_type": "markdown",
      "metadata": {
        "id": "vLj0nC5bRuR9"
      },
      "source": [
        "##  Recommender -\n",
        "### inspired by: \"Hariri N et el (2011) Context-aware recommendation based on review mining\"\n",
        "### with some modifications, e.g.: using LDA instead of L-LDA, due to we don't have labels in the data etc."
      ]
    },
    {
      "cell_type": "markdown",
      "metadata": {
        "id": "dSb8YbkgTp0T"
      },
      "source": [
        "### Latent Dirichlet Allocation (LDA)"
      ]
    },
    {
      "cell_type": "code",
      "execution_count": null,
      "metadata": {
        "id": "GRkxYG7yTWF4"
      },
      "outputs": [],
      "source": [
        "music_df = pd.read_json(\"music_df_en_only_cleaned.json.gz\", orient='records',lines=True)"
      ]
    },
    {
      "cell_type": "code",
      "execution_count": null,
      "metadata": {
        "id": "VSAgG6F6ZGzT"
      },
      "outputs": [],
      "source": [
        "music_df_s = music_df.sample(n=20000, random_state=42)"
      ]
    },
    {
      "cell_type": "code",
      "execution_count": null,
      "metadata": {
        "colab": {
          "base_uri": "https://localhost:8080/"
        },
        "id": "QwLGFf7Iefud",
        "outputId": "c3dfe4aa-66d5-4010-c231-912ea689d7b6"
      },
      "outputs": [
        {
          "data": {
            "text/plain": [
              "(169781, 7)"
            ]
          },
          "execution_count": 36,
          "metadata": {},
          "output_type": "execute_result"
        }
      ],
      "source": [
        "music_df.shape"
      ]
    },
    {
      "cell_type": "code",
      "execution_count": null,
      "metadata": {
        "colab": {
          "base_uri": "https://localhost:8080/"
        },
        "id": "NNd9tjfSS8nZ",
        "outputId": "aea5d72c-e60c-4dd6-bf8c-488916f19a70"
      },
      "outputs": [
        {
          "data": {
            "text/plain": [
              "(28000, 17956)"
            ]
          },
          "execution_count": 37,
          "metadata": {},
          "output_type": "execute_result"
        }
      ],
      "source": [
        "from sklearn.feature_extraction.text import TfidfVectorizer\n",
        "tfv = TfidfVectorizer(analyzer='word',max_df=1.0)\n",
        "tfidf_matrix = tfv.fit_transform(df_balanced['NewReview'])\n",
        "tfidf_matrix.shape"
      ]
    },
    {
      "cell_type": "code",
      "execution_count": null,
      "metadata": {
        "id": "Kx44Ul2_cdC2"
      },
      "outputs": [],
      "source": [
        "vocab = tfv.get_feature_names_out()\n",
        "#vocab[:90]"
      ]
    },
    {
      "cell_type": "code",
      "execution_count": null,
      "metadata": {
        "colab": {
          "base_uri": "https://localhost:8080/"
        },
        "id": "OjM0XefjUNgD",
        "outputId": "8c11ea35-5a69-40c4-d144-231bbf53933c"
      },
      "outputs": [
        {
          "data": {
            "text/plain": [
              "(28000, 25)"
            ]
          },
          "execution_count": 41,
          "metadata": {},
          "output_type": "execute_result"
        }
      ],
      "source": [
        "n_topics = 25 \n",
        "\n",
        "from sklearn.decomposition import LatentDirichletAllocation\n",
        "lda = LatentDirichletAllocation(n_components=n_topics,max_iter=20,random_state=42,n_jobs=-1)\n",
        "topics_of_reviews = lda.fit_transform(tfidf_matrix) \n",
        "topics_of_reviews.shape"
      ]
    },
    {
      "cell_type": "code",
      "execution_count": null,
      "metadata": {
        "colab": {
          "base_uri": "https://localhost:8080/"
        },
        "id": "AVRlMwqDdUzw",
        "outputId": "322d3f87-cd6e-4c33-a190-87ca4eac738a"
      },
      "outputs": [
        {
          "name": "stdout",
          "output_type": "stream",
          "text": [
            "['two' 'star' 'song' 'gift' 'sol' 'washington' 'not' 'iodine']\n",
            "['poor_people' 'delete' 'file' 'oldies' 'favorites' 'my' 'quality'\n",
            " 'prince']\n",
            "['for' 'gig' 'version' 'radio' 'function' 'needed' 'the' 'display']\n",
            "['christmas' 'for' 'to' 'ty' 'collection' 'three' 'wedding' 'music']\n",
            "['product' 'meh' 'easy' 'no' 'stars' 'great' 'as' 'price']\n",
            "['accident' 'selection' 'contemporary' 'decelerate' 'uplifting'\n",
            " 'entertaining' 'interesting' 'skips']\n",
            "['girl' 'the' 'her' 'liking' 'of' 'angstrom' 'useless' 'affect']\n",
            "['just' 'what' 'not' 'the' 'manner' 'ordered' 'wanted' 'kids']\n",
            "['expected' 'as' 'loud' 'parts' 'travel' 'where' 'she' 'deleted']\n",
            "['it' 'the' 'to' 'is' 'this' 'and' 'song' 'of']\n",
            "['ok' 'stars' 'three' 'excellent' 'five' 'its' 'it' 'free']\n",
            "['iodine' 'information_technology' 'angstrom' 'the' 'not' 'merely' 'to'\n",
            " 'this']\n",
            "['wonderful' 'funny' 'face' 'nope' 'blues' 'honest' 'mom'\n",
            " 'venereal_disease']\n",
            "['star' 'one' 'on' 'download' 'not' 'quality' 'screening' 'disk']\n",
            "['star' 'order' 'one' 'didnt' 'tea' 'cup' 'mistake' 'this']\n",
            "['money' 'ever' 'worst' 'waste' 'thing' 'the' 'floyd' 'ugh']\n",
            "['get' 'old' 'of' 'information_technology' 'iodine' 'worth' 'fast' 'and']\n",
            "['star' 'oklahoma' 'one' 'three' 'information_technology' 'two' 'angstrom'\n",
            " 'for']\n",
            "['stars' 'five' 'great' 'song' 'love' 'four' 'it' 'good']\n",
            "['three' 'good' 'star' 'stars' 'music' 'song' 'not' 'one']\n",
            "['service' 'three' 'my' 'dj' 'fine' 'for' 'stars' 'school']\n",
            "['worship' 'dance' 'upon' 'differ' 'mileage' 'may' 'to' 'beat']\n",
            "['thanks' 'memories' 'back' 'brings' 'perfect' 'mediocre' 'one' 'stars']\n",
            "['free' 'freebie' 'amazon' 'my' 'different' 'for' 'crap' 'not']\n",
            "['alright' 'three' 'amazon' 'review' 'their' 'stars' 'software' 'medial']\n"
          ]
        }
      ],
      "source": [
        "topic_words = lda.components_\n",
        "\n",
        "for topic in topic_words:\n",
        "  st = np.argsort(topic)\n",
        "  words = np.array(vocab)[st]\n",
        "  print(words[:-9:-1])"
      ]
    },
    {
      "cell_type": "markdown",
      "metadata": {
        "id": "VjEwbOjVUDQe"
      },
      "source": [
        "### k Nearest Neighbors (k-NN)"
      ]
    },
    {
      "cell_type": "code",
      "execution_count": null,
      "metadata": {
        "colab": {
          "base_uri": "https://localhost:8080/"
        },
        "id": "d7frn62osuXa",
        "outputId": "6f7c6c7c-b116-4b07-c46c-f05bd6efae11"
      },
      "outputs": [
        {
          "data": {
            "text/plain": [
              "(49954, 10046)"
            ]
          },
          "execution_count": 50,
          "metadata": {},
          "output_type": "execute_result"
        }
      ],
      "source": [
        "found, no_mdata = 0,0\n",
        "for asin, rv in zip(music_df_s['asin'],topics_of_reviews):\n",
        "    if not asin or asin not in df_dict: no_mdata+=1; continue\n",
        "    df_dict[asin]['rv_topics'] = rv if 'rv_topics' not in df_dict[asin] else np.vstack((df_dict[asin]['rv_topics'],rv))\n",
        "    found+=1\n",
        "found, no_mdata"
      ]
    },
    {
      "cell_type": "code",
      "execution_count": null,
      "metadata": {
        "colab": {
          "base_uri": "https://localhost:8080/"
        },
        "id": "shsy_4PhD9Lf",
        "outputId": "21a61134-4307-4e2c-c558-d7b619beef67"
      },
      "outputs": [
        {
          "data": {
            "text/plain": [
              "(2670, 20)"
            ]
          },
          "execution_count": 51,
          "metadata": {},
          "output_type": "execute_result"
        }
      ],
      "source": [
        "items_w_rv = dict()\n",
        "topic_matrix = np.empty((0,n_topics), 'float64')\n",
        "title_lookup = dict()\n",
        "asin_lookup = dict()\n",
        "\n",
        "idx = 0 \n",
        "for d in df_dict.values():\n",
        "  if 'rv_topics' in d:\n",
        "    if len(d['rv_topics'].shape)>1: d['rv_topics'] = np.mean(d['rv_topics'],axis=0)\n",
        "    topic_matrix = np.vstack((topic_matrix, d['rv_topics']))\n",
        "    items_w_rv[idx] = d\n",
        "    title_lookup[d['title'].lower()] = idx\n",
        "    asin_lookup[d['asin']] = idx\n",
        "    idx+=1\n",
        "\n",
        "topic_matrix.shape\n"
      ]
    },
    {
      "cell_type": "code",
      "execution_count": null,
      "metadata": {
        "id": "Rj4tZ0cKNgRe"
      },
      "outputs": [],
      "source": [
        "import pickle\n",
        "items_to_pickle = (items_w_rv , topic_matrix , title_lookup , asin_lookup)\n",
        "#with open(\"lda_model.pickle\", 'wb') as pkf:\n",
        "#  pickle.dump(items_to_pickle, pkf)"
      ]
    },
    {
      "cell_type": "markdown",
      "source": [
        "### skip route b - like... almost done"
      ],
      "metadata": {
        "id": "zwooCvEmeijN"
      }
    },
    {
      "cell_type": "code",
      "execution_count": null,
      "metadata": {
        "id": "YwaD9B_RNgI9"
      },
      "outputs": [],
      "source": [
        "## load model option\n",
        "import pandas as pd\n",
        "\n",
        "import pickle\n",
        "with open(\"lda_model.pickle\", 'rb') as pkf:\n",
        "  (items_w_rv , topic_matrix , title_lookup , asin_lookup) = pickle.load(pkf)"
      ]
    },
    {
      "cell_type": "code",
      "execution_count": null,
      "metadata": {
        "colab": {
          "base_uri": "https://localhost:8080/",
          "height": 1000
        },
        "id": "u1H3dPt0S8PK",
        "outputId": "35eda4d4-015a-496d-beb5-e7b40ac065b0"
      },
      "outputs": [
        {
          "data": {
            "text/html": [
              "\n",
              "  <div id=\"df-3204fc77-8217-42e1-9af1-d7b5454abe95\">\n",
              "    <div class=\"colab-df-container\">\n",
              "      <div>\n",
              "<style scoped>\n",
              "    .dataframe tbody tr th:only-of-type {\n",
              "        vertical-align: middle;\n",
              "    }\n",
              "\n",
              "    .dataframe tbody tr th {\n",
              "        vertical-align: top;\n",
              "    }\n",
              "\n",
              "    .dataframe thead th {\n",
              "        text-align: right;\n",
              "    }\n",
              "</style>\n",
              "<table border=\"1\" class=\"dataframe\">\n",
              "  <thead>\n",
              "    <tr style=\"text-align: right;\">\n",
              "      <th></th>\n",
              "      <th>asin</th>\n",
              "      <th>title</th>\n",
              "      <th>price</th>\n",
              "      <th>imUrl</th>\n",
              "      <th>related</th>\n",
              "      <th>salesRank</th>\n",
              "      <th>categories</th>\n",
              "      <th>rv_topics</th>\n",
              "      <th>brand</th>\n",
              "      <th>description</th>\n",
              "    </tr>\n",
              "  </thead>\n",
              "  <tbody>\n",
              "    <tr>\n",
              "      <th>0</th>\n",
              "      <td>5555991584</td>\n",
              "      <td>Memory of Trees</td>\n",
              "      <td>9.49</td>\n",
              "      <td>http://ecx.images-amazon.com/images/I/51b5WDjd...</td>\n",
              "      <td>{'also_bought': ['B000002LRT', 'B000002LRR', '...</td>\n",
              "      <td>{'Music': 939190}</td>\n",
              "      <td>[[CDs &amp; Vinyl, New Age, Celtic New Age], [CDs ...</td>\n",
              "      <td>[0.005944301246778397, 0.005724376118965009, 0...</td>\n",
              "      <td>NaN</td>\n",
              "      <td>NaN</td>\n",
              "    </tr>\n",
              "    <tr>\n",
              "      <th>1</th>\n",
              "      <td>B0000000ZW</td>\n",
              "      <td>Changing Faces</td>\n",
              "      <td>23.64</td>\n",
              "      <td>http://ecx.images-amazon.com/images/I/51H3Bp-3...</td>\n",
              "      <td>{'also_bought': ['B00000010Z', 'B0000039Q5', '...</td>\n",
              "      <td>{'Music': 68784}</td>\n",
              "      <td>[[CDs &amp; Vinyl, Dance &amp; Electronic], [CDs &amp; Vin...</td>\n",
              "      <td>[0.007947564104963068, 0.007947564145385768, 0...</td>\n",
              "      <td></td>\n",
              "      <td></td>\n",
              "    </tr>\n",
              "    <tr>\n",
              "      <th>2</th>\n",
              "      <td>B00000016W</td>\n",
              "      <td>Pet Sounds</td>\n",
              "      <td>9.49</td>\n",
              "      <td>http://ecx.images-amazon.com/images/I/51pDGkXj...</td>\n",
              "      <td>{'also_bought': ['B0025KVLTM', 'B00007FOMP', '...</td>\n",
              "      <td>{'Music': 77205}</td>\n",
              "      <td>[[CDs &amp; Vinyl, Classic Rock], [CDs &amp; Vinyl, Po...</td>\n",
              "      <td>[0.008476647700033773, 0.007341975014550384, 0...</td>\n",
              "      <td>NaN</td>\n",
              "      <td>NaN</td>\n",
              "    </tr>\n",
              "    <tr>\n",
              "      <th>3</th>\n",
              "      <td>B00000016T</td>\n",
              "      <td>Cars</td>\n",
              "      <td>14.63</td>\n",
              "      <td>http://ecx.images-amazon.com/images/I/51pmW%2B...</td>\n",
              "      <td>{'also_bought': ['B000002GWX', 'B000002GXD', '...</td>\n",
              "      <td>{'Music': 458151}</td>\n",
              "      <td>[[CDs &amp; Vinyl, Alternative Rock, New Wave &amp; Po...</td>\n",
              "      <td>[0.00804670266352813, 0.009927344553832798, 0....</td>\n",
              "      <td>NaN</td>\n",
              "      <td>NaN</td>\n",
              "    </tr>\n",
              "    <tr>\n",
              "      <th>4</th>\n",
              "      <td>B00000017R</td>\n",
              "      <td>Jazz Samba</td>\n",
              "      <td>8.99</td>\n",
              "      <td>http://ecx.images-amazon.com/images/I/51kAU0Ty...</td>\n",
              "      <td>{'also_bought': ['B0000046WB', 'B0000047CX', '...</td>\n",
              "      <td>{'Music': 561174}</td>\n",
              "      <td>[[CDs &amp; Vinyl, Jazz, Bebop], [CDs &amp; Vinyl, Jaz...</td>\n",
              "      <td>[0.007089352362394035, 0.006163632120142277, 0...</td>\n",
              "      <td>NaN</td>\n",
              "      <td>NaN</td>\n",
              "    </tr>\n",
              "    <tr>\n",
              "      <th>...</th>\n",
              "      <td>...</td>\n",
              "      <td>...</td>\n",
              "      <td>...</td>\n",
              "      <td>...</td>\n",
              "      <td>...</td>\n",
              "      <td>...</td>\n",
              "      <td>...</td>\n",
              "      <td>...</td>\n",
              "      <td>...</td>\n",
              "      <td>...</td>\n",
              "    </tr>\n",
              "    <tr>\n",
              "      <th>2665</th>\n",
              "      <td>B000LXHGBC</td>\n",
              "      <td>Back Numbers</td>\n",
              "      <td>11.88</td>\n",
              "      <td>http://ecx.images-amazon.com/images/I/51N%2ByT...</td>\n",
              "      <td>{'also_bought': ['B00005YN6S', 'B00HVF1344', '...</td>\n",
              "      <td>{'Music': 124106}</td>\n",
              "      <td>[[CDs &amp; Vinyl, Alternative Rock, Indie &amp; Lo-Fi...</td>\n",
              "      <td>[0.006629234050171659, 0.006629234067383804, 0...</td>\n",
              "      <td>NaN</td>\n",
              "      <td>The thoroughly excellent sophomore release by ...</td>\n",
              "    </tr>\n",
              "    <tr>\n",
              "      <th>2666</th>\n",
              "      <td>B000M5B6GK</td>\n",
              "      <td>All of a Sudden I Miss Everyone</td>\n",
              "      <td>9.49</td>\n",
              "      <td>http://ecx.images-amazon.com/images/I/618p7PKX...</td>\n",
              "      <td>{'also_bought': ['B0006Q2TPC', 'B0000DJYMF', '...</td>\n",
              "      <td>{'Music': 640730}</td>\n",
              "      <td>[[CDs &amp; Vinyl, Alternative Rock, Indie &amp; Lo-Fi...</td>\n",
              "      <td>[0.006477516765231249, 0.005191601906141134, 0...</td>\n",
              "      <td>NaN</td>\n",
              "      <td>Sometimes Explosions in the Sky start with a w...</td>\n",
              "    </tr>\n",
              "    <tr>\n",
              "      <th>2667</th>\n",
              "      <td>B000MGBTIE</td>\n",
              "      <td>Alpha</td>\n",
              "      <td>13.83</td>\n",
              "      <td>http://ecx.images-amazon.com/images/I/51NLyLG1...</td>\n",
              "      <td>{'also_bought': ['B000B8QF6O', 'B0013K1ALY', '...</td>\n",
              "      <td>{'Music': 5783}</td>\n",
              "      <td>[[CDs &amp; Vinyl, Alternative Rock, Goth &amp; Indust...</td>\n",
              "      <td>[0.00709600084750042, 0.005779527698819136, 0....</td>\n",
              "      <td>Alpha</td>\n",
              "      <td>Alpha, the latest outing from this veteran act...</td>\n",
              "    </tr>\n",
              "    <tr>\n",
              "      <th>2668</th>\n",
              "      <td>B000MGUZ9I</td>\n",
              "      <td>Undiscovered</td>\n",
              "      <td>10.88</td>\n",
              "      <td>http://ecx.images-amazon.com/images/I/51SAKEc0...</td>\n",
              "      <td>{'also_bought': ['B001EOQTV0', 'B005ILWOZA', '...</td>\n",
              "      <td>{'Music': 8872}</td>\n",
              "      <td>[[CDs &amp; Vinyl, Alternative Rock], [CDs &amp; Vinyl...</td>\n",
              "      <td>[0.005569142681427098, 0.005569142662887866, 0...</td>\n",
              "      <td>NaN</td>\n",
              "      <td>Young James Morrison has \"success story\" writt...</td>\n",
              "    </tr>\n",
              "    <tr>\n",
              "      <th>2669</th>\n",
              "      <td>B000MGVA8I</td>\n",
              "      <td>Blackfield II</td>\n",
              "      <td>9.49</td>\n",
              "      <td>http://ecx.images-amazon.com/images/I/51KEAG8n...</td>\n",
              "      <td>{'also_bought': ['B00075146W', 'B004MLZWRO', '...</td>\n",
              "      <td>{'Music': 401677}</td>\n",
              "      <td>[[CDs &amp; Vinyl, Metal], [CDs &amp; Vinyl, Rock, Pro...</td>\n",
              "      <td>[0.005977675934698664, 0.005977675905350236, 0...</td>\n",
              "      <td>NaN</td>\n",
              "      <td>NaN</td>\n",
              "    </tr>\n",
              "  </tbody>\n",
              "</table>\n",
              "<p>2670 rows × 10 columns</p>\n",
              "</div>\n",
              "      <button class=\"colab-df-convert\" onclick=\"convertToInteractive('df-3204fc77-8217-42e1-9af1-d7b5454abe95')\"\n",
              "              title=\"Convert this dataframe to an interactive table.\"\n",
              "              style=\"display:none;\">\n",
              "        \n",
              "  <svg xmlns=\"http://www.w3.org/2000/svg\" height=\"24px\"viewBox=\"0 0 24 24\"\n",
              "       width=\"24px\">\n",
              "    <path d=\"M0 0h24v24H0V0z\" fill=\"none\"/>\n",
              "    <path d=\"M18.56 5.44l.94 2.06.94-2.06 2.06-.94-2.06-.94-.94-2.06-.94 2.06-2.06.94zm-11 1L8.5 8.5l.94-2.06 2.06-.94-2.06-.94L8.5 2.5l-.94 2.06-2.06.94zm10 10l.94 2.06.94-2.06 2.06-.94-2.06-.94-.94-2.06-.94 2.06-2.06.94z\"/><path d=\"M17.41 7.96l-1.37-1.37c-.4-.4-.92-.59-1.43-.59-.52 0-1.04.2-1.43.59L10.3 9.45l-7.72 7.72c-.78.78-.78 2.05 0 2.83L4 21.41c.39.39.9.59 1.41.59.51 0 1.02-.2 1.41-.59l7.78-7.78 2.81-2.81c.8-.78.8-2.07 0-2.86zM5.41 20L4 18.59l7.72-7.72 1.47 1.35L5.41 20z\"/>\n",
              "  </svg>\n",
              "      </button>\n",
              "      \n",
              "  <style>\n",
              "    .colab-df-container {\n",
              "      display:flex;\n",
              "      flex-wrap:wrap;\n",
              "      gap: 12px;\n",
              "    }\n",
              "\n",
              "    .colab-df-convert {\n",
              "      background-color: #E8F0FE;\n",
              "      border: none;\n",
              "      border-radius: 50%;\n",
              "      cursor: pointer;\n",
              "      display: none;\n",
              "      fill: #1967D2;\n",
              "      height: 32px;\n",
              "      padding: 0 0 0 0;\n",
              "      width: 32px;\n",
              "    }\n",
              "\n",
              "    .colab-df-convert:hover {\n",
              "      background-color: #E2EBFA;\n",
              "      box-shadow: 0px 1px 2px rgba(60, 64, 67, 0.3), 0px 1px 3px 1px rgba(60, 64, 67, 0.15);\n",
              "      fill: #174EA6;\n",
              "    }\n",
              "\n",
              "    [theme=dark] .colab-df-convert {\n",
              "      background-color: #3B4455;\n",
              "      fill: #D2E3FC;\n",
              "    }\n",
              "\n",
              "    [theme=dark] .colab-df-convert:hover {\n",
              "      background-color: #434B5C;\n",
              "      box-shadow: 0px 1px 3px 1px rgba(0, 0, 0, 0.15);\n",
              "      filter: drop-shadow(0px 1px 2px rgba(0, 0, 0, 0.3));\n",
              "      fill: #FFFFFF;\n",
              "    }\n",
              "  </style>\n",
              "\n",
              "      <script>\n",
              "        const buttonEl =\n",
              "          document.querySelector('#df-3204fc77-8217-42e1-9af1-d7b5454abe95 button.colab-df-convert');\n",
              "        buttonEl.style.display =\n",
              "          google.colab.kernel.accessAllowed ? 'block' : 'none';\n",
              "\n",
              "        async function convertToInteractive(key) {\n",
              "          const element = document.querySelector('#df-3204fc77-8217-42e1-9af1-d7b5454abe95');\n",
              "          const dataTable =\n",
              "            await google.colab.kernel.invokeFunction('convertToInteractive',\n",
              "                                                     [key], {});\n",
              "          if (!dataTable) return;\n",
              "\n",
              "          const docLinkHtml = 'Like what you see? Visit the ' +\n",
              "            '<a target=\"_blank\" href=https://colab.research.google.com/notebooks/data_table.ipynb>data table notebook</a>'\n",
              "            + ' to learn more about interactive tables.';\n",
              "          element.innerHTML = '';\n",
              "          dataTable['output_type'] = 'display_data';\n",
              "          await google.colab.output.renderOutput(dataTable, element);\n",
              "          const docLink = document.createElement('div');\n",
              "          docLink.innerHTML = docLinkHtml;\n",
              "          element.appendChild(docLink);\n",
              "        }\n",
              "      </script>\n",
              "    </div>\n",
              "  </div>\n",
              "  "
            ],
            "text/plain": [
              "            asin                            title  price  \\\n",
              "0     5555991584                  Memory of Trees   9.49   \n",
              "1     B0000000ZW                   Changing Faces  23.64   \n",
              "2     B00000016W                       Pet Sounds   9.49   \n",
              "3     B00000016T                             Cars  14.63   \n",
              "4     B00000017R                       Jazz Samba   8.99   \n",
              "...          ...                              ...    ...   \n",
              "2665  B000LXHGBC                     Back Numbers  11.88   \n",
              "2666  B000M5B6GK  All of a Sudden I Miss Everyone   9.49   \n",
              "2667  B000MGBTIE                            Alpha  13.83   \n",
              "2668  B000MGUZ9I                     Undiscovered  10.88   \n",
              "2669  B000MGVA8I                    Blackfield II   9.49   \n",
              "\n",
              "                                                  imUrl  \\\n",
              "0     http://ecx.images-amazon.com/images/I/51b5WDjd...   \n",
              "1     http://ecx.images-amazon.com/images/I/51H3Bp-3...   \n",
              "2     http://ecx.images-amazon.com/images/I/51pDGkXj...   \n",
              "3     http://ecx.images-amazon.com/images/I/51pmW%2B...   \n",
              "4     http://ecx.images-amazon.com/images/I/51kAU0Ty...   \n",
              "...                                                 ...   \n",
              "2665  http://ecx.images-amazon.com/images/I/51N%2ByT...   \n",
              "2666  http://ecx.images-amazon.com/images/I/618p7PKX...   \n",
              "2667  http://ecx.images-amazon.com/images/I/51NLyLG1...   \n",
              "2668  http://ecx.images-amazon.com/images/I/51SAKEc0...   \n",
              "2669  http://ecx.images-amazon.com/images/I/51KEAG8n...   \n",
              "\n",
              "                                                related          salesRank  \\\n",
              "0     {'also_bought': ['B000002LRT', 'B000002LRR', '...  {'Music': 939190}   \n",
              "1     {'also_bought': ['B00000010Z', 'B0000039Q5', '...   {'Music': 68784}   \n",
              "2     {'also_bought': ['B0025KVLTM', 'B00007FOMP', '...   {'Music': 77205}   \n",
              "3     {'also_bought': ['B000002GWX', 'B000002GXD', '...  {'Music': 458151}   \n",
              "4     {'also_bought': ['B0000046WB', 'B0000047CX', '...  {'Music': 561174}   \n",
              "...                                                 ...                ...   \n",
              "2665  {'also_bought': ['B00005YN6S', 'B00HVF1344', '...  {'Music': 124106}   \n",
              "2666  {'also_bought': ['B0006Q2TPC', 'B0000DJYMF', '...  {'Music': 640730}   \n",
              "2667  {'also_bought': ['B000B8QF6O', 'B0013K1ALY', '...    {'Music': 5783}   \n",
              "2668  {'also_bought': ['B001EOQTV0', 'B005ILWOZA', '...    {'Music': 8872}   \n",
              "2669  {'also_bought': ['B00075146W', 'B004MLZWRO', '...  {'Music': 401677}   \n",
              "\n",
              "                                             categories  \\\n",
              "0     [[CDs & Vinyl, New Age, Celtic New Age], [CDs ...   \n",
              "1     [[CDs & Vinyl, Dance & Electronic], [CDs & Vin...   \n",
              "2     [[CDs & Vinyl, Classic Rock], [CDs & Vinyl, Po...   \n",
              "3     [[CDs & Vinyl, Alternative Rock, New Wave & Po...   \n",
              "4     [[CDs & Vinyl, Jazz, Bebop], [CDs & Vinyl, Jaz...   \n",
              "...                                                 ...   \n",
              "2665  [[CDs & Vinyl, Alternative Rock, Indie & Lo-Fi...   \n",
              "2666  [[CDs & Vinyl, Alternative Rock, Indie & Lo-Fi...   \n",
              "2667  [[CDs & Vinyl, Alternative Rock, Goth & Indust...   \n",
              "2668  [[CDs & Vinyl, Alternative Rock], [CDs & Vinyl...   \n",
              "2669  [[CDs & Vinyl, Metal], [CDs & Vinyl, Rock, Pro...   \n",
              "\n",
              "                                              rv_topics  brand  \\\n",
              "0     [0.005944301246778397, 0.005724376118965009, 0...    NaN   \n",
              "1     [0.007947564104963068, 0.007947564145385768, 0...          \n",
              "2     [0.008476647700033773, 0.007341975014550384, 0...    NaN   \n",
              "3     [0.00804670266352813, 0.009927344553832798, 0....    NaN   \n",
              "4     [0.007089352362394035, 0.006163632120142277, 0...    NaN   \n",
              "...                                                 ...    ...   \n",
              "2665  [0.006629234050171659, 0.006629234067383804, 0...    NaN   \n",
              "2666  [0.006477516765231249, 0.005191601906141134, 0...    NaN   \n",
              "2667  [0.00709600084750042, 0.005779527698819136, 0....  Alpha   \n",
              "2668  [0.005569142681427098, 0.005569142662887866, 0...    NaN   \n",
              "2669  [0.005977675934698664, 0.005977675905350236, 0...    NaN   \n",
              "\n",
              "                                            description  \n",
              "0                                                   NaN  \n",
              "1                                                        \n",
              "2                                                   NaN  \n",
              "3                                                   NaN  \n",
              "4                                                   NaN  \n",
              "...                                                 ...  \n",
              "2665  The thoroughly excellent sophomore release by ...  \n",
              "2666  Sometimes Explosions in the Sky start with a w...  \n",
              "2667  Alpha, the latest outing from this veteran act...  \n",
              "2668  Young James Morrison has \"success story\" writt...  \n",
              "2669                                                NaN  \n",
              "\n",
              "[2670 rows x 10 columns]"
            ]
          },
          "execution_count": 2,
          "metadata": {},
          "output_type": "execute_result"
        }
      ],
      "source": [
        "pd.DataFrame.from_dict(items_w_rv, orient='index')"
      ]
    },
    {
      "cell_type": "code",
      "execution_count": null,
      "metadata": {
        "colab": {
          "base_uri": "https://localhost:8080/",
          "height": 74
        },
        "id": "pnIxY1vfNsqu",
        "outputId": "9fc77c44-ad99-44bb-cc15-239c213c61e4"
      },
      "outputs": [
        {
          "data": {
            "text/html": [
              "<style>#sk-container-id-1 {color: black;background-color: white;}#sk-container-id-1 pre{padding: 0;}#sk-container-id-1 div.sk-toggleable {background-color: white;}#sk-container-id-1 label.sk-toggleable__label {cursor: pointer;display: block;width: 100%;margin-bottom: 0;padding: 0.3em;box-sizing: border-box;text-align: center;}#sk-container-id-1 label.sk-toggleable__label-arrow:before {content: \"▸\";float: left;margin-right: 0.25em;color: #696969;}#sk-container-id-1 label.sk-toggleable__label-arrow:hover:before {color: black;}#sk-container-id-1 div.sk-estimator:hover label.sk-toggleable__label-arrow:before {color: black;}#sk-container-id-1 div.sk-toggleable__content {max-height: 0;max-width: 0;overflow: hidden;text-align: left;background-color: #f0f8ff;}#sk-container-id-1 div.sk-toggleable__content pre {margin: 0.2em;color: black;border-radius: 0.25em;background-color: #f0f8ff;}#sk-container-id-1 input.sk-toggleable__control:checked~div.sk-toggleable__content {max-height: 200px;max-width: 100%;overflow: auto;}#sk-container-id-1 input.sk-toggleable__control:checked~label.sk-toggleable__label-arrow:before {content: \"▾\";}#sk-container-id-1 div.sk-estimator input.sk-toggleable__control:checked~label.sk-toggleable__label {background-color: #d4ebff;}#sk-container-id-1 div.sk-label input.sk-toggleable__control:checked~label.sk-toggleable__label {background-color: #d4ebff;}#sk-container-id-1 input.sk-hidden--visually {border: 0;clip: rect(1px 1px 1px 1px);clip: rect(1px, 1px, 1px, 1px);height: 1px;margin: -1px;overflow: hidden;padding: 0;position: absolute;width: 1px;}#sk-container-id-1 div.sk-estimator {font-family: monospace;background-color: #f0f8ff;border: 1px dotted black;border-radius: 0.25em;box-sizing: border-box;margin-bottom: 0.5em;}#sk-container-id-1 div.sk-estimator:hover {background-color: #d4ebff;}#sk-container-id-1 div.sk-parallel-item::after {content: \"\";width: 100%;border-bottom: 1px solid gray;flex-grow: 1;}#sk-container-id-1 div.sk-label:hover label.sk-toggleable__label {background-color: #d4ebff;}#sk-container-id-1 div.sk-serial::before {content: \"\";position: absolute;border-left: 1px solid gray;box-sizing: border-box;top: 0;bottom: 0;left: 50%;z-index: 0;}#sk-container-id-1 div.sk-serial {display: flex;flex-direction: column;align-items: center;background-color: white;padding-right: 0.2em;padding-left: 0.2em;position: relative;}#sk-container-id-1 div.sk-item {position: relative;z-index: 1;}#sk-container-id-1 div.sk-parallel {display: flex;align-items: stretch;justify-content: center;background-color: white;position: relative;}#sk-container-id-1 div.sk-item::before, #sk-container-id-1 div.sk-parallel-item::before {content: \"\";position: absolute;border-left: 1px solid gray;box-sizing: border-box;top: 0;bottom: 0;left: 50%;z-index: -1;}#sk-container-id-1 div.sk-parallel-item {display: flex;flex-direction: column;z-index: 1;position: relative;background-color: white;}#sk-container-id-1 div.sk-parallel-item:first-child::after {align-self: flex-end;width: 50%;}#sk-container-id-1 div.sk-parallel-item:last-child::after {align-self: flex-start;width: 50%;}#sk-container-id-1 div.sk-parallel-item:only-child::after {width: 0;}#sk-container-id-1 div.sk-dashed-wrapped {border: 1px dashed gray;margin: 0 0.4em 0.5em 0.4em;box-sizing: border-box;padding-bottom: 0.4em;background-color: white;}#sk-container-id-1 div.sk-label label {font-family: monospace;font-weight: bold;display: inline-block;line-height: 1.2em;}#sk-container-id-1 div.sk-label-container {text-align: center;}#sk-container-id-1 div.sk-container {/* jupyter's `normalize.less` sets `[hidden] { display: none; }` but bootstrap.min.css set `[hidden] { display: none !important; }` so we also need the `!important` here to be able to override the default hidden behavior on the sphinx rendered scikit-learn.org. See: https://github.com/scikit-learn/scikit-learn/issues/21755 */display: inline-block !important;position: relative;}#sk-container-id-1 div.sk-text-repr-fallback {display: none;}</style><div id=\"sk-container-id-1\" class=\"sk-top-container\"><div class=\"sk-text-repr-fallback\"><pre>NearestNeighbors(n_jobs=-1, n_neighbors=11)</pre><b>In a Jupyter environment, please rerun this cell to show the HTML representation or trust the notebook. <br />On GitHub, the HTML representation is unable to render, please try loading this page with nbviewer.org.</b></div><div class=\"sk-container\" hidden><div class=\"sk-item\"><div class=\"sk-estimator sk-toggleable\"><input class=\"sk-toggleable__control sk-hidden--visually\" id=\"sk-estimator-id-1\" type=\"checkbox\" checked><label for=\"sk-estimator-id-1\" class=\"sk-toggleable__label sk-toggleable__label-arrow\">NearestNeighbors</label><div class=\"sk-toggleable__content\"><pre>NearestNeighbors(n_jobs=-1, n_neighbors=11)</pre></div></div></div></div></div>"
            ],
            "text/plain": [
              "NearestNeighbors(n_jobs=-1, n_neighbors=11)"
            ]
          },
          "execution_count": 3,
          "metadata": {},
          "output_type": "execute_result"
        }
      ],
      "source": [
        "from sklearn.neighbors import NearestNeighbors\n",
        "\n",
        "knn = NearestNeighbors(n_neighbors=11,n_jobs=-1)\n",
        "knn.fit(topic_matrix)\n"
      ]
    },
    {
      "cell_type": "code",
      "execution_count": null,
      "metadata": {
        "id": "7-A7fos1Uena"
      },
      "outputs": [],
      "source": [
        "def recommand_by_title(title):\n",
        "  if title not in title_lookup: \n",
        "    print(\"\\nSorry, we don’t have recommendations for\", title)\n",
        "    return\n",
        "  print(f\"\\nRecommandations for - {title}:\\n\")\n",
        "\n",
        "  idx = title_lookup[title]\n",
        "  recom_list = knn.kneighbors([topic_matrix[idx]],return_distance=False)[0][1:]\n",
        "  for ridx in recom_list:\n",
        "    print(items_w_rv[ridx]['title'])\n"
      ]
    },
    {
      "cell_type": "markdown",
      "metadata": {
        "id": "ku_0s5cIUOIu"
      },
      "source": [
        "### recommand loop (alest run form skip route b)"
      ]
    },
    {
      "cell_type": "code",
      "execution_count": null,
      "metadata": {
        "colab": {
          "base_uri": "https://localhost:8080/"
        },
        "id": "2ND7nDpuUOpG",
        "outputId": "640cd72c-d6df-4fb5-a980-36e9d6b2cbdf"
      },
      "outputs": [
        {
          "name": "stdout",
          "output_type": "stream",
          "text": [
            "\n",
            "Input a title (use 'exit' to exit): Undiscovered\n",
            "\n",
            "Recommandations for - undiscovered:\n",
            "\n",
            "Talk Talk Talk\n",
            "Hearts and Bones\n",
            "Paradise & Lunch\n",
            "Nested\n",
            "Both Sides\n",
            "Chinese Wall\n",
            "Living in Clip\n",
            "Brand New Me\n",
            "Everglow\n",
            "Non-Stop Erotic Cabaret\n",
            "\n",
            "Input a title (use 'exit' to exit): Both Sides\n",
            "\n",
            "Recommandations for - both sides:\n",
            "\n",
            "Talk Talk Talk\n",
            "Brand New Me\n",
            "Paradise & Lunch\n",
            "Spirit of Love\n",
            "Undiscovered\n",
            "The Invisible Band\n",
            "The White Stripes\n",
            "Chinese Wall\n",
            "Don't Shoot Me I'm Only the Piano Player\n",
            "Hearts and Bones\n",
            "\n",
            "Input a title (use 'exit' to exit): Jazz Samba\n",
            "\n",
            "Recommandations for - jazz samba:\n",
            "\n",
            "Francis Albert Sinatra & Antonio Carlos Jobim\n",
            "Wave\n",
            "Jimmy McGriff - Greatest Hits\n",
            "Focus\n",
            "Elis & Tom\n",
            "Aretha in Paris\n",
            "Antonio Carlos Jobim's Finest Hour\n",
            "Getz / Gilberto\n",
            "Double Rainbow: Music of Antonio Carlos Jobim\n",
            "Pithecanthropus Erectus\n",
            "\n",
            "Input a title (use 'exit' to exit): \n"
          ]
        }
      ],
      "source": [
        "print(\"\\nInput a title (use 'exit' to exit): \", end='')\n",
        "user_input = input().lower()\n",
        "\n",
        "while(user_input and user_input != 'exit'):\n",
        "  recommand_by_title(user_input)\n",
        "\n",
        "  print(\"\\nInput a title (use 'exit' to exit): \", end='')\n",
        "  user_input = input().lower()"
      ]
    }
  ],
  "metadata": {
    "colab": {
      "provenance": []
    },
    "kernelspec": {
      "display_name": "base",
      "language": "python",
      "name": "python3"
    },
    "language_info": {
      "codemirror_mode": {
        "name": "ipython",
        "version": 3
      },
      "file_extension": ".py",
      "mimetype": "text/x-python",
      "name": "python",
      "nbconvert_exporter": "python",
      "pygments_lexer": "ipython3",
      "version": "3.9.13"
    }
  },
  "nbformat": 4,
  "nbformat_minor": 0
}